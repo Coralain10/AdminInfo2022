{
 "cells": [
  {
   "cell_type": "markdown",
   "metadata": {},
   "source": [
    "___\n",
    "\n",
    "<a href='https://plotly.com/python/'> <img src='https://plotly.com/all_static/images/plotly_graphing_libraries_1.png' /></a>\n",
    "___\n",
    "# Plotly y Cufflinks"
   ]
  },
  {
   "cell_type": "markdown",
   "metadata": {},
   "source": [
    "**Plotly** es una libreria que permite crear gráficos interactivos para poder usarse en cuadros de mando o sitios web (se pueden guardar como archivos html o imágenes estáticas).\n",
    "\n",
    "**Cufflinks** es una libreria que conecta un dataframe de Pandas con Plotly, lo que permite a los usuarios crear visualizaciones directamente desde Pandas. Esta libreria une el poder de Plotly con la flexibilidad de Pandas para facilitar la visualización de los datos.\n",
    "\n",
    "## Instalación\n",
    "\n",
    "Para que todo esto funcione, se deberá instalar plotly y cufflinks para llamar a los gráficos directamente desde un dataframe de Pandas. Estas librerias no están disponibles actualmente a través de Conda, pero están disponibles a través de pip . Instalar las librerias en su línea de comando/terminal usando:\n",
    "\n",
    "    pip install plotly\n",
    "    pip install cufflinks\n",
    "\n",
    "## Importaciones y configuración "
   ]
  },
  {
   "cell_type": "code",
   "execution_count": 1,
   "metadata": {},
   "outputs": [],
   "source": [
    "import pandas as pd\n",
    "import numpy as np\n",
    "%matplotlib inline"
   ]
  },
  {
   "cell_type": "code",
   "execution_count": 2,
   "metadata": {},
   "outputs": [
    {
     "name": "stdout",
     "output_type": "stream",
     "text": [
      "5.8.1\n"
     ]
    }
   ],
   "source": [
    "from plotly import __version__\n",
    "from plotly.offline import download_plotlyjs, init_notebook_mode, plot, iplot\n",
    "\n",
    "print(__version__) # requires version >= 1.9.0"
   ]
  },
  {
   "cell_type": "code",
   "execution_count": 3,
   "metadata": {},
   "outputs": [],
   "source": [
    "import cufflinks as cf"
   ]
  },
  {
   "cell_type": "code",
   "execution_count": 4,
   "metadata": {},
   "outputs": [
    {
     "data": {
      "text/html": [
       "        <script type=\"text/javascript\">\n",
       "        window.PlotlyConfig = {MathJaxConfig: 'local'};\n",
       "        if (window.MathJax && window.MathJax.Hub && window.MathJax.Hub.Config) {window.MathJax.Hub.Config({SVG: {font: \"STIX-Web\"}});}\n",
       "        if (typeof require !== 'undefined') {\n",
       "        require.undef(\"plotly\");\n",
       "        requirejs.config({\n",
       "            paths: {\n",
       "                'plotly': ['https://cdn.plot.ly/plotly-2.12.1.min']\n",
       "            }\n",
       "        });\n",
       "        require(['plotly'], function(Plotly) {\n",
       "            window._Plotly = Plotly;\n",
       "        });\n",
       "        }\n",
       "        </script>\n",
       "        "
      ]
     },
     "metadata": {},
     "output_type": "display_data"
    }
   ],
   "source": [
    "# Para Notebooks\n",
    "init_notebook_mode(connected=True)"
   ]
  },
  {
   "cell_type": "code",
   "execution_count": 5,
   "metadata": {},
   "outputs": [
    {
     "data": {
      "text/html": [
       "        <script type=\"text/javascript\">\n",
       "        window.PlotlyConfig = {MathJaxConfig: 'local'};\n",
       "        if (window.MathJax && window.MathJax.Hub && window.MathJax.Hub.Config) {window.MathJax.Hub.Config({SVG: {font: \"STIX-Web\"}});}\n",
       "        if (typeof require !== 'undefined') {\n",
       "        require.undef(\"plotly\");\n",
       "        requirejs.config({\n",
       "            paths: {\n",
       "                'plotly': ['https://cdn.plot.ly/plotly-2.12.1.min']\n",
       "            }\n",
       "        });\n",
       "        require(['plotly'], function(Plotly) {\n",
       "            window._Plotly = Plotly;\n",
       "        });\n",
       "        }\n",
       "        </script>\n",
       "        "
      ]
     },
     "metadata": {},
     "output_type": "display_data"
    }
   ],
   "source": [
    "# Para uso offline colocar\n",
    "cf.go_offline()"
   ]
  },
  {
   "cell_type": "markdown",
   "metadata": {},
   "source": [
    "### Datos de prueba"
   ]
  },
  {
   "cell_type": "code",
   "execution_count": 6,
   "metadata": {},
   "outputs": [],
   "source": [
    "df = pd.DataFrame(np.random.randn(100,4),columns='A B C D'.split())"
   ]
  },
  {
   "cell_type": "code",
   "execution_count": 7,
   "metadata": {},
   "outputs": [
    {
     "data": {
      "text/html": [
       "<div>\n",
       "<style scoped>\n",
       "    .dataframe tbody tr th:only-of-type {\n",
       "        vertical-align: middle;\n",
       "    }\n",
       "\n",
       "    .dataframe tbody tr th {\n",
       "        vertical-align: top;\n",
       "    }\n",
       "\n",
       "    .dataframe thead th {\n",
       "        text-align: right;\n",
       "    }\n",
       "</style>\n",
       "<table border=\"1\" class=\"dataframe\">\n",
       "  <thead>\n",
       "    <tr style=\"text-align: right;\">\n",
       "      <th></th>\n",
       "      <th>A</th>\n",
       "      <th>B</th>\n",
       "      <th>C</th>\n",
       "      <th>D</th>\n",
       "    </tr>\n",
       "  </thead>\n",
       "  <tbody>\n",
       "    <tr>\n",
       "      <th>0</th>\n",
       "      <td>-1.019539</td>\n",
       "      <td>0.050841</td>\n",
       "      <td>-1.762480</td>\n",
       "      <td>-0.715474</td>\n",
       "    </tr>\n",
       "    <tr>\n",
       "      <th>1</th>\n",
       "      <td>1.101594</td>\n",
       "      <td>0.444893</td>\n",
       "      <td>-0.052455</td>\n",
       "      <td>-1.836466</td>\n",
       "    </tr>\n",
       "    <tr>\n",
       "      <th>2</th>\n",
       "      <td>0.565323</td>\n",
       "      <td>-0.516501</td>\n",
       "      <td>-0.614493</td>\n",
       "      <td>1.136646</td>\n",
       "    </tr>\n",
       "    <tr>\n",
       "      <th>3</th>\n",
       "      <td>-0.542428</td>\n",
       "      <td>-1.021748</td>\n",
       "      <td>0.346055</td>\n",
       "      <td>0.014353</td>\n",
       "    </tr>\n",
       "    <tr>\n",
       "      <th>4</th>\n",
       "      <td>-0.325662</td>\n",
       "      <td>2.918917</td>\n",
       "      <td>1.729347</td>\n",
       "      <td>0.938706</td>\n",
       "    </tr>\n",
       "  </tbody>\n",
       "</table>\n",
       "</div>"
      ],
      "text/plain": [
       "          A         B         C         D\n",
       "0 -1.019539  0.050841 -1.762480 -0.715474\n",
       "1  1.101594  0.444893 -0.052455 -1.836466\n",
       "2  0.565323 -0.516501 -0.614493  1.136646\n",
       "3 -0.542428 -1.021748  0.346055  0.014353\n",
       "4 -0.325662  2.918917  1.729347  0.938706"
      ]
     },
     "execution_count": 7,
     "metadata": {},
     "output_type": "execute_result"
    }
   ],
   "source": [
    "df.head()"
   ]
  },
  {
   "cell_type": "code",
   "execution_count": 8,
   "metadata": {},
   "outputs": [],
   "source": [
    "df2 = pd.DataFrame({'Category':['A','B','C'],'Values':[32,43,50]})"
   ]
  },
  {
   "cell_type": "code",
   "execution_count": 9,
   "metadata": {},
   "outputs": [
    {
     "data": {
      "text/html": [
       "<div>\n",
       "<style scoped>\n",
       "    .dataframe tbody tr th:only-of-type {\n",
       "        vertical-align: middle;\n",
       "    }\n",
       "\n",
       "    .dataframe tbody tr th {\n",
       "        vertical-align: top;\n",
       "    }\n",
       "\n",
       "    .dataframe thead th {\n",
       "        text-align: right;\n",
       "    }\n",
       "</style>\n",
       "<table border=\"1\" class=\"dataframe\">\n",
       "  <thead>\n",
       "    <tr style=\"text-align: right;\">\n",
       "      <th></th>\n",
       "      <th>Category</th>\n",
       "      <th>Values</th>\n",
       "    </tr>\n",
       "  </thead>\n",
       "  <tbody>\n",
       "    <tr>\n",
       "      <th>0</th>\n",
       "      <td>A</td>\n",
       "      <td>32</td>\n",
       "    </tr>\n",
       "    <tr>\n",
       "      <th>1</th>\n",
       "      <td>B</td>\n",
       "      <td>43</td>\n",
       "    </tr>\n",
       "    <tr>\n",
       "      <th>2</th>\n",
       "      <td>C</td>\n",
       "      <td>50</td>\n",
       "    </tr>\n",
       "  </tbody>\n",
       "</table>\n",
       "</div>"
      ],
      "text/plain": [
       "  Category  Values\n",
       "0        A      32\n",
       "1        B      43\n",
       "2        C      50"
      ]
     },
     "execution_count": 9,
     "metadata": {},
     "output_type": "execute_result"
    }
   ],
   "source": [
    "df2.head()"
   ]
  },
  {
   "cell_type": "markdown",
   "metadata": {},
   "source": [
    "## Usando Cufflinks e iplot()\n",
    "\n",
    "* Scatter\n",
    "* Bar\n",
    "* Boxplot\n",
    "* 3D surface\n",
    "* Histograma\n",
    "* Burbujas"
   ]
  },
  {
   "cell_type": "markdown",
   "metadata": {},
   "source": [
    "## Scatter"
   ]
  },
  {
   "cell_type": "code",
   "execution_count": 10,
   "metadata": {},
   "outputs": [
    {
     "data": {
      "application/vnd.plotly.v1+json": {
       "config": {
        "linkText": "Export to plot.ly",
        "plotlyServerURL": "https://plot.ly",
        "showLink": true
       },
       "data": [
        {
         "line": {
          "color": "rgba(255, 153, 51, 1.0)",
          "dash": "solid",
          "shape": "linear",
          "width": 1.3
         },
         "marker": {
          "size": 10,
          "symbol": "circle"
         },
         "mode": "markers",
         "name": "B",
         "text": "",
         "type": "scatter",
         "x": [
          -1.0195385963187849,
          1.1015943866068003,
          0.565322916737536,
          -0.5424284895484377,
          -0.32566226944201476,
          1.3333580414602808,
          -0.8882935417582444,
          0.573084622763612,
          -1.600582981777984,
          0.2962440326176717,
          -0.3255987463598287,
          0.4144242488662172,
          -1.0526878096406618,
          -1.079751691163813,
          0.44468732716120624,
          0.49214489354581953,
          -0.4176729612012741,
          -1.2433661966590415,
          -1.0593292659248816,
          0.2555303994444098,
          1.3988763770711914,
          -0.13508460667466193,
          0.8801931903209784,
          -0.009713307420049045,
          0.08537533507598072,
          0.1777838421614929,
          -1.271693389664294,
          -0.052062887286873284,
          -1.2786010696930032,
          0.3951169412497632,
          -0.007129080368495911,
          0.24931082591451678,
          -1.3074436240953813,
          0.39262035657229377,
          0.16895832011791706,
          0.15320171003133856,
          0.4529690184927029,
          0.5675748558086052,
          -1.038916265731738,
          0.03080254388823513,
          -0.6550524357879981,
          -0.00963038602457602,
          -0.43923332854400204,
          -1.4682191809450431,
          0.11302991912004492,
          -0.7131088037710968,
          -0.3074503195357637,
          -0.9652556704332182,
          -0.5171097999789459,
          1.7013367191358348,
          0.056091762858178434,
          0.2007988890983905,
          -0.5543052937490693,
          0.6937944914951706,
          0.6669048002314144,
          0.59369902089003,
          -1.713836342591796,
          1.1138274799032772,
          0.9254577425491017,
          -1.143153861907134,
          -1.3186559413350674,
          0.39093587426554083,
          -2.2957843371048012,
          -0.047664705487196195,
          1.0581371609309211,
          0.30828978169977284,
          1.5021689850009483,
          -0.8165629998636657,
          -0.1530680681408224,
          -0.07521140061589364,
          -1.766655219574804,
          0.30466812087753004,
          1.0818447459395093,
          -0.8478457275864004,
          0.414533929031304,
          -1.0957094470237285,
          -0.6418639427476324,
          1.4450146182774097,
          1.3804084393844278,
          -1.115216408942094,
          -0.0798960622493228,
          -2.2853903926292385,
          -0.06460200203963314,
          -0.3538865661985639,
          -1.1972065067795628,
          0.045213040450247016,
          1.1339678979236238,
          -0.5316805072703285,
          0.003961027654528789,
          -1.0175911801095872,
          -0.39943629619858767,
          -0.646145382985172,
          -1.9346472258288518,
          -0.22139498946193603,
          -0.616262445072994,
          0.0664818373185558,
          -0.2152707163604317,
          0.7858907677940824,
          -1.1785824127352216,
          -0.6779173459311484
         ],
         "y": [
          0.05084052415534849,
          0.4448926667384461,
          -0.5165006805648271,
          -1.0217481899569538,
          2.918916860488833,
          0.7119834105490889,
          -0.12598219184572093,
          1.7446505200029419,
          0.07448195798863841,
          -0.4367454374327472,
          2.001312602465858,
          0.8626677261130298,
          -0.7832646582342923,
          -1.4699780709897277,
          -0.14922984973037076,
          0.29187556277665405,
          -1.86438093315328,
          -0.9463531776956947,
          1.0018939862271918,
          -0.34174690341712166,
          -0.9608689994165556,
          0.37152716650134315,
          1.2680288231103298,
          -0.6230457517284945,
          -2.328812174302247,
          0.3024388389452721,
          0.12181850117223207,
          0.46424692550993446,
          2.0207808094668818,
          1.4510874303547483,
          -1.836459556297738,
          -1.2540393269655528,
          0.9811131035778574,
          -2.4255879762977304,
          -0.07892959167407539,
          -0.45258843538951654,
          -0.9237149248290297,
          2.027895768151158,
          -0.15741428062768711,
          1.0621556956587694,
          0.22627487908670568,
          0.8972177322808671,
          -0.1852713126252378,
          -1.7127052110108827,
          0.4266369122608103,
          -0.4934032996758012,
          0.09126560127006829,
          1.420832341876129,
          -0.226925419286172,
          0.34854293270965647,
          1.2047457905809145,
          0.14374022217106794,
          -0.9209836977121332,
          0.4372250721685303,
          0.275097080721775,
          -1.2319795109830607,
          0.05807780757368901,
          1.4050083175299108,
          1.2856506736655673,
          -1.384326860093379,
          0.4550192051180061,
          1.400525929182616,
          -0.7836114813867611,
          1.3036820975574719,
          0.37351025358713613,
          -0.2913411851716362,
          -0.5406291701996493,
          0.17478931269171785,
          -1.8517703672163301,
          -1.4186898427664862,
          0.06509413769267655,
          0.19307454979843466,
          0.8232244735534852,
          0.524671044677807,
          -0.40315319096565155,
          -1.4268165410981934,
          0.2813575779141045,
          -0.2621634305145455,
          -0.08483012735497701,
          -1.045497945983192,
          1.2382134521818677,
          -0.4323116394409646,
          0.680747412833651,
          -1.2929873756166974,
          0.6529828667025668,
          0.3595023686883591,
          -1.2955231449330304,
          1.164536680417677,
          -0.4825439698093178,
          0.13250442906721477,
          -0.7908765509841708,
          -0.3833702329039137,
          -0.39437377035578575,
          -1.1471692465131529,
          0.30910570387733843,
          -0.9332569711532109,
          0.880636842120163,
          0.1251672859001783,
          -0.8768528712998347,
          -0.7922814709334515
         ]
        }
       ],
       "layout": {
        "legend": {
         "bgcolor": "#F5F6F9",
         "font": {
          "color": "#4D5663"
         }
        },
        "paper_bgcolor": "#F5F6F9",
        "plot_bgcolor": "#F5F6F9",
        "template": {
         "data": {
          "bar": [
           {
            "error_x": {
             "color": "#2a3f5f"
            },
            "error_y": {
             "color": "#2a3f5f"
            },
            "marker": {
             "line": {
              "color": "#E5ECF6",
              "width": 0.5
             },
             "pattern": {
              "fillmode": "overlay",
              "size": 10,
              "solidity": 0.2
             }
            },
            "type": "bar"
           }
          ],
          "barpolar": [
           {
            "marker": {
             "line": {
              "color": "#E5ECF6",
              "width": 0.5
             },
             "pattern": {
              "fillmode": "overlay",
              "size": 10,
              "solidity": 0.2
             }
            },
            "type": "barpolar"
           }
          ],
          "carpet": [
           {
            "aaxis": {
             "endlinecolor": "#2a3f5f",
             "gridcolor": "white",
             "linecolor": "white",
             "minorgridcolor": "white",
             "startlinecolor": "#2a3f5f"
            },
            "baxis": {
             "endlinecolor": "#2a3f5f",
             "gridcolor": "white",
             "linecolor": "white",
             "minorgridcolor": "white",
             "startlinecolor": "#2a3f5f"
            },
            "type": "carpet"
           }
          ],
          "choropleth": [
           {
            "colorbar": {
             "outlinewidth": 0,
             "ticks": ""
            },
            "type": "choropleth"
           }
          ],
          "contour": [
           {
            "colorbar": {
             "outlinewidth": 0,
             "ticks": ""
            },
            "colorscale": [
             [
              0,
              "#0d0887"
             ],
             [
              0.1111111111111111,
              "#46039f"
             ],
             [
              0.2222222222222222,
              "#7201a8"
             ],
             [
              0.3333333333333333,
              "#9c179e"
             ],
             [
              0.4444444444444444,
              "#bd3786"
             ],
             [
              0.5555555555555556,
              "#d8576b"
             ],
             [
              0.6666666666666666,
              "#ed7953"
             ],
             [
              0.7777777777777778,
              "#fb9f3a"
             ],
             [
              0.8888888888888888,
              "#fdca26"
             ],
             [
              1,
              "#f0f921"
             ]
            ],
            "type": "contour"
           }
          ],
          "contourcarpet": [
           {
            "colorbar": {
             "outlinewidth": 0,
             "ticks": ""
            },
            "type": "contourcarpet"
           }
          ],
          "heatmap": [
           {
            "colorbar": {
             "outlinewidth": 0,
             "ticks": ""
            },
            "colorscale": [
             [
              0,
              "#0d0887"
             ],
             [
              0.1111111111111111,
              "#46039f"
             ],
             [
              0.2222222222222222,
              "#7201a8"
             ],
             [
              0.3333333333333333,
              "#9c179e"
             ],
             [
              0.4444444444444444,
              "#bd3786"
             ],
             [
              0.5555555555555556,
              "#d8576b"
             ],
             [
              0.6666666666666666,
              "#ed7953"
             ],
             [
              0.7777777777777778,
              "#fb9f3a"
             ],
             [
              0.8888888888888888,
              "#fdca26"
             ],
             [
              1,
              "#f0f921"
             ]
            ],
            "type": "heatmap"
           }
          ],
          "heatmapgl": [
           {
            "colorbar": {
             "outlinewidth": 0,
             "ticks": ""
            },
            "colorscale": [
             [
              0,
              "#0d0887"
             ],
             [
              0.1111111111111111,
              "#46039f"
             ],
             [
              0.2222222222222222,
              "#7201a8"
             ],
             [
              0.3333333333333333,
              "#9c179e"
             ],
             [
              0.4444444444444444,
              "#bd3786"
             ],
             [
              0.5555555555555556,
              "#d8576b"
             ],
             [
              0.6666666666666666,
              "#ed7953"
             ],
             [
              0.7777777777777778,
              "#fb9f3a"
             ],
             [
              0.8888888888888888,
              "#fdca26"
             ],
             [
              1,
              "#f0f921"
             ]
            ],
            "type": "heatmapgl"
           }
          ],
          "histogram": [
           {
            "marker": {
             "pattern": {
              "fillmode": "overlay",
              "size": 10,
              "solidity": 0.2
             }
            },
            "type": "histogram"
           }
          ],
          "histogram2d": [
           {
            "colorbar": {
             "outlinewidth": 0,
             "ticks": ""
            },
            "colorscale": [
             [
              0,
              "#0d0887"
             ],
             [
              0.1111111111111111,
              "#46039f"
             ],
             [
              0.2222222222222222,
              "#7201a8"
             ],
             [
              0.3333333333333333,
              "#9c179e"
             ],
             [
              0.4444444444444444,
              "#bd3786"
             ],
             [
              0.5555555555555556,
              "#d8576b"
             ],
             [
              0.6666666666666666,
              "#ed7953"
             ],
             [
              0.7777777777777778,
              "#fb9f3a"
             ],
             [
              0.8888888888888888,
              "#fdca26"
             ],
             [
              1,
              "#f0f921"
             ]
            ],
            "type": "histogram2d"
           }
          ],
          "histogram2dcontour": [
           {
            "colorbar": {
             "outlinewidth": 0,
             "ticks": ""
            },
            "colorscale": [
             [
              0,
              "#0d0887"
             ],
             [
              0.1111111111111111,
              "#46039f"
             ],
             [
              0.2222222222222222,
              "#7201a8"
             ],
             [
              0.3333333333333333,
              "#9c179e"
             ],
             [
              0.4444444444444444,
              "#bd3786"
             ],
             [
              0.5555555555555556,
              "#d8576b"
             ],
             [
              0.6666666666666666,
              "#ed7953"
             ],
             [
              0.7777777777777778,
              "#fb9f3a"
             ],
             [
              0.8888888888888888,
              "#fdca26"
             ],
             [
              1,
              "#f0f921"
             ]
            ],
            "type": "histogram2dcontour"
           }
          ],
          "mesh3d": [
           {
            "colorbar": {
             "outlinewidth": 0,
             "ticks": ""
            },
            "type": "mesh3d"
           }
          ],
          "parcoords": [
           {
            "line": {
             "colorbar": {
              "outlinewidth": 0,
              "ticks": ""
             }
            },
            "type": "parcoords"
           }
          ],
          "pie": [
           {
            "automargin": true,
            "type": "pie"
           }
          ],
          "scatter": [
           {
            "fillpattern": {
             "fillmode": "overlay",
             "size": 10,
             "solidity": 0.2
            },
            "type": "scatter"
           }
          ],
          "scatter3d": [
           {
            "line": {
             "colorbar": {
              "outlinewidth": 0,
              "ticks": ""
             }
            },
            "marker": {
             "colorbar": {
              "outlinewidth": 0,
              "ticks": ""
             }
            },
            "type": "scatter3d"
           }
          ],
          "scattercarpet": [
           {
            "marker": {
             "colorbar": {
              "outlinewidth": 0,
              "ticks": ""
             }
            },
            "type": "scattercarpet"
           }
          ],
          "scattergeo": [
           {
            "marker": {
             "colorbar": {
              "outlinewidth": 0,
              "ticks": ""
             }
            },
            "type": "scattergeo"
           }
          ],
          "scattergl": [
           {
            "marker": {
             "colorbar": {
              "outlinewidth": 0,
              "ticks": ""
             }
            },
            "type": "scattergl"
           }
          ],
          "scattermapbox": [
           {
            "marker": {
             "colorbar": {
              "outlinewidth": 0,
              "ticks": ""
             }
            },
            "type": "scattermapbox"
           }
          ],
          "scatterpolar": [
           {
            "marker": {
             "colorbar": {
              "outlinewidth": 0,
              "ticks": ""
             }
            },
            "type": "scatterpolar"
           }
          ],
          "scatterpolargl": [
           {
            "marker": {
             "colorbar": {
              "outlinewidth": 0,
              "ticks": ""
             }
            },
            "type": "scatterpolargl"
           }
          ],
          "scatterternary": [
           {
            "marker": {
             "colorbar": {
              "outlinewidth": 0,
              "ticks": ""
             }
            },
            "type": "scatterternary"
           }
          ],
          "surface": [
           {
            "colorbar": {
             "outlinewidth": 0,
             "ticks": ""
            },
            "colorscale": [
             [
              0,
              "#0d0887"
             ],
             [
              0.1111111111111111,
              "#46039f"
             ],
             [
              0.2222222222222222,
              "#7201a8"
             ],
             [
              0.3333333333333333,
              "#9c179e"
             ],
             [
              0.4444444444444444,
              "#bd3786"
             ],
             [
              0.5555555555555556,
              "#d8576b"
             ],
             [
              0.6666666666666666,
              "#ed7953"
             ],
             [
              0.7777777777777778,
              "#fb9f3a"
             ],
             [
              0.8888888888888888,
              "#fdca26"
             ],
             [
              1,
              "#f0f921"
             ]
            ],
            "type": "surface"
           }
          ],
          "table": [
           {
            "cells": {
             "fill": {
              "color": "#EBF0F8"
             },
             "line": {
              "color": "white"
             }
            },
            "header": {
             "fill": {
              "color": "#C8D4E3"
             },
             "line": {
              "color": "white"
             }
            },
            "type": "table"
           }
          ]
         },
         "layout": {
          "annotationdefaults": {
           "arrowcolor": "#2a3f5f",
           "arrowhead": 0,
           "arrowwidth": 1
          },
          "autotypenumbers": "strict",
          "coloraxis": {
           "colorbar": {
            "outlinewidth": 0,
            "ticks": ""
           }
          },
          "colorscale": {
           "diverging": [
            [
             0,
             "#8e0152"
            ],
            [
             0.1,
             "#c51b7d"
            ],
            [
             0.2,
             "#de77ae"
            ],
            [
             0.3,
             "#f1b6da"
            ],
            [
             0.4,
             "#fde0ef"
            ],
            [
             0.5,
             "#f7f7f7"
            ],
            [
             0.6,
             "#e6f5d0"
            ],
            [
             0.7,
             "#b8e186"
            ],
            [
             0.8,
             "#7fbc41"
            ],
            [
             0.9,
             "#4d9221"
            ],
            [
             1,
             "#276419"
            ]
           ],
           "sequential": [
            [
             0,
             "#0d0887"
            ],
            [
             0.1111111111111111,
             "#46039f"
            ],
            [
             0.2222222222222222,
             "#7201a8"
            ],
            [
             0.3333333333333333,
             "#9c179e"
            ],
            [
             0.4444444444444444,
             "#bd3786"
            ],
            [
             0.5555555555555556,
             "#d8576b"
            ],
            [
             0.6666666666666666,
             "#ed7953"
            ],
            [
             0.7777777777777778,
             "#fb9f3a"
            ],
            [
             0.8888888888888888,
             "#fdca26"
            ],
            [
             1,
             "#f0f921"
            ]
           ],
           "sequentialminus": [
            [
             0,
             "#0d0887"
            ],
            [
             0.1111111111111111,
             "#46039f"
            ],
            [
             0.2222222222222222,
             "#7201a8"
            ],
            [
             0.3333333333333333,
             "#9c179e"
            ],
            [
             0.4444444444444444,
             "#bd3786"
            ],
            [
             0.5555555555555556,
             "#d8576b"
            ],
            [
             0.6666666666666666,
             "#ed7953"
            ],
            [
             0.7777777777777778,
             "#fb9f3a"
            ],
            [
             0.8888888888888888,
             "#fdca26"
            ],
            [
             1,
             "#f0f921"
            ]
           ]
          },
          "colorway": [
           "#636efa",
           "#EF553B",
           "#00cc96",
           "#ab63fa",
           "#FFA15A",
           "#19d3f3",
           "#FF6692",
           "#B6E880",
           "#FF97FF",
           "#FECB52"
          ],
          "font": {
           "color": "#2a3f5f"
          },
          "geo": {
           "bgcolor": "white",
           "lakecolor": "white",
           "landcolor": "#E5ECF6",
           "showlakes": true,
           "showland": true,
           "subunitcolor": "white"
          },
          "hoverlabel": {
           "align": "left"
          },
          "hovermode": "closest",
          "mapbox": {
           "style": "light"
          },
          "paper_bgcolor": "white",
          "plot_bgcolor": "#E5ECF6",
          "polar": {
           "angularaxis": {
            "gridcolor": "white",
            "linecolor": "white",
            "ticks": ""
           },
           "bgcolor": "#E5ECF6",
           "radialaxis": {
            "gridcolor": "white",
            "linecolor": "white",
            "ticks": ""
           }
          },
          "scene": {
           "xaxis": {
            "backgroundcolor": "#E5ECF6",
            "gridcolor": "white",
            "gridwidth": 2,
            "linecolor": "white",
            "showbackground": true,
            "ticks": "",
            "zerolinecolor": "white"
           },
           "yaxis": {
            "backgroundcolor": "#E5ECF6",
            "gridcolor": "white",
            "gridwidth": 2,
            "linecolor": "white",
            "showbackground": true,
            "ticks": "",
            "zerolinecolor": "white"
           },
           "zaxis": {
            "backgroundcolor": "#E5ECF6",
            "gridcolor": "white",
            "gridwidth": 2,
            "linecolor": "white",
            "showbackground": true,
            "ticks": "",
            "zerolinecolor": "white"
           }
          },
          "shapedefaults": {
           "line": {
            "color": "#2a3f5f"
           }
          },
          "ternary": {
           "aaxis": {
            "gridcolor": "white",
            "linecolor": "white",
            "ticks": ""
           },
           "baxis": {
            "gridcolor": "white",
            "linecolor": "white",
            "ticks": ""
           },
           "bgcolor": "#E5ECF6",
           "caxis": {
            "gridcolor": "white",
            "linecolor": "white",
            "ticks": ""
           }
          },
          "title": {
           "x": 0.05
          },
          "xaxis": {
           "automargin": true,
           "gridcolor": "white",
           "linecolor": "white",
           "ticks": "",
           "title": {
            "standoff": 15
           },
           "zerolinecolor": "white",
           "zerolinewidth": 2
          },
          "yaxis": {
           "automargin": true,
           "gridcolor": "white",
           "linecolor": "white",
           "ticks": "",
           "title": {
            "standoff": 15
           },
           "zerolinecolor": "white",
           "zerolinewidth": 2
          }
         }
        },
        "title": {
         "font": {
          "color": "#4D5663"
         }
        },
        "xaxis": {
         "gridcolor": "#E1E5ED",
         "showgrid": true,
         "tickfont": {
          "color": "#4D5663"
         },
         "title": {
          "font": {
           "color": "#4D5663"
          },
          "text": ""
         },
         "zerolinecolor": "#E1E5ED"
        },
        "yaxis": {
         "gridcolor": "#E1E5ED",
         "showgrid": true,
         "tickfont": {
          "color": "#4D5663"
         },
         "title": {
          "font": {
           "color": "#4D5663"
          },
          "text": ""
         },
         "zerolinecolor": "#E1E5ED"
        }
       }
      },
      "text/html": [
       "<div>                            <div id=\"2be47f1a-d244-4e84-8ff7-c227d80e92f9\" class=\"plotly-graph-div\" style=\"height:525px; width:100%;\"></div>            <script type=\"text/javascript\">                require([\"plotly\"], function(Plotly) {                    window.PLOTLYENV=window.PLOTLYENV || {};\n",
       "                    window.PLOTLYENV.BASE_URL='https://plot.ly';                                    if (document.getElementById(\"2be47f1a-d244-4e84-8ff7-c227d80e92f9\")) {                    Plotly.newPlot(                        \"2be47f1a-d244-4e84-8ff7-c227d80e92f9\",                        [{\"line\":{\"color\":\"rgba(255, 153, 51, 1.0)\",\"dash\":\"solid\",\"shape\":\"linear\",\"width\":1.3},\"marker\":{\"size\":10,\"symbol\":\"circle\"},\"mode\":\"markers\",\"name\":\"B\",\"text\":\"\",\"x\":[-1.0195385963187849,1.1015943866068003,0.565322916737536,-0.5424284895484377,-0.32566226944201476,1.3333580414602808,-0.8882935417582444,0.573084622763612,-1.600582981777984,0.2962440326176717,-0.3255987463598287,0.4144242488662172,-1.0526878096406618,-1.079751691163813,0.44468732716120624,0.49214489354581953,-0.4176729612012741,-1.2433661966590415,-1.0593292659248816,0.2555303994444098,1.3988763770711914,-0.13508460667466193,0.8801931903209784,-0.009713307420049045,0.08537533507598072,0.1777838421614929,-1.271693389664294,-0.052062887286873284,-1.2786010696930032,0.3951169412497632,-0.007129080368495911,0.24931082591451678,-1.3074436240953813,0.39262035657229377,0.16895832011791706,0.15320171003133856,0.4529690184927029,0.5675748558086052,-1.038916265731738,0.03080254388823513,-0.6550524357879981,-0.00963038602457602,-0.43923332854400204,-1.4682191809450431,0.11302991912004492,-0.7131088037710968,-0.3074503195357637,-0.9652556704332182,-0.5171097999789459,1.7013367191358348,0.056091762858178434,0.2007988890983905,-0.5543052937490693,0.6937944914951706,0.6669048002314144,0.59369902089003,-1.713836342591796,1.1138274799032772,0.9254577425491017,-1.143153861907134,-1.3186559413350674,0.39093587426554083,-2.2957843371048012,-0.047664705487196195,1.0581371609309211,0.30828978169977284,1.5021689850009483,-0.8165629998636657,-0.1530680681408224,-0.07521140061589364,-1.766655219574804,0.30466812087753004,1.0818447459395093,-0.8478457275864004,0.414533929031304,-1.0957094470237285,-0.6418639427476324,1.4450146182774097,1.3804084393844278,-1.115216408942094,-0.0798960622493228,-2.2853903926292385,-0.06460200203963314,-0.3538865661985639,-1.1972065067795628,0.045213040450247016,1.1339678979236238,-0.5316805072703285,0.003961027654528789,-1.0175911801095872,-0.39943629619858767,-0.646145382985172,-1.9346472258288518,-0.22139498946193603,-0.616262445072994,0.0664818373185558,-0.2152707163604317,0.7858907677940824,-1.1785824127352216,-0.6779173459311484],\"y\":[0.05084052415534849,0.4448926667384461,-0.5165006805648271,-1.0217481899569538,2.918916860488833,0.7119834105490889,-0.12598219184572093,1.7446505200029419,0.07448195798863841,-0.4367454374327472,2.001312602465858,0.8626677261130298,-0.7832646582342923,-1.4699780709897277,-0.14922984973037076,0.29187556277665405,-1.86438093315328,-0.9463531776956947,1.0018939862271918,-0.34174690341712166,-0.9608689994165556,0.37152716650134315,1.2680288231103298,-0.6230457517284945,-2.328812174302247,0.3024388389452721,0.12181850117223207,0.46424692550993446,2.0207808094668818,1.4510874303547483,-1.836459556297738,-1.2540393269655528,0.9811131035778574,-2.4255879762977304,-0.07892959167407539,-0.45258843538951654,-0.9237149248290297,2.027895768151158,-0.15741428062768711,1.0621556956587694,0.22627487908670568,0.8972177322808671,-0.1852713126252378,-1.7127052110108827,0.4266369122608103,-0.4934032996758012,0.09126560127006829,1.420832341876129,-0.226925419286172,0.34854293270965647,1.2047457905809145,0.14374022217106794,-0.9209836977121332,0.4372250721685303,0.275097080721775,-1.2319795109830607,0.05807780757368901,1.4050083175299108,1.2856506736655673,-1.384326860093379,0.4550192051180061,1.400525929182616,-0.7836114813867611,1.3036820975574719,0.37351025358713613,-0.2913411851716362,-0.5406291701996493,0.17478931269171785,-1.8517703672163301,-1.4186898427664862,0.06509413769267655,0.19307454979843466,0.8232244735534852,0.524671044677807,-0.40315319096565155,-1.4268165410981934,0.2813575779141045,-0.2621634305145455,-0.08483012735497701,-1.045497945983192,1.2382134521818677,-0.4323116394409646,0.680747412833651,-1.2929873756166974,0.6529828667025668,0.3595023686883591,-1.2955231449330304,1.164536680417677,-0.4825439698093178,0.13250442906721477,-0.7908765509841708,-0.3833702329039137,-0.39437377035578575,-1.1471692465131529,0.30910570387733843,-0.9332569711532109,0.880636842120163,0.1251672859001783,-0.8768528712998347,-0.7922814709334515],\"type\":\"scatter\"}],                        {\"legend\":{\"bgcolor\":\"#F5F6F9\",\"font\":{\"color\":\"#4D5663\"}},\"paper_bgcolor\":\"#F5F6F9\",\"plot_bgcolor\":\"#F5F6F9\",\"template\":{\"data\":{\"barpolar\":[{\"marker\":{\"line\":{\"color\":\"#E5ECF6\",\"width\":0.5},\"pattern\":{\"fillmode\":\"overlay\",\"size\":10,\"solidity\":0.2}},\"type\":\"barpolar\"}],\"bar\":[{\"error_x\":{\"color\":\"#2a3f5f\"},\"error_y\":{\"color\":\"#2a3f5f\"},\"marker\":{\"line\":{\"color\":\"#E5ECF6\",\"width\":0.5},\"pattern\":{\"fillmode\":\"overlay\",\"size\":10,\"solidity\":0.2}},\"type\":\"bar\"}],\"carpet\":[{\"aaxis\":{\"endlinecolor\":\"#2a3f5f\",\"gridcolor\":\"white\",\"linecolor\":\"white\",\"minorgridcolor\":\"white\",\"startlinecolor\":\"#2a3f5f\"},\"baxis\":{\"endlinecolor\":\"#2a3f5f\",\"gridcolor\":\"white\",\"linecolor\":\"white\",\"minorgridcolor\":\"white\",\"startlinecolor\":\"#2a3f5f\"},\"type\":\"carpet\"}],\"choropleth\":[{\"colorbar\":{\"outlinewidth\":0,\"ticks\":\"\"},\"type\":\"choropleth\"}],\"contourcarpet\":[{\"colorbar\":{\"outlinewidth\":0,\"ticks\":\"\"},\"type\":\"contourcarpet\"}],\"contour\":[{\"colorbar\":{\"outlinewidth\":0,\"ticks\":\"\"},\"colorscale\":[[0.0,\"#0d0887\"],[0.1111111111111111,\"#46039f\"],[0.2222222222222222,\"#7201a8\"],[0.3333333333333333,\"#9c179e\"],[0.4444444444444444,\"#bd3786\"],[0.5555555555555556,\"#d8576b\"],[0.6666666666666666,\"#ed7953\"],[0.7777777777777778,\"#fb9f3a\"],[0.8888888888888888,\"#fdca26\"],[1.0,\"#f0f921\"]],\"type\":\"contour\"}],\"heatmapgl\":[{\"colorbar\":{\"outlinewidth\":0,\"ticks\":\"\"},\"colorscale\":[[0.0,\"#0d0887\"],[0.1111111111111111,\"#46039f\"],[0.2222222222222222,\"#7201a8\"],[0.3333333333333333,\"#9c179e\"],[0.4444444444444444,\"#bd3786\"],[0.5555555555555556,\"#d8576b\"],[0.6666666666666666,\"#ed7953\"],[0.7777777777777778,\"#fb9f3a\"],[0.8888888888888888,\"#fdca26\"],[1.0,\"#f0f921\"]],\"type\":\"heatmapgl\"}],\"heatmap\":[{\"colorbar\":{\"outlinewidth\":0,\"ticks\":\"\"},\"colorscale\":[[0.0,\"#0d0887\"],[0.1111111111111111,\"#46039f\"],[0.2222222222222222,\"#7201a8\"],[0.3333333333333333,\"#9c179e\"],[0.4444444444444444,\"#bd3786\"],[0.5555555555555556,\"#d8576b\"],[0.6666666666666666,\"#ed7953\"],[0.7777777777777778,\"#fb9f3a\"],[0.8888888888888888,\"#fdca26\"],[1.0,\"#f0f921\"]],\"type\":\"heatmap\"}],\"histogram2dcontour\":[{\"colorbar\":{\"outlinewidth\":0,\"ticks\":\"\"},\"colorscale\":[[0.0,\"#0d0887\"],[0.1111111111111111,\"#46039f\"],[0.2222222222222222,\"#7201a8\"],[0.3333333333333333,\"#9c179e\"],[0.4444444444444444,\"#bd3786\"],[0.5555555555555556,\"#d8576b\"],[0.6666666666666666,\"#ed7953\"],[0.7777777777777778,\"#fb9f3a\"],[0.8888888888888888,\"#fdca26\"],[1.0,\"#f0f921\"]],\"type\":\"histogram2dcontour\"}],\"histogram2d\":[{\"colorbar\":{\"outlinewidth\":0,\"ticks\":\"\"},\"colorscale\":[[0.0,\"#0d0887\"],[0.1111111111111111,\"#46039f\"],[0.2222222222222222,\"#7201a8\"],[0.3333333333333333,\"#9c179e\"],[0.4444444444444444,\"#bd3786\"],[0.5555555555555556,\"#d8576b\"],[0.6666666666666666,\"#ed7953\"],[0.7777777777777778,\"#fb9f3a\"],[0.8888888888888888,\"#fdca26\"],[1.0,\"#f0f921\"]],\"type\":\"histogram2d\"}],\"histogram\":[{\"marker\":{\"pattern\":{\"fillmode\":\"overlay\",\"size\":10,\"solidity\":0.2}},\"type\":\"histogram\"}],\"mesh3d\":[{\"colorbar\":{\"outlinewidth\":0,\"ticks\":\"\"},\"type\":\"mesh3d\"}],\"parcoords\":[{\"line\":{\"colorbar\":{\"outlinewidth\":0,\"ticks\":\"\"}},\"type\":\"parcoords\"}],\"pie\":[{\"automargin\":true,\"type\":\"pie\"}],\"scatter3d\":[{\"line\":{\"colorbar\":{\"outlinewidth\":0,\"ticks\":\"\"}},\"marker\":{\"colorbar\":{\"outlinewidth\":0,\"ticks\":\"\"}},\"type\":\"scatter3d\"}],\"scattercarpet\":[{\"marker\":{\"colorbar\":{\"outlinewidth\":0,\"ticks\":\"\"}},\"type\":\"scattercarpet\"}],\"scattergeo\":[{\"marker\":{\"colorbar\":{\"outlinewidth\":0,\"ticks\":\"\"}},\"type\":\"scattergeo\"}],\"scattergl\":[{\"marker\":{\"colorbar\":{\"outlinewidth\":0,\"ticks\":\"\"}},\"type\":\"scattergl\"}],\"scattermapbox\":[{\"marker\":{\"colorbar\":{\"outlinewidth\":0,\"ticks\":\"\"}},\"type\":\"scattermapbox\"}],\"scatterpolargl\":[{\"marker\":{\"colorbar\":{\"outlinewidth\":0,\"ticks\":\"\"}},\"type\":\"scatterpolargl\"}],\"scatterpolar\":[{\"marker\":{\"colorbar\":{\"outlinewidth\":0,\"ticks\":\"\"}},\"type\":\"scatterpolar\"}],\"scatter\":[{\"fillpattern\":{\"fillmode\":\"overlay\",\"size\":10,\"solidity\":0.2},\"type\":\"scatter\"}],\"scatterternary\":[{\"marker\":{\"colorbar\":{\"outlinewidth\":0,\"ticks\":\"\"}},\"type\":\"scatterternary\"}],\"surface\":[{\"colorbar\":{\"outlinewidth\":0,\"ticks\":\"\"},\"colorscale\":[[0.0,\"#0d0887\"],[0.1111111111111111,\"#46039f\"],[0.2222222222222222,\"#7201a8\"],[0.3333333333333333,\"#9c179e\"],[0.4444444444444444,\"#bd3786\"],[0.5555555555555556,\"#d8576b\"],[0.6666666666666666,\"#ed7953\"],[0.7777777777777778,\"#fb9f3a\"],[0.8888888888888888,\"#fdca26\"],[1.0,\"#f0f921\"]],\"type\":\"surface\"}],\"table\":[{\"cells\":{\"fill\":{\"color\":\"#EBF0F8\"},\"line\":{\"color\":\"white\"}},\"header\":{\"fill\":{\"color\":\"#C8D4E3\"},\"line\":{\"color\":\"white\"}},\"type\":\"table\"}]},\"layout\":{\"annotationdefaults\":{\"arrowcolor\":\"#2a3f5f\",\"arrowhead\":0,\"arrowwidth\":1},\"autotypenumbers\":\"strict\",\"coloraxis\":{\"colorbar\":{\"outlinewidth\":0,\"ticks\":\"\"}},\"colorscale\":{\"diverging\":[[0,\"#8e0152\"],[0.1,\"#c51b7d\"],[0.2,\"#de77ae\"],[0.3,\"#f1b6da\"],[0.4,\"#fde0ef\"],[0.5,\"#f7f7f7\"],[0.6,\"#e6f5d0\"],[0.7,\"#b8e186\"],[0.8,\"#7fbc41\"],[0.9,\"#4d9221\"],[1,\"#276419\"]],\"sequential\":[[0.0,\"#0d0887\"],[0.1111111111111111,\"#46039f\"],[0.2222222222222222,\"#7201a8\"],[0.3333333333333333,\"#9c179e\"],[0.4444444444444444,\"#bd3786\"],[0.5555555555555556,\"#d8576b\"],[0.6666666666666666,\"#ed7953\"],[0.7777777777777778,\"#fb9f3a\"],[0.8888888888888888,\"#fdca26\"],[1.0,\"#f0f921\"]],\"sequentialminus\":[[0.0,\"#0d0887\"],[0.1111111111111111,\"#46039f\"],[0.2222222222222222,\"#7201a8\"],[0.3333333333333333,\"#9c179e\"],[0.4444444444444444,\"#bd3786\"],[0.5555555555555556,\"#d8576b\"],[0.6666666666666666,\"#ed7953\"],[0.7777777777777778,\"#fb9f3a\"],[0.8888888888888888,\"#fdca26\"],[1.0,\"#f0f921\"]]},\"colorway\":[\"#636efa\",\"#EF553B\",\"#00cc96\",\"#ab63fa\",\"#FFA15A\",\"#19d3f3\",\"#FF6692\",\"#B6E880\",\"#FF97FF\",\"#FECB52\"],\"font\":{\"color\":\"#2a3f5f\"},\"geo\":{\"bgcolor\":\"white\",\"lakecolor\":\"white\",\"landcolor\":\"#E5ECF6\",\"showlakes\":true,\"showland\":true,\"subunitcolor\":\"white\"},\"hoverlabel\":{\"align\":\"left\"},\"hovermode\":\"closest\",\"mapbox\":{\"style\":\"light\"},\"paper_bgcolor\":\"white\",\"plot_bgcolor\":\"#E5ECF6\",\"polar\":{\"angularaxis\":{\"gridcolor\":\"white\",\"linecolor\":\"white\",\"ticks\":\"\"},\"bgcolor\":\"#E5ECF6\",\"radialaxis\":{\"gridcolor\":\"white\",\"linecolor\":\"white\",\"ticks\":\"\"}},\"scene\":{\"xaxis\":{\"backgroundcolor\":\"#E5ECF6\",\"gridcolor\":\"white\",\"gridwidth\":2,\"linecolor\":\"white\",\"showbackground\":true,\"ticks\":\"\",\"zerolinecolor\":\"white\"},\"yaxis\":{\"backgroundcolor\":\"#E5ECF6\",\"gridcolor\":\"white\",\"gridwidth\":2,\"linecolor\":\"white\",\"showbackground\":true,\"ticks\":\"\",\"zerolinecolor\":\"white\"},\"zaxis\":{\"backgroundcolor\":\"#E5ECF6\",\"gridcolor\":\"white\",\"gridwidth\":2,\"linecolor\":\"white\",\"showbackground\":true,\"ticks\":\"\",\"zerolinecolor\":\"white\"}},\"shapedefaults\":{\"line\":{\"color\":\"#2a3f5f\"}},\"ternary\":{\"aaxis\":{\"gridcolor\":\"white\",\"linecolor\":\"white\",\"ticks\":\"\"},\"baxis\":{\"gridcolor\":\"white\",\"linecolor\":\"white\",\"ticks\":\"\"},\"bgcolor\":\"#E5ECF6\",\"caxis\":{\"gridcolor\":\"white\",\"linecolor\":\"white\",\"ticks\":\"\"}},\"title\":{\"x\":0.05},\"xaxis\":{\"automargin\":true,\"gridcolor\":\"white\",\"linecolor\":\"white\",\"ticks\":\"\",\"title\":{\"standoff\":15},\"zerolinecolor\":\"white\",\"zerolinewidth\":2},\"yaxis\":{\"automargin\":true,\"gridcolor\":\"white\",\"linecolor\":\"white\",\"ticks\":\"\",\"title\":{\"standoff\":15},\"zerolinecolor\":\"white\",\"zerolinewidth\":2}}},\"title\":{\"font\":{\"color\":\"#4D5663\"}},\"xaxis\":{\"gridcolor\":\"#E1E5ED\",\"showgrid\":true,\"tickfont\":{\"color\":\"#4D5663\"},\"title\":{\"font\":{\"color\":\"#4D5663\"},\"text\":\"\"},\"zerolinecolor\":\"#E1E5ED\"},\"yaxis\":{\"gridcolor\":\"#E1E5ED\",\"showgrid\":true,\"tickfont\":{\"color\":\"#4D5663\"},\"title\":{\"font\":{\"color\":\"#4D5663\"},\"text\":\"\"},\"zerolinecolor\":\"#E1E5ED\"}},                        {\"showLink\": true, \"linkText\": \"Export to plot.ly\", \"plotlyServerURL\": \"https://plot.ly\", \"responsive\": true}                    ).then(function(){\n",
       "                            \n",
       "var gd = document.getElementById('2be47f1a-d244-4e84-8ff7-c227d80e92f9');\n",
       "var x = new MutationObserver(function (mutations, observer) {{\n",
       "        var display = window.getComputedStyle(gd).display;\n",
       "        if (!display || display === 'none') {{\n",
       "            console.log([gd, 'removed!']);\n",
       "            Plotly.purge(gd);\n",
       "            observer.disconnect();\n",
       "        }}\n",
       "}});\n",
       "\n",
       "// Listen for the removal of the full notebook cells\n",
       "var notebookContainer = gd.closest('#notebook-container');\n",
       "if (notebookContainer) {{\n",
       "    x.observe(notebookContainer, {childList: true});\n",
       "}}\n",
       "\n",
       "// Listen for the clearing of the current output cell\n",
       "var outputEl = gd.closest('.output');\n",
       "if (outputEl) {{\n",
       "    x.observe(outputEl, {childList: true});\n",
       "}}\n",
       "\n",
       "                        })                };                });            </script>        </div>"
      ]
     },
     "metadata": {},
     "output_type": "display_data"
    }
   ],
   "source": [
    "df.iplot(kind='scatter',x='A',y='B',mode='markers',size=10)"
   ]
  },
  {
   "cell_type": "markdown",
   "metadata": {},
   "source": [
    "## Bar Plots"
   ]
  },
  {
   "cell_type": "code",
   "execution_count": 11,
   "metadata": {},
   "outputs": [
    {
     "data": {
      "application/vnd.plotly.v1+json": {
       "config": {
        "linkText": "Export to plot.ly",
        "plotlyServerURL": "https://plot.ly",
        "showLink": true
       },
       "data": [
        {
         "marker": {
          "color": "rgba(255, 153, 51, 0.6)",
          "line": {
           "color": "rgba(255, 153, 51, 1.0)",
           "width": 1
          }
         },
         "name": "Values",
         "orientation": "v",
         "text": "",
         "type": "bar",
         "x": [
          "A",
          "B",
          "C"
         ],
         "y": [
          32,
          43,
          50
         ]
        }
       ],
       "layout": {
        "legend": {
         "bgcolor": "#F5F6F9",
         "font": {
          "color": "#4D5663"
         }
        },
        "paper_bgcolor": "#F5F6F9",
        "plot_bgcolor": "#F5F6F9",
        "template": {
         "data": {
          "bar": [
           {
            "error_x": {
             "color": "#2a3f5f"
            },
            "error_y": {
             "color": "#2a3f5f"
            },
            "marker": {
             "line": {
              "color": "#E5ECF6",
              "width": 0.5
             },
             "pattern": {
              "fillmode": "overlay",
              "size": 10,
              "solidity": 0.2
             }
            },
            "type": "bar"
           }
          ],
          "barpolar": [
           {
            "marker": {
             "line": {
              "color": "#E5ECF6",
              "width": 0.5
             },
             "pattern": {
              "fillmode": "overlay",
              "size": 10,
              "solidity": 0.2
             }
            },
            "type": "barpolar"
           }
          ],
          "carpet": [
           {
            "aaxis": {
             "endlinecolor": "#2a3f5f",
             "gridcolor": "white",
             "linecolor": "white",
             "minorgridcolor": "white",
             "startlinecolor": "#2a3f5f"
            },
            "baxis": {
             "endlinecolor": "#2a3f5f",
             "gridcolor": "white",
             "linecolor": "white",
             "minorgridcolor": "white",
             "startlinecolor": "#2a3f5f"
            },
            "type": "carpet"
           }
          ],
          "choropleth": [
           {
            "colorbar": {
             "outlinewidth": 0,
             "ticks": ""
            },
            "type": "choropleth"
           }
          ],
          "contour": [
           {
            "colorbar": {
             "outlinewidth": 0,
             "ticks": ""
            },
            "colorscale": [
             [
              0,
              "#0d0887"
             ],
             [
              0.1111111111111111,
              "#46039f"
             ],
             [
              0.2222222222222222,
              "#7201a8"
             ],
             [
              0.3333333333333333,
              "#9c179e"
             ],
             [
              0.4444444444444444,
              "#bd3786"
             ],
             [
              0.5555555555555556,
              "#d8576b"
             ],
             [
              0.6666666666666666,
              "#ed7953"
             ],
             [
              0.7777777777777778,
              "#fb9f3a"
             ],
             [
              0.8888888888888888,
              "#fdca26"
             ],
             [
              1,
              "#f0f921"
             ]
            ],
            "type": "contour"
           }
          ],
          "contourcarpet": [
           {
            "colorbar": {
             "outlinewidth": 0,
             "ticks": ""
            },
            "type": "contourcarpet"
           }
          ],
          "heatmap": [
           {
            "colorbar": {
             "outlinewidth": 0,
             "ticks": ""
            },
            "colorscale": [
             [
              0,
              "#0d0887"
             ],
             [
              0.1111111111111111,
              "#46039f"
             ],
             [
              0.2222222222222222,
              "#7201a8"
             ],
             [
              0.3333333333333333,
              "#9c179e"
             ],
             [
              0.4444444444444444,
              "#bd3786"
             ],
             [
              0.5555555555555556,
              "#d8576b"
             ],
             [
              0.6666666666666666,
              "#ed7953"
             ],
             [
              0.7777777777777778,
              "#fb9f3a"
             ],
             [
              0.8888888888888888,
              "#fdca26"
             ],
             [
              1,
              "#f0f921"
             ]
            ],
            "type": "heatmap"
           }
          ],
          "heatmapgl": [
           {
            "colorbar": {
             "outlinewidth": 0,
             "ticks": ""
            },
            "colorscale": [
             [
              0,
              "#0d0887"
             ],
             [
              0.1111111111111111,
              "#46039f"
             ],
             [
              0.2222222222222222,
              "#7201a8"
             ],
             [
              0.3333333333333333,
              "#9c179e"
             ],
             [
              0.4444444444444444,
              "#bd3786"
             ],
             [
              0.5555555555555556,
              "#d8576b"
             ],
             [
              0.6666666666666666,
              "#ed7953"
             ],
             [
              0.7777777777777778,
              "#fb9f3a"
             ],
             [
              0.8888888888888888,
              "#fdca26"
             ],
             [
              1,
              "#f0f921"
             ]
            ],
            "type": "heatmapgl"
           }
          ],
          "histogram": [
           {
            "marker": {
             "pattern": {
              "fillmode": "overlay",
              "size": 10,
              "solidity": 0.2
             }
            },
            "type": "histogram"
           }
          ],
          "histogram2d": [
           {
            "colorbar": {
             "outlinewidth": 0,
             "ticks": ""
            },
            "colorscale": [
             [
              0,
              "#0d0887"
             ],
             [
              0.1111111111111111,
              "#46039f"
             ],
             [
              0.2222222222222222,
              "#7201a8"
             ],
             [
              0.3333333333333333,
              "#9c179e"
             ],
             [
              0.4444444444444444,
              "#bd3786"
             ],
             [
              0.5555555555555556,
              "#d8576b"
             ],
             [
              0.6666666666666666,
              "#ed7953"
             ],
             [
              0.7777777777777778,
              "#fb9f3a"
             ],
             [
              0.8888888888888888,
              "#fdca26"
             ],
             [
              1,
              "#f0f921"
             ]
            ],
            "type": "histogram2d"
           }
          ],
          "histogram2dcontour": [
           {
            "colorbar": {
             "outlinewidth": 0,
             "ticks": ""
            },
            "colorscale": [
             [
              0,
              "#0d0887"
             ],
             [
              0.1111111111111111,
              "#46039f"
             ],
             [
              0.2222222222222222,
              "#7201a8"
             ],
             [
              0.3333333333333333,
              "#9c179e"
             ],
             [
              0.4444444444444444,
              "#bd3786"
             ],
             [
              0.5555555555555556,
              "#d8576b"
             ],
             [
              0.6666666666666666,
              "#ed7953"
             ],
             [
              0.7777777777777778,
              "#fb9f3a"
             ],
             [
              0.8888888888888888,
              "#fdca26"
             ],
             [
              1,
              "#f0f921"
             ]
            ],
            "type": "histogram2dcontour"
           }
          ],
          "mesh3d": [
           {
            "colorbar": {
             "outlinewidth": 0,
             "ticks": ""
            },
            "type": "mesh3d"
           }
          ],
          "parcoords": [
           {
            "line": {
             "colorbar": {
              "outlinewidth": 0,
              "ticks": ""
             }
            },
            "type": "parcoords"
           }
          ],
          "pie": [
           {
            "automargin": true,
            "type": "pie"
           }
          ],
          "scatter": [
           {
            "fillpattern": {
             "fillmode": "overlay",
             "size": 10,
             "solidity": 0.2
            },
            "type": "scatter"
           }
          ],
          "scatter3d": [
           {
            "line": {
             "colorbar": {
              "outlinewidth": 0,
              "ticks": ""
             }
            },
            "marker": {
             "colorbar": {
              "outlinewidth": 0,
              "ticks": ""
             }
            },
            "type": "scatter3d"
           }
          ],
          "scattercarpet": [
           {
            "marker": {
             "colorbar": {
              "outlinewidth": 0,
              "ticks": ""
             }
            },
            "type": "scattercarpet"
           }
          ],
          "scattergeo": [
           {
            "marker": {
             "colorbar": {
              "outlinewidth": 0,
              "ticks": ""
             }
            },
            "type": "scattergeo"
           }
          ],
          "scattergl": [
           {
            "marker": {
             "colorbar": {
              "outlinewidth": 0,
              "ticks": ""
             }
            },
            "type": "scattergl"
           }
          ],
          "scattermapbox": [
           {
            "marker": {
             "colorbar": {
              "outlinewidth": 0,
              "ticks": ""
             }
            },
            "type": "scattermapbox"
           }
          ],
          "scatterpolar": [
           {
            "marker": {
             "colorbar": {
              "outlinewidth": 0,
              "ticks": ""
             }
            },
            "type": "scatterpolar"
           }
          ],
          "scatterpolargl": [
           {
            "marker": {
             "colorbar": {
              "outlinewidth": 0,
              "ticks": ""
             }
            },
            "type": "scatterpolargl"
           }
          ],
          "scatterternary": [
           {
            "marker": {
             "colorbar": {
              "outlinewidth": 0,
              "ticks": ""
             }
            },
            "type": "scatterternary"
           }
          ],
          "surface": [
           {
            "colorbar": {
             "outlinewidth": 0,
             "ticks": ""
            },
            "colorscale": [
             [
              0,
              "#0d0887"
             ],
             [
              0.1111111111111111,
              "#46039f"
             ],
             [
              0.2222222222222222,
              "#7201a8"
             ],
             [
              0.3333333333333333,
              "#9c179e"
             ],
             [
              0.4444444444444444,
              "#bd3786"
             ],
             [
              0.5555555555555556,
              "#d8576b"
             ],
             [
              0.6666666666666666,
              "#ed7953"
             ],
             [
              0.7777777777777778,
              "#fb9f3a"
             ],
             [
              0.8888888888888888,
              "#fdca26"
             ],
             [
              1,
              "#f0f921"
             ]
            ],
            "type": "surface"
           }
          ],
          "table": [
           {
            "cells": {
             "fill": {
              "color": "#EBF0F8"
             },
             "line": {
              "color": "white"
             }
            },
            "header": {
             "fill": {
              "color": "#C8D4E3"
             },
             "line": {
              "color": "white"
             }
            },
            "type": "table"
           }
          ]
         },
         "layout": {
          "annotationdefaults": {
           "arrowcolor": "#2a3f5f",
           "arrowhead": 0,
           "arrowwidth": 1
          },
          "autotypenumbers": "strict",
          "coloraxis": {
           "colorbar": {
            "outlinewidth": 0,
            "ticks": ""
           }
          },
          "colorscale": {
           "diverging": [
            [
             0,
             "#8e0152"
            ],
            [
             0.1,
             "#c51b7d"
            ],
            [
             0.2,
             "#de77ae"
            ],
            [
             0.3,
             "#f1b6da"
            ],
            [
             0.4,
             "#fde0ef"
            ],
            [
             0.5,
             "#f7f7f7"
            ],
            [
             0.6,
             "#e6f5d0"
            ],
            [
             0.7,
             "#b8e186"
            ],
            [
             0.8,
             "#7fbc41"
            ],
            [
             0.9,
             "#4d9221"
            ],
            [
             1,
             "#276419"
            ]
           ],
           "sequential": [
            [
             0,
             "#0d0887"
            ],
            [
             0.1111111111111111,
             "#46039f"
            ],
            [
             0.2222222222222222,
             "#7201a8"
            ],
            [
             0.3333333333333333,
             "#9c179e"
            ],
            [
             0.4444444444444444,
             "#bd3786"
            ],
            [
             0.5555555555555556,
             "#d8576b"
            ],
            [
             0.6666666666666666,
             "#ed7953"
            ],
            [
             0.7777777777777778,
             "#fb9f3a"
            ],
            [
             0.8888888888888888,
             "#fdca26"
            ],
            [
             1,
             "#f0f921"
            ]
           ],
           "sequentialminus": [
            [
             0,
             "#0d0887"
            ],
            [
             0.1111111111111111,
             "#46039f"
            ],
            [
             0.2222222222222222,
             "#7201a8"
            ],
            [
             0.3333333333333333,
             "#9c179e"
            ],
            [
             0.4444444444444444,
             "#bd3786"
            ],
            [
             0.5555555555555556,
             "#d8576b"
            ],
            [
             0.6666666666666666,
             "#ed7953"
            ],
            [
             0.7777777777777778,
             "#fb9f3a"
            ],
            [
             0.8888888888888888,
             "#fdca26"
            ],
            [
             1,
             "#f0f921"
            ]
           ]
          },
          "colorway": [
           "#636efa",
           "#EF553B",
           "#00cc96",
           "#ab63fa",
           "#FFA15A",
           "#19d3f3",
           "#FF6692",
           "#B6E880",
           "#FF97FF",
           "#FECB52"
          ],
          "font": {
           "color": "#2a3f5f"
          },
          "geo": {
           "bgcolor": "white",
           "lakecolor": "white",
           "landcolor": "#E5ECF6",
           "showlakes": true,
           "showland": true,
           "subunitcolor": "white"
          },
          "hoverlabel": {
           "align": "left"
          },
          "hovermode": "closest",
          "mapbox": {
           "style": "light"
          },
          "paper_bgcolor": "white",
          "plot_bgcolor": "#E5ECF6",
          "polar": {
           "angularaxis": {
            "gridcolor": "white",
            "linecolor": "white",
            "ticks": ""
           },
           "bgcolor": "#E5ECF6",
           "radialaxis": {
            "gridcolor": "white",
            "linecolor": "white",
            "ticks": ""
           }
          },
          "scene": {
           "xaxis": {
            "backgroundcolor": "#E5ECF6",
            "gridcolor": "white",
            "gridwidth": 2,
            "linecolor": "white",
            "showbackground": true,
            "ticks": "",
            "zerolinecolor": "white"
           },
           "yaxis": {
            "backgroundcolor": "#E5ECF6",
            "gridcolor": "white",
            "gridwidth": 2,
            "linecolor": "white",
            "showbackground": true,
            "ticks": "",
            "zerolinecolor": "white"
           },
           "zaxis": {
            "backgroundcolor": "#E5ECF6",
            "gridcolor": "white",
            "gridwidth": 2,
            "linecolor": "white",
            "showbackground": true,
            "ticks": "",
            "zerolinecolor": "white"
           }
          },
          "shapedefaults": {
           "line": {
            "color": "#2a3f5f"
           }
          },
          "ternary": {
           "aaxis": {
            "gridcolor": "white",
            "linecolor": "white",
            "ticks": ""
           },
           "baxis": {
            "gridcolor": "white",
            "linecolor": "white",
            "ticks": ""
           },
           "bgcolor": "#E5ECF6",
           "caxis": {
            "gridcolor": "white",
            "linecolor": "white",
            "ticks": ""
           }
          },
          "title": {
           "x": 0.05
          },
          "xaxis": {
           "automargin": true,
           "gridcolor": "white",
           "linecolor": "white",
           "ticks": "",
           "title": {
            "standoff": 15
           },
           "zerolinecolor": "white",
           "zerolinewidth": 2
          },
          "yaxis": {
           "automargin": true,
           "gridcolor": "white",
           "linecolor": "white",
           "ticks": "",
           "title": {
            "standoff": 15
           },
           "zerolinecolor": "white",
           "zerolinewidth": 2
          }
         }
        },
        "title": {
         "font": {
          "color": "#4D5663"
         }
        },
        "xaxis": {
         "gridcolor": "#E1E5ED",
         "showgrid": true,
         "tickfont": {
          "color": "#4D5663"
         },
         "title": {
          "font": {
           "color": "#4D5663"
          },
          "text": ""
         },
         "zerolinecolor": "#E1E5ED"
        },
        "yaxis": {
         "gridcolor": "#E1E5ED",
         "showgrid": true,
         "tickfont": {
          "color": "#4D5663"
         },
         "title": {
          "font": {
           "color": "#4D5663"
          },
          "text": ""
         },
         "zerolinecolor": "#E1E5ED"
        }
       }
      },
      "text/html": [
       "<div>                            <div id=\"d2bb5ef0-005d-4238-9c1a-d0d2cd186df1\" class=\"plotly-graph-div\" style=\"height:525px; width:100%;\"></div>            <script type=\"text/javascript\">                require([\"plotly\"], function(Plotly) {                    window.PLOTLYENV=window.PLOTLYENV || {};\n",
       "                    window.PLOTLYENV.BASE_URL='https://plot.ly';                                    if (document.getElementById(\"d2bb5ef0-005d-4238-9c1a-d0d2cd186df1\")) {                    Plotly.newPlot(                        \"d2bb5ef0-005d-4238-9c1a-d0d2cd186df1\",                        [{\"marker\":{\"color\":\"rgba(255, 153, 51, 0.6)\",\"line\":{\"color\":\"rgba(255, 153, 51, 1.0)\",\"width\":1}},\"name\":\"Values\",\"orientation\":\"v\",\"text\":\"\",\"x\":[\"A\",\"B\",\"C\"],\"y\":[32,43,50],\"type\":\"bar\"}],                        {\"legend\":{\"bgcolor\":\"#F5F6F9\",\"font\":{\"color\":\"#4D5663\"}},\"paper_bgcolor\":\"#F5F6F9\",\"plot_bgcolor\":\"#F5F6F9\",\"template\":{\"data\":{\"barpolar\":[{\"marker\":{\"line\":{\"color\":\"#E5ECF6\",\"width\":0.5},\"pattern\":{\"fillmode\":\"overlay\",\"size\":10,\"solidity\":0.2}},\"type\":\"barpolar\"}],\"bar\":[{\"error_x\":{\"color\":\"#2a3f5f\"},\"error_y\":{\"color\":\"#2a3f5f\"},\"marker\":{\"line\":{\"color\":\"#E5ECF6\",\"width\":0.5},\"pattern\":{\"fillmode\":\"overlay\",\"size\":10,\"solidity\":0.2}},\"type\":\"bar\"}],\"carpet\":[{\"aaxis\":{\"endlinecolor\":\"#2a3f5f\",\"gridcolor\":\"white\",\"linecolor\":\"white\",\"minorgridcolor\":\"white\",\"startlinecolor\":\"#2a3f5f\"},\"baxis\":{\"endlinecolor\":\"#2a3f5f\",\"gridcolor\":\"white\",\"linecolor\":\"white\",\"minorgridcolor\":\"white\",\"startlinecolor\":\"#2a3f5f\"},\"type\":\"carpet\"}],\"choropleth\":[{\"colorbar\":{\"outlinewidth\":0,\"ticks\":\"\"},\"type\":\"choropleth\"}],\"contourcarpet\":[{\"colorbar\":{\"outlinewidth\":0,\"ticks\":\"\"},\"type\":\"contourcarpet\"}],\"contour\":[{\"colorbar\":{\"outlinewidth\":0,\"ticks\":\"\"},\"colorscale\":[[0.0,\"#0d0887\"],[0.1111111111111111,\"#46039f\"],[0.2222222222222222,\"#7201a8\"],[0.3333333333333333,\"#9c179e\"],[0.4444444444444444,\"#bd3786\"],[0.5555555555555556,\"#d8576b\"],[0.6666666666666666,\"#ed7953\"],[0.7777777777777778,\"#fb9f3a\"],[0.8888888888888888,\"#fdca26\"],[1.0,\"#f0f921\"]],\"type\":\"contour\"}],\"heatmapgl\":[{\"colorbar\":{\"outlinewidth\":0,\"ticks\":\"\"},\"colorscale\":[[0.0,\"#0d0887\"],[0.1111111111111111,\"#46039f\"],[0.2222222222222222,\"#7201a8\"],[0.3333333333333333,\"#9c179e\"],[0.4444444444444444,\"#bd3786\"],[0.5555555555555556,\"#d8576b\"],[0.6666666666666666,\"#ed7953\"],[0.7777777777777778,\"#fb9f3a\"],[0.8888888888888888,\"#fdca26\"],[1.0,\"#f0f921\"]],\"type\":\"heatmapgl\"}],\"heatmap\":[{\"colorbar\":{\"outlinewidth\":0,\"ticks\":\"\"},\"colorscale\":[[0.0,\"#0d0887\"],[0.1111111111111111,\"#46039f\"],[0.2222222222222222,\"#7201a8\"],[0.3333333333333333,\"#9c179e\"],[0.4444444444444444,\"#bd3786\"],[0.5555555555555556,\"#d8576b\"],[0.6666666666666666,\"#ed7953\"],[0.7777777777777778,\"#fb9f3a\"],[0.8888888888888888,\"#fdca26\"],[1.0,\"#f0f921\"]],\"type\":\"heatmap\"}],\"histogram2dcontour\":[{\"colorbar\":{\"outlinewidth\":0,\"ticks\":\"\"},\"colorscale\":[[0.0,\"#0d0887\"],[0.1111111111111111,\"#46039f\"],[0.2222222222222222,\"#7201a8\"],[0.3333333333333333,\"#9c179e\"],[0.4444444444444444,\"#bd3786\"],[0.5555555555555556,\"#d8576b\"],[0.6666666666666666,\"#ed7953\"],[0.7777777777777778,\"#fb9f3a\"],[0.8888888888888888,\"#fdca26\"],[1.0,\"#f0f921\"]],\"type\":\"histogram2dcontour\"}],\"histogram2d\":[{\"colorbar\":{\"outlinewidth\":0,\"ticks\":\"\"},\"colorscale\":[[0.0,\"#0d0887\"],[0.1111111111111111,\"#46039f\"],[0.2222222222222222,\"#7201a8\"],[0.3333333333333333,\"#9c179e\"],[0.4444444444444444,\"#bd3786\"],[0.5555555555555556,\"#d8576b\"],[0.6666666666666666,\"#ed7953\"],[0.7777777777777778,\"#fb9f3a\"],[0.8888888888888888,\"#fdca26\"],[1.0,\"#f0f921\"]],\"type\":\"histogram2d\"}],\"histogram\":[{\"marker\":{\"pattern\":{\"fillmode\":\"overlay\",\"size\":10,\"solidity\":0.2}},\"type\":\"histogram\"}],\"mesh3d\":[{\"colorbar\":{\"outlinewidth\":0,\"ticks\":\"\"},\"type\":\"mesh3d\"}],\"parcoords\":[{\"line\":{\"colorbar\":{\"outlinewidth\":0,\"ticks\":\"\"}},\"type\":\"parcoords\"}],\"pie\":[{\"automargin\":true,\"type\":\"pie\"}],\"scatter3d\":[{\"line\":{\"colorbar\":{\"outlinewidth\":0,\"ticks\":\"\"}},\"marker\":{\"colorbar\":{\"outlinewidth\":0,\"ticks\":\"\"}},\"type\":\"scatter3d\"}],\"scattercarpet\":[{\"marker\":{\"colorbar\":{\"outlinewidth\":0,\"ticks\":\"\"}},\"type\":\"scattercarpet\"}],\"scattergeo\":[{\"marker\":{\"colorbar\":{\"outlinewidth\":0,\"ticks\":\"\"}},\"type\":\"scattergeo\"}],\"scattergl\":[{\"marker\":{\"colorbar\":{\"outlinewidth\":0,\"ticks\":\"\"}},\"type\":\"scattergl\"}],\"scattermapbox\":[{\"marker\":{\"colorbar\":{\"outlinewidth\":0,\"ticks\":\"\"}},\"type\":\"scattermapbox\"}],\"scatterpolargl\":[{\"marker\":{\"colorbar\":{\"outlinewidth\":0,\"ticks\":\"\"}},\"type\":\"scatterpolargl\"}],\"scatterpolar\":[{\"marker\":{\"colorbar\":{\"outlinewidth\":0,\"ticks\":\"\"}},\"type\":\"scatterpolar\"}],\"scatter\":[{\"fillpattern\":{\"fillmode\":\"overlay\",\"size\":10,\"solidity\":0.2},\"type\":\"scatter\"}],\"scatterternary\":[{\"marker\":{\"colorbar\":{\"outlinewidth\":0,\"ticks\":\"\"}},\"type\":\"scatterternary\"}],\"surface\":[{\"colorbar\":{\"outlinewidth\":0,\"ticks\":\"\"},\"colorscale\":[[0.0,\"#0d0887\"],[0.1111111111111111,\"#46039f\"],[0.2222222222222222,\"#7201a8\"],[0.3333333333333333,\"#9c179e\"],[0.4444444444444444,\"#bd3786\"],[0.5555555555555556,\"#d8576b\"],[0.6666666666666666,\"#ed7953\"],[0.7777777777777778,\"#fb9f3a\"],[0.8888888888888888,\"#fdca26\"],[1.0,\"#f0f921\"]],\"type\":\"surface\"}],\"table\":[{\"cells\":{\"fill\":{\"color\":\"#EBF0F8\"},\"line\":{\"color\":\"white\"}},\"header\":{\"fill\":{\"color\":\"#C8D4E3\"},\"line\":{\"color\":\"white\"}},\"type\":\"table\"}]},\"layout\":{\"annotationdefaults\":{\"arrowcolor\":\"#2a3f5f\",\"arrowhead\":0,\"arrowwidth\":1},\"autotypenumbers\":\"strict\",\"coloraxis\":{\"colorbar\":{\"outlinewidth\":0,\"ticks\":\"\"}},\"colorscale\":{\"diverging\":[[0,\"#8e0152\"],[0.1,\"#c51b7d\"],[0.2,\"#de77ae\"],[0.3,\"#f1b6da\"],[0.4,\"#fde0ef\"],[0.5,\"#f7f7f7\"],[0.6,\"#e6f5d0\"],[0.7,\"#b8e186\"],[0.8,\"#7fbc41\"],[0.9,\"#4d9221\"],[1,\"#276419\"]],\"sequential\":[[0.0,\"#0d0887\"],[0.1111111111111111,\"#46039f\"],[0.2222222222222222,\"#7201a8\"],[0.3333333333333333,\"#9c179e\"],[0.4444444444444444,\"#bd3786\"],[0.5555555555555556,\"#d8576b\"],[0.6666666666666666,\"#ed7953\"],[0.7777777777777778,\"#fb9f3a\"],[0.8888888888888888,\"#fdca26\"],[1.0,\"#f0f921\"]],\"sequentialminus\":[[0.0,\"#0d0887\"],[0.1111111111111111,\"#46039f\"],[0.2222222222222222,\"#7201a8\"],[0.3333333333333333,\"#9c179e\"],[0.4444444444444444,\"#bd3786\"],[0.5555555555555556,\"#d8576b\"],[0.6666666666666666,\"#ed7953\"],[0.7777777777777778,\"#fb9f3a\"],[0.8888888888888888,\"#fdca26\"],[1.0,\"#f0f921\"]]},\"colorway\":[\"#636efa\",\"#EF553B\",\"#00cc96\",\"#ab63fa\",\"#FFA15A\",\"#19d3f3\",\"#FF6692\",\"#B6E880\",\"#FF97FF\",\"#FECB52\"],\"font\":{\"color\":\"#2a3f5f\"},\"geo\":{\"bgcolor\":\"white\",\"lakecolor\":\"white\",\"landcolor\":\"#E5ECF6\",\"showlakes\":true,\"showland\":true,\"subunitcolor\":\"white\"},\"hoverlabel\":{\"align\":\"left\"},\"hovermode\":\"closest\",\"mapbox\":{\"style\":\"light\"},\"paper_bgcolor\":\"white\",\"plot_bgcolor\":\"#E5ECF6\",\"polar\":{\"angularaxis\":{\"gridcolor\":\"white\",\"linecolor\":\"white\",\"ticks\":\"\"},\"bgcolor\":\"#E5ECF6\",\"radialaxis\":{\"gridcolor\":\"white\",\"linecolor\":\"white\",\"ticks\":\"\"}},\"scene\":{\"xaxis\":{\"backgroundcolor\":\"#E5ECF6\",\"gridcolor\":\"white\",\"gridwidth\":2,\"linecolor\":\"white\",\"showbackground\":true,\"ticks\":\"\",\"zerolinecolor\":\"white\"},\"yaxis\":{\"backgroundcolor\":\"#E5ECF6\",\"gridcolor\":\"white\",\"gridwidth\":2,\"linecolor\":\"white\",\"showbackground\":true,\"ticks\":\"\",\"zerolinecolor\":\"white\"},\"zaxis\":{\"backgroundcolor\":\"#E5ECF6\",\"gridcolor\":\"white\",\"gridwidth\":2,\"linecolor\":\"white\",\"showbackground\":true,\"ticks\":\"\",\"zerolinecolor\":\"white\"}},\"shapedefaults\":{\"line\":{\"color\":\"#2a3f5f\"}},\"ternary\":{\"aaxis\":{\"gridcolor\":\"white\",\"linecolor\":\"white\",\"ticks\":\"\"},\"baxis\":{\"gridcolor\":\"white\",\"linecolor\":\"white\",\"ticks\":\"\"},\"bgcolor\":\"#E5ECF6\",\"caxis\":{\"gridcolor\":\"white\",\"linecolor\":\"white\",\"ticks\":\"\"}},\"title\":{\"x\":0.05},\"xaxis\":{\"automargin\":true,\"gridcolor\":\"white\",\"linecolor\":\"white\",\"ticks\":\"\",\"title\":{\"standoff\":15},\"zerolinecolor\":\"white\",\"zerolinewidth\":2},\"yaxis\":{\"automargin\":true,\"gridcolor\":\"white\",\"linecolor\":\"white\",\"ticks\":\"\",\"title\":{\"standoff\":15},\"zerolinecolor\":\"white\",\"zerolinewidth\":2}}},\"title\":{\"font\":{\"color\":\"#4D5663\"}},\"xaxis\":{\"gridcolor\":\"#E1E5ED\",\"showgrid\":true,\"tickfont\":{\"color\":\"#4D5663\"},\"title\":{\"font\":{\"color\":\"#4D5663\"},\"text\":\"\"},\"zerolinecolor\":\"#E1E5ED\"},\"yaxis\":{\"gridcolor\":\"#E1E5ED\",\"showgrid\":true,\"tickfont\":{\"color\":\"#4D5663\"},\"title\":{\"font\":{\"color\":\"#4D5663\"},\"text\":\"\"},\"zerolinecolor\":\"#E1E5ED\"}},                        {\"showLink\": true, \"linkText\": \"Export to plot.ly\", \"plotlyServerURL\": \"https://plot.ly\", \"responsive\": true}                    ).then(function(){\n",
       "                            \n",
       "var gd = document.getElementById('d2bb5ef0-005d-4238-9c1a-d0d2cd186df1');\n",
       "var x = new MutationObserver(function (mutations, observer) {{\n",
       "        var display = window.getComputedStyle(gd).display;\n",
       "        if (!display || display === 'none') {{\n",
       "            console.log([gd, 'removed!']);\n",
       "            Plotly.purge(gd);\n",
       "            observer.disconnect();\n",
       "        }}\n",
       "}});\n",
       "\n",
       "// Listen for the removal of the full notebook cells\n",
       "var notebookContainer = gd.closest('#notebook-container');\n",
       "if (notebookContainer) {{\n",
       "    x.observe(notebookContainer, {childList: true});\n",
       "}}\n",
       "\n",
       "// Listen for the clearing of the current output cell\n",
       "var outputEl = gd.closest('.output');\n",
       "if (outputEl) {{\n",
       "    x.observe(outputEl, {childList: true});\n",
       "}}\n",
       "\n",
       "                        })                };                });            </script>        </div>"
      ]
     },
     "metadata": {},
     "output_type": "display_data"
    }
   ],
   "source": [
    "df2.iplot(kind='bar',x='Category',y='Values')"
   ]
  },
  {
   "cell_type": "code",
   "execution_count": 33,
   "metadata": {},
   "outputs": [
    {
     "data": {
      "application/vnd.plotly.v1+json": {
       "config": {
        "linkText": "Export to plot.ly",
        "plotlyServerURL": "https://plot.ly",
        "showLink": true
       },
       "data": [
        {
         "marker": {
          "color": "rgba(255, 153, 51, 0.6)",
          "line": {
           "color": "rgba(255, 153, 51, 1.0)",
           "width": 1
          }
         },
         "name": "None",
         "orientation": "v",
         "text": "",
         "type": "bar",
         "x": [
          "A",
          "B",
          "C",
          "D"
         ],
         "y": [
          100,
          100,
          100,
          100
         ]
        }
       ],
       "layout": {
        "legend": {
         "bgcolor": "#F5F6F9",
         "font": {
          "color": "#4D5663"
         }
        },
        "paper_bgcolor": "#F5F6F9",
        "plot_bgcolor": "#F5F6F9",
        "template": {
         "data": {
          "bar": [
           {
            "error_x": {
             "color": "#2a3f5f"
            },
            "error_y": {
             "color": "#2a3f5f"
            },
            "marker": {
             "line": {
              "color": "#E5ECF6",
              "width": 0.5
             }
            },
            "type": "bar"
           }
          ],
          "barpolar": [
           {
            "marker": {
             "line": {
              "color": "#E5ECF6",
              "width": 0.5
             }
            },
            "type": "barpolar"
           }
          ],
          "carpet": [
           {
            "aaxis": {
             "endlinecolor": "#2a3f5f",
             "gridcolor": "white",
             "linecolor": "white",
             "minorgridcolor": "white",
             "startlinecolor": "#2a3f5f"
            },
            "baxis": {
             "endlinecolor": "#2a3f5f",
             "gridcolor": "white",
             "linecolor": "white",
             "minorgridcolor": "white",
             "startlinecolor": "#2a3f5f"
            },
            "type": "carpet"
           }
          ],
          "choropleth": [
           {
            "colorbar": {
             "outlinewidth": 0,
             "ticks": ""
            },
            "type": "choropleth"
           }
          ],
          "contour": [
           {
            "colorbar": {
             "outlinewidth": 0,
             "ticks": ""
            },
            "colorscale": [
             [
              0,
              "#0d0887"
             ],
             [
              0.1111111111111111,
              "#46039f"
             ],
             [
              0.2222222222222222,
              "#7201a8"
             ],
             [
              0.3333333333333333,
              "#9c179e"
             ],
             [
              0.4444444444444444,
              "#bd3786"
             ],
             [
              0.5555555555555556,
              "#d8576b"
             ],
             [
              0.6666666666666666,
              "#ed7953"
             ],
             [
              0.7777777777777778,
              "#fb9f3a"
             ],
             [
              0.8888888888888888,
              "#fdca26"
             ],
             [
              1,
              "#f0f921"
             ]
            ],
            "type": "contour"
           }
          ],
          "contourcarpet": [
           {
            "colorbar": {
             "outlinewidth": 0,
             "ticks": ""
            },
            "type": "contourcarpet"
           }
          ],
          "heatmap": [
           {
            "colorbar": {
             "outlinewidth": 0,
             "ticks": ""
            },
            "colorscale": [
             [
              0,
              "#0d0887"
             ],
             [
              0.1111111111111111,
              "#46039f"
             ],
             [
              0.2222222222222222,
              "#7201a8"
             ],
             [
              0.3333333333333333,
              "#9c179e"
             ],
             [
              0.4444444444444444,
              "#bd3786"
             ],
             [
              0.5555555555555556,
              "#d8576b"
             ],
             [
              0.6666666666666666,
              "#ed7953"
             ],
             [
              0.7777777777777778,
              "#fb9f3a"
             ],
             [
              0.8888888888888888,
              "#fdca26"
             ],
             [
              1,
              "#f0f921"
             ]
            ],
            "type": "heatmap"
           }
          ],
          "heatmapgl": [
           {
            "colorbar": {
             "outlinewidth": 0,
             "ticks": ""
            },
            "colorscale": [
             [
              0,
              "#0d0887"
             ],
             [
              0.1111111111111111,
              "#46039f"
             ],
             [
              0.2222222222222222,
              "#7201a8"
             ],
             [
              0.3333333333333333,
              "#9c179e"
             ],
             [
              0.4444444444444444,
              "#bd3786"
             ],
             [
              0.5555555555555556,
              "#d8576b"
             ],
             [
              0.6666666666666666,
              "#ed7953"
             ],
             [
              0.7777777777777778,
              "#fb9f3a"
             ],
             [
              0.8888888888888888,
              "#fdca26"
             ],
             [
              1,
              "#f0f921"
             ]
            ],
            "type": "heatmapgl"
           }
          ],
          "histogram": [
           {
            "marker": {
             "colorbar": {
              "outlinewidth": 0,
              "ticks": ""
             }
            },
            "type": "histogram"
           }
          ],
          "histogram2d": [
           {
            "colorbar": {
             "outlinewidth": 0,
             "ticks": ""
            },
            "colorscale": [
             [
              0,
              "#0d0887"
             ],
             [
              0.1111111111111111,
              "#46039f"
             ],
             [
              0.2222222222222222,
              "#7201a8"
             ],
             [
              0.3333333333333333,
              "#9c179e"
             ],
             [
              0.4444444444444444,
              "#bd3786"
             ],
             [
              0.5555555555555556,
              "#d8576b"
             ],
             [
              0.6666666666666666,
              "#ed7953"
             ],
             [
              0.7777777777777778,
              "#fb9f3a"
             ],
             [
              0.8888888888888888,
              "#fdca26"
             ],
             [
              1,
              "#f0f921"
             ]
            ],
            "type": "histogram2d"
           }
          ],
          "histogram2dcontour": [
           {
            "colorbar": {
             "outlinewidth": 0,
             "ticks": ""
            },
            "colorscale": [
             [
              0,
              "#0d0887"
             ],
             [
              0.1111111111111111,
              "#46039f"
             ],
             [
              0.2222222222222222,
              "#7201a8"
             ],
             [
              0.3333333333333333,
              "#9c179e"
             ],
             [
              0.4444444444444444,
              "#bd3786"
             ],
             [
              0.5555555555555556,
              "#d8576b"
             ],
             [
              0.6666666666666666,
              "#ed7953"
             ],
             [
              0.7777777777777778,
              "#fb9f3a"
             ],
             [
              0.8888888888888888,
              "#fdca26"
             ],
             [
              1,
              "#f0f921"
             ]
            ],
            "type": "histogram2dcontour"
           }
          ],
          "mesh3d": [
           {
            "colorbar": {
             "outlinewidth": 0,
             "ticks": ""
            },
            "type": "mesh3d"
           }
          ],
          "parcoords": [
           {
            "line": {
             "colorbar": {
              "outlinewidth": 0,
              "ticks": ""
             }
            },
            "type": "parcoords"
           }
          ],
          "pie": [
           {
            "automargin": true,
            "type": "pie"
           }
          ],
          "scatter": [
           {
            "marker": {
             "colorbar": {
              "outlinewidth": 0,
              "ticks": ""
             }
            },
            "type": "scatter"
           }
          ],
          "scatter3d": [
           {
            "line": {
             "colorbar": {
              "outlinewidth": 0,
              "ticks": ""
             }
            },
            "marker": {
             "colorbar": {
              "outlinewidth": 0,
              "ticks": ""
             }
            },
            "type": "scatter3d"
           }
          ],
          "scattercarpet": [
           {
            "marker": {
             "colorbar": {
              "outlinewidth": 0,
              "ticks": ""
             }
            },
            "type": "scattercarpet"
           }
          ],
          "scattergeo": [
           {
            "marker": {
             "colorbar": {
              "outlinewidth": 0,
              "ticks": ""
             }
            },
            "type": "scattergeo"
           }
          ],
          "scattergl": [
           {
            "marker": {
             "colorbar": {
              "outlinewidth": 0,
              "ticks": ""
             }
            },
            "type": "scattergl"
           }
          ],
          "scattermapbox": [
           {
            "marker": {
             "colorbar": {
              "outlinewidth": 0,
              "ticks": ""
             }
            },
            "type": "scattermapbox"
           }
          ],
          "scatterpolar": [
           {
            "marker": {
             "colorbar": {
              "outlinewidth": 0,
              "ticks": ""
             }
            },
            "type": "scatterpolar"
           }
          ],
          "scatterpolargl": [
           {
            "marker": {
             "colorbar": {
              "outlinewidth": 0,
              "ticks": ""
             }
            },
            "type": "scatterpolargl"
           }
          ],
          "scatterternary": [
           {
            "marker": {
             "colorbar": {
              "outlinewidth": 0,
              "ticks": ""
             }
            },
            "type": "scatterternary"
           }
          ],
          "surface": [
           {
            "colorbar": {
             "outlinewidth": 0,
             "ticks": ""
            },
            "colorscale": [
             [
              0,
              "#0d0887"
             ],
             [
              0.1111111111111111,
              "#46039f"
             ],
             [
              0.2222222222222222,
              "#7201a8"
             ],
             [
              0.3333333333333333,
              "#9c179e"
             ],
             [
              0.4444444444444444,
              "#bd3786"
             ],
             [
              0.5555555555555556,
              "#d8576b"
             ],
             [
              0.6666666666666666,
              "#ed7953"
             ],
             [
              0.7777777777777778,
              "#fb9f3a"
             ],
             [
              0.8888888888888888,
              "#fdca26"
             ],
             [
              1,
              "#f0f921"
             ]
            ],
            "type": "surface"
           }
          ],
          "table": [
           {
            "cells": {
             "fill": {
              "color": "#EBF0F8"
             },
             "line": {
              "color": "white"
             }
            },
            "header": {
             "fill": {
              "color": "#C8D4E3"
             },
             "line": {
              "color": "white"
             }
            },
            "type": "table"
           }
          ]
         },
         "layout": {
          "annotationdefaults": {
           "arrowcolor": "#2a3f5f",
           "arrowhead": 0,
           "arrowwidth": 1
          },
          "autotypenumbers": "strict",
          "coloraxis": {
           "colorbar": {
            "outlinewidth": 0,
            "ticks": ""
           }
          },
          "colorscale": {
           "diverging": [
            [
             0,
             "#8e0152"
            ],
            [
             0.1,
             "#c51b7d"
            ],
            [
             0.2,
             "#de77ae"
            ],
            [
             0.3,
             "#f1b6da"
            ],
            [
             0.4,
             "#fde0ef"
            ],
            [
             0.5,
             "#f7f7f7"
            ],
            [
             0.6,
             "#e6f5d0"
            ],
            [
             0.7,
             "#b8e186"
            ],
            [
             0.8,
             "#7fbc41"
            ],
            [
             0.9,
             "#4d9221"
            ],
            [
             1,
             "#276419"
            ]
           ],
           "sequential": [
            [
             0,
             "#0d0887"
            ],
            [
             0.1111111111111111,
             "#46039f"
            ],
            [
             0.2222222222222222,
             "#7201a8"
            ],
            [
             0.3333333333333333,
             "#9c179e"
            ],
            [
             0.4444444444444444,
             "#bd3786"
            ],
            [
             0.5555555555555556,
             "#d8576b"
            ],
            [
             0.6666666666666666,
             "#ed7953"
            ],
            [
             0.7777777777777778,
             "#fb9f3a"
            ],
            [
             0.8888888888888888,
             "#fdca26"
            ],
            [
             1,
             "#f0f921"
            ]
           ],
           "sequentialminus": [
            [
             0,
             "#0d0887"
            ],
            [
             0.1111111111111111,
             "#46039f"
            ],
            [
             0.2222222222222222,
             "#7201a8"
            ],
            [
             0.3333333333333333,
             "#9c179e"
            ],
            [
             0.4444444444444444,
             "#bd3786"
            ],
            [
             0.5555555555555556,
             "#d8576b"
            ],
            [
             0.6666666666666666,
             "#ed7953"
            ],
            [
             0.7777777777777778,
             "#fb9f3a"
            ],
            [
             0.8888888888888888,
             "#fdca26"
            ],
            [
             1,
             "#f0f921"
            ]
           ]
          },
          "colorway": [
           "#636efa",
           "#EF553B",
           "#00cc96",
           "#ab63fa",
           "#FFA15A",
           "#19d3f3",
           "#FF6692",
           "#B6E880",
           "#FF97FF",
           "#FECB52"
          ],
          "font": {
           "color": "#2a3f5f"
          },
          "geo": {
           "bgcolor": "white",
           "lakecolor": "white",
           "landcolor": "#E5ECF6",
           "showlakes": true,
           "showland": true,
           "subunitcolor": "white"
          },
          "hoverlabel": {
           "align": "left"
          },
          "hovermode": "closest",
          "mapbox": {
           "style": "light"
          },
          "paper_bgcolor": "white",
          "plot_bgcolor": "#E5ECF6",
          "polar": {
           "angularaxis": {
            "gridcolor": "white",
            "linecolor": "white",
            "ticks": ""
           },
           "bgcolor": "#E5ECF6",
           "radialaxis": {
            "gridcolor": "white",
            "linecolor": "white",
            "ticks": ""
           }
          },
          "scene": {
           "xaxis": {
            "backgroundcolor": "#E5ECF6",
            "gridcolor": "white",
            "gridwidth": 2,
            "linecolor": "white",
            "showbackground": true,
            "ticks": "",
            "zerolinecolor": "white"
           },
           "yaxis": {
            "backgroundcolor": "#E5ECF6",
            "gridcolor": "white",
            "gridwidth": 2,
            "linecolor": "white",
            "showbackground": true,
            "ticks": "",
            "zerolinecolor": "white"
           },
           "zaxis": {
            "backgroundcolor": "#E5ECF6",
            "gridcolor": "white",
            "gridwidth": 2,
            "linecolor": "white",
            "showbackground": true,
            "ticks": "",
            "zerolinecolor": "white"
           }
          },
          "shapedefaults": {
           "line": {
            "color": "#2a3f5f"
           }
          },
          "ternary": {
           "aaxis": {
            "gridcolor": "white",
            "linecolor": "white",
            "ticks": ""
           },
           "baxis": {
            "gridcolor": "white",
            "linecolor": "white",
            "ticks": ""
           },
           "bgcolor": "#E5ECF6",
           "caxis": {
            "gridcolor": "white",
            "linecolor": "white",
            "ticks": ""
           }
          },
          "title": {
           "x": 0.05
          },
          "xaxis": {
           "automargin": true,
           "gridcolor": "white",
           "linecolor": "white",
           "ticks": "",
           "title": {
            "standoff": 15
           },
           "zerolinecolor": "white",
           "zerolinewidth": 2
          },
          "yaxis": {
           "automargin": true,
           "gridcolor": "white",
           "linecolor": "white",
           "ticks": "",
           "title": {
            "standoff": 15
           },
           "zerolinecolor": "white",
           "zerolinewidth": 2
          }
         }
        },
        "title": {
         "font": {
          "color": "#4D5663"
         }
        },
        "xaxis": {
         "gridcolor": "#E1E5ED",
         "showgrid": true,
         "tickfont": {
          "color": "#4D5663"
         },
         "title": {
          "font": {
           "color": "#4D5663"
          },
          "text": ""
         },
         "zerolinecolor": "#E1E5ED"
        },
        "yaxis": {
         "gridcolor": "#E1E5ED",
         "showgrid": true,
         "tickfont": {
          "color": "#4D5663"
         },
         "title": {
          "font": {
           "color": "#4D5663"
          },
          "text": ""
         },
         "zerolinecolor": "#E1E5ED"
        }
       }
      },
      "text/html": [
       "<div>                            <div id=\"24ed1a75-0716-475d-b152-c85a7c3bd482\" class=\"plotly-graph-div\" style=\"height:525px; width:100%;\"></div>            <script type=\"text/javascript\">                require([\"plotly\"], function(Plotly) {                    window.PLOTLYENV=window.PLOTLYENV || {};\n",
       "                    window.PLOTLYENV.BASE_URL='https://plot.ly';                                    if (document.getElementById(\"24ed1a75-0716-475d-b152-c85a7c3bd482\")) {                    Plotly.newPlot(                        \"24ed1a75-0716-475d-b152-c85a7c3bd482\",                        [{\"marker\": {\"color\": \"rgba(255, 153, 51, 0.6)\", \"line\": {\"color\": \"rgba(255, 153, 51, 1.0)\", \"width\": 1}}, \"name\": \"None\", \"orientation\": \"v\", \"text\": \"\", \"type\": \"bar\", \"x\": [\"A\", \"B\", \"C\", \"D\"], \"y\": [100, 100, 100, 100]}],                        {\"legend\": {\"bgcolor\": \"#F5F6F9\", \"font\": {\"color\": \"#4D5663\"}}, \"paper_bgcolor\": \"#F5F6F9\", \"plot_bgcolor\": \"#F5F6F9\", \"template\": {\"data\": {\"bar\": [{\"error_x\": {\"color\": \"#2a3f5f\"}, \"error_y\": {\"color\": \"#2a3f5f\"}, \"marker\": {\"line\": {\"color\": \"#E5ECF6\", \"width\": 0.5}}, \"type\": \"bar\"}], \"barpolar\": [{\"marker\": {\"line\": {\"color\": \"#E5ECF6\", \"width\": 0.5}}, \"type\": \"barpolar\"}], \"carpet\": [{\"aaxis\": {\"endlinecolor\": \"#2a3f5f\", \"gridcolor\": \"white\", \"linecolor\": \"white\", \"minorgridcolor\": \"white\", \"startlinecolor\": \"#2a3f5f\"}, \"baxis\": {\"endlinecolor\": \"#2a3f5f\", \"gridcolor\": \"white\", \"linecolor\": \"white\", \"minorgridcolor\": \"white\", \"startlinecolor\": \"#2a3f5f\"}, \"type\": \"carpet\"}], \"choropleth\": [{\"colorbar\": {\"outlinewidth\": 0, \"ticks\": \"\"}, \"type\": \"choropleth\"}], \"contour\": [{\"colorbar\": {\"outlinewidth\": 0, \"ticks\": \"\"}, \"colorscale\": [[0.0, \"#0d0887\"], [0.1111111111111111, \"#46039f\"], [0.2222222222222222, \"#7201a8\"], [0.3333333333333333, \"#9c179e\"], [0.4444444444444444, \"#bd3786\"], [0.5555555555555556, \"#d8576b\"], [0.6666666666666666, \"#ed7953\"], [0.7777777777777778, \"#fb9f3a\"], [0.8888888888888888, \"#fdca26\"], [1.0, \"#f0f921\"]], \"type\": \"contour\"}], \"contourcarpet\": [{\"colorbar\": {\"outlinewidth\": 0, \"ticks\": \"\"}, \"type\": \"contourcarpet\"}], \"heatmap\": [{\"colorbar\": {\"outlinewidth\": 0, \"ticks\": \"\"}, \"colorscale\": [[0.0, \"#0d0887\"], [0.1111111111111111, \"#46039f\"], [0.2222222222222222, \"#7201a8\"], [0.3333333333333333, \"#9c179e\"], [0.4444444444444444, \"#bd3786\"], [0.5555555555555556, \"#d8576b\"], [0.6666666666666666, \"#ed7953\"], [0.7777777777777778, \"#fb9f3a\"], [0.8888888888888888, \"#fdca26\"], [1.0, \"#f0f921\"]], \"type\": \"heatmap\"}], \"heatmapgl\": [{\"colorbar\": {\"outlinewidth\": 0, \"ticks\": \"\"}, \"colorscale\": [[0.0, \"#0d0887\"], [0.1111111111111111, \"#46039f\"], [0.2222222222222222, \"#7201a8\"], [0.3333333333333333, \"#9c179e\"], [0.4444444444444444, \"#bd3786\"], [0.5555555555555556, \"#d8576b\"], [0.6666666666666666, \"#ed7953\"], [0.7777777777777778, \"#fb9f3a\"], [0.8888888888888888, \"#fdca26\"], [1.0, \"#f0f921\"]], \"type\": \"heatmapgl\"}], \"histogram\": [{\"marker\": {\"colorbar\": {\"outlinewidth\": 0, \"ticks\": \"\"}}, \"type\": \"histogram\"}], \"histogram2d\": [{\"colorbar\": {\"outlinewidth\": 0, \"ticks\": \"\"}, \"colorscale\": [[0.0, \"#0d0887\"], [0.1111111111111111, \"#46039f\"], [0.2222222222222222, \"#7201a8\"], [0.3333333333333333, \"#9c179e\"], [0.4444444444444444, \"#bd3786\"], [0.5555555555555556, \"#d8576b\"], [0.6666666666666666, \"#ed7953\"], [0.7777777777777778, \"#fb9f3a\"], [0.8888888888888888, \"#fdca26\"], [1.0, \"#f0f921\"]], \"type\": \"histogram2d\"}], \"histogram2dcontour\": [{\"colorbar\": {\"outlinewidth\": 0, \"ticks\": \"\"}, \"colorscale\": [[0.0, \"#0d0887\"], [0.1111111111111111, \"#46039f\"], [0.2222222222222222, \"#7201a8\"], [0.3333333333333333, \"#9c179e\"], [0.4444444444444444, \"#bd3786\"], [0.5555555555555556, \"#d8576b\"], [0.6666666666666666, \"#ed7953\"], [0.7777777777777778, \"#fb9f3a\"], [0.8888888888888888, \"#fdca26\"], [1.0, \"#f0f921\"]], \"type\": \"histogram2dcontour\"}], \"mesh3d\": [{\"colorbar\": {\"outlinewidth\": 0, \"ticks\": \"\"}, \"type\": \"mesh3d\"}], \"parcoords\": [{\"line\": {\"colorbar\": {\"outlinewidth\": 0, \"ticks\": \"\"}}, \"type\": \"parcoords\"}], \"pie\": [{\"automargin\": true, \"type\": \"pie\"}], \"scatter\": [{\"marker\": {\"colorbar\": {\"outlinewidth\": 0, \"ticks\": \"\"}}, \"type\": \"scatter\"}], \"scatter3d\": [{\"line\": {\"colorbar\": {\"outlinewidth\": 0, \"ticks\": \"\"}}, \"marker\": {\"colorbar\": {\"outlinewidth\": 0, \"ticks\": \"\"}}, \"type\": \"scatter3d\"}], \"scattercarpet\": [{\"marker\": {\"colorbar\": {\"outlinewidth\": 0, \"ticks\": \"\"}}, \"type\": \"scattercarpet\"}], \"scattergeo\": [{\"marker\": {\"colorbar\": {\"outlinewidth\": 0, \"ticks\": \"\"}}, \"type\": \"scattergeo\"}], \"scattergl\": [{\"marker\": {\"colorbar\": {\"outlinewidth\": 0, \"ticks\": \"\"}}, \"type\": \"scattergl\"}], \"scattermapbox\": [{\"marker\": {\"colorbar\": {\"outlinewidth\": 0, \"ticks\": \"\"}}, \"type\": \"scattermapbox\"}], \"scatterpolar\": [{\"marker\": {\"colorbar\": {\"outlinewidth\": 0, \"ticks\": \"\"}}, \"type\": \"scatterpolar\"}], \"scatterpolargl\": [{\"marker\": {\"colorbar\": {\"outlinewidth\": 0, \"ticks\": \"\"}}, \"type\": \"scatterpolargl\"}], \"scatterternary\": [{\"marker\": {\"colorbar\": {\"outlinewidth\": 0, \"ticks\": \"\"}}, \"type\": \"scatterternary\"}], \"surface\": [{\"colorbar\": {\"outlinewidth\": 0, \"ticks\": \"\"}, \"colorscale\": [[0.0, \"#0d0887\"], [0.1111111111111111, \"#46039f\"], [0.2222222222222222, \"#7201a8\"], [0.3333333333333333, \"#9c179e\"], [0.4444444444444444, \"#bd3786\"], [0.5555555555555556, \"#d8576b\"], [0.6666666666666666, \"#ed7953\"], [0.7777777777777778, \"#fb9f3a\"], [0.8888888888888888, \"#fdca26\"], [1.0, \"#f0f921\"]], \"type\": \"surface\"}], \"table\": [{\"cells\": {\"fill\": {\"color\": \"#EBF0F8\"}, \"line\": {\"color\": \"white\"}}, \"header\": {\"fill\": {\"color\": \"#C8D4E3\"}, \"line\": {\"color\": \"white\"}}, \"type\": \"table\"}]}, \"layout\": {\"annotationdefaults\": {\"arrowcolor\": \"#2a3f5f\", \"arrowhead\": 0, \"arrowwidth\": 1}, \"autotypenumbers\": \"strict\", \"coloraxis\": {\"colorbar\": {\"outlinewidth\": 0, \"ticks\": \"\"}}, \"colorscale\": {\"diverging\": [[0, \"#8e0152\"], [0.1, \"#c51b7d\"], [0.2, \"#de77ae\"], [0.3, \"#f1b6da\"], [0.4, \"#fde0ef\"], [0.5, \"#f7f7f7\"], [0.6, \"#e6f5d0\"], [0.7, \"#b8e186\"], [0.8, \"#7fbc41\"], [0.9, \"#4d9221\"], [1, \"#276419\"]], \"sequential\": [[0.0, \"#0d0887\"], [0.1111111111111111, \"#46039f\"], [0.2222222222222222, \"#7201a8\"], [0.3333333333333333, \"#9c179e\"], [0.4444444444444444, \"#bd3786\"], [0.5555555555555556, \"#d8576b\"], [0.6666666666666666, \"#ed7953\"], [0.7777777777777778, \"#fb9f3a\"], [0.8888888888888888, \"#fdca26\"], [1.0, \"#f0f921\"]], \"sequentialminus\": [[0.0, \"#0d0887\"], [0.1111111111111111, \"#46039f\"], [0.2222222222222222, \"#7201a8\"], [0.3333333333333333, \"#9c179e\"], [0.4444444444444444, \"#bd3786\"], [0.5555555555555556, \"#d8576b\"], [0.6666666666666666, \"#ed7953\"], [0.7777777777777778, \"#fb9f3a\"], [0.8888888888888888, \"#fdca26\"], [1.0, \"#f0f921\"]]}, \"colorway\": [\"#636efa\", \"#EF553B\", \"#00cc96\", \"#ab63fa\", \"#FFA15A\", \"#19d3f3\", \"#FF6692\", \"#B6E880\", \"#FF97FF\", \"#FECB52\"], \"font\": {\"color\": \"#2a3f5f\"}, \"geo\": {\"bgcolor\": \"white\", \"lakecolor\": \"white\", \"landcolor\": \"#E5ECF6\", \"showlakes\": true, \"showland\": true, \"subunitcolor\": \"white\"}, \"hoverlabel\": {\"align\": \"left\"}, \"hovermode\": \"closest\", \"mapbox\": {\"style\": \"light\"}, \"paper_bgcolor\": \"white\", \"plot_bgcolor\": \"#E5ECF6\", \"polar\": {\"angularaxis\": {\"gridcolor\": \"white\", \"linecolor\": \"white\", \"ticks\": \"\"}, \"bgcolor\": \"#E5ECF6\", \"radialaxis\": {\"gridcolor\": \"white\", \"linecolor\": \"white\", \"ticks\": \"\"}}, \"scene\": {\"xaxis\": {\"backgroundcolor\": \"#E5ECF6\", \"gridcolor\": \"white\", \"gridwidth\": 2, \"linecolor\": \"white\", \"showbackground\": true, \"ticks\": \"\", \"zerolinecolor\": \"white\"}, \"yaxis\": {\"backgroundcolor\": \"#E5ECF6\", \"gridcolor\": \"white\", \"gridwidth\": 2, \"linecolor\": \"white\", \"showbackground\": true, \"ticks\": \"\", \"zerolinecolor\": \"white\"}, \"zaxis\": {\"backgroundcolor\": \"#E5ECF6\", \"gridcolor\": \"white\", \"gridwidth\": 2, \"linecolor\": \"white\", \"showbackground\": true, \"ticks\": \"\", \"zerolinecolor\": \"white\"}}, \"shapedefaults\": {\"line\": {\"color\": \"#2a3f5f\"}}, \"ternary\": {\"aaxis\": {\"gridcolor\": \"white\", \"linecolor\": \"white\", \"ticks\": \"\"}, \"baxis\": {\"gridcolor\": \"white\", \"linecolor\": \"white\", \"ticks\": \"\"}, \"bgcolor\": \"#E5ECF6\", \"caxis\": {\"gridcolor\": \"white\", \"linecolor\": \"white\", \"ticks\": \"\"}}, \"title\": {\"x\": 0.05}, \"xaxis\": {\"automargin\": true, \"gridcolor\": \"white\", \"linecolor\": \"white\", \"ticks\": \"\", \"title\": {\"standoff\": 15}, \"zerolinecolor\": \"white\", \"zerolinewidth\": 2}, \"yaxis\": {\"automargin\": true, \"gridcolor\": \"white\", \"linecolor\": \"white\", \"ticks\": \"\", \"title\": {\"standoff\": 15}, \"zerolinecolor\": \"white\", \"zerolinewidth\": 2}}}, \"title\": {\"font\": {\"color\": \"#4D5663\"}}, \"xaxis\": {\"gridcolor\": \"#E1E5ED\", \"showgrid\": true, \"tickfont\": {\"color\": \"#4D5663\"}, \"title\": {\"font\": {\"color\": \"#4D5663\"}, \"text\": \"\"}, \"zerolinecolor\": \"#E1E5ED\"}, \"yaxis\": {\"gridcolor\": \"#E1E5ED\", \"showgrid\": true, \"tickfont\": {\"color\": \"#4D5663\"}, \"title\": {\"font\": {\"color\": \"#4D5663\"}, \"text\": \"\"}, \"zerolinecolor\": \"#E1E5ED\"}},                        {\"showLink\": true, \"linkText\": \"Export to plot.ly\", \"plotlyServerURL\": \"https://plot.ly\", \"responsive\": true}                    ).then(function(){\n",
       "                            \n",
       "var gd = document.getElementById('24ed1a75-0716-475d-b152-c85a7c3bd482');\n",
       "var x = new MutationObserver(function (mutations, observer) {{\n",
       "        var display = window.getComputedStyle(gd).display;\n",
       "        if (!display || display === 'none') {{\n",
       "            console.log([gd, 'removed!']);\n",
       "            Plotly.purge(gd);\n",
       "            observer.disconnect();\n",
       "        }}\n",
       "}});\n",
       "\n",
       "// Listen for the removal of the full notebook cells\n",
       "var notebookContainer = gd.closest('#notebook-container');\n",
       "if (notebookContainer) {{\n",
       "    x.observe(notebookContainer, {childList: true});\n",
       "}}\n",
       "\n",
       "// Listen for the clearing of the current output cell\n",
       "var outputEl = gd.closest('.output');\n",
       "if (outputEl) {{\n",
       "    x.observe(outputEl, {childList: true});\n",
       "}}\n",
       "\n",
       "                        })                };                });            </script>        </div>"
      ]
     },
     "metadata": {},
     "output_type": "display_data"
    }
   ],
   "source": [
    "df.count().iplot(kind='bar')"
   ]
  },
  {
   "cell_type": "markdown",
   "metadata": {},
   "source": [
    "## Boxplots"
   ]
  },
  {
   "cell_type": "code",
   "execution_count": 34,
   "metadata": {},
   "outputs": [
    {
     "data": {
      "application/vnd.plotly.v1+json": {
       "config": {
        "linkText": "Export to plot.ly",
        "plotlyServerURL": "https://plot.ly",
        "showLink": true
       },
       "data": [
        {
         "boxpoints": false,
         "line": {
          "width": 1.3
         },
         "marker": {
          "color": "rgba(255, 153, 51, 1.0)"
         },
         "name": "A",
         "orientation": "v",
         "type": "box",
         "y": [
          -0.7847662484388648,
          0.5887290310128517,
          -0.5514071090214487,
          0.08840812267345483,
          -0.957132276940948,
          -0.1747201870186245,
          -0.775383100878524,
          0.4945756457748739,
          -0.45784395724355104,
          -0.7299542464491161,
          2.120508885901264,
          -2.2347271889052647,
          -0.216174711781822,
          -2.846486640307819,
          -0.5216053610061037,
          1.0601574186659917,
          -0.3979067592077603,
          1.8802233263322539,
          1.203817333279283,
          -0.8843606774688277,
          1.03031872907569,
          -0.4257523627376736,
          0.8729366328539484,
          0.7015791574627109,
          -0.38686542056186624,
          0.8413262603687331,
          0.05399293108518775,
          0.043179544666969855,
          -2.9220805766557323,
          0.08340038015300334,
          3.5137406018102793,
          0.06710822950599729,
          -0.8317463668012348,
          0.11787537086880737,
          -0.40091873975019443,
          -0.647274188279839,
          -1.2526617333340366,
          0.06122457684630888,
          -0.1444120037528103,
          -0.7903713996915007,
          -0.1232958328995701,
          1.026244203860463,
          0.24784413058545027,
          0.07654902167655836,
          0.6316802536407472,
          -1.3413050172070276,
          -1.4416712533630667,
          -0.10415219238574984,
          0.20676801944816472,
          -0.8887833483806576,
          -0.18089986860947765,
          -1.1791549223426931,
          0.8841397805651795,
          0.5430023355298771,
          -0.9259578970567877,
          0.6119061006624439,
          0.574018323672333,
          1.3093577253163893,
          0.5563033371402298,
          1.8136943649705675,
          -0.6442541240275126,
          2.0713926711402553,
          -1.0477806925379496,
          -1.2191288405576126,
          0.46833740043259986,
          -0.2272374953217602,
          -0.48093633214803955,
          0.9640139774346485,
          0.2698896656277988,
          0.08284925087705126,
          0.4891500704201871,
          0.740009758283557,
          -0.9394610595033338,
          1.0125457768568211,
          -0.6380799097814033,
          -0.532143093193377,
          0.7800276603962227,
          -0.6985563151031897,
          -0.9621143302322339,
          -0.6193184582765459,
          0.9043920195398775,
          -1.4522395983454406,
          -0.4893232211608719,
          -0.2642170873783527,
          0.8316859700169948,
          1.2489509315576732,
          -0.405229252832221,
          -0.3993210218041567,
          0.6301892319317067,
          -2.032615377066661,
          -0.2978316144783474,
          -0.7430723467788538,
          -0.05140898799930743,
          -1.6170545960302538,
          -0.04932390232689837,
          -0.8155700860817712,
          -1.7788024582795317,
          -1.6174420443715154,
          0.11267862990631071,
          1.2787293893763918
         ]
        },
        {
         "boxpoints": false,
         "line": {
          "width": 1.3
         },
         "marker": {
          "color": "rgba(55, 128, 191, 1.0)"
         },
         "name": "B",
         "orientation": "v",
         "type": "box",
         "y": [
          0.5572145425894736,
          -0.45504520577696367,
          0.4397244784970589,
          -0.2763388377694911,
          -0.08571023954655589,
          -1.6755292215779456,
          -1.8334924719643624,
          -0.660543388652614,
          0.7078090548539063,
          -0.30404582808658714,
          0.7983154440193301,
          0.6389687724326867,
          -1.8050197876858236,
          -0.4025794005207336,
          0.3704656336659906,
          -0.747624783090879,
          -0.4392091376941933,
          -0.33047162205148,
          -0.1364354262968888,
          -0.8633476502974338,
          -0.16814011189850314,
          -1.4696332886345858,
          0.1585322391907727,
          -2.418076999992624,
          0.6622146788284973,
          0.8721367999555061,
          -1.25976348157494,
          1.8348088004628051,
          0.47688346565844086,
          0.14213908096085381,
          -1.8637299698264642,
          0.18280931235672152,
          1.2439722521750312,
          -0.3733871869316914,
          -2.1740967689550086,
          -0.15732638770451998,
          0.0633022732022018,
          -0.7790326367796533,
          -0.24491703017219643,
          0.5040191789600832,
          -0.9515995713121651,
          -0.8414065588473638,
          0.5955986478906864,
          0.7154922596789571,
          -0.0540021267028095,
          -0.045508513386948043,
          0.6119646956030508,
          1.1102705897798857,
          0.19750938669276072,
          -1.0931085199143398,
          -0.6088374888059043,
          0.879357016729816,
          -1.0545177862425543,
          -1.0615585452683487,
          -0.3395286389548686,
          0.9167954596280192,
          0.3056287217220758,
          1.1897269806627724,
          -0.5785892939226185,
          1.1882930981736926,
          -1.9453934420960646,
          0.40404565925308905,
          -0.47793302435649154,
          0.9554348023325204,
          -0.12910337890098902,
          -0.011338204028426009,
          -1.2864013072197011,
          1.9501586903960613,
          0.18449132473611274,
          -1.352778989230137,
          0.8139484363174008,
          -0.282173902035499,
          0.055616892028192616,
          1.1233026493199727,
          -0.06175109687338001,
          2.6230381340766007,
          -0.5766957704909688,
          -0.7597006964718782,
          -0.3769501067141862,
          -0.1760010222169406,
          2.688186774678746,
          -2.3362883690467933,
          -0.00034980439845702736,
          -0.3079688557143545,
          -0.4116002100009419,
          0.5599206118343988,
          0.16222988523787568,
          -0.3746644731060114,
          1.3783064233466986,
          -0.28963624409219874,
          0.48917493779357635,
          0.84254699744496,
          -0.16749916523803782,
          -0.44959956190182654,
          0.5678994707214291,
          0.05294747982035926,
          -0.5544304088936962,
          -0.41553679147877703,
          -1.9093260964550836,
          -0.11837954489758033
         ]
        },
        {
         "boxpoints": false,
         "line": {
          "width": 1.3
         },
         "marker": {
          "color": "rgba(50, 171, 96, 1.0)"
         },
         "name": "C",
         "orientation": "v",
         "type": "box",
         "y": [
          -0.8455490038100929,
          -0.48454338439593486,
          0.02742728679775391,
          -1.321577142465884,
          0.22034173887314507,
          -2.093631831489845,
          1.6375593956971584,
          -1.1277801936235505,
          0.3825700052350184,
          1.8822973419146725,
          -0.39605151558761664,
          0.02557761876486907,
          -0.4001338463321016,
          -0.5476109604279163,
          1.0000540287182,
          1.3809141250288433,
          1.3559001306200087,
          -0.537461808418586,
          1.9764025692250418,
          -0.5450285848233788,
          -0.8184105442459356,
          0.9660172851223123,
          0.04360607110929835,
          0.6555413572469578,
          0.6478938871416958,
          0.8232634438410178,
          0.360630010432651,
          -1.666274007640765,
          1.2420290975760535,
          -0.427908886341726,
          0.6953509714286061,
          0.22873233028397466,
          2.5809679815426256,
          -0.647901182200101,
          1.161375338165576,
          0.9335962221008012,
          1.6328807925024402,
          -0.3374022029089827,
          -1.769585792875065,
          0.7824251490555052,
          -0.45802641924446996,
          0.5068791824566319,
          0.5275133432840038,
          0.9511672102602415,
          -0.7625223505564455,
          -2.410741386351486,
          -0.507924546178929,
          -1.4675375868347356,
          -0.27459017964509824,
          -0.03113635927484934,
          0.7391712376475289,
          0.2970522520979106,
          2.4314459346924906,
          -1.1951128713298187,
          -0.12754852794758628,
          0.3815298036628025,
          -0.27579117180706453,
          -1.1895175411507892,
          0.4685399709554705,
          -0.5370305241661832,
          -0.01690455876988005,
          -0.3187115873922865,
          0.5699447190004894,
          0.542856573551537,
          0.4170790196748748,
          1.119691957283167,
          0.48628227147625475,
          -0.35947513245747564,
          -0.756552382995433,
          -2.221532168108824,
          0.6100525508901942,
          1.0174467014168214,
          -0.5054489385179858,
          -0.358152743368648,
          -2.4109117440282226,
          0.8132654839817042,
          -0.9469437587689875,
          -0.1966778287985121,
          2.5269418651932893,
          -1.2597415003789403,
          1.0758341992422267,
          -0.7069671472601676,
          -0.7806185238327553,
          -0.13686197245146764,
          0.5951662456417477,
          0.8120653119290981,
          -0.22037037970159096,
          1.8292113959816145,
          -0.7655358365700549,
          -1.9760962864906375,
          -0.44449561619815775,
          -2.8920929220710625,
          -0.1533771025874444,
          0.4240708871637344,
          0.5940992720388655,
          -0.3215738488582108,
          -1.1603659418850012,
          -1.1820523847755509,
          -2.8783077551045917,
          -0.679565466604065
         ]
        },
        {
         "boxpoints": false,
         "line": {
          "width": 1.3
         },
         "marker": {
          "color": "rgba(128, 0, 128, 1.0)"
         },
         "name": "D",
         "orientation": "v",
         "type": "box",
         "y": [
          0.6723335848503301,
          1.101801859179172,
          0.7357435490315392,
          -1.2280625297956265,
          -0.44005532138364406,
          -0.16803502433740874,
          0.17351548394524194,
          -0.10633243490621885,
          0.7743910025386193,
          -1.4194451682443574,
          -0.10468995990216429,
          -1.0228073917500156,
          -1.5110864981774574,
          0.46774634637526913,
          -0.029036546764236424,
          2.257282303524755,
          -0.8534145035587284,
          -0.151571239746341,
          0.05571582131259527,
          0.7206600435884811,
          -0.11948099341997853,
          -0.04046681797066169,
          -2.1807707019167184,
          1.9278107411174663,
          -0.34345869873683005,
          -0.8830041256269417,
          -0.30625062177685547,
          -0.9700713583349314,
          -0.6761901851859845,
          2.0776298353366585,
          -0.6253688610172123,
          -3.4795102633333856,
          -0.49202318052004884,
          -0.6728050067233378,
          0.443847461494667,
          0.03756168972114086,
          2.026266202989236,
          -1.2829151383801376,
          -0.8877238787364174,
          -0.8269487791154158,
          0.8501296371411101,
          -0.4911038405418345,
          -0.4117073853202939,
          0.4508464892954036,
          -0.8011710991782471,
          0.23456400954708972,
          1.21979461080376,
          0.2705423336947931,
          -1.3749472636666433,
          -1.6443155450305198,
          -0.5901230324312452,
          -2.601359374010863,
          0.006956209350416803,
          0.35144868243848426,
          -0.5922937276979022,
          -0.415220928358183,
          -1.1478057759321942,
          0.240849997002987,
          0.39133678982290127,
          0.2812337799478269,
          -0.6061286804849573,
          0.6040571617321238,
          -0.65902589422123,
          0.5803167796163067,
          -2.0540546419731345,
          0.6805207680795181,
          0.18160651808373954,
          -0.5703572679097334,
          -0.05714329407579369,
          -0.40012661552664086,
          0.13796214865742956,
          1.0912609384875758,
          -0.5356081456092818,
          -0.26873089340455436,
          -0.4614811846134316,
          -0.09699149677595723,
          1.6269235472311914,
          0.21715869422828132,
          2.2500908709008414,
          0.943691136337086,
          0.2853156660825992,
          0.4646533381244412,
          -1.4264389756739138,
          -0.6198502359995962,
          0.5971836768817488,
          -0.25558068329428535,
          0.9978931730834676,
          -0.4116200673653917,
          -0.6004733877734261,
          -2.407506367171087,
          -1.7368375573647012,
          -0.3682387015220804,
          -2.377384140524957,
          1.018779544514356,
          -0.3335752771203218,
          0.16240182735686323,
          -1.2189955901752059,
          -0.7814894449663207,
          -0.5443515871725954,
          -0.7259076273739898
         ]
        }
       ],
       "layout": {
        "legend": {
         "bgcolor": "#F5F6F9",
         "font": {
          "color": "#4D5663"
         }
        },
        "paper_bgcolor": "#F5F6F9",
        "plot_bgcolor": "#F5F6F9",
        "template": {
         "data": {
          "bar": [
           {
            "error_x": {
             "color": "#2a3f5f"
            },
            "error_y": {
             "color": "#2a3f5f"
            },
            "marker": {
             "line": {
              "color": "#E5ECF6",
              "width": 0.5
             }
            },
            "type": "bar"
           }
          ],
          "barpolar": [
           {
            "marker": {
             "line": {
              "color": "#E5ECF6",
              "width": 0.5
             }
            },
            "type": "barpolar"
           }
          ],
          "carpet": [
           {
            "aaxis": {
             "endlinecolor": "#2a3f5f",
             "gridcolor": "white",
             "linecolor": "white",
             "minorgridcolor": "white",
             "startlinecolor": "#2a3f5f"
            },
            "baxis": {
             "endlinecolor": "#2a3f5f",
             "gridcolor": "white",
             "linecolor": "white",
             "minorgridcolor": "white",
             "startlinecolor": "#2a3f5f"
            },
            "type": "carpet"
           }
          ],
          "choropleth": [
           {
            "colorbar": {
             "outlinewidth": 0,
             "ticks": ""
            },
            "type": "choropleth"
           }
          ],
          "contour": [
           {
            "colorbar": {
             "outlinewidth": 0,
             "ticks": ""
            },
            "colorscale": [
             [
              0,
              "#0d0887"
             ],
             [
              0.1111111111111111,
              "#46039f"
             ],
             [
              0.2222222222222222,
              "#7201a8"
             ],
             [
              0.3333333333333333,
              "#9c179e"
             ],
             [
              0.4444444444444444,
              "#bd3786"
             ],
             [
              0.5555555555555556,
              "#d8576b"
             ],
             [
              0.6666666666666666,
              "#ed7953"
             ],
             [
              0.7777777777777778,
              "#fb9f3a"
             ],
             [
              0.8888888888888888,
              "#fdca26"
             ],
             [
              1,
              "#f0f921"
             ]
            ],
            "type": "contour"
           }
          ],
          "contourcarpet": [
           {
            "colorbar": {
             "outlinewidth": 0,
             "ticks": ""
            },
            "type": "contourcarpet"
           }
          ],
          "heatmap": [
           {
            "colorbar": {
             "outlinewidth": 0,
             "ticks": ""
            },
            "colorscale": [
             [
              0,
              "#0d0887"
             ],
             [
              0.1111111111111111,
              "#46039f"
             ],
             [
              0.2222222222222222,
              "#7201a8"
             ],
             [
              0.3333333333333333,
              "#9c179e"
             ],
             [
              0.4444444444444444,
              "#bd3786"
             ],
             [
              0.5555555555555556,
              "#d8576b"
             ],
             [
              0.6666666666666666,
              "#ed7953"
             ],
             [
              0.7777777777777778,
              "#fb9f3a"
             ],
             [
              0.8888888888888888,
              "#fdca26"
             ],
             [
              1,
              "#f0f921"
             ]
            ],
            "type": "heatmap"
           }
          ],
          "heatmapgl": [
           {
            "colorbar": {
             "outlinewidth": 0,
             "ticks": ""
            },
            "colorscale": [
             [
              0,
              "#0d0887"
             ],
             [
              0.1111111111111111,
              "#46039f"
             ],
             [
              0.2222222222222222,
              "#7201a8"
             ],
             [
              0.3333333333333333,
              "#9c179e"
             ],
             [
              0.4444444444444444,
              "#bd3786"
             ],
             [
              0.5555555555555556,
              "#d8576b"
             ],
             [
              0.6666666666666666,
              "#ed7953"
             ],
             [
              0.7777777777777778,
              "#fb9f3a"
             ],
             [
              0.8888888888888888,
              "#fdca26"
             ],
             [
              1,
              "#f0f921"
             ]
            ],
            "type": "heatmapgl"
           }
          ],
          "histogram": [
           {
            "marker": {
             "colorbar": {
              "outlinewidth": 0,
              "ticks": ""
             }
            },
            "type": "histogram"
           }
          ],
          "histogram2d": [
           {
            "colorbar": {
             "outlinewidth": 0,
             "ticks": ""
            },
            "colorscale": [
             [
              0,
              "#0d0887"
             ],
             [
              0.1111111111111111,
              "#46039f"
             ],
             [
              0.2222222222222222,
              "#7201a8"
             ],
             [
              0.3333333333333333,
              "#9c179e"
             ],
             [
              0.4444444444444444,
              "#bd3786"
             ],
             [
              0.5555555555555556,
              "#d8576b"
             ],
             [
              0.6666666666666666,
              "#ed7953"
             ],
             [
              0.7777777777777778,
              "#fb9f3a"
             ],
             [
              0.8888888888888888,
              "#fdca26"
             ],
             [
              1,
              "#f0f921"
             ]
            ],
            "type": "histogram2d"
           }
          ],
          "histogram2dcontour": [
           {
            "colorbar": {
             "outlinewidth": 0,
             "ticks": ""
            },
            "colorscale": [
             [
              0,
              "#0d0887"
             ],
             [
              0.1111111111111111,
              "#46039f"
             ],
             [
              0.2222222222222222,
              "#7201a8"
             ],
             [
              0.3333333333333333,
              "#9c179e"
             ],
             [
              0.4444444444444444,
              "#bd3786"
             ],
             [
              0.5555555555555556,
              "#d8576b"
             ],
             [
              0.6666666666666666,
              "#ed7953"
             ],
             [
              0.7777777777777778,
              "#fb9f3a"
             ],
             [
              0.8888888888888888,
              "#fdca26"
             ],
             [
              1,
              "#f0f921"
             ]
            ],
            "type": "histogram2dcontour"
           }
          ],
          "mesh3d": [
           {
            "colorbar": {
             "outlinewidth": 0,
             "ticks": ""
            },
            "type": "mesh3d"
           }
          ],
          "parcoords": [
           {
            "line": {
             "colorbar": {
              "outlinewidth": 0,
              "ticks": ""
             }
            },
            "type": "parcoords"
           }
          ],
          "pie": [
           {
            "automargin": true,
            "type": "pie"
           }
          ],
          "scatter": [
           {
            "marker": {
             "colorbar": {
              "outlinewidth": 0,
              "ticks": ""
             }
            },
            "type": "scatter"
           }
          ],
          "scatter3d": [
           {
            "line": {
             "colorbar": {
              "outlinewidth": 0,
              "ticks": ""
             }
            },
            "marker": {
             "colorbar": {
              "outlinewidth": 0,
              "ticks": ""
             }
            },
            "type": "scatter3d"
           }
          ],
          "scattercarpet": [
           {
            "marker": {
             "colorbar": {
              "outlinewidth": 0,
              "ticks": ""
             }
            },
            "type": "scattercarpet"
           }
          ],
          "scattergeo": [
           {
            "marker": {
             "colorbar": {
              "outlinewidth": 0,
              "ticks": ""
             }
            },
            "type": "scattergeo"
           }
          ],
          "scattergl": [
           {
            "marker": {
             "colorbar": {
              "outlinewidth": 0,
              "ticks": ""
             }
            },
            "type": "scattergl"
           }
          ],
          "scattermapbox": [
           {
            "marker": {
             "colorbar": {
              "outlinewidth": 0,
              "ticks": ""
             }
            },
            "type": "scattermapbox"
           }
          ],
          "scatterpolar": [
           {
            "marker": {
             "colorbar": {
              "outlinewidth": 0,
              "ticks": ""
             }
            },
            "type": "scatterpolar"
           }
          ],
          "scatterpolargl": [
           {
            "marker": {
             "colorbar": {
              "outlinewidth": 0,
              "ticks": ""
             }
            },
            "type": "scatterpolargl"
           }
          ],
          "scatterternary": [
           {
            "marker": {
             "colorbar": {
              "outlinewidth": 0,
              "ticks": ""
             }
            },
            "type": "scatterternary"
           }
          ],
          "surface": [
           {
            "colorbar": {
             "outlinewidth": 0,
             "ticks": ""
            },
            "colorscale": [
             [
              0,
              "#0d0887"
             ],
             [
              0.1111111111111111,
              "#46039f"
             ],
             [
              0.2222222222222222,
              "#7201a8"
             ],
             [
              0.3333333333333333,
              "#9c179e"
             ],
             [
              0.4444444444444444,
              "#bd3786"
             ],
             [
              0.5555555555555556,
              "#d8576b"
             ],
             [
              0.6666666666666666,
              "#ed7953"
             ],
             [
              0.7777777777777778,
              "#fb9f3a"
             ],
             [
              0.8888888888888888,
              "#fdca26"
             ],
             [
              1,
              "#f0f921"
             ]
            ],
            "type": "surface"
           }
          ],
          "table": [
           {
            "cells": {
             "fill": {
              "color": "#EBF0F8"
             },
             "line": {
              "color": "white"
             }
            },
            "header": {
             "fill": {
              "color": "#C8D4E3"
             },
             "line": {
              "color": "white"
             }
            },
            "type": "table"
           }
          ]
         },
         "layout": {
          "annotationdefaults": {
           "arrowcolor": "#2a3f5f",
           "arrowhead": 0,
           "arrowwidth": 1
          },
          "autotypenumbers": "strict",
          "coloraxis": {
           "colorbar": {
            "outlinewidth": 0,
            "ticks": ""
           }
          },
          "colorscale": {
           "diverging": [
            [
             0,
             "#8e0152"
            ],
            [
             0.1,
             "#c51b7d"
            ],
            [
             0.2,
             "#de77ae"
            ],
            [
             0.3,
             "#f1b6da"
            ],
            [
             0.4,
             "#fde0ef"
            ],
            [
             0.5,
             "#f7f7f7"
            ],
            [
             0.6,
             "#e6f5d0"
            ],
            [
             0.7,
             "#b8e186"
            ],
            [
             0.8,
             "#7fbc41"
            ],
            [
             0.9,
             "#4d9221"
            ],
            [
             1,
             "#276419"
            ]
           ],
           "sequential": [
            [
             0,
             "#0d0887"
            ],
            [
             0.1111111111111111,
             "#46039f"
            ],
            [
             0.2222222222222222,
             "#7201a8"
            ],
            [
             0.3333333333333333,
             "#9c179e"
            ],
            [
             0.4444444444444444,
             "#bd3786"
            ],
            [
             0.5555555555555556,
             "#d8576b"
            ],
            [
             0.6666666666666666,
             "#ed7953"
            ],
            [
             0.7777777777777778,
             "#fb9f3a"
            ],
            [
             0.8888888888888888,
             "#fdca26"
            ],
            [
             1,
             "#f0f921"
            ]
           ],
           "sequentialminus": [
            [
             0,
             "#0d0887"
            ],
            [
             0.1111111111111111,
             "#46039f"
            ],
            [
             0.2222222222222222,
             "#7201a8"
            ],
            [
             0.3333333333333333,
             "#9c179e"
            ],
            [
             0.4444444444444444,
             "#bd3786"
            ],
            [
             0.5555555555555556,
             "#d8576b"
            ],
            [
             0.6666666666666666,
             "#ed7953"
            ],
            [
             0.7777777777777778,
             "#fb9f3a"
            ],
            [
             0.8888888888888888,
             "#fdca26"
            ],
            [
             1,
             "#f0f921"
            ]
           ]
          },
          "colorway": [
           "#636efa",
           "#EF553B",
           "#00cc96",
           "#ab63fa",
           "#FFA15A",
           "#19d3f3",
           "#FF6692",
           "#B6E880",
           "#FF97FF",
           "#FECB52"
          ],
          "font": {
           "color": "#2a3f5f"
          },
          "geo": {
           "bgcolor": "white",
           "lakecolor": "white",
           "landcolor": "#E5ECF6",
           "showlakes": true,
           "showland": true,
           "subunitcolor": "white"
          },
          "hoverlabel": {
           "align": "left"
          },
          "hovermode": "closest",
          "mapbox": {
           "style": "light"
          },
          "paper_bgcolor": "white",
          "plot_bgcolor": "#E5ECF6",
          "polar": {
           "angularaxis": {
            "gridcolor": "white",
            "linecolor": "white",
            "ticks": ""
           },
           "bgcolor": "#E5ECF6",
           "radialaxis": {
            "gridcolor": "white",
            "linecolor": "white",
            "ticks": ""
           }
          },
          "scene": {
           "xaxis": {
            "backgroundcolor": "#E5ECF6",
            "gridcolor": "white",
            "gridwidth": 2,
            "linecolor": "white",
            "showbackground": true,
            "ticks": "",
            "zerolinecolor": "white"
           },
           "yaxis": {
            "backgroundcolor": "#E5ECF6",
            "gridcolor": "white",
            "gridwidth": 2,
            "linecolor": "white",
            "showbackground": true,
            "ticks": "",
            "zerolinecolor": "white"
           },
           "zaxis": {
            "backgroundcolor": "#E5ECF6",
            "gridcolor": "white",
            "gridwidth": 2,
            "linecolor": "white",
            "showbackground": true,
            "ticks": "",
            "zerolinecolor": "white"
           }
          },
          "shapedefaults": {
           "line": {
            "color": "#2a3f5f"
           }
          },
          "ternary": {
           "aaxis": {
            "gridcolor": "white",
            "linecolor": "white",
            "ticks": ""
           },
           "baxis": {
            "gridcolor": "white",
            "linecolor": "white",
            "ticks": ""
           },
           "bgcolor": "#E5ECF6",
           "caxis": {
            "gridcolor": "white",
            "linecolor": "white",
            "ticks": ""
           }
          },
          "title": {
           "x": 0.05
          },
          "xaxis": {
           "automargin": true,
           "gridcolor": "white",
           "linecolor": "white",
           "ticks": "",
           "title": {
            "standoff": 15
           },
           "zerolinecolor": "white",
           "zerolinewidth": 2
          },
          "yaxis": {
           "automargin": true,
           "gridcolor": "white",
           "linecolor": "white",
           "ticks": "",
           "title": {
            "standoff": 15
           },
           "zerolinecolor": "white",
           "zerolinewidth": 2
          }
         }
        },
        "title": {
         "font": {
          "color": "#4D5663"
         }
        },
        "xaxis": {
         "gridcolor": "#E1E5ED",
         "showgrid": true,
         "tickfont": {
          "color": "#4D5663"
         },
         "title": {
          "font": {
           "color": "#4D5663"
          },
          "text": ""
         },
         "zerolinecolor": "#E1E5ED"
        },
        "yaxis": {
         "gridcolor": "#E1E5ED",
         "showgrid": true,
         "tickfont": {
          "color": "#4D5663"
         },
         "title": {
          "font": {
           "color": "#4D5663"
          },
          "text": ""
         },
         "zerolinecolor": "#E1E5ED"
        }
       }
      },
      "text/html": [
       "<div>                            <div id=\"8095cdbf-52f2-42a7-bc9f-afab2b9d87bb\" class=\"plotly-graph-div\" style=\"height:525px; width:100%;\"></div>            <script type=\"text/javascript\">                require([\"plotly\"], function(Plotly) {                    window.PLOTLYENV=window.PLOTLYENV || {};\n",
       "                    window.PLOTLYENV.BASE_URL='https://plot.ly';                                    if (document.getElementById(\"8095cdbf-52f2-42a7-bc9f-afab2b9d87bb\")) {                    Plotly.newPlot(                        \"8095cdbf-52f2-42a7-bc9f-afab2b9d87bb\",                        [{\"boxpoints\": false, \"line\": {\"width\": 1.3}, \"marker\": {\"color\": \"rgba(255, 153, 51, 1.0)\"}, \"name\": \"A\", \"orientation\": \"v\", \"type\": \"box\", \"y\": [-0.7847662484388648, 0.5887290310128517, -0.5514071090214487, 0.08840812267345483, -0.957132276940948, -0.1747201870186245, -0.775383100878524, 0.4945756457748739, -0.45784395724355104, -0.7299542464491161, 2.120508885901264, -2.2347271889052647, -0.216174711781822, -2.846486640307819, -0.5216053610061037, 1.0601574186659917, -0.3979067592077603, 1.8802233263322539, 1.203817333279283, -0.8843606774688277, 1.03031872907569, -0.4257523627376736, 0.8729366328539484, 0.7015791574627109, -0.38686542056186624, 0.8413262603687331, 0.05399293108518775, 0.043179544666969855, -2.9220805766557323, 0.08340038015300334, 3.5137406018102793, 0.06710822950599729, -0.8317463668012348, 0.11787537086880737, -0.40091873975019443, -0.647274188279839, -1.2526617333340366, 0.06122457684630888, -0.1444120037528103, -0.7903713996915007, -0.1232958328995701, 1.026244203860463, 0.24784413058545027, 0.07654902167655836, 0.6316802536407472, -1.3413050172070276, -1.4416712533630667, -0.10415219238574984, 0.20676801944816472, -0.8887833483806576, -0.18089986860947765, -1.1791549223426931, 0.8841397805651795, 0.5430023355298771, -0.9259578970567877, 0.6119061006624439, 0.574018323672333, 1.3093577253163893, 0.5563033371402298, 1.8136943649705675, -0.6442541240275126, 2.0713926711402553, -1.0477806925379496, -1.2191288405576126, 0.46833740043259986, -0.2272374953217602, -0.48093633214803955, 0.9640139774346485, 0.2698896656277988, 0.08284925087705126, 0.4891500704201871, 0.740009758283557, -0.9394610595033338, 1.0125457768568211, -0.6380799097814033, -0.532143093193377, 0.7800276603962227, -0.6985563151031897, -0.9621143302322339, -0.6193184582765459, 0.9043920195398775, -1.4522395983454406, -0.4893232211608719, -0.2642170873783527, 0.8316859700169948, 1.2489509315576732, -0.405229252832221, -0.3993210218041567, 0.6301892319317067, -2.032615377066661, -0.2978316144783474, -0.7430723467788538, -0.05140898799930743, -1.6170545960302538, -0.04932390232689837, -0.8155700860817712, -1.7788024582795317, -1.6174420443715154, 0.11267862990631071, 1.2787293893763918]}, {\"boxpoints\": false, \"line\": {\"width\": 1.3}, \"marker\": {\"color\": \"rgba(55, 128, 191, 1.0)\"}, \"name\": \"B\", \"orientation\": \"v\", \"type\": \"box\", \"y\": [0.5572145425894736, -0.45504520577696367, 0.4397244784970589, -0.2763388377694911, -0.08571023954655589, -1.6755292215779456, -1.8334924719643624, -0.660543388652614, 0.7078090548539063, -0.30404582808658714, 0.7983154440193301, 0.6389687724326867, -1.8050197876858236, -0.4025794005207336, 0.3704656336659906, -0.747624783090879, -0.4392091376941933, -0.33047162205148, -0.1364354262968888, -0.8633476502974338, -0.16814011189850314, -1.4696332886345858, 0.1585322391907727, -2.418076999992624, 0.6622146788284973, 0.8721367999555061, -1.25976348157494, 1.8348088004628051, 0.47688346565844086, 0.14213908096085381, -1.8637299698264642, 0.18280931235672152, 1.2439722521750312, -0.3733871869316914, -2.1740967689550086, -0.15732638770451998, 0.0633022732022018, -0.7790326367796533, -0.24491703017219643, 0.5040191789600832, -0.9515995713121651, -0.8414065588473638, 0.5955986478906864, 0.7154922596789571, -0.0540021267028095, -0.045508513386948043, 0.6119646956030508, 1.1102705897798857, 0.19750938669276072, -1.0931085199143398, -0.6088374888059043, 0.879357016729816, -1.0545177862425543, -1.0615585452683487, -0.3395286389548686, 0.9167954596280192, 0.3056287217220758, 1.1897269806627724, -0.5785892939226185, 1.1882930981736926, -1.9453934420960646, 0.40404565925308905, -0.47793302435649154, 0.9554348023325204, -0.12910337890098902, -0.011338204028426009, -1.2864013072197011, 1.9501586903960613, 0.18449132473611274, -1.352778989230137, 0.8139484363174008, -0.282173902035499, 0.055616892028192616, 1.1233026493199727, -0.06175109687338001, 2.6230381340766007, -0.5766957704909688, -0.7597006964718782, -0.3769501067141862, -0.1760010222169406, 2.688186774678746, -2.3362883690467933, -0.00034980439845702736, -0.3079688557143545, -0.4116002100009419, 0.5599206118343988, 0.16222988523787568, -0.3746644731060114, 1.3783064233466986, -0.28963624409219874, 0.48917493779357635, 0.84254699744496, -0.16749916523803782, -0.44959956190182654, 0.5678994707214291, 0.05294747982035926, -0.5544304088936962, -0.41553679147877703, -1.9093260964550836, -0.11837954489758033]}, {\"boxpoints\": false, \"line\": {\"width\": 1.3}, \"marker\": {\"color\": \"rgba(50, 171, 96, 1.0)\"}, \"name\": \"C\", \"orientation\": \"v\", \"type\": \"box\", \"y\": [-0.8455490038100929, -0.48454338439593486, 0.02742728679775391, -1.321577142465884, 0.22034173887314507, -2.093631831489845, 1.6375593956971584, -1.1277801936235505, 0.3825700052350184, 1.8822973419146725, -0.39605151558761664, 0.02557761876486907, -0.4001338463321016, -0.5476109604279163, 1.0000540287182, 1.3809141250288433, 1.3559001306200087, -0.537461808418586, 1.9764025692250418, -0.5450285848233788, -0.8184105442459356, 0.9660172851223123, 0.04360607110929835, 0.6555413572469578, 0.6478938871416958, 0.8232634438410178, 0.360630010432651, -1.666274007640765, 1.2420290975760535, -0.427908886341726, 0.6953509714286061, 0.22873233028397466, 2.5809679815426256, -0.647901182200101, 1.161375338165576, 0.9335962221008012, 1.6328807925024402, -0.3374022029089827, -1.769585792875065, 0.7824251490555052, -0.45802641924446996, 0.5068791824566319, 0.5275133432840038, 0.9511672102602415, -0.7625223505564455, -2.410741386351486, -0.507924546178929, -1.4675375868347356, -0.27459017964509824, -0.03113635927484934, 0.7391712376475289, 0.2970522520979106, 2.4314459346924906, -1.1951128713298187, -0.12754852794758628, 0.3815298036628025, -0.27579117180706453, -1.1895175411507892, 0.4685399709554705, -0.5370305241661832, -0.01690455876988005, -0.3187115873922865, 0.5699447190004894, 0.542856573551537, 0.4170790196748748, 1.119691957283167, 0.48628227147625475, -0.35947513245747564, -0.756552382995433, -2.221532168108824, 0.6100525508901942, 1.0174467014168214, -0.5054489385179858, -0.358152743368648, -2.4109117440282226, 0.8132654839817042, -0.9469437587689875, -0.1966778287985121, 2.5269418651932893, -1.2597415003789403, 1.0758341992422267, -0.7069671472601676, -0.7806185238327553, -0.13686197245146764, 0.5951662456417477, 0.8120653119290981, -0.22037037970159096, 1.8292113959816145, -0.7655358365700549, -1.9760962864906375, -0.44449561619815775, -2.8920929220710625, -0.1533771025874444, 0.4240708871637344, 0.5940992720388655, -0.3215738488582108, -1.1603659418850012, -1.1820523847755509, -2.8783077551045917, -0.679565466604065]}, {\"boxpoints\": false, \"line\": {\"width\": 1.3}, \"marker\": {\"color\": \"rgba(128, 0, 128, 1.0)\"}, \"name\": \"D\", \"orientation\": \"v\", \"type\": \"box\", \"y\": [0.6723335848503301, 1.101801859179172, 0.7357435490315392, -1.2280625297956265, -0.44005532138364406, -0.16803502433740874, 0.17351548394524194, -0.10633243490621885, 0.7743910025386193, -1.4194451682443574, -0.10468995990216429, -1.0228073917500156, -1.5110864981774574, 0.46774634637526913, -0.029036546764236424, 2.257282303524755, -0.8534145035587284, -0.151571239746341, 0.05571582131259527, 0.7206600435884811, -0.11948099341997853, -0.04046681797066169, -2.1807707019167184, 1.9278107411174663, -0.34345869873683005, -0.8830041256269417, -0.30625062177685547, -0.9700713583349314, -0.6761901851859845, 2.0776298353366585, -0.6253688610172123, -3.4795102633333856, -0.49202318052004884, -0.6728050067233378, 0.443847461494667, 0.03756168972114086, 2.026266202989236, -1.2829151383801376, -0.8877238787364174, -0.8269487791154158, 0.8501296371411101, -0.4911038405418345, -0.4117073853202939, 0.4508464892954036, -0.8011710991782471, 0.23456400954708972, 1.21979461080376, 0.2705423336947931, -1.3749472636666433, -1.6443155450305198, -0.5901230324312452, -2.601359374010863, 0.006956209350416803, 0.35144868243848426, -0.5922937276979022, -0.415220928358183, -1.1478057759321942, 0.240849997002987, 0.39133678982290127, 0.2812337799478269, -0.6061286804849573, 0.6040571617321238, -0.65902589422123, 0.5803167796163067, -2.0540546419731345, 0.6805207680795181, 0.18160651808373954, -0.5703572679097334, -0.05714329407579369, -0.40012661552664086, 0.13796214865742956, 1.0912609384875758, -0.5356081456092818, -0.26873089340455436, -0.4614811846134316, -0.09699149677595723, 1.6269235472311914, 0.21715869422828132, 2.2500908709008414, 0.943691136337086, 0.2853156660825992, 0.4646533381244412, -1.4264389756739138, -0.6198502359995962, 0.5971836768817488, -0.25558068329428535, 0.9978931730834676, -0.4116200673653917, -0.6004733877734261, -2.407506367171087, -1.7368375573647012, -0.3682387015220804, -2.377384140524957, 1.018779544514356, -0.3335752771203218, 0.16240182735686323, -1.2189955901752059, -0.7814894449663207, -0.5443515871725954, -0.7259076273739898]}],                        {\"legend\": {\"bgcolor\": \"#F5F6F9\", \"font\": {\"color\": \"#4D5663\"}}, \"paper_bgcolor\": \"#F5F6F9\", \"plot_bgcolor\": \"#F5F6F9\", \"template\": {\"data\": {\"bar\": [{\"error_x\": {\"color\": \"#2a3f5f\"}, \"error_y\": {\"color\": \"#2a3f5f\"}, \"marker\": {\"line\": {\"color\": \"#E5ECF6\", \"width\": 0.5}}, \"type\": \"bar\"}], \"barpolar\": [{\"marker\": {\"line\": {\"color\": \"#E5ECF6\", \"width\": 0.5}}, \"type\": \"barpolar\"}], \"carpet\": [{\"aaxis\": {\"endlinecolor\": \"#2a3f5f\", \"gridcolor\": \"white\", \"linecolor\": \"white\", \"minorgridcolor\": \"white\", \"startlinecolor\": \"#2a3f5f\"}, \"baxis\": {\"endlinecolor\": \"#2a3f5f\", \"gridcolor\": \"white\", \"linecolor\": \"white\", \"minorgridcolor\": \"white\", \"startlinecolor\": \"#2a3f5f\"}, \"type\": \"carpet\"}], \"choropleth\": [{\"colorbar\": {\"outlinewidth\": 0, \"ticks\": \"\"}, \"type\": \"choropleth\"}], \"contour\": [{\"colorbar\": {\"outlinewidth\": 0, \"ticks\": \"\"}, \"colorscale\": [[0.0, \"#0d0887\"], [0.1111111111111111, \"#46039f\"], [0.2222222222222222, \"#7201a8\"], [0.3333333333333333, \"#9c179e\"], [0.4444444444444444, \"#bd3786\"], [0.5555555555555556, \"#d8576b\"], [0.6666666666666666, \"#ed7953\"], [0.7777777777777778, \"#fb9f3a\"], [0.8888888888888888, \"#fdca26\"], [1.0, \"#f0f921\"]], \"type\": \"contour\"}], \"contourcarpet\": [{\"colorbar\": {\"outlinewidth\": 0, \"ticks\": \"\"}, \"type\": \"contourcarpet\"}], \"heatmap\": [{\"colorbar\": {\"outlinewidth\": 0, \"ticks\": \"\"}, \"colorscale\": [[0.0, \"#0d0887\"], [0.1111111111111111, \"#46039f\"], [0.2222222222222222, \"#7201a8\"], [0.3333333333333333, \"#9c179e\"], [0.4444444444444444, \"#bd3786\"], [0.5555555555555556, \"#d8576b\"], [0.6666666666666666, \"#ed7953\"], [0.7777777777777778, \"#fb9f3a\"], [0.8888888888888888, \"#fdca26\"], [1.0, \"#f0f921\"]], \"type\": \"heatmap\"}], \"heatmapgl\": [{\"colorbar\": {\"outlinewidth\": 0, \"ticks\": \"\"}, \"colorscale\": [[0.0, \"#0d0887\"], [0.1111111111111111, \"#46039f\"], [0.2222222222222222, \"#7201a8\"], [0.3333333333333333, \"#9c179e\"], [0.4444444444444444, \"#bd3786\"], [0.5555555555555556, \"#d8576b\"], [0.6666666666666666, \"#ed7953\"], [0.7777777777777778, \"#fb9f3a\"], [0.8888888888888888, \"#fdca26\"], [1.0, \"#f0f921\"]], \"type\": \"heatmapgl\"}], \"histogram\": [{\"marker\": {\"colorbar\": {\"outlinewidth\": 0, \"ticks\": \"\"}}, \"type\": \"histogram\"}], \"histogram2d\": [{\"colorbar\": {\"outlinewidth\": 0, \"ticks\": \"\"}, \"colorscale\": [[0.0, \"#0d0887\"], [0.1111111111111111, \"#46039f\"], [0.2222222222222222, \"#7201a8\"], [0.3333333333333333, \"#9c179e\"], [0.4444444444444444, \"#bd3786\"], [0.5555555555555556, \"#d8576b\"], [0.6666666666666666, \"#ed7953\"], [0.7777777777777778, \"#fb9f3a\"], [0.8888888888888888, \"#fdca26\"], [1.0, \"#f0f921\"]], \"type\": \"histogram2d\"}], \"histogram2dcontour\": [{\"colorbar\": {\"outlinewidth\": 0, \"ticks\": \"\"}, \"colorscale\": [[0.0, \"#0d0887\"], [0.1111111111111111, \"#46039f\"], [0.2222222222222222, \"#7201a8\"], [0.3333333333333333, \"#9c179e\"], [0.4444444444444444, \"#bd3786\"], [0.5555555555555556, \"#d8576b\"], [0.6666666666666666, \"#ed7953\"], [0.7777777777777778, \"#fb9f3a\"], [0.8888888888888888, \"#fdca26\"], [1.0, \"#f0f921\"]], \"type\": \"histogram2dcontour\"}], \"mesh3d\": [{\"colorbar\": {\"outlinewidth\": 0, \"ticks\": \"\"}, \"type\": \"mesh3d\"}], \"parcoords\": [{\"line\": {\"colorbar\": {\"outlinewidth\": 0, \"ticks\": \"\"}}, \"type\": \"parcoords\"}], \"pie\": [{\"automargin\": true, \"type\": \"pie\"}], \"scatter\": [{\"marker\": {\"colorbar\": {\"outlinewidth\": 0, \"ticks\": \"\"}}, \"type\": \"scatter\"}], \"scatter3d\": [{\"line\": {\"colorbar\": {\"outlinewidth\": 0, \"ticks\": \"\"}}, \"marker\": {\"colorbar\": {\"outlinewidth\": 0, \"ticks\": \"\"}}, \"type\": \"scatter3d\"}], \"scattercarpet\": [{\"marker\": {\"colorbar\": {\"outlinewidth\": 0, \"ticks\": \"\"}}, \"type\": \"scattercarpet\"}], \"scattergeo\": [{\"marker\": {\"colorbar\": {\"outlinewidth\": 0, \"ticks\": \"\"}}, \"type\": \"scattergeo\"}], \"scattergl\": [{\"marker\": {\"colorbar\": {\"outlinewidth\": 0, \"ticks\": \"\"}}, \"type\": \"scattergl\"}], \"scattermapbox\": [{\"marker\": {\"colorbar\": {\"outlinewidth\": 0, \"ticks\": \"\"}}, \"type\": \"scattermapbox\"}], \"scatterpolar\": [{\"marker\": {\"colorbar\": {\"outlinewidth\": 0, \"ticks\": \"\"}}, \"type\": \"scatterpolar\"}], \"scatterpolargl\": [{\"marker\": {\"colorbar\": {\"outlinewidth\": 0, \"ticks\": \"\"}}, \"type\": \"scatterpolargl\"}], \"scatterternary\": [{\"marker\": {\"colorbar\": {\"outlinewidth\": 0, \"ticks\": \"\"}}, \"type\": \"scatterternary\"}], \"surface\": [{\"colorbar\": {\"outlinewidth\": 0, \"ticks\": \"\"}, \"colorscale\": [[0.0, \"#0d0887\"], [0.1111111111111111, \"#46039f\"], [0.2222222222222222, \"#7201a8\"], [0.3333333333333333, \"#9c179e\"], [0.4444444444444444, \"#bd3786\"], [0.5555555555555556, \"#d8576b\"], [0.6666666666666666, \"#ed7953\"], [0.7777777777777778, \"#fb9f3a\"], [0.8888888888888888, \"#fdca26\"], [1.0, \"#f0f921\"]], \"type\": \"surface\"}], \"table\": [{\"cells\": {\"fill\": {\"color\": \"#EBF0F8\"}, \"line\": {\"color\": \"white\"}}, \"header\": {\"fill\": {\"color\": \"#C8D4E3\"}, \"line\": {\"color\": \"white\"}}, \"type\": \"table\"}]}, \"layout\": {\"annotationdefaults\": {\"arrowcolor\": \"#2a3f5f\", \"arrowhead\": 0, \"arrowwidth\": 1}, \"autotypenumbers\": \"strict\", \"coloraxis\": {\"colorbar\": {\"outlinewidth\": 0, \"ticks\": \"\"}}, \"colorscale\": {\"diverging\": [[0, \"#8e0152\"], [0.1, \"#c51b7d\"], [0.2, \"#de77ae\"], [0.3, \"#f1b6da\"], [0.4, \"#fde0ef\"], [0.5, \"#f7f7f7\"], [0.6, \"#e6f5d0\"], [0.7, \"#b8e186\"], [0.8, \"#7fbc41\"], [0.9, \"#4d9221\"], [1, \"#276419\"]], \"sequential\": [[0.0, \"#0d0887\"], [0.1111111111111111, \"#46039f\"], [0.2222222222222222, \"#7201a8\"], [0.3333333333333333, \"#9c179e\"], [0.4444444444444444, \"#bd3786\"], [0.5555555555555556, \"#d8576b\"], [0.6666666666666666, \"#ed7953\"], [0.7777777777777778, \"#fb9f3a\"], [0.8888888888888888, \"#fdca26\"], [1.0, \"#f0f921\"]], \"sequentialminus\": [[0.0, \"#0d0887\"], [0.1111111111111111, \"#46039f\"], [0.2222222222222222, \"#7201a8\"], [0.3333333333333333, \"#9c179e\"], [0.4444444444444444, \"#bd3786\"], [0.5555555555555556, \"#d8576b\"], [0.6666666666666666, \"#ed7953\"], [0.7777777777777778, \"#fb9f3a\"], [0.8888888888888888, \"#fdca26\"], [1.0, \"#f0f921\"]]}, \"colorway\": [\"#636efa\", \"#EF553B\", \"#00cc96\", \"#ab63fa\", \"#FFA15A\", \"#19d3f3\", \"#FF6692\", \"#B6E880\", \"#FF97FF\", \"#FECB52\"], \"font\": {\"color\": \"#2a3f5f\"}, \"geo\": {\"bgcolor\": \"white\", \"lakecolor\": \"white\", \"landcolor\": \"#E5ECF6\", \"showlakes\": true, \"showland\": true, \"subunitcolor\": \"white\"}, \"hoverlabel\": {\"align\": \"left\"}, \"hovermode\": \"closest\", \"mapbox\": {\"style\": \"light\"}, \"paper_bgcolor\": \"white\", \"plot_bgcolor\": \"#E5ECF6\", \"polar\": {\"angularaxis\": {\"gridcolor\": \"white\", \"linecolor\": \"white\", \"ticks\": \"\"}, \"bgcolor\": \"#E5ECF6\", \"radialaxis\": {\"gridcolor\": \"white\", \"linecolor\": \"white\", \"ticks\": \"\"}}, \"scene\": {\"xaxis\": {\"backgroundcolor\": \"#E5ECF6\", \"gridcolor\": \"white\", \"gridwidth\": 2, \"linecolor\": \"white\", \"showbackground\": true, \"ticks\": \"\", \"zerolinecolor\": \"white\"}, \"yaxis\": {\"backgroundcolor\": \"#E5ECF6\", \"gridcolor\": \"white\", \"gridwidth\": 2, \"linecolor\": \"white\", \"showbackground\": true, \"ticks\": \"\", \"zerolinecolor\": \"white\"}, \"zaxis\": {\"backgroundcolor\": \"#E5ECF6\", \"gridcolor\": \"white\", \"gridwidth\": 2, \"linecolor\": \"white\", \"showbackground\": true, \"ticks\": \"\", \"zerolinecolor\": \"white\"}}, \"shapedefaults\": {\"line\": {\"color\": \"#2a3f5f\"}}, \"ternary\": {\"aaxis\": {\"gridcolor\": \"white\", \"linecolor\": \"white\", \"ticks\": \"\"}, \"baxis\": {\"gridcolor\": \"white\", \"linecolor\": \"white\", \"ticks\": \"\"}, \"bgcolor\": \"#E5ECF6\", \"caxis\": {\"gridcolor\": \"white\", \"linecolor\": \"white\", \"ticks\": \"\"}}, \"title\": {\"x\": 0.05}, \"xaxis\": {\"automargin\": true, \"gridcolor\": \"white\", \"linecolor\": \"white\", \"ticks\": \"\", \"title\": {\"standoff\": 15}, \"zerolinecolor\": \"white\", \"zerolinewidth\": 2}, \"yaxis\": {\"automargin\": true, \"gridcolor\": \"white\", \"linecolor\": \"white\", \"ticks\": \"\", \"title\": {\"standoff\": 15}, \"zerolinecolor\": \"white\", \"zerolinewidth\": 2}}}, \"title\": {\"font\": {\"color\": \"#4D5663\"}}, \"xaxis\": {\"gridcolor\": \"#E1E5ED\", \"showgrid\": true, \"tickfont\": {\"color\": \"#4D5663\"}, \"title\": {\"font\": {\"color\": \"#4D5663\"}, \"text\": \"\"}, \"zerolinecolor\": \"#E1E5ED\"}, \"yaxis\": {\"gridcolor\": \"#E1E5ED\", \"showgrid\": true, \"tickfont\": {\"color\": \"#4D5663\"}, \"title\": {\"font\": {\"color\": \"#4D5663\"}, \"text\": \"\"}, \"zerolinecolor\": \"#E1E5ED\"}},                        {\"showLink\": true, \"linkText\": \"Export to plot.ly\", \"plotlyServerURL\": \"https://plot.ly\", \"responsive\": true}                    ).then(function(){\n",
       "                            \n",
       "var gd = document.getElementById('8095cdbf-52f2-42a7-bc9f-afab2b9d87bb');\n",
       "var x = new MutationObserver(function (mutations, observer) {{\n",
       "        var display = window.getComputedStyle(gd).display;\n",
       "        if (!display || display === 'none') {{\n",
       "            console.log([gd, 'removed!']);\n",
       "            Plotly.purge(gd);\n",
       "            observer.disconnect();\n",
       "        }}\n",
       "}});\n",
       "\n",
       "// Listen for the removal of the full notebook cells\n",
       "var notebookContainer = gd.closest('#notebook-container');\n",
       "if (notebookContainer) {{\n",
       "    x.observe(notebookContainer, {childList: true});\n",
       "}}\n",
       "\n",
       "// Listen for the clearing of the current output cell\n",
       "var outputEl = gd.closest('.output');\n",
       "if (outputEl) {{\n",
       "    x.observe(outputEl, {childList: true});\n",
       "}}\n",
       "\n",
       "                        })                };                });            </script>        </div>"
      ]
     },
     "metadata": {},
     "output_type": "display_data"
    }
   ],
   "source": [
    "df.iplot(kind='box')"
   ]
  },
  {
   "cell_type": "markdown",
   "metadata": {},
   "source": [
    "## Superficie 3D"
   ]
  },
  {
   "cell_type": "code",
   "execution_count": 12,
   "metadata": {},
   "outputs": [
    {
     "data": {
      "application/vnd.plotly.v1+json": {
       "config": {
        "linkText": "Export to plot.ly",
        "plotlyServerURL": "https://plot.ly",
        "showLink": true
       },
       "data": [
        {
         "colorscale": [
          [
           0,
           "rgb(165,0,38)"
          ],
          [
           0.1,
           "rgb(215,48,39)"
          ],
          [
           0.2,
           "rgb(244,109,67)"
          ],
          [
           0.3,
           "rgb(253,174,97)"
          ],
          [
           0.4,
           "rgb(254,224,144)"
          ],
          [
           0.5,
           "rgb(255,255,191)"
          ],
          [
           0.6,
           "rgb(224,243,248)"
          ],
          [
           0.7,
           "rgb(171,217,233)"
          ],
          [
           0.8,
           "rgb(116,173,209)"
          ],
          [
           0.9,
           "rgb(69,117,180)"
          ],
          [
           1,
           "rgb(49,54,149)"
          ]
         ],
         "type": "surface",
         "x": [
          0,
          1,
          2,
          3,
          4
         ],
         "y": [
          "x",
          "y",
          "z"
         ],
         "z": [
          [
           1,
           2,
           3,
           4,
           5
          ],
          [
           10,
           20,
           30,
           20,
           10
          ],
          [
           5,
           4,
           3,
           2,
           1
          ]
         ]
        }
       ],
       "layout": {
        "legend": {
         "bgcolor": "#F5F6F9",
         "font": {
          "color": "#4D5663"
         }
        },
        "paper_bgcolor": "#F5F6F9",
        "plot_bgcolor": "#F5F6F9",
        "template": {
         "data": {
          "bar": [
           {
            "error_x": {
             "color": "#2a3f5f"
            },
            "error_y": {
             "color": "#2a3f5f"
            },
            "marker": {
             "line": {
              "color": "#E5ECF6",
              "width": 0.5
             },
             "pattern": {
              "fillmode": "overlay",
              "size": 10,
              "solidity": 0.2
             }
            },
            "type": "bar"
           }
          ],
          "barpolar": [
           {
            "marker": {
             "line": {
              "color": "#E5ECF6",
              "width": 0.5
             },
             "pattern": {
              "fillmode": "overlay",
              "size": 10,
              "solidity": 0.2
             }
            },
            "type": "barpolar"
           }
          ],
          "carpet": [
           {
            "aaxis": {
             "endlinecolor": "#2a3f5f",
             "gridcolor": "white",
             "linecolor": "white",
             "minorgridcolor": "white",
             "startlinecolor": "#2a3f5f"
            },
            "baxis": {
             "endlinecolor": "#2a3f5f",
             "gridcolor": "white",
             "linecolor": "white",
             "minorgridcolor": "white",
             "startlinecolor": "#2a3f5f"
            },
            "type": "carpet"
           }
          ],
          "choropleth": [
           {
            "colorbar": {
             "outlinewidth": 0,
             "ticks": ""
            },
            "type": "choropleth"
           }
          ],
          "contour": [
           {
            "colorbar": {
             "outlinewidth": 0,
             "ticks": ""
            },
            "colorscale": [
             [
              0,
              "#0d0887"
             ],
             [
              0.1111111111111111,
              "#46039f"
             ],
             [
              0.2222222222222222,
              "#7201a8"
             ],
             [
              0.3333333333333333,
              "#9c179e"
             ],
             [
              0.4444444444444444,
              "#bd3786"
             ],
             [
              0.5555555555555556,
              "#d8576b"
             ],
             [
              0.6666666666666666,
              "#ed7953"
             ],
             [
              0.7777777777777778,
              "#fb9f3a"
             ],
             [
              0.8888888888888888,
              "#fdca26"
             ],
             [
              1,
              "#f0f921"
             ]
            ],
            "type": "contour"
           }
          ],
          "contourcarpet": [
           {
            "colorbar": {
             "outlinewidth": 0,
             "ticks": ""
            },
            "type": "contourcarpet"
           }
          ],
          "heatmap": [
           {
            "colorbar": {
             "outlinewidth": 0,
             "ticks": ""
            },
            "colorscale": [
             [
              0,
              "#0d0887"
             ],
             [
              0.1111111111111111,
              "#46039f"
             ],
             [
              0.2222222222222222,
              "#7201a8"
             ],
             [
              0.3333333333333333,
              "#9c179e"
             ],
             [
              0.4444444444444444,
              "#bd3786"
             ],
             [
              0.5555555555555556,
              "#d8576b"
             ],
             [
              0.6666666666666666,
              "#ed7953"
             ],
             [
              0.7777777777777778,
              "#fb9f3a"
             ],
             [
              0.8888888888888888,
              "#fdca26"
             ],
             [
              1,
              "#f0f921"
             ]
            ],
            "type": "heatmap"
           }
          ],
          "heatmapgl": [
           {
            "colorbar": {
             "outlinewidth": 0,
             "ticks": ""
            },
            "colorscale": [
             [
              0,
              "#0d0887"
             ],
             [
              0.1111111111111111,
              "#46039f"
             ],
             [
              0.2222222222222222,
              "#7201a8"
             ],
             [
              0.3333333333333333,
              "#9c179e"
             ],
             [
              0.4444444444444444,
              "#bd3786"
             ],
             [
              0.5555555555555556,
              "#d8576b"
             ],
             [
              0.6666666666666666,
              "#ed7953"
             ],
             [
              0.7777777777777778,
              "#fb9f3a"
             ],
             [
              0.8888888888888888,
              "#fdca26"
             ],
             [
              1,
              "#f0f921"
             ]
            ],
            "type": "heatmapgl"
           }
          ],
          "histogram": [
           {
            "marker": {
             "pattern": {
              "fillmode": "overlay",
              "size": 10,
              "solidity": 0.2
             }
            },
            "type": "histogram"
           }
          ],
          "histogram2d": [
           {
            "colorbar": {
             "outlinewidth": 0,
             "ticks": ""
            },
            "colorscale": [
             [
              0,
              "#0d0887"
             ],
             [
              0.1111111111111111,
              "#46039f"
             ],
             [
              0.2222222222222222,
              "#7201a8"
             ],
             [
              0.3333333333333333,
              "#9c179e"
             ],
             [
              0.4444444444444444,
              "#bd3786"
             ],
             [
              0.5555555555555556,
              "#d8576b"
             ],
             [
              0.6666666666666666,
              "#ed7953"
             ],
             [
              0.7777777777777778,
              "#fb9f3a"
             ],
             [
              0.8888888888888888,
              "#fdca26"
             ],
             [
              1,
              "#f0f921"
             ]
            ],
            "type": "histogram2d"
           }
          ],
          "histogram2dcontour": [
           {
            "colorbar": {
             "outlinewidth": 0,
             "ticks": ""
            },
            "colorscale": [
             [
              0,
              "#0d0887"
             ],
             [
              0.1111111111111111,
              "#46039f"
             ],
             [
              0.2222222222222222,
              "#7201a8"
             ],
             [
              0.3333333333333333,
              "#9c179e"
             ],
             [
              0.4444444444444444,
              "#bd3786"
             ],
             [
              0.5555555555555556,
              "#d8576b"
             ],
             [
              0.6666666666666666,
              "#ed7953"
             ],
             [
              0.7777777777777778,
              "#fb9f3a"
             ],
             [
              0.8888888888888888,
              "#fdca26"
             ],
             [
              1,
              "#f0f921"
             ]
            ],
            "type": "histogram2dcontour"
           }
          ],
          "mesh3d": [
           {
            "colorbar": {
             "outlinewidth": 0,
             "ticks": ""
            },
            "type": "mesh3d"
           }
          ],
          "parcoords": [
           {
            "line": {
             "colorbar": {
              "outlinewidth": 0,
              "ticks": ""
             }
            },
            "type": "parcoords"
           }
          ],
          "pie": [
           {
            "automargin": true,
            "type": "pie"
           }
          ],
          "scatter": [
           {
            "fillpattern": {
             "fillmode": "overlay",
             "size": 10,
             "solidity": 0.2
            },
            "type": "scatter"
           }
          ],
          "scatter3d": [
           {
            "line": {
             "colorbar": {
              "outlinewidth": 0,
              "ticks": ""
             }
            },
            "marker": {
             "colorbar": {
              "outlinewidth": 0,
              "ticks": ""
             }
            },
            "type": "scatter3d"
           }
          ],
          "scattercarpet": [
           {
            "marker": {
             "colorbar": {
              "outlinewidth": 0,
              "ticks": ""
             }
            },
            "type": "scattercarpet"
           }
          ],
          "scattergeo": [
           {
            "marker": {
             "colorbar": {
              "outlinewidth": 0,
              "ticks": ""
             }
            },
            "type": "scattergeo"
           }
          ],
          "scattergl": [
           {
            "marker": {
             "colorbar": {
              "outlinewidth": 0,
              "ticks": ""
             }
            },
            "type": "scattergl"
           }
          ],
          "scattermapbox": [
           {
            "marker": {
             "colorbar": {
              "outlinewidth": 0,
              "ticks": ""
             }
            },
            "type": "scattermapbox"
           }
          ],
          "scatterpolar": [
           {
            "marker": {
             "colorbar": {
              "outlinewidth": 0,
              "ticks": ""
             }
            },
            "type": "scatterpolar"
           }
          ],
          "scatterpolargl": [
           {
            "marker": {
             "colorbar": {
              "outlinewidth": 0,
              "ticks": ""
             }
            },
            "type": "scatterpolargl"
           }
          ],
          "scatterternary": [
           {
            "marker": {
             "colorbar": {
              "outlinewidth": 0,
              "ticks": ""
             }
            },
            "type": "scatterternary"
           }
          ],
          "surface": [
           {
            "colorbar": {
             "outlinewidth": 0,
             "ticks": ""
            },
            "colorscale": [
             [
              0,
              "#0d0887"
             ],
             [
              0.1111111111111111,
              "#46039f"
             ],
             [
              0.2222222222222222,
              "#7201a8"
             ],
             [
              0.3333333333333333,
              "#9c179e"
             ],
             [
              0.4444444444444444,
              "#bd3786"
             ],
             [
              0.5555555555555556,
              "#d8576b"
             ],
             [
              0.6666666666666666,
              "#ed7953"
             ],
             [
              0.7777777777777778,
              "#fb9f3a"
             ],
             [
              0.8888888888888888,
              "#fdca26"
             ],
             [
              1,
              "#f0f921"
             ]
            ],
            "type": "surface"
           }
          ],
          "table": [
           {
            "cells": {
             "fill": {
              "color": "#EBF0F8"
             },
             "line": {
              "color": "white"
             }
            },
            "header": {
             "fill": {
              "color": "#C8D4E3"
             },
             "line": {
              "color": "white"
             }
            },
            "type": "table"
           }
          ]
         },
         "layout": {
          "annotationdefaults": {
           "arrowcolor": "#2a3f5f",
           "arrowhead": 0,
           "arrowwidth": 1
          },
          "autotypenumbers": "strict",
          "coloraxis": {
           "colorbar": {
            "outlinewidth": 0,
            "ticks": ""
           }
          },
          "colorscale": {
           "diverging": [
            [
             0,
             "#8e0152"
            ],
            [
             0.1,
             "#c51b7d"
            ],
            [
             0.2,
             "#de77ae"
            ],
            [
             0.3,
             "#f1b6da"
            ],
            [
             0.4,
             "#fde0ef"
            ],
            [
             0.5,
             "#f7f7f7"
            ],
            [
             0.6,
             "#e6f5d0"
            ],
            [
             0.7,
             "#b8e186"
            ],
            [
             0.8,
             "#7fbc41"
            ],
            [
             0.9,
             "#4d9221"
            ],
            [
             1,
             "#276419"
            ]
           ],
           "sequential": [
            [
             0,
             "#0d0887"
            ],
            [
             0.1111111111111111,
             "#46039f"
            ],
            [
             0.2222222222222222,
             "#7201a8"
            ],
            [
             0.3333333333333333,
             "#9c179e"
            ],
            [
             0.4444444444444444,
             "#bd3786"
            ],
            [
             0.5555555555555556,
             "#d8576b"
            ],
            [
             0.6666666666666666,
             "#ed7953"
            ],
            [
             0.7777777777777778,
             "#fb9f3a"
            ],
            [
             0.8888888888888888,
             "#fdca26"
            ],
            [
             1,
             "#f0f921"
            ]
           ],
           "sequentialminus": [
            [
             0,
             "#0d0887"
            ],
            [
             0.1111111111111111,
             "#46039f"
            ],
            [
             0.2222222222222222,
             "#7201a8"
            ],
            [
             0.3333333333333333,
             "#9c179e"
            ],
            [
             0.4444444444444444,
             "#bd3786"
            ],
            [
             0.5555555555555556,
             "#d8576b"
            ],
            [
             0.6666666666666666,
             "#ed7953"
            ],
            [
             0.7777777777777778,
             "#fb9f3a"
            ],
            [
             0.8888888888888888,
             "#fdca26"
            ],
            [
             1,
             "#f0f921"
            ]
           ]
          },
          "colorway": [
           "#636efa",
           "#EF553B",
           "#00cc96",
           "#ab63fa",
           "#FFA15A",
           "#19d3f3",
           "#FF6692",
           "#B6E880",
           "#FF97FF",
           "#FECB52"
          ],
          "font": {
           "color": "#2a3f5f"
          },
          "geo": {
           "bgcolor": "white",
           "lakecolor": "white",
           "landcolor": "#E5ECF6",
           "showlakes": true,
           "showland": true,
           "subunitcolor": "white"
          },
          "hoverlabel": {
           "align": "left"
          },
          "hovermode": "closest",
          "mapbox": {
           "style": "light"
          },
          "paper_bgcolor": "white",
          "plot_bgcolor": "#E5ECF6",
          "polar": {
           "angularaxis": {
            "gridcolor": "white",
            "linecolor": "white",
            "ticks": ""
           },
           "bgcolor": "#E5ECF6",
           "radialaxis": {
            "gridcolor": "white",
            "linecolor": "white",
            "ticks": ""
           }
          },
          "scene": {
           "xaxis": {
            "backgroundcolor": "#E5ECF6",
            "gridcolor": "white",
            "gridwidth": 2,
            "linecolor": "white",
            "showbackground": true,
            "ticks": "",
            "zerolinecolor": "white"
           },
           "yaxis": {
            "backgroundcolor": "#E5ECF6",
            "gridcolor": "white",
            "gridwidth": 2,
            "linecolor": "white",
            "showbackground": true,
            "ticks": "",
            "zerolinecolor": "white"
           },
           "zaxis": {
            "backgroundcolor": "#E5ECF6",
            "gridcolor": "white",
            "gridwidth": 2,
            "linecolor": "white",
            "showbackground": true,
            "ticks": "",
            "zerolinecolor": "white"
           }
          },
          "shapedefaults": {
           "line": {
            "color": "#2a3f5f"
           }
          },
          "ternary": {
           "aaxis": {
            "gridcolor": "white",
            "linecolor": "white",
            "ticks": ""
           },
           "baxis": {
            "gridcolor": "white",
            "linecolor": "white",
            "ticks": ""
           },
           "bgcolor": "#E5ECF6",
           "caxis": {
            "gridcolor": "white",
            "linecolor": "white",
            "ticks": ""
           }
          },
          "title": {
           "x": 0.05
          },
          "xaxis": {
           "automargin": true,
           "gridcolor": "white",
           "linecolor": "white",
           "ticks": "",
           "title": {
            "standoff": 15
           },
           "zerolinecolor": "white",
           "zerolinewidth": 2
          },
          "yaxis": {
           "automargin": true,
           "gridcolor": "white",
           "linecolor": "white",
           "ticks": "",
           "title": {
            "standoff": 15
           },
           "zerolinecolor": "white",
           "zerolinewidth": 2
          }
         }
        },
        "title": {
         "font": {
          "color": "#4D5663"
         }
        },
        "xaxis": {
         "gridcolor": "#E1E5ED",
         "showgrid": true,
         "tickfont": {
          "color": "#4D5663"
         },
         "title": {
          "font": {
           "color": "#4D5663"
          },
          "text": ""
         },
         "zerolinecolor": "#E1E5ED"
        },
        "yaxis": {
         "gridcolor": "#E1E5ED",
         "showgrid": true,
         "tickfont": {
          "color": "#4D5663"
         },
         "title": {
          "font": {
           "color": "#4D5663"
          },
          "text": ""
         },
         "zerolinecolor": "#E1E5ED"
        }
       }
      },
      "text/html": [
       "<div>                            <div id=\"bf6a389b-81c3-4af5-803e-71c529b3cea7\" class=\"plotly-graph-div\" style=\"height:525px; width:100%;\"></div>            <script type=\"text/javascript\">                require([\"plotly\"], function(Plotly) {                    window.PLOTLYENV=window.PLOTLYENV || {};\n",
       "                    window.PLOTLYENV.BASE_URL='https://plot.ly';                                    if (document.getElementById(\"bf6a389b-81c3-4af5-803e-71c529b3cea7\")) {                    Plotly.newPlot(                        \"bf6a389b-81c3-4af5-803e-71c529b3cea7\",                        [{\"colorscale\":[[0.0,\"rgb(165,0,38)\"],[0.1,\"rgb(215,48,39)\"],[0.2,\"rgb(244,109,67)\"],[0.3,\"rgb(253,174,97)\"],[0.4,\"rgb(254,224,144)\"],[0.5,\"rgb(255,255,191)\"],[0.6,\"rgb(224,243,248)\"],[0.7,\"rgb(171,217,233)\"],[0.8,\"rgb(116,173,209)\"],[0.9,\"rgb(69,117,180)\"],[1.0,\"rgb(49,54,149)\"]],\"x\":[0,1,2,3,4],\"y\":[\"x\",\"y\",\"z\"],\"z\":[[1,2,3,4,5],[10,20,30,20,10],[5,4,3,2,1]],\"type\":\"surface\"}],                        {\"legend\":{\"bgcolor\":\"#F5F6F9\",\"font\":{\"color\":\"#4D5663\"}},\"paper_bgcolor\":\"#F5F6F9\",\"plot_bgcolor\":\"#F5F6F9\",\"template\":{\"data\":{\"barpolar\":[{\"marker\":{\"line\":{\"color\":\"#E5ECF6\",\"width\":0.5},\"pattern\":{\"fillmode\":\"overlay\",\"size\":10,\"solidity\":0.2}},\"type\":\"barpolar\"}],\"bar\":[{\"error_x\":{\"color\":\"#2a3f5f\"},\"error_y\":{\"color\":\"#2a3f5f\"},\"marker\":{\"line\":{\"color\":\"#E5ECF6\",\"width\":0.5},\"pattern\":{\"fillmode\":\"overlay\",\"size\":10,\"solidity\":0.2}},\"type\":\"bar\"}],\"carpet\":[{\"aaxis\":{\"endlinecolor\":\"#2a3f5f\",\"gridcolor\":\"white\",\"linecolor\":\"white\",\"minorgridcolor\":\"white\",\"startlinecolor\":\"#2a3f5f\"},\"baxis\":{\"endlinecolor\":\"#2a3f5f\",\"gridcolor\":\"white\",\"linecolor\":\"white\",\"minorgridcolor\":\"white\",\"startlinecolor\":\"#2a3f5f\"},\"type\":\"carpet\"}],\"choropleth\":[{\"colorbar\":{\"outlinewidth\":0,\"ticks\":\"\"},\"type\":\"choropleth\"}],\"contourcarpet\":[{\"colorbar\":{\"outlinewidth\":0,\"ticks\":\"\"},\"type\":\"contourcarpet\"}],\"contour\":[{\"colorbar\":{\"outlinewidth\":0,\"ticks\":\"\"},\"colorscale\":[[0.0,\"#0d0887\"],[0.1111111111111111,\"#46039f\"],[0.2222222222222222,\"#7201a8\"],[0.3333333333333333,\"#9c179e\"],[0.4444444444444444,\"#bd3786\"],[0.5555555555555556,\"#d8576b\"],[0.6666666666666666,\"#ed7953\"],[0.7777777777777778,\"#fb9f3a\"],[0.8888888888888888,\"#fdca26\"],[1.0,\"#f0f921\"]],\"type\":\"contour\"}],\"heatmapgl\":[{\"colorbar\":{\"outlinewidth\":0,\"ticks\":\"\"},\"colorscale\":[[0.0,\"#0d0887\"],[0.1111111111111111,\"#46039f\"],[0.2222222222222222,\"#7201a8\"],[0.3333333333333333,\"#9c179e\"],[0.4444444444444444,\"#bd3786\"],[0.5555555555555556,\"#d8576b\"],[0.6666666666666666,\"#ed7953\"],[0.7777777777777778,\"#fb9f3a\"],[0.8888888888888888,\"#fdca26\"],[1.0,\"#f0f921\"]],\"type\":\"heatmapgl\"}],\"heatmap\":[{\"colorbar\":{\"outlinewidth\":0,\"ticks\":\"\"},\"colorscale\":[[0.0,\"#0d0887\"],[0.1111111111111111,\"#46039f\"],[0.2222222222222222,\"#7201a8\"],[0.3333333333333333,\"#9c179e\"],[0.4444444444444444,\"#bd3786\"],[0.5555555555555556,\"#d8576b\"],[0.6666666666666666,\"#ed7953\"],[0.7777777777777778,\"#fb9f3a\"],[0.8888888888888888,\"#fdca26\"],[1.0,\"#f0f921\"]],\"type\":\"heatmap\"}],\"histogram2dcontour\":[{\"colorbar\":{\"outlinewidth\":0,\"ticks\":\"\"},\"colorscale\":[[0.0,\"#0d0887\"],[0.1111111111111111,\"#46039f\"],[0.2222222222222222,\"#7201a8\"],[0.3333333333333333,\"#9c179e\"],[0.4444444444444444,\"#bd3786\"],[0.5555555555555556,\"#d8576b\"],[0.6666666666666666,\"#ed7953\"],[0.7777777777777778,\"#fb9f3a\"],[0.8888888888888888,\"#fdca26\"],[1.0,\"#f0f921\"]],\"type\":\"histogram2dcontour\"}],\"histogram2d\":[{\"colorbar\":{\"outlinewidth\":0,\"ticks\":\"\"},\"colorscale\":[[0.0,\"#0d0887\"],[0.1111111111111111,\"#46039f\"],[0.2222222222222222,\"#7201a8\"],[0.3333333333333333,\"#9c179e\"],[0.4444444444444444,\"#bd3786\"],[0.5555555555555556,\"#d8576b\"],[0.6666666666666666,\"#ed7953\"],[0.7777777777777778,\"#fb9f3a\"],[0.8888888888888888,\"#fdca26\"],[1.0,\"#f0f921\"]],\"type\":\"histogram2d\"}],\"histogram\":[{\"marker\":{\"pattern\":{\"fillmode\":\"overlay\",\"size\":10,\"solidity\":0.2}},\"type\":\"histogram\"}],\"mesh3d\":[{\"colorbar\":{\"outlinewidth\":0,\"ticks\":\"\"},\"type\":\"mesh3d\"}],\"parcoords\":[{\"line\":{\"colorbar\":{\"outlinewidth\":0,\"ticks\":\"\"}},\"type\":\"parcoords\"}],\"pie\":[{\"automargin\":true,\"type\":\"pie\"}],\"scatter3d\":[{\"line\":{\"colorbar\":{\"outlinewidth\":0,\"ticks\":\"\"}},\"marker\":{\"colorbar\":{\"outlinewidth\":0,\"ticks\":\"\"}},\"type\":\"scatter3d\"}],\"scattercarpet\":[{\"marker\":{\"colorbar\":{\"outlinewidth\":0,\"ticks\":\"\"}},\"type\":\"scattercarpet\"}],\"scattergeo\":[{\"marker\":{\"colorbar\":{\"outlinewidth\":0,\"ticks\":\"\"}},\"type\":\"scattergeo\"}],\"scattergl\":[{\"marker\":{\"colorbar\":{\"outlinewidth\":0,\"ticks\":\"\"}},\"type\":\"scattergl\"}],\"scattermapbox\":[{\"marker\":{\"colorbar\":{\"outlinewidth\":0,\"ticks\":\"\"}},\"type\":\"scattermapbox\"}],\"scatterpolargl\":[{\"marker\":{\"colorbar\":{\"outlinewidth\":0,\"ticks\":\"\"}},\"type\":\"scatterpolargl\"}],\"scatterpolar\":[{\"marker\":{\"colorbar\":{\"outlinewidth\":0,\"ticks\":\"\"}},\"type\":\"scatterpolar\"}],\"scatter\":[{\"fillpattern\":{\"fillmode\":\"overlay\",\"size\":10,\"solidity\":0.2},\"type\":\"scatter\"}],\"scatterternary\":[{\"marker\":{\"colorbar\":{\"outlinewidth\":0,\"ticks\":\"\"}},\"type\":\"scatterternary\"}],\"surface\":[{\"colorbar\":{\"outlinewidth\":0,\"ticks\":\"\"},\"colorscale\":[[0.0,\"#0d0887\"],[0.1111111111111111,\"#46039f\"],[0.2222222222222222,\"#7201a8\"],[0.3333333333333333,\"#9c179e\"],[0.4444444444444444,\"#bd3786\"],[0.5555555555555556,\"#d8576b\"],[0.6666666666666666,\"#ed7953\"],[0.7777777777777778,\"#fb9f3a\"],[0.8888888888888888,\"#fdca26\"],[1.0,\"#f0f921\"]],\"type\":\"surface\"}],\"table\":[{\"cells\":{\"fill\":{\"color\":\"#EBF0F8\"},\"line\":{\"color\":\"white\"}},\"header\":{\"fill\":{\"color\":\"#C8D4E3\"},\"line\":{\"color\":\"white\"}},\"type\":\"table\"}]},\"layout\":{\"annotationdefaults\":{\"arrowcolor\":\"#2a3f5f\",\"arrowhead\":0,\"arrowwidth\":1},\"autotypenumbers\":\"strict\",\"coloraxis\":{\"colorbar\":{\"outlinewidth\":0,\"ticks\":\"\"}},\"colorscale\":{\"diverging\":[[0,\"#8e0152\"],[0.1,\"#c51b7d\"],[0.2,\"#de77ae\"],[0.3,\"#f1b6da\"],[0.4,\"#fde0ef\"],[0.5,\"#f7f7f7\"],[0.6,\"#e6f5d0\"],[0.7,\"#b8e186\"],[0.8,\"#7fbc41\"],[0.9,\"#4d9221\"],[1,\"#276419\"]],\"sequential\":[[0.0,\"#0d0887\"],[0.1111111111111111,\"#46039f\"],[0.2222222222222222,\"#7201a8\"],[0.3333333333333333,\"#9c179e\"],[0.4444444444444444,\"#bd3786\"],[0.5555555555555556,\"#d8576b\"],[0.6666666666666666,\"#ed7953\"],[0.7777777777777778,\"#fb9f3a\"],[0.8888888888888888,\"#fdca26\"],[1.0,\"#f0f921\"]],\"sequentialminus\":[[0.0,\"#0d0887\"],[0.1111111111111111,\"#46039f\"],[0.2222222222222222,\"#7201a8\"],[0.3333333333333333,\"#9c179e\"],[0.4444444444444444,\"#bd3786\"],[0.5555555555555556,\"#d8576b\"],[0.6666666666666666,\"#ed7953\"],[0.7777777777777778,\"#fb9f3a\"],[0.8888888888888888,\"#fdca26\"],[1.0,\"#f0f921\"]]},\"colorway\":[\"#636efa\",\"#EF553B\",\"#00cc96\",\"#ab63fa\",\"#FFA15A\",\"#19d3f3\",\"#FF6692\",\"#B6E880\",\"#FF97FF\",\"#FECB52\"],\"font\":{\"color\":\"#2a3f5f\"},\"geo\":{\"bgcolor\":\"white\",\"lakecolor\":\"white\",\"landcolor\":\"#E5ECF6\",\"showlakes\":true,\"showland\":true,\"subunitcolor\":\"white\"},\"hoverlabel\":{\"align\":\"left\"},\"hovermode\":\"closest\",\"mapbox\":{\"style\":\"light\"},\"paper_bgcolor\":\"white\",\"plot_bgcolor\":\"#E5ECF6\",\"polar\":{\"angularaxis\":{\"gridcolor\":\"white\",\"linecolor\":\"white\",\"ticks\":\"\"},\"bgcolor\":\"#E5ECF6\",\"radialaxis\":{\"gridcolor\":\"white\",\"linecolor\":\"white\",\"ticks\":\"\"}},\"scene\":{\"xaxis\":{\"backgroundcolor\":\"#E5ECF6\",\"gridcolor\":\"white\",\"gridwidth\":2,\"linecolor\":\"white\",\"showbackground\":true,\"ticks\":\"\",\"zerolinecolor\":\"white\"},\"yaxis\":{\"backgroundcolor\":\"#E5ECF6\",\"gridcolor\":\"white\",\"gridwidth\":2,\"linecolor\":\"white\",\"showbackground\":true,\"ticks\":\"\",\"zerolinecolor\":\"white\"},\"zaxis\":{\"backgroundcolor\":\"#E5ECF6\",\"gridcolor\":\"white\",\"gridwidth\":2,\"linecolor\":\"white\",\"showbackground\":true,\"ticks\":\"\",\"zerolinecolor\":\"white\"}},\"shapedefaults\":{\"line\":{\"color\":\"#2a3f5f\"}},\"ternary\":{\"aaxis\":{\"gridcolor\":\"white\",\"linecolor\":\"white\",\"ticks\":\"\"},\"baxis\":{\"gridcolor\":\"white\",\"linecolor\":\"white\",\"ticks\":\"\"},\"bgcolor\":\"#E5ECF6\",\"caxis\":{\"gridcolor\":\"white\",\"linecolor\":\"white\",\"ticks\":\"\"}},\"title\":{\"x\":0.05},\"xaxis\":{\"automargin\":true,\"gridcolor\":\"white\",\"linecolor\":\"white\",\"ticks\":\"\",\"title\":{\"standoff\":15},\"zerolinecolor\":\"white\",\"zerolinewidth\":2},\"yaxis\":{\"automargin\":true,\"gridcolor\":\"white\",\"linecolor\":\"white\",\"ticks\":\"\",\"title\":{\"standoff\":15},\"zerolinecolor\":\"white\",\"zerolinewidth\":2}}},\"title\":{\"font\":{\"color\":\"#4D5663\"}},\"xaxis\":{\"gridcolor\":\"#E1E5ED\",\"showgrid\":true,\"tickfont\":{\"color\":\"#4D5663\"},\"title\":{\"font\":{\"color\":\"#4D5663\"},\"text\":\"\"},\"zerolinecolor\":\"#E1E5ED\"},\"yaxis\":{\"gridcolor\":\"#E1E5ED\",\"showgrid\":true,\"tickfont\":{\"color\":\"#4D5663\"},\"title\":{\"font\":{\"color\":\"#4D5663\"},\"text\":\"\"},\"zerolinecolor\":\"#E1E5ED\"}},                        {\"showLink\": true, \"linkText\": \"Export to plot.ly\", \"plotlyServerURL\": \"https://plot.ly\", \"responsive\": true}                    ).then(function(){\n",
       "                            \n",
       "var gd = document.getElementById('bf6a389b-81c3-4af5-803e-71c529b3cea7');\n",
       "var x = new MutationObserver(function (mutations, observer) {{\n",
       "        var display = window.getComputedStyle(gd).display;\n",
       "        if (!display || display === 'none') {{\n",
       "            console.log([gd, 'removed!']);\n",
       "            Plotly.purge(gd);\n",
       "            observer.disconnect();\n",
       "        }}\n",
       "}});\n",
       "\n",
       "// Listen for the removal of the full notebook cells\n",
       "var notebookContainer = gd.closest('#notebook-container');\n",
       "if (notebookContainer) {{\n",
       "    x.observe(notebookContainer, {childList: true});\n",
       "}}\n",
       "\n",
       "// Listen for the clearing of the current output cell\n",
       "var outputEl = gd.closest('.output');\n",
       "if (outputEl) {{\n",
       "    x.observe(outputEl, {childList: true});\n",
       "}}\n",
       "\n",
       "                        })                };                });            </script>        </div>"
      ]
     },
     "metadata": {},
     "output_type": "display_data"
    }
   ],
   "source": [
    "df3 = pd.DataFrame({'x':[1,2,3,4,5],'y':[10,20,30,20,10],'z':[5,4,3,2,1]})\n",
    "df3.iplot(kind='surface',colorscale='rdylbu')"
   ]
  },
  {
   "cell_type": "markdown",
   "metadata": {},
   "source": [
    "## histogram"
   ]
  },
  {
   "cell_type": "code",
   "execution_count": 37,
   "metadata": {},
   "outputs": [
    {
     "data": {
      "application/vnd.plotly.v1+json": {
       "config": {
        "linkText": "Export to plot.ly",
        "plotlyServerURL": "https://plot.ly",
        "showLink": true
       },
       "data": [
        {
         "histfunc": "count",
         "histnorm": "",
         "marker": {
          "color": "rgba(255, 153, 51, 1.0)",
          "line": {
           "color": "#4D5663",
           "width": 1.3
          }
         },
         "name": "A",
         "nbinsx": 25,
         "opacity": 0.8,
         "orientation": "v",
         "type": "histogram",
         "x": [
          -0.7847662484388648,
          0.5887290310128517,
          -0.5514071090214487,
          0.08840812267345483,
          -0.957132276940948,
          -0.1747201870186245,
          -0.775383100878524,
          0.4945756457748739,
          -0.45784395724355104,
          -0.7299542464491161,
          2.120508885901264,
          -2.2347271889052647,
          -0.216174711781822,
          -2.846486640307819,
          -0.5216053610061037,
          1.0601574186659917,
          -0.3979067592077603,
          1.8802233263322539,
          1.203817333279283,
          -0.8843606774688277,
          1.03031872907569,
          -0.4257523627376736,
          0.8729366328539484,
          0.7015791574627109,
          -0.38686542056186624,
          0.8413262603687331,
          0.05399293108518775,
          0.043179544666969855,
          -2.9220805766557323,
          0.08340038015300334,
          3.5137406018102793,
          0.06710822950599729,
          -0.8317463668012348,
          0.11787537086880737,
          -0.40091873975019443,
          -0.647274188279839,
          -1.2526617333340366,
          0.06122457684630888,
          -0.1444120037528103,
          -0.7903713996915007,
          -0.1232958328995701,
          1.026244203860463,
          0.24784413058545027,
          0.07654902167655836,
          0.6316802536407472,
          -1.3413050172070276,
          -1.4416712533630667,
          -0.10415219238574984,
          0.20676801944816472,
          -0.8887833483806576,
          -0.18089986860947765,
          -1.1791549223426931,
          0.8841397805651795,
          0.5430023355298771,
          -0.9259578970567877,
          0.6119061006624439,
          0.574018323672333,
          1.3093577253163893,
          0.5563033371402298,
          1.8136943649705675,
          -0.6442541240275126,
          2.0713926711402553,
          -1.0477806925379496,
          -1.2191288405576126,
          0.46833740043259986,
          -0.2272374953217602,
          -0.48093633214803955,
          0.9640139774346485,
          0.2698896656277988,
          0.08284925087705126,
          0.4891500704201871,
          0.740009758283557,
          -0.9394610595033338,
          1.0125457768568211,
          -0.6380799097814033,
          -0.532143093193377,
          0.7800276603962227,
          -0.6985563151031897,
          -0.9621143302322339,
          -0.6193184582765459,
          0.9043920195398775,
          -1.4522395983454406,
          -0.4893232211608719,
          -0.2642170873783527,
          0.8316859700169948,
          1.2489509315576732,
          -0.405229252832221,
          -0.3993210218041567,
          0.6301892319317067,
          -2.032615377066661,
          -0.2978316144783474,
          -0.7430723467788538,
          -0.05140898799930743,
          -1.6170545960302538,
          -0.04932390232689837,
          -0.8155700860817712,
          -1.7788024582795317,
          -1.6174420443715154,
          0.11267862990631071,
          1.2787293893763918
         ]
        }
       ],
       "layout": {
        "barmode": "overlay",
        "legend": {
         "bgcolor": "#F5F6F9",
         "font": {
          "color": "#4D5663"
         }
        },
        "paper_bgcolor": "#F5F6F9",
        "plot_bgcolor": "#F5F6F9",
        "template": {
         "data": {
          "bar": [
           {
            "error_x": {
             "color": "#2a3f5f"
            },
            "error_y": {
             "color": "#2a3f5f"
            },
            "marker": {
             "line": {
              "color": "#E5ECF6",
              "width": 0.5
             }
            },
            "type": "bar"
           }
          ],
          "barpolar": [
           {
            "marker": {
             "line": {
              "color": "#E5ECF6",
              "width": 0.5
             }
            },
            "type": "barpolar"
           }
          ],
          "carpet": [
           {
            "aaxis": {
             "endlinecolor": "#2a3f5f",
             "gridcolor": "white",
             "linecolor": "white",
             "minorgridcolor": "white",
             "startlinecolor": "#2a3f5f"
            },
            "baxis": {
             "endlinecolor": "#2a3f5f",
             "gridcolor": "white",
             "linecolor": "white",
             "minorgridcolor": "white",
             "startlinecolor": "#2a3f5f"
            },
            "type": "carpet"
           }
          ],
          "choropleth": [
           {
            "colorbar": {
             "outlinewidth": 0,
             "ticks": ""
            },
            "type": "choropleth"
           }
          ],
          "contour": [
           {
            "colorbar": {
             "outlinewidth": 0,
             "ticks": ""
            },
            "colorscale": [
             [
              0,
              "#0d0887"
             ],
             [
              0.1111111111111111,
              "#46039f"
             ],
             [
              0.2222222222222222,
              "#7201a8"
             ],
             [
              0.3333333333333333,
              "#9c179e"
             ],
             [
              0.4444444444444444,
              "#bd3786"
             ],
             [
              0.5555555555555556,
              "#d8576b"
             ],
             [
              0.6666666666666666,
              "#ed7953"
             ],
             [
              0.7777777777777778,
              "#fb9f3a"
             ],
             [
              0.8888888888888888,
              "#fdca26"
             ],
             [
              1,
              "#f0f921"
             ]
            ],
            "type": "contour"
           }
          ],
          "contourcarpet": [
           {
            "colorbar": {
             "outlinewidth": 0,
             "ticks": ""
            },
            "type": "contourcarpet"
           }
          ],
          "heatmap": [
           {
            "colorbar": {
             "outlinewidth": 0,
             "ticks": ""
            },
            "colorscale": [
             [
              0,
              "#0d0887"
             ],
             [
              0.1111111111111111,
              "#46039f"
             ],
             [
              0.2222222222222222,
              "#7201a8"
             ],
             [
              0.3333333333333333,
              "#9c179e"
             ],
             [
              0.4444444444444444,
              "#bd3786"
             ],
             [
              0.5555555555555556,
              "#d8576b"
             ],
             [
              0.6666666666666666,
              "#ed7953"
             ],
             [
              0.7777777777777778,
              "#fb9f3a"
             ],
             [
              0.8888888888888888,
              "#fdca26"
             ],
             [
              1,
              "#f0f921"
             ]
            ],
            "type": "heatmap"
           }
          ],
          "heatmapgl": [
           {
            "colorbar": {
             "outlinewidth": 0,
             "ticks": ""
            },
            "colorscale": [
             [
              0,
              "#0d0887"
             ],
             [
              0.1111111111111111,
              "#46039f"
             ],
             [
              0.2222222222222222,
              "#7201a8"
             ],
             [
              0.3333333333333333,
              "#9c179e"
             ],
             [
              0.4444444444444444,
              "#bd3786"
             ],
             [
              0.5555555555555556,
              "#d8576b"
             ],
             [
              0.6666666666666666,
              "#ed7953"
             ],
             [
              0.7777777777777778,
              "#fb9f3a"
             ],
             [
              0.8888888888888888,
              "#fdca26"
             ],
             [
              1,
              "#f0f921"
             ]
            ],
            "type": "heatmapgl"
           }
          ],
          "histogram": [
           {
            "marker": {
             "colorbar": {
              "outlinewidth": 0,
              "ticks": ""
             }
            },
            "type": "histogram"
           }
          ],
          "histogram2d": [
           {
            "colorbar": {
             "outlinewidth": 0,
             "ticks": ""
            },
            "colorscale": [
             [
              0,
              "#0d0887"
             ],
             [
              0.1111111111111111,
              "#46039f"
             ],
             [
              0.2222222222222222,
              "#7201a8"
             ],
             [
              0.3333333333333333,
              "#9c179e"
             ],
             [
              0.4444444444444444,
              "#bd3786"
             ],
             [
              0.5555555555555556,
              "#d8576b"
             ],
             [
              0.6666666666666666,
              "#ed7953"
             ],
             [
              0.7777777777777778,
              "#fb9f3a"
             ],
             [
              0.8888888888888888,
              "#fdca26"
             ],
             [
              1,
              "#f0f921"
             ]
            ],
            "type": "histogram2d"
           }
          ],
          "histogram2dcontour": [
           {
            "colorbar": {
             "outlinewidth": 0,
             "ticks": ""
            },
            "colorscale": [
             [
              0,
              "#0d0887"
             ],
             [
              0.1111111111111111,
              "#46039f"
             ],
             [
              0.2222222222222222,
              "#7201a8"
             ],
             [
              0.3333333333333333,
              "#9c179e"
             ],
             [
              0.4444444444444444,
              "#bd3786"
             ],
             [
              0.5555555555555556,
              "#d8576b"
             ],
             [
              0.6666666666666666,
              "#ed7953"
             ],
             [
              0.7777777777777778,
              "#fb9f3a"
             ],
             [
              0.8888888888888888,
              "#fdca26"
             ],
             [
              1,
              "#f0f921"
             ]
            ],
            "type": "histogram2dcontour"
           }
          ],
          "mesh3d": [
           {
            "colorbar": {
             "outlinewidth": 0,
             "ticks": ""
            },
            "type": "mesh3d"
           }
          ],
          "parcoords": [
           {
            "line": {
             "colorbar": {
              "outlinewidth": 0,
              "ticks": ""
             }
            },
            "type": "parcoords"
           }
          ],
          "pie": [
           {
            "automargin": true,
            "type": "pie"
           }
          ],
          "scatter": [
           {
            "marker": {
             "colorbar": {
              "outlinewidth": 0,
              "ticks": ""
             }
            },
            "type": "scatter"
           }
          ],
          "scatter3d": [
           {
            "line": {
             "colorbar": {
              "outlinewidth": 0,
              "ticks": ""
             }
            },
            "marker": {
             "colorbar": {
              "outlinewidth": 0,
              "ticks": ""
             }
            },
            "type": "scatter3d"
           }
          ],
          "scattercarpet": [
           {
            "marker": {
             "colorbar": {
              "outlinewidth": 0,
              "ticks": ""
             }
            },
            "type": "scattercarpet"
           }
          ],
          "scattergeo": [
           {
            "marker": {
             "colorbar": {
              "outlinewidth": 0,
              "ticks": ""
             }
            },
            "type": "scattergeo"
           }
          ],
          "scattergl": [
           {
            "marker": {
             "colorbar": {
              "outlinewidth": 0,
              "ticks": ""
             }
            },
            "type": "scattergl"
           }
          ],
          "scattermapbox": [
           {
            "marker": {
             "colorbar": {
              "outlinewidth": 0,
              "ticks": ""
             }
            },
            "type": "scattermapbox"
           }
          ],
          "scatterpolar": [
           {
            "marker": {
             "colorbar": {
              "outlinewidth": 0,
              "ticks": ""
             }
            },
            "type": "scatterpolar"
           }
          ],
          "scatterpolargl": [
           {
            "marker": {
             "colorbar": {
              "outlinewidth": 0,
              "ticks": ""
             }
            },
            "type": "scatterpolargl"
           }
          ],
          "scatterternary": [
           {
            "marker": {
             "colorbar": {
              "outlinewidth": 0,
              "ticks": ""
             }
            },
            "type": "scatterternary"
           }
          ],
          "surface": [
           {
            "colorbar": {
             "outlinewidth": 0,
             "ticks": ""
            },
            "colorscale": [
             [
              0,
              "#0d0887"
             ],
             [
              0.1111111111111111,
              "#46039f"
             ],
             [
              0.2222222222222222,
              "#7201a8"
             ],
             [
              0.3333333333333333,
              "#9c179e"
             ],
             [
              0.4444444444444444,
              "#bd3786"
             ],
             [
              0.5555555555555556,
              "#d8576b"
             ],
             [
              0.6666666666666666,
              "#ed7953"
             ],
             [
              0.7777777777777778,
              "#fb9f3a"
             ],
             [
              0.8888888888888888,
              "#fdca26"
             ],
             [
              1,
              "#f0f921"
             ]
            ],
            "type": "surface"
           }
          ],
          "table": [
           {
            "cells": {
             "fill": {
              "color": "#EBF0F8"
             },
             "line": {
              "color": "white"
             }
            },
            "header": {
             "fill": {
              "color": "#C8D4E3"
             },
             "line": {
              "color": "white"
             }
            },
            "type": "table"
           }
          ]
         },
         "layout": {
          "annotationdefaults": {
           "arrowcolor": "#2a3f5f",
           "arrowhead": 0,
           "arrowwidth": 1
          },
          "autotypenumbers": "strict",
          "coloraxis": {
           "colorbar": {
            "outlinewidth": 0,
            "ticks": ""
           }
          },
          "colorscale": {
           "diverging": [
            [
             0,
             "#8e0152"
            ],
            [
             0.1,
             "#c51b7d"
            ],
            [
             0.2,
             "#de77ae"
            ],
            [
             0.3,
             "#f1b6da"
            ],
            [
             0.4,
             "#fde0ef"
            ],
            [
             0.5,
             "#f7f7f7"
            ],
            [
             0.6,
             "#e6f5d0"
            ],
            [
             0.7,
             "#b8e186"
            ],
            [
             0.8,
             "#7fbc41"
            ],
            [
             0.9,
             "#4d9221"
            ],
            [
             1,
             "#276419"
            ]
           ],
           "sequential": [
            [
             0,
             "#0d0887"
            ],
            [
             0.1111111111111111,
             "#46039f"
            ],
            [
             0.2222222222222222,
             "#7201a8"
            ],
            [
             0.3333333333333333,
             "#9c179e"
            ],
            [
             0.4444444444444444,
             "#bd3786"
            ],
            [
             0.5555555555555556,
             "#d8576b"
            ],
            [
             0.6666666666666666,
             "#ed7953"
            ],
            [
             0.7777777777777778,
             "#fb9f3a"
            ],
            [
             0.8888888888888888,
             "#fdca26"
            ],
            [
             1,
             "#f0f921"
            ]
           ],
           "sequentialminus": [
            [
             0,
             "#0d0887"
            ],
            [
             0.1111111111111111,
             "#46039f"
            ],
            [
             0.2222222222222222,
             "#7201a8"
            ],
            [
             0.3333333333333333,
             "#9c179e"
            ],
            [
             0.4444444444444444,
             "#bd3786"
            ],
            [
             0.5555555555555556,
             "#d8576b"
            ],
            [
             0.6666666666666666,
             "#ed7953"
            ],
            [
             0.7777777777777778,
             "#fb9f3a"
            ],
            [
             0.8888888888888888,
             "#fdca26"
            ],
            [
             1,
             "#f0f921"
            ]
           ]
          },
          "colorway": [
           "#636efa",
           "#EF553B",
           "#00cc96",
           "#ab63fa",
           "#FFA15A",
           "#19d3f3",
           "#FF6692",
           "#B6E880",
           "#FF97FF",
           "#FECB52"
          ],
          "font": {
           "color": "#2a3f5f"
          },
          "geo": {
           "bgcolor": "white",
           "lakecolor": "white",
           "landcolor": "#E5ECF6",
           "showlakes": true,
           "showland": true,
           "subunitcolor": "white"
          },
          "hoverlabel": {
           "align": "left"
          },
          "hovermode": "closest",
          "mapbox": {
           "style": "light"
          },
          "paper_bgcolor": "white",
          "plot_bgcolor": "#E5ECF6",
          "polar": {
           "angularaxis": {
            "gridcolor": "white",
            "linecolor": "white",
            "ticks": ""
           },
           "bgcolor": "#E5ECF6",
           "radialaxis": {
            "gridcolor": "white",
            "linecolor": "white",
            "ticks": ""
           }
          },
          "scene": {
           "xaxis": {
            "backgroundcolor": "#E5ECF6",
            "gridcolor": "white",
            "gridwidth": 2,
            "linecolor": "white",
            "showbackground": true,
            "ticks": "",
            "zerolinecolor": "white"
           },
           "yaxis": {
            "backgroundcolor": "#E5ECF6",
            "gridcolor": "white",
            "gridwidth": 2,
            "linecolor": "white",
            "showbackground": true,
            "ticks": "",
            "zerolinecolor": "white"
           },
           "zaxis": {
            "backgroundcolor": "#E5ECF6",
            "gridcolor": "white",
            "gridwidth": 2,
            "linecolor": "white",
            "showbackground": true,
            "ticks": "",
            "zerolinecolor": "white"
           }
          },
          "shapedefaults": {
           "line": {
            "color": "#2a3f5f"
           }
          },
          "ternary": {
           "aaxis": {
            "gridcolor": "white",
            "linecolor": "white",
            "ticks": ""
           },
           "baxis": {
            "gridcolor": "white",
            "linecolor": "white",
            "ticks": ""
           },
           "bgcolor": "#E5ECF6",
           "caxis": {
            "gridcolor": "white",
            "linecolor": "white",
            "ticks": ""
           }
          },
          "title": {
           "x": 0.05
          },
          "xaxis": {
           "automargin": true,
           "gridcolor": "white",
           "linecolor": "white",
           "ticks": "",
           "title": {
            "standoff": 15
           },
           "zerolinecolor": "white",
           "zerolinewidth": 2
          },
          "yaxis": {
           "automargin": true,
           "gridcolor": "white",
           "linecolor": "white",
           "ticks": "",
           "title": {
            "standoff": 15
           },
           "zerolinecolor": "white",
           "zerolinewidth": 2
          }
         }
        },
        "title": {
         "font": {
          "color": "#4D5663"
         }
        },
        "xaxis": {
         "gridcolor": "#E1E5ED",
         "showgrid": true,
         "tickfont": {
          "color": "#4D5663"
         },
         "title": {
          "font": {
           "color": "#4D5663"
          },
          "text": ""
         },
         "zerolinecolor": "#E1E5ED"
        },
        "yaxis": {
         "gridcolor": "#E1E5ED",
         "showgrid": true,
         "tickfont": {
          "color": "#4D5663"
         },
         "title": {
          "font": {
           "color": "#4D5663"
          },
          "text": ""
         },
         "zerolinecolor": "#E1E5ED"
        }
       }
      },
      "text/html": [
       "<div>                            <div id=\"1e103547-8368-4070-91ff-d848be6d4e92\" class=\"plotly-graph-div\" style=\"height:525px; width:100%;\"></div>            <script type=\"text/javascript\">                require([\"plotly\"], function(Plotly) {                    window.PLOTLYENV=window.PLOTLYENV || {};\n",
       "                    window.PLOTLYENV.BASE_URL='https://plot.ly';                                    if (document.getElementById(\"1e103547-8368-4070-91ff-d848be6d4e92\")) {                    Plotly.newPlot(                        \"1e103547-8368-4070-91ff-d848be6d4e92\",                        [{\"histfunc\": \"count\", \"histnorm\": \"\", \"marker\": {\"color\": \"rgba(255, 153, 51, 1.0)\", \"line\": {\"color\": \"#4D5663\", \"width\": 1.3}}, \"name\": \"A\", \"nbinsx\": 25, \"opacity\": 0.8, \"orientation\": \"v\", \"type\": \"histogram\", \"x\": [-0.7847662484388648, 0.5887290310128517, -0.5514071090214487, 0.08840812267345483, -0.957132276940948, -0.1747201870186245, -0.775383100878524, 0.4945756457748739, -0.45784395724355104, -0.7299542464491161, 2.120508885901264, -2.2347271889052647, -0.216174711781822, -2.846486640307819, -0.5216053610061037, 1.0601574186659917, -0.3979067592077603, 1.8802233263322539, 1.203817333279283, -0.8843606774688277, 1.03031872907569, -0.4257523627376736, 0.8729366328539484, 0.7015791574627109, -0.38686542056186624, 0.8413262603687331, 0.05399293108518775, 0.043179544666969855, -2.9220805766557323, 0.08340038015300334, 3.5137406018102793, 0.06710822950599729, -0.8317463668012348, 0.11787537086880737, -0.40091873975019443, -0.647274188279839, -1.2526617333340366, 0.06122457684630888, -0.1444120037528103, -0.7903713996915007, -0.1232958328995701, 1.026244203860463, 0.24784413058545027, 0.07654902167655836, 0.6316802536407472, -1.3413050172070276, -1.4416712533630667, -0.10415219238574984, 0.20676801944816472, -0.8887833483806576, -0.18089986860947765, -1.1791549223426931, 0.8841397805651795, 0.5430023355298771, -0.9259578970567877, 0.6119061006624439, 0.574018323672333, 1.3093577253163893, 0.5563033371402298, 1.8136943649705675, -0.6442541240275126, 2.0713926711402553, -1.0477806925379496, -1.2191288405576126, 0.46833740043259986, -0.2272374953217602, -0.48093633214803955, 0.9640139774346485, 0.2698896656277988, 0.08284925087705126, 0.4891500704201871, 0.740009758283557, -0.9394610595033338, 1.0125457768568211, -0.6380799097814033, -0.532143093193377, 0.7800276603962227, -0.6985563151031897, -0.9621143302322339, -0.6193184582765459, 0.9043920195398775, -1.4522395983454406, -0.4893232211608719, -0.2642170873783527, 0.8316859700169948, 1.2489509315576732, -0.405229252832221, -0.3993210218041567, 0.6301892319317067, -2.032615377066661, -0.2978316144783474, -0.7430723467788538, -0.05140898799930743, -1.6170545960302538, -0.04932390232689837, -0.8155700860817712, -1.7788024582795317, -1.6174420443715154, 0.11267862990631071, 1.2787293893763918]}],                        {\"barmode\": \"overlay\", \"legend\": {\"bgcolor\": \"#F5F6F9\", \"font\": {\"color\": \"#4D5663\"}}, \"paper_bgcolor\": \"#F5F6F9\", \"plot_bgcolor\": \"#F5F6F9\", \"template\": {\"data\": {\"bar\": [{\"error_x\": {\"color\": \"#2a3f5f\"}, \"error_y\": {\"color\": \"#2a3f5f\"}, \"marker\": {\"line\": {\"color\": \"#E5ECF6\", \"width\": 0.5}}, \"type\": \"bar\"}], \"barpolar\": [{\"marker\": {\"line\": {\"color\": \"#E5ECF6\", \"width\": 0.5}}, \"type\": \"barpolar\"}], \"carpet\": [{\"aaxis\": {\"endlinecolor\": \"#2a3f5f\", \"gridcolor\": \"white\", \"linecolor\": \"white\", \"minorgridcolor\": \"white\", \"startlinecolor\": \"#2a3f5f\"}, \"baxis\": {\"endlinecolor\": \"#2a3f5f\", \"gridcolor\": \"white\", \"linecolor\": \"white\", \"minorgridcolor\": \"white\", \"startlinecolor\": \"#2a3f5f\"}, \"type\": \"carpet\"}], \"choropleth\": [{\"colorbar\": {\"outlinewidth\": 0, \"ticks\": \"\"}, \"type\": \"choropleth\"}], \"contour\": [{\"colorbar\": {\"outlinewidth\": 0, \"ticks\": \"\"}, \"colorscale\": [[0.0, \"#0d0887\"], [0.1111111111111111, \"#46039f\"], [0.2222222222222222, \"#7201a8\"], [0.3333333333333333, \"#9c179e\"], [0.4444444444444444, \"#bd3786\"], [0.5555555555555556, \"#d8576b\"], [0.6666666666666666, \"#ed7953\"], [0.7777777777777778, \"#fb9f3a\"], [0.8888888888888888, \"#fdca26\"], [1.0, \"#f0f921\"]], \"type\": \"contour\"}], \"contourcarpet\": [{\"colorbar\": {\"outlinewidth\": 0, \"ticks\": \"\"}, \"type\": \"contourcarpet\"}], \"heatmap\": [{\"colorbar\": {\"outlinewidth\": 0, \"ticks\": \"\"}, \"colorscale\": [[0.0, \"#0d0887\"], [0.1111111111111111, \"#46039f\"], [0.2222222222222222, \"#7201a8\"], [0.3333333333333333, \"#9c179e\"], [0.4444444444444444, \"#bd3786\"], [0.5555555555555556, \"#d8576b\"], [0.6666666666666666, \"#ed7953\"], [0.7777777777777778, \"#fb9f3a\"], [0.8888888888888888, \"#fdca26\"], [1.0, \"#f0f921\"]], \"type\": \"heatmap\"}], \"heatmapgl\": [{\"colorbar\": {\"outlinewidth\": 0, \"ticks\": \"\"}, \"colorscale\": [[0.0, \"#0d0887\"], [0.1111111111111111, \"#46039f\"], [0.2222222222222222, \"#7201a8\"], [0.3333333333333333, \"#9c179e\"], [0.4444444444444444, \"#bd3786\"], [0.5555555555555556, \"#d8576b\"], [0.6666666666666666, \"#ed7953\"], [0.7777777777777778, \"#fb9f3a\"], [0.8888888888888888, \"#fdca26\"], [1.0, \"#f0f921\"]], \"type\": \"heatmapgl\"}], \"histogram\": [{\"marker\": {\"colorbar\": {\"outlinewidth\": 0, \"ticks\": \"\"}}, \"type\": \"histogram\"}], \"histogram2d\": [{\"colorbar\": {\"outlinewidth\": 0, \"ticks\": \"\"}, \"colorscale\": [[0.0, \"#0d0887\"], [0.1111111111111111, \"#46039f\"], [0.2222222222222222, \"#7201a8\"], [0.3333333333333333, \"#9c179e\"], [0.4444444444444444, \"#bd3786\"], [0.5555555555555556, \"#d8576b\"], [0.6666666666666666, \"#ed7953\"], [0.7777777777777778, \"#fb9f3a\"], [0.8888888888888888, \"#fdca26\"], [1.0, \"#f0f921\"]], \"type\": \"histogram2d\"}], \"histogram2dcontour\": [{\"colorbar\": {\"outlinewidth\": 0, \"ticks\": \"\"}, \"colorscale\": [[0.0, \"#0d0887\"], [0.1111111111111111, \"#46039f\"], [0.2222222222222222, \"#7201a8\"], [0.3333333333333333, \"#9c179e\"], [0.4444444444444444, \"#bd3786\"], [0.5555555555555556, \"#d8576b\"], [0.6666666666666666, \"#ed7953\"], [0.7777777777777778, \"#fb9f3a\"], [0.8888888888888888, \"#fdca26\"], [1.0, \"#f0f921\"]], \"type\": \"histogram2dcontour\"}], \"mesh3d\": [{\"colorbar\": {\"outlinewidth\": 0, \"ticks\": \"\"}, \"type\": \"mesh3d\"}], \"parcoords\": [{\"line\": {\"colorbar\": {\"outlinewidth\": 0, \"ticks\": \"\"}}, \"type\": \"parcoords\"}], \"pie\": [{\"automargin\": true, \"type\": \"pie\"}], \"scatter\": [{\"marker\": {\"colorbar\": {\"outlinewidth\": 0, \"ticks\": \"\"}}, \"type\": \"scatter\"}], \"scatter3d\": [{\"line\": {\"colorbar\": {\"outlinewidth\": 0, \"ticks\": \"\"}}, \"marker\": {\"colorbar\": {\"outlinewidth\": 0, \"ticks\": \"\"}}, \"type\": \"scatter3d\"}], \"scattercarpet\": [{\"marker\": {\"colorbar\": {\"outlinewidth\": 0, \"ticks\": \"\"}}, \"type\": \"scattercarpet\"}], \"scattergeo\": [{\"marker\": {\"colorbar\": {\"outlinewidth\": 0, \"ticks\": \"\"}}, \"type\": \"scattergeo\"}], \"scattergl\": [{\"marker\": {\"colorbar\": {\"outlinewidth\": 0, \"ticks\": \"\"}}, \"type\": \"scattergl\"}], \"scattermapbox\": [{\"marker\": {\"colorbar\": {\"outlinewidth\": 0, \"ticks\": \"\"}}, \"type\": \"scattermapbox\"}], \"scatterpolar\": [{\"marker\": {\"colorbar\": {\"outlinewidth\": 0, \"ticks\": \"\"}}, \"type\": \"scatterpolar\"}], \"scatterpolargl\": [{\"marker\": {\"colorbar\": {\"outlinewidth\": 0, \"ticks\": \"\"}}, \"type\": \"scatterpolargl\"}], \"scatterternary\": [{\"marker\": {\"colorbar\": {\"outlinewidth\": 0, \"ticks\": \"\"}}, \"type\": \"scatterternary\"}], \"surface\": [{\"colorbar\": {\"outlinewidth\": 0, \"ticks\": \"\"}, \"colorscale\": [[0.0, \"#0d0887\"], [0.1111111111111111, \"#46039f\"], [0.2222222222222222, \"#7201a8\"], [0.3333333333333333, \"#9c179e\"], [0.4444444444444444, \"#bd3786\"], [0.5555555555555556, \"#d8576b\"], [0.6666666666666666, \"#ed7953\"], [0.7777777777777778, \"#fb9f3a\"], [0.8888888888888888, \"#fdca26\"], [1.0, \"#f0f921\"]], \"type\": \"surface\"}], \"table\": [{\"cells\": {\"fill\": {\"color\": \"#EBF0F8\"}, \"line\": {\"color\": \"white\"}}, \"header\": {\"fill\": {\"color\": \"#C8D4E3\"}, \"line\": {\"color\": \"white\"}}, \"type\": \"table\"}]}, \"layout\": {\"annotationdefaults\": {\"arrowcolor\": \"#2a3f5f\", \"arrowhead\": 0, \"arrowwidth\": 1}, \"autotypenumbers\": \"strict\", \"coloraxis\": {\"colorbar\": {\"outlinewidth\": 0, \"ticks\": \"\"}}, \"colorscale\": {\"diverging\": [[0, \"#8e0152\"], [0.1, \"#c51b7d\"], [0.2, \"#de77ae\"], [0.3, \"#f1b6da\"], [0.4, \"#fde0ef\"], [0.5, \"#f7f7f7\"], [0.6, \"#e6f5d0\"], [0.7, \"#b8e186\"], [0.8, \"#7fbc41\"], [0.9, \"#4d9221\"], [1, \"#276419\"]], \"sequential\": [[0.0, \"#0d0887\"], [0.1111111111111111, \"#46039f\"], [0.2222222222222222, \"#7201a8\"], [0.3333333333333333, \"#9c179e\"], [0.4444444444444444, \"#bd3786\"], [0.5555555555555556, \"#d8576b\"], [0.6666666666666666, \"#ed7953\"], [0.7777777777777778, \"#fb9f3a\"], [0.8888888888888888, \"#fdca26\"], [1.0, \"#f0f921\"]], \"sequentialminus\": [[0.0, \"#0d0887\"], [0.1111111111111111, \"#46039f\"], [0.2222222222222222, \"#7201a8\"], [0.3333333333333333, \"#9c179e\"], [0.4444444444444444, \"#bd3786\"], [0.5555555555555556, \"#d8576b\"], [0.6666666666666666, \"#ed7953\"], [0.7777777777777778, \"#fb9f3a\"], [0.8888888888888888, \"#fdca26\"], [1.0, \"#f0f921\"]]}, \"colorway\": [\"#636efa\", \"#EF553B\", \"#00cc96\", \"#ab63fa\", \"#FFA15A\", \"#19d3f3\", \"#FF6692\", \"#B6E880\", \"#FF97FF\", \"#FECB52\"], \"font\": {\"color\": \"#2a3f5f\"}, \"geo\": {\"bgcolor\": \"white\", \"lakecolor\": \"white\", \"landcolor\": \"#E5ECF6\", \"showlakes\": true, \"showland\": true, \"subunitcolor\": \"white\"}, \"hoverlabel\": {\"align\": \"left\"}, \"hovermode\": \"closest\", \"mapbox\": {\"style\": \"light\"}, \"paper_bgcolor\": \"white\", \"plot_bgcolor\": \"#E5ECF6\", \"polar\": {\"angularaxis\": {\"gridcolor\": \"white\", \"linecolor\": \"white\", \"ticks\": \"\"}, \"bgcolor\": \"#E5ECF6\", \"radialaxis\": {\"gridcolor\": \"white\", \"linecolor\": \"white\", \"ticks\": \"\"}}, \"scene\": {\"xaxis\": {\"backgroundcolor\": \"#E5ECF6\", \"gridcolor\": \"white\", \"gridwidth\": 2, \"linecolor\": \"white\", \"showbackground\": true, \"ticks\": \"\", \"zerolinecolor\": \"white\"}, \"yaxis\": {\"backgroundcolor\": \"#E5ECF6\", \"gridcolor\": \"white\", \"gridwidth\": 2, \"linecolor\": \"white\", \"showbackground\": true, \"ticks\": \"\", \"zerolinecolor\": \"white\"}, \"zaxis\": {\"backgroundcolor\": \"#E5ECF6\", \"gridcolor\": \"white\", \"gridwidth\": 2, \"linecolor\": \"white\", \"showbackground\": true, \"ticks\": \"\", \"zerolinecolor\": \"white\"}}, \"shapedefaults\": {\"line\": {\"color\": \"#2a3f5f\"}}, \"ternary\": {\"aaxis\": {\"gridcolor\": \"white\", \"linecolor\": \"white\", \"ticks\": \"\"}, \"baxis\": {\"gridcolor\": \"white\", \"linecolor\": \"white\", \"ticks\": \"\"}, \"bgcolor\": \"#E5ECF6\", \"caxis\": {\"gridcolor\": \"white\", \"linecolor\": \"white\", \"ticks\": \"\"}}, \"title\": {\"x\": 0.05}, \"xaxis\": {\"automargin\": true, \"gridcolor\": \"white\", \"linecolor\": \"white\", \"ticks\": \"\", \"title\": {\"standoff\": 15}, \"zerolinecolor\": \"white\", \"zerolinewidth\": 2}, \"yaxis\": {\"automargin\": true, \"gridcolor\": \"white\", \"linecolor\": \"white\", \"ticks\": \"\", \"title\": {\"standoff\": 15}, \"zerolinecolor\": \"white\", \"zerolinewidth\": 2}}}, \"title\": {\"font\": {\"color\": \"#4D5663\"}}, \"xaxis\": {\"gridcolor\": \"#E1E5ED\", \"showgrid\": true, \"tickfont\": {\"color\": \"#4D5663\"}, \"title\": {\"font\": {\"color\": \"#4D5663\"}, \"text\": \"\"}, \"zerolinecolor\": \"#E1E5ED\"}, \"yaxis\": {\"gridcolor\": \"#E1E5ED\", \"showgrid\": true, \"tickfont\": {\"color\": \"#4D5663\"}, \"title\": {\"font\": {\"color\": \"#4D5663\"}, \"text\": \"\"}, \"zerolinecolor\": \"#E1E5ED\"}},                        {\"showLink\": true, \"linkText\": \"Export to plot.ly\", \"plotlyServerURL\": \"https://plot.ly\", \"responsive\": true}                    ).then(function(){\n",
       "                            \n",
       "var gd = document.getElementById('1e103547-8368-4070-91ff-d848be6d4e92');\n",
       "var x = new MutationObserver(function (mutations, observer) {{\n",
       "        var display = window.getComputedStyle(gd).display;\n",
       "        if (!display || display === 'none') {{\n",
       "            console.log([gd, 'removed!']);\n",
       "            Plotly.purge(gd);\n",
       "            observer.disconnect();\n",
       "        }}\n",
       "}});\n",
       "\n",
       "// Listen for the removal of the full notebook cells\n",
       "var notebookContainer = gd.closest('#notebook-container');\n",
       "if (notebookContainer) {{\n",
       "    x.observe(notebookContainer, {childList: true});\n",
       "}}\n",
       "\n",
       "// Listen for the clearing of the current output cell\n",
       "var outputEl = gd.closest('.output');\n",
       "if (outputEl) {{\n",
       "    x.observe(outputEl, {childList: true});\n",
       "}}\n",
       "\n",
       "                        })                };                });            </script>        </div>"
      ]
     },
     "metadata": {},
     "output_type": "display_data"
    }
   ],
   "source": [
    "df['A'].iplot(kind='hist',bins=25)"
   ]
  },
  {
   "cell_type": "code",
   "execution_count": 38,
   "metadata": {},
   "outputs": [
    {
     "data": {
      "application/vnd.plotly.v1+json": {
       "config": {
        "linkText": "Export to plot.ly",
        "plotlyServerURL": "https://plot.ly",
        "showLink": true
       },
       "data": [
        {
         "marker": {
          "color": [
           "rgb(255, 153, 51)",
           "rgb(55, 128, 191)",
           "rgb(50, 171, 96)",
           "rgb(128, 0, 128)",
           "rgb(219, 64, 82)",
           "rgb(0, 128, 128)",
           "rgb(255, 255, 51)",
           "rgb(128, 128, 0)",
           "rgb(251, 128, 114)",
           "rgb(128, 177, 211)"
          ],
          "line": {
           "width": 1.3
          },
          "size": [
           49,
           55,
           65,
           40,
           68,
           26,
           94,
           44,
           71,
           99,
           57,
           65,
           57,
           54,
           83,
           90,
           89,
           55,
           100,
           54,
           49,
           82,
           65,
           76,
           76,
           79,
           71,
           34,
           87,
           57,
           77,
           69,
           111,
           53,
           86,
           81,
           94,
           58,
           32,
           79,
           56,
           74,
           74,
           82,
           50,
           20,
           55,
           38,
           59,
           64,
           78,
           70,
           109,
           43,
           62,
           71,
           59,
           43,
           73,
           55,
           64,
           59,
           75,
           74,
           72,
           85,
           73,
           58,
           51,
           24,
           75,
           83,
           55,
           58,
           20,
           79,
           47,
           61,
           111,
           41,
           84,
           51,
           50,
           62,
           75,
           79,
           60,
           98,
           50,
           28,
           56,
           12,
           62,
           72,
           75,
           58,
           43,
           43,
           12,
           52
          ],
          "symbol": "circle"
         },
         "mode": "markers",
         "text": "",
         "type": "scatter",
         "x": [
          -0.7847662484388648,
          0.5887290310128517,
          -0.5514071090214487,
          0.08840812267345483,
          -0.957132276940948,
          -0.1747201870186245,
          -0.775383100878524,
          0.4945756457748739,
          -0.45784395724355104,
          -0.7299542464491161,
          2.120508885901264,
          -2.2347271889052647,
          -0.216174711781822,
          -2.846486640307819,
          -0.5216053610061037,
          1.0601574186659917,
          -0.3979067592077603,
          1.8802233263322539,
          1.203817333279283,
          -0.8843606774688277,
          1.03031872907569,
          -0.4257523627376736,
          0.8729366328539484,
          0.7015791574627109,
          -0.38686542056186624,
          0.8413262603687331,
          0.05399293108518775,
          0.043179544666969855,
          -2.9220805766557323,
          0.08340038015300334,
          3.5137406018102793,
          0.06710822950599729,
          -0.8317463668012348,
          0.11787537086880737,
          -0.40091873975019443,
          -0.647274188279839,
          -1.2526617333340366,
          0.06122457684630888,
          -0.1444120037528103,
          -0.7903713996915007,
          -0.1232958328995701,
          1.026244203860463,
          0.24784413058545027,
          0.07654902167655836,
          0.6316802536407472,
          -1.3413050172070276,
          -1.4416712533630667,
          -0.10415219238574984,
          0.20676801944816472,
          -0.8887833483806576,
          -0.18089986860947765,
          -1.1791549223426931,
          0.8841397805651795,
          0.5430023355298771,
          -0.9259578970567877,
          0.6119061006624439,
          0.574018323672333,
          1.3093577253163893,
          0.5563033371402298,
          1.8136943649705675,
          -0.6442541240275126,
          2.0713926711402553,
          -1.0477806925379496,
          -1.2191288405576126,
          0.46833740043259986,
          -0.2272374953217602,
          -0.48093633214803955,
          0.9640139774346485,
          0.2698896656277988,
          0.08284925087705126,
          0.4891500704201871,
          0.740009758283557,
          -0.9394610595033338,
          1.0125457768568211,
          -0.6380799097814033,
          -0.532143093193377,
          0.7800276603962227,
          -0.6985563151031897,
          -0.9621143302322339,
          -0.6193184582765459,
          0.9043920195398775,
          -1.4522395983454406,
          -0.4893232211608719,
          -0.2642170873783527,
          0.8316859700169948,
          1.2489509315576732,
          -0.405229252832221,
          -0.3993210218041567,
          0.6301892319317067,
          -2.032615377066661,
          -0.2978316144783474,
          -0.7430723467788538,
          -0.05140898799930743,
          -1.6170545960302538,
          -0.04932390232689837,
          -0.8155700860817712,
          -1.7788024582795317,
          -1.6174420443715154,
          0.11267862990631071,
          1.2787293893763918
         ],
         "y": [
          0.5572145425894736,
          -0.45504520577696367,
          0.4397244784970589,
          -0.2763388377694911,
          -0.08571023954655589,
          -1.6755292215779456,
          -1.8334924719643624,
          -0.660543388652614,
          0.7078090548539063,
          -0.30404582808658714,
          0.7983154440193301,
          0.6389687724326867,
          -1.8050197876858236,
          -0.4025794005207336,
          0.3704656336659906,
          -0.747624783090879,
          -0.4392091376941933,
          -0.33047162205148,
          -0.1364354262968888,
          -0.8633476502974338,
          -0.16814011189850314,
          -1.4696332886345858,
          0.1585322391907727,
          -2.418076999992624,
          0.6622146788284973,
          0.8721367999555061,
          -1.25976348157494,
          1.8348088004628051,
          0.47688346565844086,
          0.14213908096085381,
          -1.8637299698264642,
          0.18280931235672152,
          1.2439722521750312,
          -0.3733871869316914,
          -2.1740967689550086,
          -0.15732638770451998,
          0.0633022732022018,
          -0.7790326367796533,
          -0.24491703017219643,
          0.5040191789600832,
          -0.9515995713121651,
          -0.8414065588473638,
          0.5955986478906864,
          0.7154922596789571,
          -0.0540021267028095,
          -0.045508513386948043,
          0.6119646956030508,
          1.1102705897798857,
          0.19750938669276072,
          -1.0931085199143398,
          -0.6088374888059043,
          0.879357016729816,
          -1.0545177862425543,
          -1.0615585452683487,
          -0.3395286389548686,
          0.9167954596280192,
          0.3056287217220758,
          1.1897269806627724,
          -0.5785892939226185,
          1.1882930981736926,
          -1.9453934420960646,
          0.40404565925308905,
          -0.47793302435649154,
          0.9554348023325204,
          -0.12910337890098902,
          -0.011338204028426009,
          -1.2864013072197011,
          1.9501586903960613,
          0.18449132473611274,
          -1.352778989230137,
          0.8139484363174008,
          -0.282173902035499,
          0.055616892028192616,
          1.1233026493199727,
          -0.06175109687338001,
          2.6230381340766007,
          -0.5766957704909688,
          -0.7597006964718782,
          -0.3769501067141862,
          -0.1760010222169406,
          2.688186774678746,
          -2.3362883690467933,
          -0.00034980439845702736,
          -0.3079688557143545,
          -0.4116002100009419,
          0.5599206118343988,
          0.16222988523787568,
          -0.3746644731060114,
          1.3783064233466986,
          -0.28963624409219874,
          0.48917493779357635,
          0.84254699744496,
          -0.16749916523803782,
          -0.44959956190182654,
          0.5678994707214291,
          0.05294747982035926,
          -0.5544304088936962,
          -0.41553679147877703,
          -1.9093260964550836,
          -0.11837954489758033
         ]
        }
       ],
       "layout": {
        "legend": {
         "bgcolor": "#F5F6F9",
         "font": {
          "color": "#4D5663"
         }
        },
        "paper_bgcolor": "#F5F6F9",
        "plot_bgcolor": "#F5F6F9",
        "template": {
         "data": {
          "bar": [
           {
            "error_x": {
             "color": "#2a3f5f"
            },
            "error_y": {
             "color": "#2a3f5f"
            },
            "marker": {
             "line": {
              "color": "#E5ECF6",
              "width": 0.5
             }
            },
            "type": "bar"
           }
          ],
          "barpolar": [
           {
            "marker": {
             "line": {
              "color": "#E5ECF6",
              "width": 0.5
             }
            },
            "type": "barpolar"
           }
          ],
          "carpet": [
           {
            "aaxis": {
             "endlinecolor": "#2a3f5f",
             "gridcolor": "white",
             "linecolor": "white",
             "minorgridcolor": "white",
             "startlinecolor": "#2a3f5f"
            },
            "baxis": {
             "endlinecolor": "#2a3f5f",
             "gridcolor": "white",
             "linecolor": "white",
             "minorgridcolor": "white",
             "startlinecolor": "#2a3f5f"
            },
            "type": "carpet"
           }
          ],
          "choropleth": [
           {
            "colorbar": {
             "outlinewidth": 0,
             "ticks": ""
            },
            "type": "choropleth"
           }
          ],
          "contour": [
           {
            "colorbar": {
             "outlinewidth": 0,
             "ticks": ""
            },
            "colorscale": [
             [
              0,
              "#0d0887"
             ],
             [
              0.1111111111111111,
              "#46039f"
             ],
             [
              0.2222222222222222,
              "#7201a8"
             ],
             [
              0.3333333333333333,
              "#9c179e"
             ],
             [
              0.4444444444444444,
              "#bd3786"
             ],
             [
              0.5555555555555556,
              "#d8576b"
             ],
             [
              0.6666666666666666,
              "#ed7953"
             ],
             [
              0.7777777777777778,
              "#fb9f3a"
             ],
             [
              0.8888888888888888,
              "#fdca26"
             ],
             [
              1,
              "#f0f921"
             ]
            ],
            "type": "contour"
           }
          ],
          "contourcarpet": [
           {
            "colorbar": {
             "outlinewidth": 0,
             "ticks": ""
            },
            "type": "contourcarpet"
           }
          ],
          "heatmap": [
           {
            "colorbar": {
             "outlinewidth": 0,
             "ticks": ""
            },
            "colorscale": [
             [
              0,
              "#0d0887"
             ],
             [
              0.1111111111111111,
              "#46039f"
             ],
             [
              0.2222222222222222,
              "#7201a8"
             ],
             [
              0.3333333333333333,
              "#9c179e"
             ],
             [
              0.4444444444444444,
              "#bd3786"
             ],
             [
              0.5555555555555556,
              "#d8576b"
             ],
             [
              0.6666666666666666,
              "#ed7953"
             ],
             [
              0.7777777777777778,
              "#fb9f3a"
             ],
             [
              0.8888888888888888,
              "#fdca26"
             ],
             [
              1,
              "#f0f921"
             ]
            ],
            "type": "heatmap"
           }
          ],
          "heatmapgl": [
           {
            "colorbar": {
             "outlinewidth": 0,
             "ticks": ""
            },
            "colorscale": [
             [
              0,
              "#0d0887"
             ],
             [
              0.1111111111111111,
              "#46039f"
             ],
             [
              0.2222222222222222,
              "#7201a8"
             ],
             [
              0.3333333333333333,
              "#9c179e"
             ],
             [
              0.4444444444444444,
              "#bd3786"
             ],
             [
              0.5555555555555556,
              "#d8576b"
             ],
             [
              0.6666666666666666,
              "#ed7953"
             ],
             [
              0.7777777777777778,
              "#fb9f3a"
             ],
             [
              0.8888888888888888,
              "#fdca26"
             ],
             [
              1,
              "#f0f921"
             ]
            ],
            "type": "heatmapgl"
           }
          ],
          "histogram": [
           {
            "marker": {
             "colorbar": {
              "outlinewidth": 0,
              "ticks": ""
             }
            },
            "type": "histogram"
           }
          ],
          "histogram2d": [
           {
            "colorbar": {
             "outlinewidth": 0,
             "ticks": ""
            },
            "colorscale": [
             [
              0,
              "#0d0887"
             ],
             [
              0.1111111111111111,
              "#46039f"
             ],
             [
              0.2222222222222222,
              "#7201a8"
             ],
             [
              0.3333333333333333,
              "#9c179e"
             ],
             [
              0.4444444444444444,
              "#bd3786"
             ],
             [
              0.5555555555555556,
              "#d8576b"
             ],
             [
              0.6666666666666666,
              "#ed7953"
             ],
             [
              0.7777777777777778,
              "#fb9f3a"
             ],
             [
              0.8888888888888888,
              "#fdca26"
             ],
             [
              1,
              "#f0f921"
             ]
            ],
            "type": "histogram2d"
           }
          ],
          "histogram2dcontour": [
           {
            "colorbar": {
             "outlinewidth": 0,
             "ticks": ""
            },
            "colorscale": [
             [
              0,
              "#0d0887"
             ],
             [
              0.1111111111111111,
              "#46039f"
             ],
             [
              0.2222222222222222,
              "#7201a8"
             ],
             [
              0.3333333333333333,
              "#9c179e"
             ],
             [
              0.4444444444444444,
              "#bd3786"
             ],
             [
              0.5555555555555556,
              "#d8576b"
             ],
             [
              0.6666666666666666,
              "#ed7953"
             ],
             [
              0.7777777777777778,
              "#fb9f3a"
             ],
             [
              0.8888888888888888,
              "#fdca26"
             ],
             [
              1,
              "#f0f921"
             ]
            ],
            "type": "histogram2dcontour"
           }
          ],
          "mesh3d": [
           {
            "colorbar": {
             "outlinewidth": 0,
             "ticks": ""
            },
            "type": "mesh3d"
           }
          ],
          "parcoords": [
           {
            "line": {
             "colorbar": {
              "outlinewidth": 0,
              "ticks": ""
             }
            },
            "type": "parcoords"
           }
          ],
          "pie": [
           {
            "automargin": true,
            "type": "pie"
           }
          ],
          "scatter": [
           {
            "marker": {
             "colorbar": {
              "outlinewidth": 0,
              "ticks": ""
             }
            },
            "type": "scatter"
           }
          ],
          "scatter3d": [
           {
            "line": {
             "colorbar": {
              "outlinewidth": 0,
              "ticks": ""
             }
            },
            "marker": {
             "colorbar": {
              "outlinewidth": 0,
              "ticks": ""
             }
            },
            "type": "scatter3d"
           }
          ],
          "scattercarpet": [
           {
            "marker": {
             "colorbar": {
              "outlinewidth": 0,
              "ticks": ""
             }
            },
            "type": "scattercarpet"
           }
          ],
          "scattergeo": [
           {
            "marker": {
             "colorbar": {
              "outlinewidth": 0,
              "ticks": ""
             }
            },
            "type": "scattergeo"
           }
          ],
          "scattergl": [
           {
            "marker": {
             "colorbar": {
              "outlinewidth": 0,
              "ticks": ""
             }
            },
            "type": "scattergl"
           }
          ],
          "scattermapbox": [
           {
            "marker": {
             "colorbar": {
              "outlinewidth": 0,
              "ticks": ""
             }
            },
            "type": "scattermapbox"
           }
          ],
          "scatterpolar": [
           {
            "marker": {
             "colorbar": {
              "outlinewidth": 0,
              "ticks": ""
             }
            },
            "type": "scatterpolar"
           }
          ],
          "scatterpolargl": [
           {
            "marker": {
             "colorbar": {
              "outlinewidth": 0,
              "ticks": ""
             }
            },
            "type": "scatterpolargl"
           }
          ],
          "scatterternary": [
           {
            "marker": {
             "colorbar": {
              "outlinewidth": 0,
              "ticks": ""
             }
            },
            "type": "scatterternary"
           }
          ],
          "surface": [
           {
            "colorbar": {
             "outlinewidth": 0,
             "ticks": ""
            },
            "colorscale": [
             [
              0,
              "#0d0887"
             ],
             [
              0.1111111111111111,
              "#46039f"
             ],
             [
              0.2222222222222222,
              "#7201a8"
             ],
             [
              0.3333333333333333,
              "#9c179e"
             ],
             [
              0.4444444444444444,
              "#bd3786"
             ],
             [
              0.5555555555555556,
              "#d8576b"
             ],
             [
              0.6666666666666666,
              "#ed7953"
             ],
             [
              0.7777777777777778,
              "#fb9f3a"
             ],
             [
              0.8888888888888888,
              "#fdca26"
             ],
             [
              1,
              "#f0f921"
             ]
            ],
            "type": "surface"
           }
          ],
          "table": [
           {
            "cells": {
             "fill": {
              "color": "#EBF0F8"
             },
             "line": {
              "color": "white"
             }
            },
            "header": {
             "fill": {
              "color": "#C8D4E3"
             },
             "line": {
              "color": "white"
             }
            },
            "type": "table"
           }
          ]
         },
         "layout": {
          "annotationdefaults": {
           "arrowcolor": "#2a3f5f",
           "arrowhead": 0,
           "arrowwidth": 1
          },
          "autotypenumbers": "strict",
          "coloraxis": {
           "colorbar": {
            "outlinewidth": 0,
            "ticks": ""
           }
          },
          "colorscale": {
           "diverging": [
            [
             0,
             "#8e0152"
            ],
            [
             0.1,
             "#c51b7d"
            ],
            [
             0.2,
             "#de77ae"
            ],
            [
             0.3,
             "#f1b6da"
            ],
            [
             0.4,
             "#fde0ef"
            ],
            [
             0.5,
             "#f7f7f7"
            ],
            [
             0.6,
             "#e6f5d0"
            ],
            [
             0.7,
             "#b8e186"
            ],
            [
             0.8,
             "#7fbc41"
            ],
            [
             0.9,
             "#4d9221"
            ],
            [
             1,
             "#276419"
            ]
           ],
           "sequential": [
            [
             0,
             "#0d0887"
            ],
            [
             0.1111111111111111,
             "#46039f"
            ],
            [
             0.2222222222222222,
             "#7201a8"
            ],
            [
             0.3333333333333333,
             "#9c179e"
            ],
            [
             0.4444444444444444,
             "#bd3786"
            ],
            [
             0.5555555555555556,
             "#d8576b"
            ],
            [
             0.6666666666666666,
             "#ed7953"
            ],
            [
             0.7777777777777778,
             "#fb9f3a"
            ],
            [
             0.8888888888888888,
             "#fdca26"
            ],
            [
             1,
             "#f0f921"
            ]
           ],
           "sequentialminus": [
            [
             0,
             "#0d0887"
            ],
            [
             0.1111111111111111,
             "#46039f"
            ],
            [
             0.2222222222222222,
             "#7201a8"
            ],
            [
             0.3333333333333333,
             "#9c179e"
            ],
            [
             0.4444444444444444,
             "#bd3786"
            ],
            [
             0.5555555555555556,
             "#d8576b"
            ],
            [
             0.6666666666666666,
             "#ed7953"
            ],
            [
             0.7777777777777778,
             "#fb9f3a"
            ],
            [
             0.8888888888888888,
             "#fdca26"
            ],
            [
             1,
             "#f0f921"
            ]
           ]
          },
          "colorway": [
           "#636efa",
           "#EF553B",
           "#00cc96",
           "#ab63fa",
           "#FFA15A",
           "#19d3f3",
           "#FF6692",
           "#B6E880",
           "#FF97FF",
           "#FECB52"
          ],
          "font": {
           "color": "#2a3f5f"
          },
          "geo": {
           "bgcolor": "white",
           "lakecolor": "white",
           "landcolor": "#E5ECF6",
           "showlakes": true,
           "showland": true,
           "subunitcolor": "white"
          },
          "hoverlabel": {
           "align": "left"
          },
          "hovermode": "closest",
          "mapbox": {
           "style": "light"
          },
          "paper_bgcolor": "white",
          "plot_bgcolor": "#E5ECF6",
          "polar": {
           "angularaxis": {
            "gridcolor": "white",
            "linecolor": "white",
            "ticks": ""
           },
           "bgcolor": "#E5ECF6",
           "radialaxis": {
            "gridcolor": "white",
            "linecolor": "white",
            "ticks": ""
           }
          },
          "scene": {
           "xaxis": {
            "backgroundcolor": "#E5ECF6",
            "gridcolor": "white",
            "gridwidth": 2,
            "linecolor": "white",
            "showbackground": true,
            "ticks": "",
            "zerolinecolor": "white"
           },
           "yaxis": {
            "backgroundcolor": "#E5ECF6",
            "gridcolor": "white",
            "gridwidth": 2,
            "linecolor": "white",
            "showbackground": true,
            "ticks": "",
            "zerolinecolor": "white"
           },
           "zaxis": {
            "backgroundcolor": "#E5ECF6",
            "gridcolor": "white",
            "gridwidth": 2,
            "linecolor": "white",
            "showbackground": true,
            "ticks": "",
            "zerolinecolor": "white"
           }
          },
          "shapedefaults": {
           "line": {
            "color": "#2a3f5f"
           }
          },
          "ternary": {
           "aaxis": {
            "gridcolor": "white",
            "linecolor": "white",
            "ticks": ""
           },
           "baxis": {
            "gridcolor": "white",
            "linecolor": "white",
            "ticks": ""
           },
           "bgcolor": "#E5ECF6",
           "caxis": {
            "gridcolor": "white",
            "linecolor": "white",
            "ticks": ""
           }
          },
          "title": {
           "x": 0.05
          },
          "xaxis": {
           "automargin": true,
           "gridcolor": "white",
           "linecolor": "white",
           "ticks": "",
           "title": {
            "standoff": 15
           },
           "zerolinecolor": "white",
           "zerolinewidth": 2
          },
          "yaxis": {
           "automargin": true,
           "gridcolor": "white",
           "linecolor": "white",
           "ticks": "",
           "title": {
            "standoff": 15
           },
           "zerolinecolor": "white",
           "zerolinewidth": 2
          }
         }
        },
        "title": {
         "font": {
          "color": "#4D5663"
         }
        },
        "xaxis": {
         "gridcolor": "#E1E5ED",
         "showgrid": true,
         "tickfont": {
          "color": "#4D5663"
         },
         "title": {
          "font": {
           "color": "#4D5663"
          },
          "text": ""
         },
         "zerolinecolor": "#E1E5ED"
        },
        "yaxis": {
         "gridcolor": "#E1E5ED",
         "showgrid": true,
         "tickfont": {
          "color": "#4D5663"
         },
         "title": {
          "font": {
           "color": "#4D5663"
          },
          "text": ""
         },
         "zerolinecolor": "#E1E5ED"
        }
       }
      },
      "text/html": [
       "<div>                            <div id=\"2334f7ca-e25a-4563-8c9c-9ae6ae8bc356\" class=\"plotly-graph-div\" style=\"height:525px; width:100%;\"></div>            <script type=\"text/javascript\">                require([\"plotly\"], function(Plotly) {                    window.PLOTLYENV=window.PLOTLYENV || {};\n",
       "                    window.PLOTLYENV.BASE_URL='https://plot.ly';                                    if (document.getElementById(\"2334f7ca-e25a-4563-8c9c-9ae6ae8bc356\")) {                    Plotly.newPlot(                        \"2334f7ca-e25a-4563-8c9c-9ae6ae8bc356\",                        [{\"marker\": {\"color\": [\"rgb(255, 153, 51)\", \"rgb(55, 128, 191)\", \"rgb(50, 171, 96)\", \"rgb(128, 0, 128)\", \"rgb(219, 64, 82)\", \"rgb(0, 128, 128)\", \"rgb(255, 255, 51)\", \"rgb(128, 128, 0)\", \"rgb(251, 128, 114)\", \"rgb(128, 177, 211)\"], \"line\": {\"width\": 1.3}, \"size\": [49, 55, 65, 40, 68, 26, 94, 44, 71, 99, 57, 65, 57, 54, 83, 90, 89, 55, 100, 54, 49, 82, 65, 76, 76, 79, 71, 34, 87, 57, 77, 69, 111, 53, 86, 81, 94, 58, 32, 79, 56, 74, 74, 82, 50, 20, 55, 38, 59, 64, 78, 70, 109, 43, 62, 71, 59, 43, 73, 55, 64, 59, 75, 74, 72, 85, 73, 58, 51, 24, 75, 83, 55, 58, 20, 79, 47, 61, 111, 41, 84, 51, 50, 62, 75, 79, 60, 98, 50, 28, 56, 12, 62, 72, 75, 58, 43, 43, 12, 52], \"symbol\": \"circle\"}, \"mode\": \"markers\", \"text\": \"\", \"type\": \"scatter\", \"x\": [-0.7847662484388648, 0.5887290310128517, -0.5514071090214487, 0.08840812267345483, -0.957132276940948, -0.1747201870186245, -0.775383100878524, 0.4945756457748739, -0.45784395724355104, -0.7299542464491161, 2.120508885901264, -2.2347271889052647, -0.216174711781822, -2.846486640307819, -0.5216053610061037, 1.0601574186659917, -0.3979067592077603, 1.8802233263322539, 1.203817333279283, -0.8843606774688277, 1.03031872907569, -0.4257523627376736, 0.8729366328539484, 0.7015791574627109, -0.38686542056186624, 0.8413262603687331, 0.05399293108518775, 0.043179544666969855, -2.9220805766557323, 0.08340038015300334, 3.5137406018102793, 0.06710822950599729, -0.8317463668012348, 0.11787537086880737, -0.40091873975019443, -0.647274188279839, -1.2526617333340366, 0.06122457684630888, -0.1444120037528103, -0.7903713996915007, -0.1232958328995701, 1.026244203860463, 0.24784413058545027, 0.07654902167655836, 0.6316802536407472, -1.3413050172070276, -1.4416712533630667, -0.10415219238574984, 0.20676801944816472, -0.8887833483806576, -0.18089986860947765, -1.1791549223426931, 0.8841397805651795, 0.5430023355298771, -0.9259578970567877, 0.6119061006624439, 0.574018323672333, 1.3093577253163893, 0.5563033371402298, 1.8136943649705675, -0.6442541240275126, 2.0713926711402553, -1.0477806925379496, -1.2191288405576126, 0.46833740043259986, -0.2272374953217602, -0.48093633214803955, 0.9640139774346485, 0.2698896656277988, 0.08284925087705126, 0.4891500704201871, 0.740009758283557, -0.9394610595033338, 1.0125457768568211, -0.6380799097814033, -0.532143093193377, 0.7800276603962227, -0.6985563151031897, -0.9621143302322339, -0.6193184582765459, 0.9043920195398775, -1.4522395983454406, -0.4893232211608719, -0.2642170873783527, 0.8316859700169948, 1.2489509315576732, -0.405229252832221, -0.3993210218041567, 0.6301892319317067, -2.032615377066661, -0.2978316144783474, -0.7430723467788538, -0.05140898799930743, -1.6170545960302538, -0.04932390232689837, -0.8155700860817712, -1.7788024582795317, -1.6174420443715154, 0.11267862990631071, 1.2787293893763918], \"y\": [0.5572145425894736, -0.45504520577696367, 0.4397244784970589, -0.2763388377694911, -0.08571023954655589, -1.6755292215779456, -1.8334924719643624, -0.660543388652614, 0.7078090548539063, -0.30404582808658714, 0.7983154440193301, 0.6389687724326867, -1.8050197876858236, -0.4025794005207336, 0.3704656336659906, -0.747624783090879, -0.4392091376941933, -0.33047162205148, -0.1364354262968888, -0.8633476502974338, -0.16814011189850314, -1.4696332886345858, 0.1585322391907727, -2.418076999992624, 0.6622146788284973, 0.8721367999555061, -1.25976348157494, 1.8348088004628051, 0.47688346565844086, 0.14213908096085381, -1.8637299698264642, 0.18280931235672152, 1.2439722521750312, -0.3733871869316914, -2.1740967689550086, -0.15732638770451998, 0.0633022732022018, -0.7790326367796533, -0.24491703017219643, 0.5040191789600832, -0.9515995713121651, -0.8414065588473638, 0.5955986478906864, 0.7154922596789571, -0.0540021267028095, -0.045508513386948043, 0.6119646956030508, 1.1102705897798857, 0.19750938669276072, -1.0931085199143398, -0.6088374888059043, 0.879357016729816, -1.0545177862425543, -1.0615585452683487, -0.3395286389548686, 0.9167954596280192, 0.3056287217220758, 1.1897269806627724, -0.5785892939226185, 1.1882930981736926, -1.9453934420960646, 0.40404565925308905, -0.47793302435649154, 0.9554348023325204, -0.12910337890098902, -0.011338204028426009, -1.2864013072197011, 1.9501586903960613, 0.18449132473611274, -1.352778989230137, 0.8139484363174008, -0.282173902035499, 0.055616892028192616, 1.1233026493199727, -0.06175109687338001, 2.6230381340766007, -0.5766957704909688, -0.7597006964718782, -0.3769501067141862, -0.1760010222169406, 2.688186774678746, -2.3362883690467933, -0.00034980439845702736, -0.3079688557143545, -0.4116002100009419, 0.5599206118343988, 0.16222988523787568, -0.3746644731060114, 1.3783064233466986, -0.28963624409219874, 0.48917493779357635, 0.84254699744496, -0.16749916523803782, -0.44959956190182654, 0.5678994707214291, 0.05294747982035926, -0.5544304088936962, -0.41553679147877703, -1.9093260964550836, -0.11837954489758033]}],                        {\"legend\": {\"bgcolor\": \"#F5F6F9\", \"font\": {\"color\": \"#4D5663\"}}, \"paper_bgcolor\": \"#F5F6F9\", \"plot_bgcolor\": \"#F5F6F9\", \"template\": {\"data\": {\"bar\": [{\"error_x\": {\"color\": \"#2a3f5f\"}, \"error_y\": {\"color\": \"#2a3f5f\"}, \"marker\": {\"line\": {\"color\": \"#E5ECF6\", \"width\": 0.5}}, \"type\": \"bar\"}], \"barpolar\": [{\"marker\": {\"line\": {\"color\": \"#E5ECF6\", \"width\": 0.5}}, \"type\": \"barpolar\"}], \"carpet\": [{\"aaxis\": {\"endlinecolor\": \"#2a3f5f\", \"gridcolor\": \"white\", \"linecolor\": \"white\", \"minorgridcolor\": \"white\", \"startlinecolor\": \"#2a3f5f\"}, \"baxis\": {\"endlinecolor\": \"#2a3f5f\", \"gridcolor\": \"white\", \"linecolor\": \"white\", \"minorgridcolor\": \"white\", \"startlinecolor\": \"#2a3f5f\"}, \"type\": \"carpet\"}], \"choropleth\": [{\"colorbar\": {\"outlinewidth\": 0, \"ticks\": \"\"}, \"type\": \"choropleth\"}], \"contour\": [{\"colorbar\": {\"outlinewidth\": 0, \"ticks\": \"\"}, \"colorscale\": [[0.0, \"#0d0887\"], [0.1111111111111111, \"#46039f\"], [0.2222222222222222, \"#7201a8\"], [0.3333333333333333, \"#9c179e\"], [0.4444444444444444, \"#bd3786\"], [0.5555555555555556, \"#d8576b\"], [0.6666666666666666, \"#ed7953\"], [0.7777777777777778, \"#fb9f3a\"], [0.8888888888888888, \"#fdca26\"], [1.0, \"#f0f921\"]], \"type\": \"contour\"}], \"contourcarpet\": [{\"colorbar\": {\"outlinewidth\": 0, \"ticks\": \"\"}, \"type\": \"contourcarpet\"}], \"heatmap\": [{\"colorbar\": {\"outlinewidth\": 0, \"ticks\": \"\"}, \"colorscale\": [[0.0, \"#0d0887\"], [0.1111111111111111, \"#46039f\"], [0.2222222222222222, \"#7201a8\"], [0.3333333333333333, \"#9c179e\"], [0.4444444444444444, \"#bd3786\"], [0.5555555555555556, \"#d8576b\"], [0.6666666666666666, \"#ed7953\"], [0.7777777777777778, \"#fb9f3a\"], [0.8888888888888888, \"#fdca26\"], [1.0, \"#f0f921\"]], \"type\": \"heatmap\"}], \"heatmapgl\": [{\"colorbar\": {\"outlinewidth\": 0, \"ticks\": \"\"}, \"colorscale\": [[0.0, \"#0d0887\"], [0.1111111111111111, \"#46039f\"], [0.2222222222222222, \"#7201a8\"], [0.3333333333333333, \"#9c179e\"], [0.4444444444444444, \"#bd3786\"], [0.5555555555555556, \"#d8576b\"], [0.6666666666666666, \"#ed7953\"], [0.7777777777777778, \"#fb9f3a\"], [0.8888888888888888, \"#fdca26\"], [1.0, \"#f0f921\"]], \"type\": \"heatmapgl\"}], \"histogram\": [{\"marker\": {\"colorbar\": {\"outlinewidth\": 0, \"ticks\": \"\"}}, \"type\": \"histogram\"}], \"histogram2d\": [{\"colorbar\": {\"outlinewidth\": 0, \"ticks\": \"\"}, \"colorscale\": [[0.0, \"#0d0887\"], [0.1111111111111111, \"#46039f\"], [0.2222222222222222, \"#7201a8\"], [0.3333333333333333, \"#9c179e\"], [0.4444444444444444, \"#bd3786\"], [0.5555555555555556, \"#d8576b\"], [0.6666666666666666, \"#ed7953\"], [0.7777777777777778, \"#fb9f3a\"], [0.8888888888888888, \"#fdca26\"], [1.0, \"#f0f921\"]], \"type\": \"histogram2d\"}], \"histogram2dcontour\": [{\"colorbar\": {\"outlinewidth\": 0, \"ticks\": \"\"}, \"colorscale\": [[0.0, \"#0d0887\"], [0.1111111111111111, \"#46039f\"], [0.2222222222222222, \"#7201a8\"], [0.3333333333333333, \"#9c179e\"], [0.4444444444444444, \"#bd3786\"], [0.5555555555555556, \"#d8576b\"], [0.6666666666666666, \"#ed7953\"], [0.7777777777777778, \"#fb9f3a\"], [0.8888888888888888, \"#fdca26\"], [1.0, \"#f0f921\"]], \"type\": \"histogram2dcontour\"}], \"mesh3d\": [{\"colorbar\": {\"outlinewidth\": 0, \"ticks\": \"\"}, \"type\": \"mesh3d\"}], \"parcoords\": [{\"line\": {\"colorbar\": {\"outlinewidth\": 0, \"ticks\": \"\"}}, \"type\": \"parcoords\"}], \"pie\": [{\"automargin\": true, \"type\": \"pie\"}], \"scatter\": [{\"marker\": {\"colorbar\": {\"outlinewidth\": 0, \"ticks\": \"\"}}, \"type\": \"scatter\"}], \"scatter3d\": [{\"line\": {\"colorbar\": {\"outlinewidth\": 0, \"ticks\": \"\"}}, \"marker\": {\"colorbar\": {\"outlinewidth\": 0, \"ticks\": \"\"}}, \"type\": \"scatter3d\"}], \"scattercarpet\": [{\"marker\": {\"colorbar\": {\"outlinewidth\": 0, \"ticks\": \"\"}}, \"type\": \"scattercarpet\"}], \"scattergeo\": [{\"marker\": {\"colorbar\": {\"outlinewidth\": 0, \"ticks\": \"\"}}, \"type\": \"scattergeo\"}], \"scattergl\": [{\"marker\": {\"colorbar\": {\"outlinewidth\": 0, \"ticks\": \"\"}}, \"type\": \"scattergl\"}], \"scattermapbox\": [{\"marker\": {\"colorbar\": {\"outlinewidth\": 0, \"ticks\": \"\"}}, \"type\": \"scattermapbox\"}], \"scatterpolar\": [{\"marker\": {\"colorbar\": {\"outlinewidth\": 0, \"ticks\": \"\"}}, \"type\": \"scatterpolar\"}], \"scatterpolargl\": [{\"marker\": {\"colorbar\": {\"outlinewidth\": 0, \"ticks\": \"\"}}, \"type\": \"scatterpolargl\"}], \"scatterternary\": [{\"marker\": {\"colorbar\": {\"outlinewidth\": 0, \"ticks\": \"\"}}, \"type\": \"scatterternary\"}], \"surface\": [{\"colorbar\": {\"outlinewidth\": 0, \"ticks\": \"\"}, \"colorscale\": [[0.0, \"#0d0887\"], [0.1111111111111111, \"#46039f\"], [0.2222222222222222, \"#7201a8\"], [0.3333333333333333, \"#9c179e\"], [0.4444444444444444, \"#bd3786\"], [0.5555555555555556, \"#d8576b\"], [0.6666666666666666, \"#ed7953\"], [0.7777777777777778, \"#fb9f3a\"], [0.8888888888888888, \"#fdca26\"], [1.0, \"#f0f921\"]], \"type\": \"surface\"}], \"table\": [{\"cells\": {\"fill\": {\"color\": \"#EBF0F8\"}, \"line\": {\"color\": \"white\"}}, \"header\": {\"fill\": {\"color\": \"#C8D4E3\"}, \"line\": {\"color\": \"white\"}}, \"type\": \"table\"}]}, \"layout\": {\"annotationdefaults\": {\"arrowcolor\": \"#2a3f5f\", \"arrowhead\": 0, \"arrowwidth\": 1}, \"autotypenumbers\": \"strict\", \"coloraxis\": {\"colorbar\": {\"outlinewidth\": 0, \"ticks\": \"\"}}, \"colorscale\": {\"diverging\": [[0, \"#8e0152\"], [0.1, \"#c51b7d\"], [0.2, \"#de77ae\"], [0.3, \"#f1b6da\"], [0.4, \"#fde0ef\"], [0.5, \"#f7f7f7\"], [0.6, \"#e6f5d0\"], [0.7, \"#b8e186\"], [0.8, \"#7fbc41\"], [0.9, \"#4d9221\"], [1, \"#276419\"]], \"sequential\": [[0.0, \"#0d0887\"], [0.1111111111111111, \"#46039f\"], [0.2222222222222222, \"#7201a8\"], [0.3333333333333333, \"#9c179e\"], [0.4444444444444444, \"#bd3786\"], [0.5555555555555556, \"#d8576b\"], [0.6666666666666666, \"#ed7953\"], [0.7777777777777778, \"#fb9f3a\"], [0.8888888888888888, \"#fdca26\"], [1.0, \"#f0f921\"]], \"sequentialminus\": [[0.0, \"#0d0887\"], [0.1111111111111111, \"#46039f\"], [0.2222222222222222, \"#7201a8\"], [0.3333333333333333, \"#9c179e\"], [0.4444444444444444, \"#bd3786\"], [0.5555555555555556, \"#d8576b\"], [0.6666666666666666, \"#ed7953\"], [0.7777777777777778, \"#fb9f3a\"], [0.8888888888888888, \"#fdca26\"], [1.0, \"#f0f921\"]]}, \"colorway\": [\"#636efa\", \"#EF553B\", \"#00cc96\", \"#ab63fa\", \"#FFA15A\", \"#19d3f3\", \"#FF6692\", \"#B6E880\", \"#FF97FF\", \"#FECB52\"], \"font\": {\"color\": \"#2a3f5f\"}, \"geo\": {\"bgcolor\": \"white\", \"lakecolor\": \"white\", \"landcolor\": \"#E5ECF6\", \"showlakes\": true, \"showland\": true, \"subunitcolor\": \"white\"}, \"hoverlabel\": {\"align\": \"left\"}, \"hovermode\": \"closest\", \"mapbox\": {\"style\": \"light\"}, \"paper_bgcolor\": \"white\", \"plot_bgcolor\": \"#E5ECF6\", \"polar\": {\"angularaxis\": {\"gridcolor\": \"white\", \"linecolor\": \"white\", \"ticks\": \"\"}, \"bgcolor\": \"#E5ECF6\", \"radialaxis\": {\"gridcolor\": \"white\", \"linecolor\": \"white\", \"ticks\": \"\"}}, \"scene\": {\"xaxis\": {\"backgroundcolor\": \"#E5ECF6\", \"gridcolor\": \"white\", \"gridwidth\": 2, \"linecolor\": \"white\", \"showbackground\": true, \"ticks\": \"\", \"zerolinecolor\": \"white\"}, \"yaxis\": {\"backgroundcolor\": \"#E5ECF6\", \"gridcolor\": \"white\", \"gridwidth\": 2, \"linecolor\": \"white\", \"showbackground\": true, \"ticks\": \"\", \"zerolinecolor\": \"white\"}, \"zaxis\": {\"backgroundcolor\": \"#E5ECF6\", \"gridcolor\": \"white\", \"gridwidth\": 2, \"linecolor\": \"white\", \"showbackground\": true, \"ticks\": \"\", \"zerolinecolor\": \"white\"}}, \"shapedefaults\": {\"line\": {\"color\": \"#2a3f5f\"}}, \"ternary\": {\"aaxis\": {\"gridcolor\": \"white\", \"linecolor\": \"white\", \"ticks\": \"\"}, \"baxis\": {\"gridcolor\": \"white\", \"linecolor\": \"white\", \"ticks\": \"\"}, \"bgcolor\": \"#E5ECF6\", \"caxis\": {\"gridcolor\": \"white\", \"linecolor\": \"white\", \"ticks\": \"\"}}, \"title\": {\"x\": 0.05}, \"xaxis\": {\"automargin\": true, \"gridcolor\": \"white\", \"linecolor\": \"white\", \"ticks\": \"\", \"title\": {\"standoff\": 15}, \"zerolinecolor\": \"white\", \"zerolinewidth\": 2}, \"yaxis\": {\"automargin\": true, \"gridcolor\": \"white\", \"linecolor\": \"white\", \"ticks\": \"\", \"title\": {\"standoff\": 15}, \"zerolinecolor\": \"white\", \"zerolinewidth\": 2}}}, \"title\": {\"font\": {\"color\": \"#4D5663\"}}, \"xaxis\": {\"gridcolor\": \"#E1E5ED\", \"showgrid\": true, \"tickfont\": {\"color\": \"#4D5663\"}, \"title\": {\"font\": {\"color\": \"#4D5663\"}, \"text\": \"\"}, \"zerolinecolor\": \"#E1E5ED\"}, \"yaxis\": {\"gridcolor\": \"#E1E5ED\", \"showgrid\": true, \"tickfont\": {\"color\": \"#4D5663\"}, \"title\": {\"font\": {\"color\": \"#4D5663\"}, \"text\": \"\"}, \"zerolinecolor\": \"#E1E5ED\"}},                        {\"showLink\": true, \"linkText\": \"Export to plot.ly\", \"plotlyServerURL\": \"https://plot.ly\", \"responsive\": true}                    ).then(function(){\n",
       "                            \n",
       "var gd = document.getElementById('2334f7ca-e25a-4563-8c9c-9ae6ae8bc356');\n",
       "var x = new MutationObserver(function (mutations, observer) {{\n",
       "        var display = window.getComputedStyle(gd).display;\n",
       "        if (!display || display === 'none') {{\n",
       "            console.log([gd, 'removed!']);\n",
       "            Plotly.purge(gd);\n",
       "            observer.disconnect();\n",
       "        }}\n",
       "}});\n",
       "\n",
       "// Listen for the removal of the full notebook cells\n",
       "var notebookContainer = gd.closest('#notebook-container');\n",
       "if (notebookContainer) {{\n",
       "    x.observe(notebookContainer, {childList: true});\n",
       "}}\n",
       "\n",
       "// Listen for the clearing of the current output cell\n",
       "var outputEl = gd.closest('.output');\n",
       "if (outputEl) {{\n",
       "    x.observe(outputEl, {childList: true});\n",
       "}}\n",
       "\n",
       "                        })                };                });            </script>        </div>"
      ]
     },
     "metadata": {},
     "output_type": "display_data"
    }
   ],
   "source": [
    "df.iplot(kind='bubble',x='A',y='B',size='C')"
   ]
  },
  {
   "cell_type": "markdown",
   "metadata": {},
   "source": [
    "## scatter_matrix()\n",
    "\n",
    "Similar a sns.pairplot()"
   ]
  },
  {
   "cell_type": "code",
   "execution_count": 13,
   "metadata": {},
   "outputs": [
    {
     "data": {
      "application/vnd.plotly.v1+json": {
       "config": {
        "linkText": "Export to plot.ly",
        "plotlyServerURL": "https://plot.ly",
        "showLink": true
       },
       "data": [
        {
         "histfunc": "count",
         "histnorm": "",
         "marker": {
          "color": "rgba(255, 153, 51, 1.0)",
          "line": {
           "color": "#4D5663",
           "width": 1.3
          }
         },
         "name": "A",
         "nbinsx": 10,
         "opacity": 0.8,
         "orientation": "v",
         "type": "histogram",
         "x": [
          -1.0195385963187849,
          1.1015943866068003,
          0.565322916737536,
          -0.5424284895484377,
          -0.32566226944201476,
          1.3333580414602808,
          -0.8882935417582444,
          0.573084622763612,
          -1.600582981777984,
          0.2962440326176717,
          -0.3255987463598287,
          0.4144242488662172,
          -1.0526878096406618,
          -1.079751691163813,
          0.44468732716120624,
          0.49214489354581953,
          -0.4176729612012741,
          -1.2433661966590415,
          -1.0593292659248816,
          0.2555303994444098,
          1.3988763770711914,
          -0.13508460667466193,
          0.8801931903209784,
          -0.009713307420049045,
          0.08537533507598072,
          0.1777838421614929,
          -1.271693389664294,
          -0.052062887286873284,
          -1.2786010696930032,
          0.3951169412497632,
          -0.007129080368495911,
          0.24931082591451678,
          -1.3074436240953813,
          0.39262035657229377,
          0.16895832011791706,
          0.15320171003133856,
          0.4529690184927029,
          0.5675748558086052,
          -1.038916265731738,
          0.03080254388823513,
          -0.6550524357879981,
          -0.00963038602457602,
          -0.43923332854400204,
          -1.4682191809450431,
          0.11302991912004492,
          -0.7131088037710968,
          -0.3074503195357637,
          -0.9652556704332182,
          -0.5171097999789459,
          1.7013367191358348,
          0.056091762858178434,
          0.2007988890983905,
          -0.5543052937490693,
          0.6937944914951706,
          0.6669048002314144,
          0.59369902089003,
          -1.713836342591796,
          1.1138274799032772,
          0.9254577425491017,
          -1.143153861907134,
          -1.3186559413350674,
          0.39093587426554083,
          -2.2957843371048012,
          -0.047664705487196195,
          1.0581371609309211,
          0.30828978169977284,
          1.5021689850009483,
          -0.8165629998636657,
          -0.1530680681408224,
          -0.07521140061589364,
          -1.766655219574804,
          0.30466812087753004,
          1.0818447459395093,
          -0.8478457275864004,
          0.414533929031304,
          -1.0957094470237285,
          -0.6418639427476324,
          1.4450146182774097,
          1.3804084393844278,
          -1.115216408942094,
          -0.0798960622493228,
          -2.2853903926292385,
          -0.06460200203963314,
          -0.3538865661985639,
          -1.1972065067795628,
          0.045213040450247016,
          1.1339678979236238,
          -0.5316805072703285,
          0.003961027654528789,
          -1.0175911801095872,
          -0.39943629619858767,
          -0.646145382985172,
          -1.9346472258288518,
          -0.22139498946193603,
          -0.616262445072994,
          0.0664818373185558,
          -0.2152707163604317,
          0.7858907677940824,
          -1.1785824127352216,
          -0.6779173459311484
         ],
         "xaxis": "x",
         "yaxis": "y"
        },
        {
         "line": {
          "color": "rgba(128, 128, 128, 1.0)",
          "dash": "solid",
          "shape": "linear",
          "width": 1.3
         },
         "marker": {
          "size": 2,
          "symbol": "circle"
         },
         "mode": "markers",
         "name": "A",
         "text": "",
         "type": "scatter",
         "x": [
          0.05084052415534849,
          0.4448926667384461,
          -0.5165006805648271,
          -1.0217481899569538,
          2.918916860488833,
          0.7119834105490889,
          -0.12598219184572093,
          1.7446505200029419,
          0.07448195798863841,
          -0.4367454374327472,
          2.001312602465858,
          0.8626677261130298,
          -0.7832646582342923,
          -1.4699780709897277,
          -0.14922984973037076,
          0.29187556277665405,
          -1.86438093315328,
          -0.9463531776956947,
          1.0018939862271918,
          -0.34174690341712166,
          -0.9608689994165556,
          0.37152716650134315,
          1.2680288231103298,
          -0.6230457517284945,
          -2.328812174302247,
          0.3024388389452721,
          0.12181850117223207,
          0.46424692550993446,
          2.0207808094668818,
          1.4510874303547483,
          -1.836459556297738,
          -1.2540393269655528,
          0.9811131035778574,
          -2.4255879762977304,
          -0.07892959167407539,
          -0.45258843538951654,
          -0.9237149248290297,
          2.027895768151158,
          -0.15741428062768711,
          1.0621556956587694,
          0.22627487908670568,
          0.8972177322808671,
          -0.1852713126252378,
          -1.7127052110108827,
          0.4266369122608103,
          -0.4934032996758012,
          0.09126560127006829,
          1.420832341876129,
          -0.226925419286172,
          0.34854293270965647,
          1.2047457905809145,
          0.14374022217106794,
          -0.9209836977121332,
          0.4372250721685303,
          0.275097080721775,
          -1.2319795109830607,
          0.05807780757368901,
          1.4050083175299108,
          1.2856506736655673,
          -1.384326860093379,
          0.4550192051180061,
          1.400525929182616,
          -0.7836114813867611,
          1.3036820975574719,
          0.37351025358713613,
          -0.2913411851716362,
          -0.5406291701996493,
          0.17478931269171785,
          -1.8517703672163301,
          -1.4186898427664862,
          0.06509413769267655,
          0.19307454979843466,
          0.8232244735534852,
          0.524671044677807,
          -0.40315319096565155,
          -1.4268165410981934,
          0.2813575779141045,
          -0.2621634305145455,
          -0.08483012735497701,
          -1.045497945983192,
          1.2382134521818677,
          -0.4323116394409646,
          0.680747412833651,
          -1.2929873756166974,
          0.6529828667025668,
          0.3595023686883591,
          -1.2955231449330304,
          1.164536680417677,
          -0.4825439698093178,
          0.13250442906721477,
          -0.7908765509841708,
          -0.3833702329039137,
          -0.39437377035578575,
          -1.1471692465131529,
          0.30910570387733843,
          -0.9332569711532109,
          0.880636842120163,
          0.1251672859001783,
          -0.8768528712998347,
          -0.7922814709334515
         ],
         "xaxis": "x2",
         "y": [
          -1.0195385963187849,
          1.1015943866068003,
          0.565322916737536,
          -0.5424284895484377,
          -0.32566226944201476,
          1.3333580414602808,
          -0.8882935417582444,
          0.573084622763612,
          -1.600582981777984,
          0.2962440326176717,
          -0.3255987463598287,
          0.4144242488662172,
          -1.0526878096406618,
          -1.079751691163813,
          0.44468732716120624,
          0.49214489354581953,
          -0.4176729612012741,
          -1.2433661966590415,
          -1.0593292659248816,
          0.2555303994444098,
          1.3988763770711914,
          -0.13508460667466193,
          0.8801931903209784,
          -0.009713307420049045,
          0.08537533507598072,
          0.1777838421614929,
          -1.271693389664294,
          -0.052062887286873284,
          -1.2786010696930032,
          0.3951169412497632,
          -0.007129080368495911,
          0.24931082591451678,
          -1.3074436240953813,
          0.39262035657229377,
          0.16895832011791706,
          0.15320171003133856,
          0.4529690184927029,
          0.5675748558086052,
          -1.038916265731738,
          0.03080254388823513,
          -0.6550524357879981,
          -0.00963038602457602,
          -0.43923332854400204,
          -1.4682191809450431,
          0.11302991912004492,
          -0.7131088037710968,
          -0.3074503195357637,
          -0.9652556704332182,
          -0.5171097999789459,
          1.7013367191358348,
          0.056091762858178434,
          0.2007988890983905,
          -0.5543052937490693,
          0.6937944914951706,
          0.6669048002314144,
          0.59369902089003,
          -1.713836342591796,
          1.1138274799032772,
          0.9254577425491017,
          -1.143153861907134,
          -1.3186559413350674,
          0.39093587426554083,
          -2.2957843371048012,
          -0.047664705487196195,
          1.0581371609309211,
          0.30828978169977284,
          1.5021689850009483,
          -0.8165629998636657,
          -0.1530680681408224,
          -0.07521140061589364,
          -1.766655219574804,
          0.30466812087753004,
          1.0818447459395093,
          -0.8478457275864004,
          0.414533929031304,
          -1.0957094470237285,
          -0.6418639427476324,
          1.4450146182774097,
          1.3804084393844278,
          -1.115216408942094,
          -0.0798960622493228,
          -2.2853903926292385,
          -0.06460200203963314,
          -0.3538865661985639,
          -1.1972065067795628,
          0.045213040450247016,
          1.1339678979236238,
          -0.5316805072703285,
          0.003961027654528789,
          -1.0175911801095872,
          -0.39943629619858767,
          -0.646145382985172,
          -1.9346472258288518,
          -0.22139498946193603,
          -0.616262445072994,
          0.0664818373185558,
          -0.2152707163604317,
          0.7858907677940824,
          -1.1785824127352216,
          -0.6779173459311484
         ],
         "yaxis": "y2"
        },
        {
         "line": {
          "color": "rgba(128, 128, 128, 1.0)",
          "dash": "solid",
          "shape": "linear",
          "width": 1.3
         },
         "marker": {
          "size": 2,
          "symbol": "circle"
         },
         "mode": "markers",
         "name": "A",
         "text": "",
         "type": "scatter",
         "x": [
          -1.7624799146330916,
          -0.052454692444293204,
          -0.6144926711450668,
          0.34605467548314317,
          1.7293471823153381,
          -0.7158009522760164,
          -0.6149194787316927,
          -0.135338813333711,
          0.29852389755538933,
          1.340879720715101,
          -2.8130784565849867,
          0.4651501979291797,
          -0.3131091291680892,
          -0.9321956807746758,
          -1.9078699262875176,
          -0.46622262685752525,
          1.3089009383594243,
          0.31180112202706756,
          -2.0227146115391315,
          0.5807127962884536,
          1.1385496213288238,
          -0.4455122188814769,
          -1.1301884249433958,
          -0.5243739109303537,
          -0.03748635500043051,
          -1.8843804581073422,
          1.7003271439262493,
          0.9935895835623703,
          -1.8590740904948801,
          -0.4310696037478699,
          -0.5840104825773925,
          0.36961988003281315,
          -0.13050295671732637,
          2.4214268502295053,
          1.7848604715091976,
          -1.31828143894674,
          0.6000155119139627,
          0.4867779319074937,
          0.9363681345940051,
          -0.4668460793958201,
          -0.7533173498230599,
          0.3881660415618446,
          -0.24540208218072185,
          0.3123027143122271,
          -0.7475561922789368,
          0.2650863241472753,
          0.23337701628765933,
          -0.9035514270650542,
          1.50640863657213,
          -0.41527730958195447,
          0.20291776029643913,
          0.23002800054265488,
          -0.8545896581694682,
          1.5902756654205976,
          -0.646402001930611,
          -2.1932756590804794,
          0.40491512339053204,
          -1.8289103528491077,
          0.5734363312343274,
          -0.04230138803378668,
          -0.8757883761727011,
          0.4403917698375127,
          -3.089110937866257,
          1.0968688240175577,
          -2.04621133544825,
          -0.9723019426093988,
          0.990229384745472,
          -0.5949075675496344,
          -2.660295641655794,
          0.7957914831810432,
          -0.711003361571698,
          0.8518323914473779,
          0.11852577082714624,
          1.5889868786889505,
          -1.686018220397716,
          0.3454027860589693,
          -0.6025244077213349,
          1.5800216316859224,
          0.9031696756113189,
          -1.013462634012932,
          -1.3477550389484831,
          0.9078753173946693,
          -0.570641152879746,
          -0.6772923107611662,
          -1.3222571406546464,
          0.2300434350749415,
          -0.28280986626199167,
          0.7261499023093949,
          -0.000542242574547095,
          -2.204483032318085,
          -0.4885101387532285,
          0.5012993110056877,
          0.9542814497936115,
          -0.2700832636336223,
          0.458150486417723,
          0.7113040181681382,
          -0.1914615764022577,
          -0.022769483825800275,
          -0.09779913895350369,
          0.21027342419346273
         ],
         "xaxis": "x3",
         "y": [
          -1.0195385963187849,
          1.1015943866068003,
          0.565322916737536,
          -0.5424284895484377,
          -0.32566226944201476,
          1.3333580414602808,
          -0.8882935417582444,
          0.573084622763612,
          -1.600582981777984,
          0.2962440326176717,
          -0.3255987463598287,
          0.4144242488662172,
          -1.0526878096406618,
          -1.079751691163813,
          0.44468732716120624,
          0.49214489354581953,
          -0.4176729612012741,
          -1.2433661966590415,
          -1.0593292659248816,
          0.2555303994444098,
          1.3988763770711914,
          -0.13508460667466193,
          0.8801931903209784,
          -0.009713307420049045,
          0.08537533507598072,
          0.1777838421614929,
          -1.271693389664294,
          -0.052062887286873284,
          -1.2786010696930032,
          0.3951169412497632,
          -0.007129080368495911,
          0.24931082591451678,
          -1.3074436240953813,
          0.39262035657229377,
          0.16895832011791706,
          0.15320171003133856,
          0.4529690184927029,
          0.5675748558086052,
          -1.038916265731738,
          0.03080254388823513,
          -0.6550524357879981,
          -0.00963038602457602,
          -0.43923332854400204,
          -1.4682191809450431,
          0.11302991912004492,
          -0.7131088037710968,
          -0.3074503195357637,
          -0.9652556704332182,
          -0.5171097999789459,
          1.7013367191358348,
          0.056091762858178434,
          0.2007988890983905,
          -0.5543052937490693,
          0.6937944914951706,
          0.6669048002314144,
          0.59369902089003,
          -1.713836342591796,
          1.1138274799032772,
          0.9254577425491017,
          -1.143153861907134,
          -1.3186559413350674,
          0.39093587426554083,
          -2.2957843371048012,
          -0.047664705487196195,
          1.0581371609309211,
          0.30828978169977284,
          1.5021689850009483,
          -0.8165629998636657,
          -0.1530680681408224,
          -0.07521140061589364,
          -1.766655219574804,
          0.30466812087753004,
          1.0818447459395093,
          -0.8478457275864004,
          0.414533929031304,
          -1.0957094470237285,
          -0.6418639427476324,
          1.4450146182774097,
          1.3804084393844278,
          -1.115216408942094,
          -0.0798960622493228,
          -2.2853903926292385,
          -0.06460200203963314,
          -0.3538865661985639,
          -1.1972065067795628,
          0.045213040450247016,
          1.1339678979236238,
          -0.5316805072703285,
          0.003961027654528789,
          -1.0175911801095872,
          -0.39943629619858767,
          -0.646145382985172,
          -1.9346472258288518,
          -0.22139498946193603,
          -0.616262445072994,
          0.0664818373185558,
          -0.2152707163604317,
          0.7858907677940824,
          -1.1785824127352216,
          -0.6779173459311484
         ],
         "yaxis": "y3"
        },
        {
         "line": {
          "color": "rgba(128, 128, 128, 1.0)",
          "dash": "solid",
          "shape": "linear",
          "width": 1.3
         },
         "marker": {
          "size": 2,
          "symbol": "circle"
         },
         "mode": "markers",
         "name": "A",
         "text": "",
         "type": "scatter",
         "x": [
          -0.7154744873251464,
          -1.8364655110349717,
          1.1366459484665203,
          0.014352604016508522,
          0.9387056429722956,
          -0.035766596035709204,
          -1.3271506370172508,
          -0.08540914504181113,
          0.45065130838901224,
          -0.5010267235645277,
          -0.09538316694011877,
          -0.717550866234728,
          -0.44925698095520417,
          0.43095017324903195,
          -0.641231367567333,
          -0.14160835085779722,
          0.6658978630232735,
          0.36186834977881416,
          1.2164584292056806,
          1.080912647764627,
          -0.31589577180751083,
          -1.5390270400295032,
          0.1545475268511163,
          0.9337195503966247,
          0.17198125235547487,
          -0.6444802056267953,
          -0.1735715410563226,
          -1.382930576207823,
          -0.008782780945467876,
          1.6253867959841757,
          0.5108600880487182,
          1.9584462529831108,
          -1.1387558200867824,
          -0.6775743866345354,
          0.3045015567963941,
          -0.7010893702571275,
          -0.21509069679939974,
          -0.06660318500201455,
          -2.0494500265655513,
          0.7371104180734958,
          -0.1394601307353762,
          0.06332501275504406,
          -0.33605152576259134,
          0.24272829505932145,
          -0.5210518613377643,
          -0.7794939251059732,
          -0.816663707123236,
          0.8429269691178186,
          -0.0049567234948185305,
          0.7910052117961612,
          -0.14011603254623242,
          -0.8139883767081845,
          -0.8543410413682735,
          -1.133037457300175,
          -2.446520027835509,
          -0.3954282150870679,
          -0.40852764641376943,
          1.1283038405604628,
          -0.6771415435153333,
          0.3860935342750069,
          1.0399071465756002,
          1.0686935234542685,
          1.368482210459442,
          -1.4959343241762837,
          0.16391649604384745,
          -0.4798869284387275,
          -1.7339241148875995,
          -1.1426876664546317,
          1.9304927454747411,
          -1.147633930021583,
          -0.7766553605421657,
          -0.9004501522692031,
          0.5898374598725552,
          -1.6753315862291647,
          0.3619980415765755,
          1.4284402500227904,
          0.12220590217893887,
          0.011800729718907147,
          0.7155339818248,
          -0.560323549055294,
          0.2658031832193285,
          -0.2957349485957265,
          1.743740168254544,
          -0.6330367982019135,
          -0.4949632500174672,
          -0.9137889955901022,
          -0.544098303604624,
          0.6742546131008241,
          -0.5706589509403914,
          0.26229891152032203,
          2.108495915505444,
          -0.5588513162941839,
          -1.1305822043827989,
          0.13677502455472695,
          0.9066454032062755,
          -0.24071521677455401,
          -1.0687645130524526,
          -0.14836447765418917,
          -0.03062007910395427,
          -0.05054481702962435
         ],
         "xaxis": "x4",
         "y": [
          -1.0195385963187849,
          1.1015943866068003,
          0.565322916737536,
          -0.5424284895484377,
          -0.32566226944201476,
          1.3333580414602808,
          -0.8882935417582444,
          0.573084622763612,
          -1.600582981777984,
          0.2962440326176717,
          -0.3255987463598287,
          0.4144242488662172,
          -1.0526878096406618,
          -1.079751691163813,
          0.44468732716120624,
          0.49214489354581953,
          -0.4176729612012741,
          -1.2433661966590415,
          -1.0593292659248816,
          0.2555303994444098,
          1.3988763770711914,
          -0.13508460667466193,
          0.8801931903209784,
          -0.009713307420049045,
          0.08537533507598072,
          0.1777838421614929,
          -1.271693389664294,
          -0.052062887286873284,
          -1.2786010696930032,
          0.3951169412497632,
          -0.007129080368495911,
          0.24931082591451678,
          -1.3074436240953813,
          0.39262035657229377,
          0.16895832011791706,
          0.15320171003133856,
          0.4529690184927029,
          0.5675748558086052,
          -1.038916265731738,
          0.03080254388823513,
          -0.6550524357879981,
          -0.00963038602457602,
          -0.43923332854400204,
          -1.4682191809450431,
          0.11302991912004492,
          -0.7131088037710968,
          -0.3074503195357637,
          -0.9652556704332182,
          -0.5171097999789459,
          1.7013367191358348,
          0.056091762858178434,
          0.2007988890983905,
          -0.5543052937490693,
          0.6937944914951706,
          0.6669048002314144,
          0.59369902089003,
          -1.713836342591796,
          1.1138274799032772,
          0.9254577425491017,
          -1.143153861907134,
          -1.3186559413350674,
          0.39093587426554083,
          -2.2957843371048012,
          -0.047664705487196195,
          1.0581371609309211,
          0.30828978169977284,
          1.5021689850009483,
          -0.8165629998636657,
          -0.1530680681408224,
          -0.07521140061589364,
          -1.766655219574804,
          0.30466812087753004,
          1.0818447459395093,
          -0.8478457275864004,
          0.414533929031304,
          -1.0957094470237285,
          -0.6418639427476324,
          1.4450146182774097,
          1.3804084393844278,
          -1.115216408942094,
          -0.0798960622493228,
          -2.2853903926292385,
          -0.06460200203963314,
          -0.3538865661985639,
          -1.1972065067795628,
          0.045213040450247016,
          1.1339678979236238,
          -0.5316805072703285,
          0.003961027654528789,
          -1.0175911801095872,
          -0.39943629619858767,
          -0.646145382985172,
          -1.9346472258288518,
          -0.22139498946193603,
          -0.616262445072994,
          0.0664818373185558,
          -0.2152707163604317,
          0.7858907677940824,
          -1.1785824127352216,
          -0.6779173459311484
         ],
         "yaxis": "y4"
        },
        {
         "line": {
          "color": "rgba(128, 128, 128, 1.0)",
          "dash": "solid",
          "shape": "linear",
          "width": 1.3
         },
         "marker": {
          "size": 2,
          "symbol": "circle"
         },
         "mode": "markers",
         "name": "B",
         "text": "",
         "type": "scatter",
         "x": [
          -1.0195385963187849,
          1.1015943866068003,
          0.565322916737536,
          -0.5424284895484377,
          -0.32566226944201476,
          1.3333580414602808,
          -0.8882935417582444,
          0.573084622763612,
          -1.600582981777984,
          0.2962440326176717,
          -0.3255987463598287,
          0.4144242488662172,
          -1.0526878096406618,
          -1.079751691163813,
          0.44468732716120624,
          0.49214489354581953,
          -0.4176729612012741,
          -1.2433661966590415,
          -1.0593292659248816,
          0.2555303994444098,
          1.3988763770711914,
          -0.13508460667466193,
          0.8801931903209784,
          -0.009713307420049045,
          0.08537533507598072,
          0.1777838421614929,
          -1.271693389664294,
          -0.052062887286873284,
          -1.2786010696930032,
          0.3951169412497632,
          -0.007129080368495911,
          0.24931082591451678,
          -1.3074436240953813,
          0.39262035657229377,
          0.16895832011791706,
          0.15320171003133856,
          0.4529690184927029,
          0.5675748558086052,
          -1.038916265731738,
          0.03080254388823513,
          -0.6550524357879981,
          -0.00963038602457602,
          -0.43923332854400204,
          -1.4682191809450431,
          0.11302991912004492,
          -0.7131088037710968,
          -0.3074503195357637,
          -0.9652556704332182,
          -0.5171097999789459,
          1.7013367191358348,
          0.056091762858178434,
          0.2007988890983905,
          -0.5543052937490693,
          0.6937944914951706,
          0.6669048002314144,
          0.59369902089003,
          -1.713836342591796,
          1.1138274799032772,
          0.9254577425491017,
          -1.143153861907134,
          -1.3186559413350674,
          0.39093587426554083,
          -2.2957843371048012,
          -0.047664705487196195,
          1.0581371609309211,
          0.30828978169977284,
          1.5021689850009483,
          -0.8165629998636657,
          -0.1530680681408224,
          -0.07521140061589364,
          -1.766655219574804,
          0.30466812087753004,
          1.0818447459395093,
          -0.8478457275864004,
          0.414533929031304,
          -1.0957094470237285,
          -0.6418639427476324,
          1.4450146182774097,
          1.3804084393844278,
          -1.115216408942094,
          -0.0798960622493228,
          -2.2853903926292385,
          -0.06460200203963314,
          -0.3538865661985639,
          -1.1972065067795628,
          0.045213040450247016,
          1.1339678979236238,
          -0.5316805072703285,
          0.003961027654528789,
          -1.0175911801095872,
          -0.39943629619858767,
          -0.646145382985172,
          -1.9346472258288518,
          -0.22139498946193603,
          -0.616262445072994,
          0.0664818373185558,
          -0.2152707163604317,
          0.7858907677940824,
          -1.1785824127352216,
          -0.6779173459311484
         ],
         "xaxis": "x5",
         "y": [
          0.05084052415534849,
          0.4448926667384461,
          -0.5165006805648271,
          -1.0217481899569538,
          2.918916860488833,
          0.7119834105490889,
          -0.12598219184572093,
          1.7446505200029419,
          0.07448195798863841,
          -0.4367454374327472,
          2.001312602465858,
          0.8626677261130298,
          -0.7832646582342923,
          -1.4699780709897277,
          -0.14922984973037076,
          0.29187556277665405,
          -1.86438093315328,
          -0.9463531776956947,
          1.0018939862271918,
          -0.34174690341712166,
          -0.9608689994165556,
          0.37152716650134315,
          1.2680288231103298,
          -0.6230457517284945,
          -2.328812174302247,
          0.3024388389452721,
          0.12181850117223207,
          0.46424692550993446,
          2.0207808094668818,
          1.4510874303547483,
          -1.836459556297738,
          -1.2540393269655528,
          0.9811131035778574,
          -2.4255879762977304,
          -0.07892959167407539,
          -0.45258843538951654,
          -0.9237149248290297,
          2.027895768151158,
          -0.15741428062768711,
          1.0621556956587694,
          0.22627487908670568,
          0.8972177322808671,
          -0.1852713126252378,
          -1.7127052110108827,
          0.4266369122608103,
          -0.4934032996758012,
          0.09126560127006829,
          1.420832341876129,
          -0.226925419286172,
          0.34854293270965647,
          1.2047457905809145,
          0.14374022217106794,
          -0.9209836977121332,
          0.4372250721685303,
          0.275097080721775,
          -1.2319795109830607,
          0.05807780757368901,
          1.4050083175299108,
          1.2856506736655673,
          -1.384326860093379,
          0.4550192051180061,
          1.400525929182616,
          -0.7836114813867611,
          1.3036820975574719,
          0.37351025358713613,
          -0.2913411851716362,
          -0.5406291701996493,
          0.17478931269171785,
          -1.8517703672163301,
          -1.4186898427664862,
          0.06509413769267655,
          0.19307454979843466,
          0.8232244735534852,
          0.524671044677807,
          -0.40315319096565155,
          -1.4268165410981934,
          0.2813575779141045,
          -0.2621634305145455,
          -0.08483012735497701,
          -1.045497945983192,
          1.2382134521818677,
          -0.4323116394409646,
          0.680747412833651,
          -1.2929873756166974,
          0.6529828667025668,
          0.3595023686883591,
          -1.2955231449330304,
          1.164536680417677,
          -0.4825439698093178,
          0.13250442906721477,
          -0.7908765509841708,
          -0.3833702329039137,
          -0.39437377035578575,
          -1.1471692465131529,
          0.30910570387733843,
          -0.9332569711532109,
          0.880636842120163,
          0.1251672859001783,
          -0.8768528712998347,
          -0.7922814709334515
         ],
         "yaxis": "y5"
        },
        {
         "histfunc": "count",
         "histnorm": "",
         "marker": {
          "color": "rgba(55, 128, 191, 1.0)",
          "line": {
           "color": "#4D5663",
           "width": 1.3
          }
         },
         "name": "B",
         "nbinsx": 10,
         "opacity": 0.8,
         "orientation": "v",
         "type": "histogram",
         "x": [
          0.05084052415534849,
          0.4448926667384461,
          -0.5165006805648271,
          -1.0217481899569538,
          2.918916860488833,
          0.7119834105490889,
          -0.12598219184572093,
          1.7446505200029419,
          0.07448195798863841,
          -0.4367454374327472,
          2.001312602465858,
          0.8626677261130298,
          -0.7832646582342923,
          -1.4699780709897277,
          -0.14922984973037076,
          0.29187556277665405,
          -1.86438093315328,
          -0.9463531776956947,
          1.0018939862271918,
          -0.34174690341712166,
          -0.9608689994165556,
          0.37152716650134315,
          1.2680288231103298,
          -0.6230457517284945,
          -2.328812174302247,
          0.3024388389452721,
          0.12181850117223207,
          0.46424692550993446,
          2.0207808094668818,
          1.4510874303547483,
          -1.836459556297738,
          -1.2540393269655528,
          0.9811131035778574,
          -2.4255879762977304,
          -0.07892959167407539,
          -0.45258843538951654,
          -0.9237149248290297,
          2.027895768151158,
          -0.15741428062768711,
          1.0621556956587694,
          0.22627487908670568,
          0.8972177322808671,
          -0.1852713126252378,
          -1.7127052110108827,
          0.4266369122608103,
          -0.4934032996758012,
          0.09126560127006829,
          1.420832341876129,
          -0.226925419286172,
          0.34854293270965647,
          1.2047457905809145,
          0.14374022217106794,
          -0.9209836977121332,
          0.4372250721685303,
          0.275097080721775,
          -1.2319795109830607,
          0.05807780757368901,
          1.4050083175299108,
          1.2856506736655673,
          -1.384326860093379,
          0.4550192051180061,
          1.400525929182616,
          -0.7836114813867611,
          1.3036820975574719,
          0.37351025358713613,
          -0.2913411851716362,
          -0.5406291701996493,
          0.17478931269171785,
          -1.8517703672163301,
          -1.4186898427664862,
          0.06509413769267655,
          0.19307454979843466,
          0.8232244735534852,
          0.524671044677807,
          -0.40315319096565155,
          -1.4268165410981934,
          0.2813575779141045,
          -0.2621634305145455,
          -0.08483012735497701,
          -1.045497945983192,
          1.2382134521818677,
          -0.4323116394409646,
          0.680747412833651,
          -1.2929873756166974,
          0.6529828667025668,
          0.3595023686883591,
          -1.2955231449330304,
          1.164536680417677,
          -0.4825439698093178,
          0.13250442906721477,
          -0.7908765509841708,
          -0.3833702329039137,
          -0.39437377035578575,
          -1.1471692465131529,
          0.30910570387733843,
          -0.9332569711532109,
          0.880636842120163,
          0.1251672859001783,
          -0.8768528712998347,
          -0.7922814709334515
         ],
         "xaxis": "x6",
         "yaxis": "y6"
        },
        {
         "line": {
          "color": "rgba(128, 128, 128, 1.0)",
          "dash": "solid",
          "shape": "linear",
          "width": 1.3
         },
         "marker": {
          "size": 2,
          "symbol": "circle"
         },
         "mode": "markers",
         "name": "B",
         "text": "",
         "type": "scatter",
         "x": [
          -1.7624799146330916,
          -0.052454692444293204,
          -0.6144926711450668,
          0.34605467548314317,
          1.7293471823153381,
          -0.7158009522760164,
          -0.6149194787316927,
          -0.135338813333711,
          0.29852389755538933,
          1.340879720715101,
          -2.8130784565849867,
          0.4651501979291797,
          -0.3131091291680892,
          -0.9321956807746758,
          -1.9078699262875176,
          -0.46622262685752525,
          1.3089009383594243,
          0.31180112202706756,
          -2.0227146115391315,
          0.5807127962884536,
          1.1385496213288238,
          -0.4455122188814769,
          -1.1301884249433958,
          -0.5243739109303537,
          -0.03748635500043051,
          -1.8843804581073422,
          1.7003271439262493,
          0.9935895835623703,
          -1.8590740904948801,
          -0.4310696037478699,
          -0.5840104825773925,
          0.36961988003281315,
          -0.13050295671732637,
          2.4214268502295053,
          1.7848604715091976,
          -1.31828143894674,
          0.6000155119139627,
          0.4867779319074937,
          0.9363681345940051,
          -0.4668460793958201,
          -0.7533173498230599,
          0.3881660415618446,
          -0.24540208218072185,
          0.3123027143122271,
          -0.7475561922789368,
          0.2650863241472753,
          0.23337701628765933,
          -0.9035514270650542,
          1.50640863657213,
          -0.41527730958195447,
          0.20291776029643913,
          0.23002800054265488,
          -0.8545896581694682,
          1.5902756654205976,
          -0.646402001930611,
          -2.1932756590804794,
          0.40491512339053204,
          -1.8289103528491077,
          0.5734363312343274,
          -0.04230138803378668,
          -0.8757883761727011,
          0.4403917698375127,
          -3.089110937866257,
          1.0968688240175577,
          -2.04621133544825,
          -0.9723019426093988,
          0.990229384745472,
          -0.5949075675496344,
          -2.660295641655794,
          0.7957914831810432,
          -0.711003361571698,
          0.8518323914473779,
          0.11852577082714624,
          1.5889868786889505,
          -1.686018220397716,
          0.3454027860589693,
          -0.6025244077213349,
          1.5800216316859224,
          0.9031696756113189,
          -1.013462634012932,
          -1.3477550389484831,
          0.9078753173946693,
          -0.570641152879746,
          -0.6772923107611662,
          -1.3222571406546464,
          0.2300434350749415,
          -0.28280986626199167,
          0.7261499023093949,
          -0.000542242574547095,
          -2.204483032318085,
          -0.4885101387532285,
          0.5012993110056877,
          0.9542814497936115,
          -0.2700832636336223,
          0.458150486417723,
          0.7113040181681382,
          -0.1914615764022577,
          -0.022769483825800275,
          -0.09779913895350369,
          0.21027342419346273
         ],
         "xaxis": "x7",
         "y": [
          0.05084052415534849,
          0.4448926667384461,
          -0.5165006805648271,
          -1.0217481899569538,
          2.918916860488833,
          0.7119834105490889,
          -0.12598219184572093,
          1.7446505200029419,
          0.07448195798863841,
          -0.4367454374327472,
          2.001312602465858,
          0.8626677261130298,
          -0.7832646582342923,
          -1.4699780709897277,
          -0.14922984973037076,
          0.29187556277665405,
          -1.86438093315328,
          -0.9463531776956947,
          1.0018939862271918,
          -0.34174690341712166,
          -0.9608689994165556,
          0.37152716650134315,
          1.2680288231103298,
          -0.6230457517284945,
          -2.328812174302247,
          0.3024388389452721,
          0.12181850117223207,
          0.46424692550993446,
          2.0207808094668818,
          1.4510874303547483,
          -1.836459556297738,
          -1.2540393269655528,
          0.9811131035778574,
          -2.4255879762977304,
          -0.07892959167407539,
          -0.45258843538951654,
          -0.9237149248290297,
          2.027895768151158,
          -0.15741428062768711,
          1.0621556956587694,
          0.22627487908670568,
          0.8972177322808671,
          -0.1852713126252378,
          -1.7127052110108827,
          0.4266369122608103,
          -0.4934032996758012,
          0.09126560127006829,
          1.420832341876129,
          -0.226925419286172,
          0.34854293270965647,
          1.2047457905809145,
          0.14374022217106794,
          -0.9209836977121332,
          0.4372250721685303,
          0.275097080721775,
          -1.2319795109830607,
          0.05807780757368901,
          1.4050083175299108,
          1.2856506736655673,
          -1.384326860093379,
          0.4550192051180061,
          1.400525929182616,
          -0.7836114813867611,
          1.3036820975574719,
          0.37351025358713613,
          -0.2913411851716362,
          -0.5406291701996493,
          0.17478931269171785,
          -1.8517703672163301,
          -1.4186898427664862,
          0.06509413769267655,
          0.19307454979843466,
          0.8232244735534852,
          0.524671044677807,
          -0.40315319096565155,
          -1.4268165410981934,
          0.2813575779141045,
          -0.2621634305145455,
          -0.08483012735497701,
          -1.045497945983192,
          1.2382134521818677,
          -0.4323116394409646,
          0.680747412833651,
          -1.2929873756166974,
          0.6529828667025668,
          0.3595023686883591,
          -1.2955231449330304,
          1.164536680417677,
          -0.4825439698093178,
          0.13250442906721477,
          -0.7908765509841708,
          -0.3833702329039137,
          -0.39437377035578575,
          -1.1471692465131529,
          0.30910570387733843,
          -0.9332569711532109,
          0.880636842120163,
          0.1251672859001783,
          -0.8768528712998347,
          -0.7922814709334515
         ],
         "yaxis": "y7"
        },
        {
         "line": {
          "color": "rgba(128, 128, 128, 1.0)",
          "dash": "solid",
          "shape": "linear",
          "width": 1.3
         },
         "marker": {
          "size": 2,
          "symbol": "circle"
         },
         "mode": "markers",
         "name": "B",
         "text": "",
         "type": "scatter",
         "x": [
          -0.7154744873251464,
          -1.8364655110349717,
          1.1366459484665203,
          0.014352604016508522,
          0.9387056429722956,
          -0.035766596035709204,
          -1.3271506370172508,
          -0.08540914504181113,
          0.45065130838901224,
          -0.5010267235645277,
          -0.09538316694011877,
          -0.717550866234728,
          -0.44925698095520417,
          0.43095017324903195,
          -0.641231367567333,
          -0.14160835085779722,
          0.6658978630232735,
          0.36186834977881416,
          1.2164584292056806,
          1.080912647764627,
          -0.31589577180751083,
          -1.5390270400295032,
          0.1545475268511163,
          0.9337195503966247,
          0.17198125235547487,
          -0.6444802056267953,
          -0.1735715410563226,
          -1.382930576207823,
          -0.008782780945467876,
          1.6253867959841757,
          0.5108600880487182,
          1.9584462529831108,
          -1.1387558200867824,
          -0.6775743866345354,
          0.3045015567963941,
          -0.7010893702571275,
          -0.21509069679939974,
          -0.06660318500201455,
          -2.0494500265655513,
          0.7371104180734958,
          -0.1394601307353762,
          0.06332501275504406,
          -0.33605152576259134,
          0.24272829505932145,
          -0.5210518613377643,
          -0.7794939251059732,
          -0.816663707123236,
          0.8429269691178186,
          -0.0049567234948185305,
          0.7910052117961612,
          -0.14011603254623242,
          -0.8139883767081845,
          -0.8543410413682735,
          -1.133037457300175,
          -2.446520027835509,
          -0.3954282150870679,
          -0.40852764641376943,
          1.1283038405604628,
          -0.6771415435153333,
          0.3860935342750069,
          1.0399071465756002,
          1.0686935234542685,
          1.368482210459442,
          -1.4959343241762837,
          0.16391649604384745,
          -0.4798869284387275,
          -1.7339241148875995,
          -1.1426876664546317,
          1.9304927454747411,
          -1.147633930021583,
          -0.7766553605421657,
          -0.9004501522692031,
          0.5898374598725552,
          -1.6753315862291647,
          0.3619980415765755,
          1.4284402500227904,
          0.12220590217893887,
          0.011800729718907147,
          0.7155339818248,
          -0.560323549055294,
          0.2658031832193285,
          -0.2957349485957265,
          1.743740168254544,
          -0.6330367982019135,
          -0.4949632500174672,
          -0.9137889955901022,
          -0.544098303604624,
          0.6742546131008241,
          -0.5706589509403914,
          0.26229891152032203,
          2.108495915505444,
          -0.5588513162941839,
          -1.1305822043827989,
          0.13677502455472695,
          0.9066454032062755,
          -0.24071521677455401,
          -1.0687645130524526,
          -0.14836447765418917,
          -0.03062007910395427,
          -0.05054481702962435
         ],
         "xaxis": "x8",
         "y": [
          0.05084052415534849,
          0.4448926667384461,
          -0.5165006805648271,
          -1.0217481899569538,
          2.918916860488833,
          0.7119834105490889,
          -0.12598219184572093,
          1.7446505200029419,
          0.07448195798863841,
          -0.4367454374327472,
          2.001312602465858,
          0.8626677261130298,
          -0.7832646582342923,
          -1.4699780709897277,
          -0.14922984973037076,
          0.29187556277665405,
          -1.86438093315328,
          -0.9463531776956947,
          1.0018939862271918,
          -0.34174690341712166,
          -0.9608689994165556,
          0.37152716650134315,
          1.2680288231103298,
          -0.6230457517284945,
          -2.328812174302247,
          0.3024388389452721,
          0.12181850117223207,
          0.46424692550993446,
          2.0207808094668818,
          1.4510874303547483,
          -1.836459556297738,
          -1.2540393269655528,
          0.9811131035778574,
          -2.4255879762977304,
          -0.07892959167407539,
          -0.45258843538951654,
          -0.9237149248290297,
          2.027895768151158,
          -0.15741428062768711,
          1.0621556956587694,
          0.22627487908670568,
          0.8972177322808671,
          -0.1852713126252378,
          -1.7127052110108827,
          0.4266369122608103,
          -0.4934032996758012,
          0.09126560127006829,
          1.420832341876129,
          -0.226925419286172,
          0.34854293270965647,
          1.2047457905809145,
          0.14374022217106794,
          -0.9209836977121332,
          0.4372250721685303,
          0.275097080721775,
          -1.2319795109830607,
          0.05807780757368901,
          1.4050083175299108,
          1.2856506736655673,
          -1.384326860093379,
          0.4550192051180061,
          1.400525929182616,
          -0.7836114813867611,
          1.3036820975574719,
          0.37351025358713613,
          -0.2913411851716362,
          -0.5406291701996493,
          0.17478931269171785,
          -1.8517703672163301,
          -1.4186898427664862,
          0.06509413769267655,
          0.19307454979843466,
          0.8232244735534852,
          0.524671044677807,
          -0.40315319096565155,
          -1.4268165410981934,
          0.2813575779141045,
          -0.2621634305145455,
          -0.08483012735497701,
          -1.045497945983192,
          1.2382134521818677,
          -0.4323116394409646,
          0.680747412833651,
          -1.2929873756166974,
          0.6529828667025668,
          0.3595023686883591,
          -1.2955231449330304,
          1.164536680417677,
          -0.4825439698093178,
          0.13250442906721477,
          -0.7908765509841708,
          -0.3833702329039137,
          -0.39437377035578575,
          -1.1471692465131529,
          0.30910570387733843,
          -0.9332569711532109,
          0.880636842120163,
          0.1251672859001783,
          -0.8768528712998347,
          -0.7922814709334515
         ],
         "yaxis": "y8"
        },
        {
         "line": {
          "color": "rgba(128, 128, 128, 1.0)",
          "dash": "solid",
          "shape": "linear",
          "width": 1.3
         },
         "marker": {
          "size": 2,
          "symbol": "circle"
         },
         "mode": "markers",
         "name": "C",
         "text": "",
         "type": "scatter",
         "x": [
          -1.0195385963187849,
          1.1015943866068003,
          0.565322916737536,
          -0.5424284895484377,
          -0.32566226944201476,
          1.3333580414602808,
          -0.8882935417582444,
          0.573084622763612,
          -1.600582981777984,
          0.2962440326176717,
          -0.3255987463598287,
          0.4144242488662172,
          -1.0526878096406618,
          -1.079751691163813,
          0.44468732716120624,
          0.49214489354581953,
          -0.4176729612012741,
          -1.2433661966590415,
          -1.0593292659248816,
          0.2555303994444098,
          1.3988763770711914,
          -0.13508460667466193,
          0.8801931903209784,
          -0.009713307420049045,
          0.08537533507598072,
          0.1777838421614929,
          -1.271693389664294,
          -0.052062887286873284,
          -1.2786010696930032,
          0.3951169412497632,
          -0.007129080368495911,
          0.24931082591451678,
          -1.3074436240953813,
          0.39262035657229377,
          0.16895832011791706,
          0.15320171003133856,
          0.4529690184927029,
          0.5675748558086052,
          -1.038916265731738,
          0.03080254388823513,
          -0.6550524357879981,
          -0.00963038602457602,
          -0.43923332854400204,
          -1.4682191809450431,
          0.11302991912004492,
          -0.7131088037710968,
          -0.3074503195357637,
          -0.9652556704332182,
          -0.5171097999789459,
          1.7013367191358348,
          0.056091762858178434,
          0.2007988890983905,
          -0.5543052937490693,
          0.6937944914951706,
          0.6669048002314144,
          0.59369902089003,
          -1.713836342591796,
          1.1138274799032772,
          0.9254577425491017,
          -1.143153861907134,
          -1.3186559413350674,
          0.39093587426554083,
          -2.2957843371048012,
          -0.047664705487196195,
          1.0581371609309211,
          0.30828978169977284,
          1.5021689850009483,
          -0.8165629998636657,
          -0.1530680681408224,
          -0.07521140061589364,
          -1.766655219574804,
          0.30466812087753004,
          1.0818447459395093,
          -0.8478457275864004,
          0.414533929031304,
          -1.0957094470237285,
          -0.6418639427476324,
          1.4450146182774097,
          1.3804084393844278,
          -1.115216408942094,
          -0.0798960622493228,
          -2.2853903926292385,
          -0.06460200203963314,
          -0.3538865661985639,
          -1.1972065067795628,
          0.045213040450247016,
          1.1339678979236238,
          -0.5316805072703285,
          0.003961027654528789,
          -1.0175911801095872,
          -0.39943629619858767,
          -0.646145382985172,
          -1.9346472258288518,
          -0.22139498946193603,
          -0.616262445072994,
          0.0664818373185558,
          -0.2152707163604317,
          0.7858907677940824,
          -1.1785824127352216,
          -0.6779173459311484
         ],
         "xaxis": "x9",
         "y": [
          -1.7624799146330916,
          -0.052454692444293204,
          -0.6144926711450668,
          0.34605467548314317,
          1.7293471823153381,
          -0.7158009522760164,
          -0.6149194787316927,
          -0.135338813333711,
          0.29852389755538933,
          1.340879720715101,
          -2.8130784565849867,
          0.4651501979291797,
          -0.3131091291680892,
          -0.9321956807746758,
          -1.9078699262875176,
          -0.46622262685752525,
          1.3089009383594243,
          0.31180112202706756,
          -2.0227146115391315,
          0.5807127962884536,
          1.1385496213288238,
          -0.4455122188814769,
          -1.1301884249433958,
          -0.5243739109303537,
          -0.03748635500043051,
          -1.8843804581073422,
          1.7003271439262493,
          0.9935895835623703,
          -1.8590740904948801,
          -0.4310696037478699,
          -0.5840104825773925,
          0.36961988003281315,
          -0.13050295671732637,
          2.4214268502295053,
          1.7848604715091976,
          -1.31828143894674,
          0.6000155119139627,
          0.4867779319074937,
          0.9363681345940051,
          -0.4668460793958201,
          -0.7533173498230599,
          0.3881660415618446,
          -0.24540208218072185,
          0.3123027143122271,
          -0.7475561922789368,
          0.2650863241472753,
          0.23337701628765933,
          -0.9035514270650542,
          1.50640863657213,
          -0.41527730958195447,
          0.20291776029643913,
          0.23002800054265488,
          -0.8545896581694682,
          1.5902756654205976,
          -0.646402001930611,
          -2.1932756590804794,
          0.40491512339053204,
          -1.8289103528491077,
          0.5734363312343274,
          -0.04230138803378668,
          -0.8757883761727011,
          0.4403917698375127,
          -3.089110937866257,
          1.0968688240175577,
          -2.04621133544825,
          -0.9723019426093988,
          0.990229384745472,
          -0.5949075675496344,
          -2.660295641655794,
          0.7957914831810432,
          -0.711003361571698,
          0.8518323914473779,
          0.11852577082714624,
          1.5889868786889505,
          -1.686018220397716,
          0.3454027860589693,
          -0.6025244077213349,
          1.5800216316859224,
          0.9031696756113189,
          -1.013462634012932,
          -1.3477550389484831,
          0.9078753173946693,
          -0.570641152879746,
          -0.6772923107611662,
          -1.3222571406546464,
          0.2300434350749415,
          -0.28280986626199167,
          0.7261499023093949,
          -0.000542242574547095,
          -2.204483032318085,
          -0.4885101387532285,
          0.5012993110056877,
          0.9542814497936115,
          -0.2700832636336223,
          0.458150486417723,
          0.7113040181681382,
          -0.1914615764022577,
          -0.022769483825800275,
          -0.09779913895350369,
          0.21027342419346273
         ],
         "yaxis": "y9"
        },
        {
         "line": {
          "color": "rgba(128, 128, 128, 1.0)",
          "dash": "solid",
          "shape": "linear",
          "width": 1.3
         },
         "marker": {
          "size": 2,
          "symbol": "circle"
         },
         "mode": "markers",
         "name": "C",
         "text": "",
         "type": "scatter",
         "x": [
          0.05084052415534849,
          0.4448926667384461,
          -0.5165006805648271,
          -1.0217481899569538,
          2.918916860488833,
          0.7119834105490889,
          -0.12598219184572093,
          1.7446505200029419,
          0.07448195798863841,
          -0.4367454374327472,
          2.001312602465858,
          0.8626677261130298,
          -0.7832646582342923,
          -1.4699780709897277,
          -0.14922984973037076,
          0.29187556277665405,
          -1.86438093315328,
          -0.9463531776956947,
          1.0018939862271918,
          -0.34174690341712166,
          -0.9608689994165556,
          0.37152716650134315,
          1.2680288231103298,
          -0.6230457517284945,
          -2.328812174302247,
          0.3024388389452721,
          0.12181850117223207,
          0.46424692550993446,
          2.0207808094668818,
          1.4510874303547483,
          -1.836459556297738,
          -1.2540393269655528,
          0.9811131035778574,
          -2.4255879762977304,
          -0.07892959167407539,
          -0.45258843538951654,
          -0.9237149248290297,
          2.027895768151158,
          -0.15741428062768711,
          1.0621556956587694,
          0.22627487908670568,
          0.8972177322808671,
          -0.1852713126252378,
          -1.7127052110108827,
          0.4266369122608103,
          -0.4934032996758012,
          0.09126560127006829,
          1.420832341876129,
          -0.226925419286172,
          0.34854293270965647,
          1.2047457905809145,
          0.14374022217106794,
          -0.9209836977121332,
          0.4372250721685303,
          0.275097080721775,
          -1.2319795109830607,
          0.05807780757368901,
          1.4050083175299108,
          1.2856506736655673,
          -1.384326860093379,
          0.4550192051180061,
          1.400525929182616,
          -0.7836114813867611,
          1.3036820975574719,
          0.37351025358713613,
          -0.2913411851716362,
          -0.5406291701996493,
          0.17478931269171785,
          -1.8517703672163301,
          -1.4186898427664862,
          0.06509413769267655,
          0.19307454979843466,
          0.8232244735534852,
          0.524671044677807,
          -0.40315319096565155,
          -1.4268165410981934,
          0.2813575779141045,
          -0.2621634305145455,
          -0.08483012735497701,
          -1.045497945983192,
          1.2382134521818677,
          -0.4323116394409646,
          0.680747412833651,
          -1.2929873756166974,
          0.6529828667025668,
          0.3595023686883591,
          -1.2955231449330304,
          1.164536680417677,
          -0.4825439698093178,
          0.13250442906721477,
          -0.7908765509841708,
          -0.3833702329039137,
          -0.39437377035578575,
          -1.1471692465131529,
          0.30910570387733843,
          -0.9332569711532109,
          0.880636842120163,
          0.1251672859001783,
          -0.8768528712998347,
          -0.7922814709334515
         ],
         "xaxis": "x10",
         "y": [
          -1.7624799146330916,
          -0.052454692444293204,
          -0.6144926711450668,
          0.34605467548314317,
          1.7293471823153381,
          -0.7158009522760164,
          -0.6149194787316927,
          -0.135338813333711,
          0.29852389755538933,
          1.340879720715101,
          -2.8130784565849867,
          0.4651501979291797,
          -0.3131091291680892,
          -0.9321956807746758,
          -1.9078699262875176,
          -0.46622262685752525,
          1.3089009383594243,
          0.31180112202706756,
          -2.0227146115391315,
          0.5807127962884536,
          1.1385496213288238,
          -0.4455122188814769,
          -1.1301884249433958,
          -0.5243739109303537,
          -0.03748635500043051,
          -1.8843804581073422,
          1.7003271439262493,
          0.9935895835623703,
          -1.8590740904948801,
          -0.4310696037478699,
          -0.5840104825773925,
          0.36961988003281315,
          -0.13050295671732637,
          2.4214268502295053,
          1.7848604715091976,
          -1.31828143894674,
          0.6000155119139627,
          0.4867779319074937,
          0.9363681345940051,
          -0.4668460793958201,
          -0.7533173498230599,
          0.3881660415618446,
          -0.24540208218072185,
          0.3123027143122271,
          -0.7475561922789368,
          0.2650863241472753,
          0.23337701628765933,
          -0.9035514270650542,
          1.50640863657213,
          -0.41527730958195447,
          0.20291776029643913,
          0.23002800054265488,
          -0.8545896581694682,
          1.5902756654205976,
          -0.646402001930611,
          -2.1932756590804794,
          0.40491512339053204,
          -1.8289103528491077,
          0.5734363312343274,
          -0.04230138803378668,
          -0.8757883761727011,
          0.4403917698375127,
          -3.089110937866257,
          1.0968688240175577,
          -2.04621133544825,
          -0.9723019426093988,
          0.990229384745472,
          -0.5949075675496344,
          -2.660295641655794,
          0.7957914831810432,
          -0.711003361571698,
          0.8518323914473779,
          0.11852577082714624,
          1.5889868786889505,
          -1.686018220397716,
          0.3454027860589693,
          -0.6025244077213349,
          1.5800216316859224,
          0.9031696756113189,
          -1.013462634012932,
          -1.3477550389484831,
          0.9078753173946693,
          -0.570641152879746,
          -0.6772923107611662,
          -1.3222571406546464,
          0.2300434350749415,
          -0.28280986626199167,
          0.7261499023093949,
          -0.000542242574547095,
          -2.204483032318085,
          -0.4885101387532285,
          0.5012993110056877,
          0.9542814497936115,
          -0.2700832636336223,
          0.458150486417723,
          0.7113040181681382,
          -0.1914615764022577,
          -0.022769483825800275,
          -0.09779913895350369,
          0.21027342419346273
         ],
         "yaxis": "y10"
        },
        {
         "histfunc": "count",
         "histnorm": "",
         "marker": {
          "color": "rgba(50, 171, 96, 1.0)",
          "line": {
           "color": "#4D5663",
           "width": 1.3
          }
         },
         "name": "C",
         "nbinsx": 10,
         "opacity": 0.8,
         "orientation": "v",
         "type": "histogram",
         "x": [
          -1.7624799146330916,
          -0.052454692444293204,
          -0.6144926711450668,
          0.34605467548314317,
          1.7293471823153381,
          -0.7158009522760164,
          -0.6149194787316927,
          -0.135338813333711,
          0.29852389755538933,
          1.340879720715101,
          -2.8130784565849867,
          0.4651501979291797,
          -0.3131091291680892,
          -0.9321956807746758,
          -1.9078699262875176,
          -0.46622262685752525,
          1.3089009383594243,
          0.31180112202706756,
          -2.0227146115391315,
          0.5807127962884536,
          1.1385496213288238,
          -0.4455122188814769,
          -1.1301884249433958,
          -0.5243739109303537,
          -0.03748635500043051,
          -1.8843804581073422,
          1.7003271439262493,
          0.9935895835623703,
          -1.8590740904948801,
          -0.4310696037478699,
          -0.5840104825773925,
          0.36961988003281315,
          -0.13050295671732637,
          2.4214268502295053,
          1.7848604715091976,
          -1.31828143894674,
          0.6000155119139627,
          0.4867779319074937,
          0.9363681345940051,
          -0.4668460793958201,
          -0.7533173498230599,
          0.3881660415618446,
          -0.24540208218072185,
          0.3123027143122271,
          -0.7475561922789368,
          0.2650863241472753,
          0.23337701628765933,
          -0.9035514270650542,
          1.50640863657213,
          -0.41527730958195447,
          0.20291776029643913,
          0.23002800054265488,
          -0.8545896581694682,
          1.5902756654205976,
          -0.646402001930611,
          -2.1932756590804794,
          0.40491512339053204,
          -1.8289103528491077,
          0.5734363312343274,
          -0.04230138803378668,
          -0.8757883761727011,
          0.4403917698375127,
          -3.089110937866257,
          1.0968688240175577,
          -2.04621133544825,
          -0.9723019426093988,
          0.990229384745472,
          -0.5949075675496344,
          -2.660295641655794,
          0.7957914831810432,
          -0.711003361571698,
          0.8518323914473779,
          0.11852577082714624,
          1.5889868786889505,
          -1.686018220397716,
          0.3454027860589693,
          -0.6025244077213349,
          1.5800216316859224,
          0.9031696756113189,
          -1.013462634012932,
          -1.3477550389484831,
          0.9078753173946693,
          -0.570641152879746,
          -0.6772923107611662,
          -1.3222571406546464,
          0.2300434350749415,
          -0.28280986626199167,
          0.7261499023093949,
          -0.000542242574547095,
          -2.204483032318085,
          -0.4885101387532285,
          0.5012993110056877,
          0.9542814497936115,
          -0.2700832636336223,
          0.458150486417723,
          0.7113040181681382,
          -0.1914615764022577,
          -0.022769483825800275,
          -0.09779913895350369,
          0.21027342419346273
         ],
         "xaxis": "x11",
         "yaxis": "y11"
        },
        {
         "line": {
          "color": "rgba(128, 128, 128, 1.0)",
          "dash": "solid",
          "shape": "linear",
          "width": 1.3
         },
         "marker": {
          "size": 2,
          "symbol": "circle"
         },
         "mode": "markers",
         "name": "C",
         "text": "",
         "type": "scatter",
         "x": [
          -0.7154744873251464,
          -1.8364655110349717,
          1.1366459484665203,
          0.014352604016508522,
          0.9387056429722956,
          -0.035766596035709204,
          -1.3271506370172508,
          -0.08540914504181113,
          0.45065130838901224,
          -0.5010267235645277,
          -0.09538316694011877,
          -0.717550866234728,
          -0.44925698095520417,
          0.43095017324903195,
          -0.641231367567333,
          -0.14160835085779722,
          0.6658978630232735,
          0.36186834977881416,
          1.2164584292056806,
          1.080912647764627,
          -0.31589577180751083,
          -1.5390270400295032,
          0.1545475268511163,
          0.9337195503966247,
          0.17198125235547487,
          -0.6444802056267953,
          -0.1735715410563226,
          -1.382930576207823,
          -0.008782780945467876,
          1.6253867959841757,
          0.5108600880487182,
          1.9584462529831108,
          -1.1387558200867824,
          -0.6775743866345354,
          0.3045015567963941,
          -0.7010893702571275,
          -0.21509069679939974,
          -0.06660318500201455,
          -2.0494500265655513,
          0.7371104180734958,
          -0.1394601307353762,
          0.06332501275504406,
          -0.33605152576259134,
          0.24272829505932145,
          -0.5210518613377643,
          -0.7794939251059732,
          -0.816663707123236,
          0.8429269691178186,
          -0.0049567234948185305,
          0.7910052117961612,
          -0.14011603254623242,
          -0.8139883767081845,
          -0.8543410413682735,
          -1.133037457300175,
          -2.446520027835509,
          -0.3954282150870679,
          -0.40852764641376943,
          1.1283038405604628,
          -0.6771415435153333,
          0.3860935342750069,
          1.0399071465756002,
          1.0686935234542685,
          1.368482210459442,
          -1.4959343241762837,
          0.16391649604384745,
          -0.4798869284387275,
          -1.7339241148875995,
          -1.1426876664546317,
          1.9304927454747411,
          -1.147633930021583,
          -0.7766553605421657,
          -0.9004501522692031,
          0.5898374598725552,
          -1.6753315862291647,
          0.3619980415765755,
          1.4284402500227904,
          0.12220590217893887,
          0.011800729718907147,
          0.7155339818248,
          -0.560323549055294,
          0.2658031832193285,
          -0.2957349485957265,
          1.743740168254544,
          -0.6330367982019135,
          -0.4949632500174672,
          -0.9137889955901022,
          -0.544098303604624,
          0.6742546131008241,
          -0.5706589509403914,
          0.26229891152032203,
          2.108495915505444,
          -0.5588513162941839,
          -1.1305822043827989,
          0.13677502455472695,
          0.9066454032062755,
          -0.24071521677455401,
          -1.0687645130524526,
          -0.14836447765418917,
          -0.03062007910395427,
          -0.05054481702962435
         ],
         "xaxis": "x12",
         "y": [
          -1.7624799146330916,
          -0.052454692444293204,
          -0.6144926711450668,
          0.34605467548314317,
          1.7293471823153381,
          -0.7158009522760164,
          -0.6149194787316927,
          -0.135338813333711,
          0.29852389755538933,
          1.340879720715101,
          -2.8130784565849867,
          0.4651501979291797,
          -0.3131091291680892,
          -0.9321956807746758,
          -1.9078699262875176,
          -0.46622262685752525,
          1.3089009383594243,
          0.31180112202706756,
          -2.0227146115391315,
          0.5807127962884536,
          1.1385496213288238,
          -0.4455122188814769,
          -1.1301884249433958,
          -0.5243739109303537,
          -0.03748635500043051,
          -1.8843804581073422,
          1.7003271439262493,
          0.9935895835623703,
          -1.8590740904948801,
          -0.4310696037478699,
          -0.5840104825773925,
          0.36961988003281315,
          -0.13050295671732637,
          2.4214268502295053,
          1.7848604715091976,
          -1.31828143894674,
          0.6000155119139627,
          0.4867779319074937,
          0.9363681345940051,
          -0.4668460793958201,
          -0.7533173498230599,
          0.3881660415618446,
          -0.24540208218072185,
          0.3123027143122271,
          -0.7475561922789368,
          0.2650863241472753,
          0.23337701628765933,
          -0.9035514270650542,
          1.50640863657213,
          -0.41527730958195447,
          0.20291776029643913,
          0.23002800054265488,
          -0.8545896581694682,
          1.5902756654205976,
          -0.646402001930611,
          -2.1932756590804794,
          0.40491512339053204,
          -1.8289103528491077,
          0.5734363312343274,
          -0.04230138803378668,
          -0.8757883761727011,
          0.4403917698375127,
          -3.089110937866257,
          1.0968688240175577,
          -2.04621133544825,
          -0.9723019426093988,
          0.990229384745472,
          -0.5949075675496344,
          -2.660295641655794,
          0.7957914831810432,
          -0.711003361571698,
          0.8518323914473779,
          0.11852577082714624,
          1.5889868786889505,
          -1.686018220397716,
          0.3454027860589693,
          -0.6025244077213349,
          1.5800216316859224,
          0.9031696756113189,
          -1.013462634012932,
          -1.3477550389484831,
          0.9078753173946693,
          -0.570641152879746,
          -0.6772923107611662,
          -1.3222571406546464,
          0.2300434350749415,
          -0.28280986626199167,
          0.7261499023093949,
          -0.000542242574547095,
          -2.204483032318085,
          -0.4885101387532285,
          0.5012993110056877,
          0.9542814497936115,
          -0.2700832636336223,
          0.458150486417723,
          0.7113040181681382,
          -0.1914615764022577,
          -0.022769483825800275,
          -0.09779913895350369,
          0.21027342419346273
         ],
         "yaxis": "y12"
        },
        {
         "line": {
          "color": "rgba(128, 128, 128, 1.0)",
          "dash": "solid",
          "shape": "linear",
          "width": 1.3
         },
         "marker": {
          "size": 2,
          "symbol": "circle"
         },
         "mode": "markers",
         "name": "D",
         "text": "",
         "type": "scatter",
         "x": [
          -1.0195385963187849,
          1.1015943866068003,
          0.565322916737536,
          -0.5424284895484377,
          -0.32566226944201476,
          1.3333580414602808,
          -0.8882935417582444,
          0.573084622763612,
          -1.600582981777984,
          0.2962440326176717,
          -0.3255987463598287,
          0.4144242488662172,
          -1.0526878096406618,
          -1.079751691163813,
          0.44468732716120624,
          0.49214489354581953,
          -0.4176729612012741,
          -1.2433661966590415,
          -1.0593292659248816,
          0.2555303994444098,
          1.3988763770711914,
          -0.13508460667466193,
          0.8801931903209784,
          -0.009713307420049045,
          0.08537533507598072,
          0.1777838421614929,
          -1.271693389664294,
          -0.052062887286873284,
          -1.2786010696930032,
          0.3951169412497632,
          -0.007129080368495911,
          0.24931082591451678,
          -1.3074436240953813,
          0.39262035657229377,
          0.16895832011791706,
          0.15320171003133856,
          0.4529690184927029,
          0.5675748558086052,
          -1.038916265731738,
          0.03080254388823513,
          -0.6550524357879981,
          -0.00963038602457602,
          -0.43923332854400204,
          -1.4682191809450431,
          0.11302991912004492,
          -0.7131088037710968,
          -0.3074503195357637,
          -0.9652556704332182,
          -0.5171097999789459,
          1.7013367191358348,
          0.056091762858178434,
          0.2007988890983905,
          -0.5543052937490693,
          0.6937944914951706,
          0.6669048002314144,
          0.59369902089003,
          -1.713836342591796,
          1.1138274799032772,
          0.9254577425491017,
          -1.143153861907134,
          -1.3186559413350674,
          0.39093587426554083,
          -2.2957843371048012,
          -0.047664705487196195,
          1.0581371609309211,
          0.30828978169977284,
          1.5021689850009483,
          -0.8165629998636657,
          -0.1530680681408224,
          -0.07521140061589364,
          -1.766655219574804,
          0.30466812087753004,
          1.0818447459395093,
          -0.8478457275864004,
          0.414533929031304,
          -1.0957094470237285,
          -0.6418639427476324,
          1.4450146182774097,
          1.3804084393844278,
          -1.115216408942094,
          -0.0798960622493228,
          -2.2853903926292385,
          -0.06460200203963314,
          -0.3538865661985639,
          -1.1972065067795628,
          0.045213040450247016,
          1.1339678979236238,
          -0.5316805072703285,
          0.003961027654528789,
          -1.0175911801095872,
          -0.39943629619858767,
          -0.646145382985172,
          -1.9346472258288518,
          -0.22139498946193603,
          -0.616262445072994,
          0.0664818373185558,
          -0.2152707163604317,
          0.7858907677940824,
          -1.1785824127352216,
          -0.6779173459311484
         ],
         "xaxis": "x13",
         "y": [
          -0.7154744873251464,
          -1.8364655110349717,
          1.1366459484665203,
          0.014352604016508522,
          0.9387056429722956,
          -0.035766596035709204,
          -1.3271506370172508,
          -0.08540914504181113,
          0.45065130838901224,
          -0.5010267235645277,
          -0.09538316694011877,
          -0.717550866234728,
          -0.44925698095520417,
          0.43095017324903195,
          -0.641231367567333,
          -0.14160835085779722,
          0.6658978630232735,
          0.36186834977881416,
          1.2164584292056806,
          1.080912647764627,
          -0.31589577180751083,
          -1.5390270400295032,
          0.1545475268511163,
          0.9337195503966247,
          0.17198125235547487,
          -0.6444802056267953,
          -0.1735715410563226,
          -1.382930576207823,
          -0.008782780945467876,
          1.6253867959841757,
          0.5108600880487182,
          1.9584462529831108,
          -1.1387558200867824,
          -0.6775743866345354,
          0.3045015567963941,
          -0.7010893702571275,
          -0.21509069679939974,
          -0.06660318500201455,
          -2.0494500265655513,
          0.7371104180734958,
          -0.1394601307353762,
          0.06332501275504406,
          -0.33605152576259134,
          0.24272829505932145,
          -0.5210518613377643,
          -0.7794939251059732,
          -0.816663707123236,
          0.8429269691178186,
          -0.0049567234948185305,
          0.7910052117961612,
          -0.14011603254623242,
          -0.8139883767081845,
          -0.8543410413682735,
          -1.133037457300175,
          -2.446520027835509,
          -0.3954282150870679,
          -0.40852764641376943,
          1.1283038405604628,
          -0.6771415435153333,
          0.3860935342750069,
          1.0399071465756002,
          1.0686935234542685,
          1.368482210459442,
          -1.4959343241762837,
          0.16391649604384745,
          -0.4798869284387275,
          -1.7339241148875995,
          -1.1426876664546317,
          1.9304927454747411,
          -1.147633930021583,
          -0.7766553605421657,
          -0.9004501522692031,
          0.5898374598725552,
          -1.6753315862291647,
          0.3619980415765755,
          1.4284402500227904,
          0.12220590217893887,
          0.011800729718907147,
          0.7155339818248,
          -0.560323549055294,
          0.2658031832193285,
          -0.2957349485957265,
          1.743740168254544,
          -0.6330367982019135,
          -0.4949632500174672,
          -0.9137889955901022,
          -0.544098303604624,
          0.6742546131008241,
          -0.5706589509403914,
          0.26229891152032203,
          2.108495915505444,
          -0.5588513162941839,
          -1.1305822043827989,
          0.13677502455472695,
          0.9066454032062755,
          -0.24071521677455401,
          -1.0687645130524526,
          -0.14836447765418917,
          -0.03062007910395427,
          -0.05054481702962435
         ],
         "yaxis": "y13"
        },
        {
         "line": {
          "color": "rgba(128, 128, 128, 1.0)",
          "dash": "solid",
          "shape": "linear",
          "width": 1.3
         },
         "marker": {
          "size": 2,
          "symbol": "circle"
         },
         "mode": "markers",
         "name": "D",
         "text": "",
         "type": "scatter",
         "x": [
          0.05084052415534849,
          0.4448926667384461,
          -0.5165006805648271,
          -1.0217481899569538,
          2.918916860488833,
          0.7119834105490889,
          -0.12598219184572093,
          1.7446505200029419,
          0.07448195798863841,
          -0.4367454374327472,
          2.001312602465858,
          0.8626677261130298,
          -0.7832646582342923,
          -1.4699780709897277,
          -0.14922984973037076,
          0.29187556277665405,
          -1.86438093315328,
          -0.9463531776956947,
          1.0018939862271918,
          -0.34174690341712166,
          -0.9608689994165556,
          0.37152716650134315,
          1.2680288231103298,
          -0.6230457517284945,
          -2.328812174302247,
          0.3024388389452721,
          0.12181850117223207,
          0.46424692550993446,
          2.0207808094668818,
          1.4510874303547483,
          -1.836459556297738,
          -1.2540393269655528,
          0.9811131035778574,
          -2.4255879762977304,
          -0.07892959167407539,
          -0.45258843538951654,
          -0.9237149248290297,
          2.027895768151158,
          -0.15741428062768711,
          1.0621556956587694,
          0.22627487908670568,
          0.8972177322808671,
          -0.1852713126252378,
          -1.7127052110108827,
          0.4266369122608103,
          -0.4934032996758012,
          0.09126560127006829,
          1.420832341876129,
          -0.226925419286172,
          0.34854293270965647,
          1.2047457905809145,
          0.14374022217106794,
          -0.9209836977121332,
          0.4372250721685303,
          0.275097080721775,
          -1.2319795109830607,
          0.05807780757368901,
          1.4050083175299108,
          1.2856506736655673,
          -1.384326860093379,
          0.4550192051180061,
          1.400525929182616,
          -0.7836114813867611,
          1.3036820975574719,
          0.37351025358713613,
          -0.2913411851716362,
          -0.5406291701996493,
          0.17478931269171785,
          -1.8517703672163301,
          -1.4186898427664862,
          0.06509413769267655,
          0.19307454979843466,
          0.8232244735534852,
          0.524671044677807,
          -0.40315319096565155,
          -1.4268165410981934,
          0.2813575779141045,
          -0.2621634305145455,
          -0.08483012735497701,
          -1.045497945983192,
          1.2382134521818677,
          -0.4323116394409646,
          0.680747412833651,
          -1.2929873756166974,
          0.6529828667025668,
          0.3595023686883591,
          -1.2955231449330304,
          1.164536680417677,
          -0.4825439698093178,
          0.13250442906721477,
          -0.7908765509841708,
          -0.3833702329039137,
          -0.39437377035578575,
          -1.1471692465131529,
          0.30910570387733843,
          -0.9332569711532109,
          0.880636842120163,
          0.1251672859001783,
          -0.8768528712998347,
          -0.7922814709334515
         ],
         "xaxis": "x14",
         "y": [
          -0.7154744873251464,
          -1.8364655110349717,
          1.1366459484665203,
          0.014352604016508522,
          0.9387056429722956,
          -0.035766596035709204,
          -1.3271506370172508,
          -0.08540914504181113,
          0.45065130838901224,
          -0.5010267235645277,
          -0.09538316694011877,
          -0.717550866234728,
          -0.44925698095520417,
          0.43095017324903195,
          -0.641231367567333,
          -0.14160835085779722,
          0.6658978630232735,
          0.36186834977881416,
          1.2164584292056806,
          1.080912647764627,
          -0.31589577180751083,
          -1.5390270400295032,
          0.1545475268511163,
          0.9337195503966247,
          0.17198125235547487,
          -0.6444802056267953,
          -0.1735715410563226,
          -1.382930576207823,
          -0.008782780945467876,
          1.6253867959841757,
          0.5108600880487182,
          1.9584462529831108,
          -1.1387558200867824,
          -0.6775743866345354,
          0.3045015567963941,
          -0.7010893702571275,
          -0.21509069679939974,
          -0.06660318500201455,
          -2.0494500265655513,
          0.7371104180734958,
          -0.1394601307353762,
          0.06332501275504406,
          -0.33605152576259134,
          0.24272829505932145,
          -0.5210518613377643,
          -0.7794939251059732,
          -0.816663707123236,
          0.8429269691178186,
          -0.0049567234948185305,
          0.7910052117961612,
          -0.14011603254623242,
          -0.8139883767081845,
          -0.8543410413682735,
          -1.133037457300175,
          -2.446520027835509,
          -0.3954282150870679,
          -0.40852764641376943,
          1.1283038405604628,
          -0.6771415435153333,
          0.3860935342750069,
          1.0399071465756002,
          1.0686935234542685,
          1.368482210459442,
          -1.4959343241762837,
          0.16391649604384745,
          -0.4798869284387275,
          -1.7339241148875995,
          -1.1426876664546317,
          1.9304927454747411,
          -1.147633930021583,
          -0.7766553605421657,
          -0.9004501522692031,
          0.5898374598725552,
          -1.6753315862291647,
          0.3619980415765755,
          1.4284402500227904,
          0.12220590217893887,
          0.011800729718907147,
          0.7155339818248,
          -0.560323549055294,
          0.2658031832193285,
          -0.2957349485957265,
          1.743740168254544,
          -0.6330367982019135,
          -0.4949632500174672,
          -0.9137889955901022,
          -0.544098303604624,
          0.6742546131008241,
          -0.5706589509403914,
          0.26229891152032203,
          2.108495915505444,
          -0.5588513162941839,
          -1.1305822043827989,
          0.13677502455472695,
          0.9066454032062755,
          -0.24071521677455401,
          -1.0687645130524526,
          -0.14836447765418917,
          -0.03062007910395427,
          -0.05054481702962435
         ],
         "yaxis": "y14"
        },
        {
         "line": {
          "color": "rgba(128, 128, 128, 1.0)",
          "dash": "solid",
          "shape": "linear",
          "width": 1.3
         },
         "marker": {
          "size": 2,
          "symbol": "circle"
         },
         "mode": "markers",
         "name": "D",
         "text": "",
         "type": "scatter",
         "x": [
          -1.7624799146330916,
          -0.052454692444293204,
          -0.6144926711450668,
          0.34605467548314317,
          1.7293471823153381,
          -0.7158009522760164,
          -0.6149194787316927,
          -0.135338813333711,
          0.29852389755538933,
          1.340879720715101,
          -2.8130784565849867,
          0.4651501979291797,
          -0.3131091291680892,
          -0.9321956807746758,
          -1.9078699262875176,
          -0.46622262685752525,
          1.3089009383594243,
          0.31180112202706756,
          -2.0227146115391315,
          0.5807127962884536,
          1.1385496213288238,
          -0.4455122188814769,
          -1.1301884249433958,
          -0.5243739109303537,
          -0.03748635500043051,
          -1.8843804581073422,
          1.7003271439262493,
          0.9935895835623703,
          -1.8590740904948801,
          -0.4310696037478699,
          -0.5840104825773925,
          0.36961988003281315,
          -0.13050295671732637,
          2.4214268502295053,
          1.7848604715091976,
          -1.31828143894674,
          0.6000155119139627,
          0.4867779319074937,
          0.9363681345940051,
          -0.4668460793958201,
          -0.7533173498230599,
          0.3881660415618446,
          -0.24540208218072185,
          0.3123027143122271,
          -0.7475561922789368,
          0.2650863241472753,
          0.23337701628765933,
          -0.9035514270650542,
          1.50640863657213,
          -0.41527730958195447,
          0.20291776029643913,
          0.23002800054265488,
          -0.8545896581694682,
          1.5902756654205976,
          -0.646402001930611,
          -2.1932756590804794,
          0.40491512339053204,
          -1.8289103528491077,
          0.5734363312343274,
          -0.04230138803378668,
          -0.8757883761727011,
          0.4403917698375127,
          -3.089110937866257,
          1.0968688240175577,
          -2.04621133544825,
          -0.9723019426093988,
          0.990229384745472,
          -0.5949075675496344,
          -2.660295641655794,
          0.7957914831810432,
          -0.711003361571698,
          0.8518323914473779,
          0.11852577082714624,
          1.5889868786889505,
          -1.686018220397716,
          0.3454027860589693,
          -0.6025244077213349,
          1.5800216316859224,
          0.9031696756113189,
          -1.013462634012932,
          -1.3477550389484831,
          0.9078753173946693,
          -0.570641152879746,
          -0.6772923107611662,
          -1.3222571406546464,
          0.2300434350749415,
          -0.28280986626199167,
          0.7261499023093949,
          -0.000542242574547095,
          -2.204483032318085,
          -0.4885101387532285,
          0.5012993110056877,
          0.9542814497936115,
          -0.2700832636336223,
          0.458150486417723,
          0.7113040181681382,
          -0.1914615764022577,
          -0.022769483825800275,
          -0.09779913895350369,
          0.21027342419346273
         ],
         "xaxis": "x15",
         "y": [
          -0.7154744873251464,
          -1.8364655110349717,
          1.1366459484665203,
          0.014352604016508522,
          0.9387056429722956,
          -0.035766596035709204,
          -1.3271506370172508,
          -0.08540914504181113,
          0.45065130838901224,
          -0.5010267235645277,
          -0.09538316694011877,
          -0.717550866234728,
          -0.44925698095520417,
          0.43095017324903195,
          -0.641231367567333,
          -0.14160835085779722,
          0.6658978630232735,
          0.36186834977881416,
          1.2164584292056806,
          1.080912647764627,
          -0.31589577180751083,
          -1.5390270400295032,
          0.1545475268511163,
          0.9337195503966247,
          0.17198125235547487,
          -0.6444802056267953,
          -0.1735715410563226,
          -1.382930576207823,
          -0.008782780945467876,
          1.6253867959841757,
          0.5108600880487182,
          1.9584462529831108,
          -1.1387558200867824,
          -0.6775743866345354,
          0.3045015567963941,
          -0.7010893702571275,
          -0.21509069679939974,
          -0.06660318500201455,
          -2.0494500265655513,
          0.7371104180734958,
          -0.1394601307353762,
          0.06332501275504406,
          -0.33605152576259134,
          0.24272829505932145,
          -0.5210518613377643,
          -0.7794939251059732,
          -0.816663707123236,
          0.8429269691178186,
          -0.0049567234948185305,
          0.7910052117961612,
          -0.14011603254623242,
          -0.8139883767081845,
          -0.8543410413682735,
          -1.133037457300175,
          -2.446520027835509,
          -0.3954282150870679,
          -0.40852764641376943,
          1.1283038405604628,
          -0.6771415435153333,
          0.3860935342750069,
          1.0399071465756002,
          1.0686935234542685,
          1.368482210459442,
          -1.4959343241762837,
          0.16391649604384745,
          -0.4798869284387275,
          -1.7339241148875995,
          -1.1426876664546317,
          1.9304927454747411,
          -1.147633930021583,
          -0.7766553605421657,
          -0.9004501522692031,
          0.5898374598725552,
          -1.6753315862291647,
          0.3619980415765755,
          1.4284402500227904,
          0.12220590217893887,
          0.011800729718907147,
          0.7155339818248,
          -0.560323549055294,
          0.2658031832193285,
          -0.2957349485957265,
          1.743740168254544,
          -0.6330367982019135,
          -0.4949632500174672,
          -0.9137889955901022,
          -0.544098303604624,
          0.6742546131008241,
          -0.5706589509403914,
          0.26229891152032203,
          2.108495915505444,
          -0.5588513162941839,
          -1.1305822043827989,
          0.13677502455472695,
          0.9066454032062755,
          -0.24071521677455401,
          -1.0687645130524526,
          -0.14836447765418917,
          -0.03062007910395427,
          -0.05054481702962435
         ],
         "yaxis": "y15"
        },
        {
         "histfunc": "count",
         "histnorm": "",
         "marker": {
          "color": "rgba(128, 0, 128, 1.0)",
          "line": {
           "color": "#4D5663",
           "width": 1.3
          }
         },
         "name": "D",
         "nbinsx": 10,
         "opacity": 0.8,
         "orientation": "v",
         "type": "histogram",
         "x": [
          -0.7154744873251464,
          -1.8364655110349717,
          1.1366459484665203,
          0.014352604016508522,
          0.9387056429722956,
          -0.035766596035709204,
          -1.3271506370172508,
          -0.08540914504181113,
          0.45065130838901224,
          -0.5010267235645277,
          -0.09538316694011877,
          -0.717550866234728,
          -0.44925698095520417,
          0.43095017324903195,
          -0.641231367567333,
          -0.14160835085779722,
          0.6658978630232735,
          0.36186834977881416,
          1.2164584292056806,
          1.080912647764627,
          -0.31589577180751083,
          -1.5390270400295032,
          0.1545475268511163,
          0.9337195503966247,
          0.17198125235547487,
          -0.6444802056267953,
          -0.1735715410563226,
          -1.382930576207823,
          -0.008782780945467876,
          1.6253867959841757,
          0.5108600880487182,
          1.9584462529831108,
          -1.1387558200867824,
          -0.6775743866345354,
          0.3045015567963941,
          -0.7010893702571275,
          -0.21509069679939974,
          -0.06660318500201455,
          -2.0494500265655513,
          0.7371104180734958,
          -0.1394601307353762,
          0.06332501275504406,
          -0.33605152576259134,
          0.24272829505932145,
          -0.5210518613377643,
          -0.7794939251059732,
          -0.816663707123236,
          0.8429269691178186,
          -0.0049567234948185305,
          0.7910052117961612,
          -0.14011603254623242,
          -0.8139883767081845,
          -0.8543410413682735,
          -1.133037457300175,
          -2.446520027835509,
          -0.3954282150870679,
          -0.40852764641376943,
          1.1283038405604628,
          -0.6771415435153333,
          0.3860935342750069,
          1.0399071465756002,
          1.0686935234542685,
          1.368482210459442,
          -1.4959343241762837,
          0.16391649604384745,
          -0.4798869284387275,
          -1.7339241148875995,
          -1.1426876664546317,
          1.9304927454747411,
          -1.147633930021583,
          -0.7766553605421657,
          -0.9004501522692031,
          0.5898374598725552,
          -1.6753315862291647,
          0.3619980415765755,
          1.4284402500227904,
          0.12220590217893887,
          0.011800729718907147,
          0.7155339818248,
          -0.560323549055294,
          0.2658031832193285,
          -0.2957349485957265,
          1.743740168254544,
          -0.6330367982019135,
          -0.4949632500174672,
          -0.9137889955901022,
          -0.544098303604624,
          0.6742546131008241,
          -0.5706589509403914,
          0.26229891152032203,
          2.108495915505444,
          -0.5588513162941839,
          -1.1305822043827989,
          0.13677502455472695,
          0.9066454032062755,
          -0.24071521677455401,
          -1.0687645130524526,
          -0.14836447765418917,
          -0.03062007910395427,
          -0.05054481702962435
         ],
         "xaxis": "x16",
         "yaxis": "y16"
        }
       ],
       "layout": {
        "bargap": 0.02,
        "legend": {
         "bgcolor": "#F5F6F9",
         "font": {
          "color": "#4D5663"
         }
        },
        "paper_bgcolor": "#F5F6F9",
        "plot_bgcolor": "#F5F6F9",
        "showlegend": false,
        "template": {
         "data": {
          "bar": [
           {
            "error_x": {
             "color": "#2a3f5f"
            },
            "error_y": {
             "color": "#2a3f5f"
            },
            "marker": {
             "line": {
              "color": "#E5ECF6",
              "width": 0.5
             },
             "pattern": {
              "fillmode": "overlay",
              "size": 10,
              "solidity": 0.2
             }
            },
            "type": "bar"
           }
          ],
          "barpolar": [
           {
            "marker": {
             "line": {
              "color": "#E5ECF6",
              "width": 0.5
             },
             "pattern": {
              "fillmode": "overlay",
              "size": 10,
              "solidity": 0.2
             }
            },
            "type": "barpolar"
           }
          ],
          "carpet": [
           {
            "aaxis": {
             "endlinecolor": "#2a3f5f",
             "gridcolor": "white",
             "linecolor": "white",
             "minorgridcolor": "white",
             "startlinecolor": "#2a3f5f"
            },
            "baxis": {
             "endlinecolor": "#2a3f5f",
             "gridcolor": "white",
             "linecolor": "white",
             "minorgridcolor": "white",
             "startlinecolor": "#2a3f5f"
            },
            "type": "carpet"
           }
          ],
          "choropleth": [
           {
            "colorbar": {
             "outlinewidth": 0,
             "ticks": ""
            },
            "type": "choropleth"
           }
          ],
          "contour": [
           {
            "colorbar": {
             "outlinewidth": 0,
             "ticks": ""
            },
            "colorscale": [
             [
              0,
              "#0d0887"
             ],
             [
              0.1111111111111111,
              "#46039f"
             ],
             [
              0.2222222222222222,
              "#7201a8"
             ],
             [
              0.3333333333333333,
              "#9c179e"
             ],
             [
              0.4444444444444444,
              "#bd3786"
             ],
             [
              0.5555555555555556,
              "#d8576b"
             ],
             [
              0.6666666666666666,
              "#ed7953"
             ],
             [
              0.7777777777777778,
              "#fb9f3a"
             ],
             [
              0.8888888888888888,
              "#fdca26"
             ],
             [
              1,
              "#f0f921"
             ]
            ],
            "type": "contour"
           }
          ],
          "contourcarpet": [
           {
            "colorbar": {
             "outlinewidth": 0,
             "ticks": ""
            },
            "type": "contourcarpet"
           }
          ],
          "heatmap": [
           {
            "colorbar": {
             "outlinewidth": 0,
             "ticks": ""
            },
            "colorscale": [
             [
              0,
              "#0d0887"
             ],
             [
              0.1111111111111111,
              "#46039f"
             ],
             [
              0.2222222222222222,
              "#7201a8"
             ],
             [
              0.3333333333333333,
              "#9c179e"
             ],
             [
              0.4444444444444444,
              "#bd3786"
             ],
             [
              0.5555555555555556,
              "#d8576b"
             ],
             [
              0.6666666666666666,
              "#ed7953"
             ],
             [
              0.7777777777777778,
              "#fb9f3a"
             ],
             [
              0.8888888888888888,
              "#fdca26"
             ],
             [
              1,
              "#f0f921"
             ]
            ],
            "type": "heatmap"
           }
          ],
          "heatmapgl": [
           {
            "colorbar": {
             "outlinewidth": 0,
             "ticks": ""
            },
            "colorscale": [
             [
              0,
              "#0d0887"
             ],
             [
              0.1111111111111111,
              "#46039f"
             ],
             [
              0.2222222222222222,
              "#7201a8"
             ],
             [
              0.3333333333333333,
              "#9c179e"
             ],
             [
              0.4444444444444444,
              "#bd3786"
             ],
             [
              0.5555555555555556,
              "#d8576b"
             ],
             [
              0.6666666666666666,
              "#ed7953"
             ],
             [
              0.7777777777777778,
              "#fb9f3a"
             ],
             [
              0.8888888888888888,
              "#fdca26"
             ],
             [
              1,
              "#f0f921"
             ]
            ],
            "type": "heatmapgl"
           }
          ],
          "histogram": [
           {
            "marker": {
             "pattern": {
              "fillmode": "overlay",
              "size": 10,
              "solidity": 0.2
             }
            },
            "type": "histogram"
           }
          ],
          "histogram2d": [
           {
            "colorbar": {
             "outlinewidth": 0,
             "ticks": ""
            },
            "colorscale": [
             [
              0,
              "#0d0887"
             ],
             [
              0.1111111111111111,
              "#46039f"
             ],
             [
              0.2222222222222222,
              "#7201a8"
             ],
             [
              0.3333333333333333,
              "#9c179e"
             ],
             [
              0.4444444444444444,
              "#bd3786"
             ],
             [
              0.5555555555555556,
              "#d8576b"
             ],
             [
              0.6666666666666666,
              "#ed7953"
             ],
             [
              0.7777777777777778,
              "#fb9f3a"
             ],
             [
              0.8888888888888888,
              "#fdca26"
             ],
             [
              1,
              "#f0f921"
             ]
            ],
            "type": "histogram2d"
           }
          ],
          "histogram2dcontour": [
           {
            "colorbar": {
             "outlinewidth": 0,
             "ticks": ""
            },
            "colorscale": [
             [
              0,
              "#0d0887"
             ],
             [
              0.1111111111111111,
              "#46039f"
             ],
             [
              0.2222222222222222,
              "#7201a8"
             ],
             [
              0.3333333333333333,
              "#9c179e"
             ],
             [
              0.4444444444444444,
              "#bd3786"
             ],
             [
              0.5555555555555556,
              "#d8576b"
             ],
             [
              0.6666666666666666,
              "#ed7953"
             ],
             [
              0.7777777777777778,
              "#fb9f3a"
             ],
             [
              0.8888888888888888,
              "#fdca26"
             ],
             [
              1,
              "#f0f921"
             ]
            ],
            "type": "histogram2dcontour"
           }
          ],
          "mesh3d": [
           {
            "colorbar": {
             "outlinewidth": 0,
             "ticks": ""
            },
            "type": "mesh3d"
           }
          ],
          "parcoords": [
           {
            "line": {
             "colorbar": {
              "outlinewidth": 0,
              "ticks": ""
             }
            },
            "type": "parcoords"
           }
          ],
          "pie": [
           {
            "automargin": true,
            "type": "pie"
           }
          ],
          "scatter": [
           {
            "fillpattern": {
             "fillmode": "overlay",
             "size": 10,
             "solidity": 0.2
            },
            "type": "scatter"
           }
          ],
          "scatter3d": [
           {
            "line": {
             "colorbar": {
              "outlinewidth": 0,
              "ticks": ""
             }
            },
            "marker": {
             "colorbar": {
              "outlinewidth": 0,
              "ticks": ""
             }
            },
            "type": "scatter3d"
           }
          ],
          "scattercarpet": [
           {
            "marker": {
             "colorbar": {
              "outlinewidth": 0,
              "ticks": ""
             }
            },
            "type": "scattercarpet"
           }
          ],
          "scattergeo": [
           {
            "marker": {
             "colorbar": {
              "outlinewidth": 0,
              "ticks": ""
             }
            },
            "type": "scattergeo"
           }
          ],
          "scattergl": [
           {
            "marker": {
             "colorbar": {
              "outlinewidth": 0,
              "ticks": ""
             }
            },
            "type": "scattergl"
           }
          ],
          "scattermapbox": [
           {
            "marker": {
             "colorbar": {
              "outlinewidth": 0,
              "ticks": ""
             }
            },
            "type": "scattermapbox"
           }
          ],
          "scatterpolar": [
           {
            "marker": {
             "colorbar": {
              "outlinewidth": 0,
              "ticks": ""
             }
            },
            "type": "scatterpolar"
           }
          ],
          "scatterpolargl": [
           {
            "marker": {
             "colorbar": {
              "outlinewidth": 0,
              "ticks": ""
             }
            },
            "type": "scatterpolargl"
           }
          ],
          "scatterternary": [
           {
            "marker": {
             "colorbar": {
              "outlinewidth": 0,
              "ticks": ""
             }
            },
            "type": "scatterternary"
           }
          ],
          "surface": [
           {
            "colorbar": {
             "outlinewidth": 0,
             "ticks": ""
            },
            "colorscale": [
             [
              0,
              "#0d0887"
             ],
             [
              0.1111111111111111,
              "#46039f"
             ],
             [
              0.2222222222222222,
              "#7201a8"
             ],
             [
              0.3333333333333333,
              "#9c179e"
             ],
             [
              0.4444444444444444,
              "#bd3786"
             ],
             [
              0.5555555555555556,
              "#d8576b"
             ],
             [
              0.6666666666666666,
              "#ed7953"
             ],
             [
              0.7777777777777778,
              "#fb9f3a"
             ],
             [
              0.8888888888888888,
              "#fdca26"
             ],
             [
              1,
              "#f0f921"
             ]
            ],
            "type": "surface"
           }
          ],
          "table": [
           {
            "cells": {
             "fill": {
              "color": "#EBF0F8"
             },
             "line": {
              "color": "white"
             }
            },
            "header": {
             "fill": {
              "color": "#C8D4E3"
             },
             "line": {
              "color": "white"
             }
            },
            "type": "table"
           }
          ]
         },
         "layout": {
          "annotationdefaults": {
           "arrowcolor": "#2a3f5f",
           "arrowhead": 0,
           "arrowwidth": 1
          },
          "autotypenumbers": "strict",
          "coloraxis": {
           "colorbar": {
            "outlinewidth": 0,
            "ticks": ""
           }
          },
          "colorscale": {
           "diverging": [
            [
             0,
             "#8e0152"
            ],
            [
             0.1,
             "#c51b7d"
            ],
            [
             0.2,
             "#de77ae"
            ],
            [
             0.3,
             "#f1b6da"
            ],
            [
             0.4,
             "#fde0ef"
            ],
            [
             0.5,
             "#f7f7f7"
            ],
            [
             0.6,
             "#e6f5d0"
            ],
            [
             0.7,
             "#b8e186"
            ],
            [
             0.8,
             "#7fbc41"
            ],
            [
             0.9,
             "#4d9221"
            ],
            [
             1,
             "#276419"
            ]
           ],
           "sequential": [
            [
             0,
             "#0d0887"
            ],
            [
             0.1111111111111111,
             "#46039f"
            ],
            [
             0.2222222222222222,
             "#7201a8"
            ],
            [
             0.3333333333333333,
             "#9c179e"
            ],
            [
             0.4444444444444444,
             "#bd3786"
            ],
            [
             0.5555555555555556,
             "#d8576b"
            ],
            [
             0.6666666666666666,
             "#ed7953"
            ],
            [
             0.7777777777777778,
             "#fb9f3a"
            ],
            [
             0.8888888888888888,
             "#fdca26"
            ],
            [
             1,
             "#f0f921"
            ]
           ],
           "sequentialminus": [
            [
             0,
             "#0d0887"
            ],
            [
             0.1111111111111111,
             "#46039f"
            ],
            [
             0.2222222222222222,
             "#7201a8"
            ],
            [
             0.3333333333333333,
             "#9c179e"
            ],
            [
             0.4444444444444444,
             "#bd3786"
            ],
            [
             0.5555555555555556,
             "#d8576b"
            ],
            [
             0.6666666666666666,
             "#ed7953"
            ],
            [
             0.7777777777777778,
             "#fb9f3a"
            ],
            [
             0.8888888888888888,
             "#fdca26"
            ],
            [
             1,
             "#f0f921"
            ]
           ]
          },
          "colorway": [
           "#636efa",
           "#EF553B",
           "#00cc96",
           "#ab63fa",
           "#FFA15A",
           "#19d3f3",
           "#FF6692",
           "#B6E880",
           "#FF97FF",
           "#FECB52"
          ],
          "font": {
           "color": "#2a3f5f"
          },
          "geo": {
           "bgcolor": "white",
           "lakecolor": "white",
           "landcolor": "#E5ECF6",
           "showlakes": true,
           "showland": true,
           "subunitcolor": "white"
          },
          "hoverlabel": {
           "align": "left"
          },
          "hovermode": "closest",
          "mapbox": {
           "style": "light"
          },
          "paper_bgcolor": "white",
          "plot_bgcolor": "#E5ECF6",
          "polar": {
           "angularaxis": {
            "gridcolor": "white",
            "linecolor": "white",
            "ticks": ""
           },
           "bgcolor": "#E5ECF6",
           "radialaxis": {
            "gridcolor": "white",
            "linecolor": "white",
            "ticks": ""
           }
          },
          "scene": {
           "xaxis": {
            "backgroundcolor": "#E5ECF6",
            "gridcolor": "white",
            "gridwidth": 2,
            "linecolor": "white",
            "showbackground": true,
            "ticks": "",
            "zerolinecolor": "white"
           },
           "yaxis": {
            "backgroundcolor": "#E5ECF6",
            "gridcolor": "white",
            "gridwidth": 2,
            "linecolor": "white",
            "showbackground": true,
            "ticks": "",
            "zerolinecolor": "white"
           },
           "zaxis": {
            "backgroundcolor": "#E5ECF6",
            "gridcolor": "white",
            "gridwidth": 2,
            "linecolor": "white",
            "showbackground": true,
            "ticks": "",
            "zerolinecolor": "white"
           }
          },
          "shapedefaults": {
           "line": {
            "color": "#2a3f5f"
           }
          },
          "ternary": {
           "aaxis": {
            "gridcolor": "white",
            "linecolor": "white",
            "ticks": ""
           },
           "baxis": {
            "gridcolor": "white",
            "linecolor": "white",
            "ticks": ""
           },
           "bgcolor": "#E5ECF6",
           "caxis": {
            "gridcolor": "white",
            "linecolor": "white",
            "ticks": ""
           }
          },
          "title": {
           "x": 0.05
          },
          "xaxis": {
           "automargin": true,
           "gridcolor": "white",
           "linecolor": "white",
           "ticks": "",
           "title": {
            "standoff": 15
           },
           "zerolinecolor": "white",
           "zerolinewidth": 2
          },
          "yaxis": {
           "automargin": true,
           "gridcolor": "white",
           "linecolor": "white",
           "ticks": "",
           "title": {
            "standoff": 15
           },
           "zerolinecolor": "white",
           "zerolinewidth": 2
          }
         }
        },
        "title": {
         "font": {
          "color": "#4D5663"
         }
        },
        "xaxis": {
         "anchor": "y",
         "domain": [
          0,
          0.2125
         ],
         "gridcolor": "#E1E5ED",
         "showgrid": false,
         "tickfont": {
          "color": "#4D5663"
         },
         "title": {
          "font": {
           "color": "#4D5663"
          },
          "text": ""
         },
         "zerolinecolor": "#E1E5ED"
        },
        "xaxis10": {
         "anchor": "y10",
         "domain": [
          0.2625,
          0.475
         ],
         "gridcolor": "#E1E5ED",
         "showgrid": false,
         "tickfont": {
          "color": "#4D5663"
         },
         "title": {
          "font": {
           "color": "#4D5663"
          },
          "text": ""
         },
         "zerolinecolor": "#E1E5ED"
        },
        "xaxis11": {
         "anchor": "y11",
         "domain": [
          0.525,
          0.7375
         ],
         "gridcolor": "#E1E5ED",
         "showgrid": false,
         "tickfont": {
          "color": "#4D5663"
         },
         "title": {
          "font": {
           "color": "#4D5663"
          },
          "text": ""
         },
         "zerolinecolor": "#E1E5ED"
        },
        "xaxis12": {
         "anchor": "y12",
         "domain": [
          0.7875,
          1
         ],
         "gridcolor": "#E1E5ED",
         "showgrid": false,
         "tickfont": {
          "color": "#4D5663"
         },
         "title": {
          "font": {
           "color": "#4D5663"
          },
          "text": ""
         },
         "zerolinecolor": "#E1E5ED"
        },
        "xaxis13": {
         "anchor": "y13",
         "domain": [
          0,
          0.2125
         ],
         "gridcolor": "#E1E5ED",
         "showgrid": false,
         "tickfont": {
          "color": "#4D5663"
         },
         "title": {
          "font": {
           "color": "#4D5663"
          },
          "text": ""
         },
         "zerolinecolor": "#E1E5ED"
        },
        "xaxis14": {
         "anchor": "y14",
         "domain": [
          0.2625,
          0.475
         ],
         "gridcolor": "#E1E5ED",
         "showgrid": false,
         "tickfont": {
          "color": "#4D5663"
         },
         "title": {
          "font": {
           "color": "#4D5663"
          },
          "text": ""
         },
         "zerolinecolor": "#E1E5ED"
        },
        "xaxis15": {
         "anchor": "y15",
         "domain": [
          0.525,
          0.7375
         ],
         "gridcolor": "#E1E5ED",
         "showgrid": false,
         "tickfont": {
          "color": "#4D5663"
         },
         "title": {
          "font": {
           "color": "#4D5663"
          },
          "text": ""
         },
         "zerolinecolor": "#E1E5ED"
        },
        "xaxis16": {
         "anchor": "y16",
         "domain": [
          0.7875,
          1
         ],
         "gridcolor": "#E1E5ED",
         "showgrid": false,
         "tickfont": {
          "color": "#4D5663"
         },
         "title": {
          "font": {
           "color": "#4D5663"
          },
          "text": ""
         },
         "zerolinecolor": "#E1E5ED"
        },
        "xaxis2": {
         "anchor": "y2",
         "domain": [
          0.2625,
          0.475
         ],
         "gridcolor": "#E1E5ED",
         "showgrid": false,
         "tickfont": {
          "color": "#4D5663"
         },
         "title": {
          "font": {
           "color": "#4D5663"
          },
          "text": ""
         },
         "zerolinecolor": "#E1E5ED"
        },
        "xaxis3": {
         "anchor": "y3",
         "domain": [
          0.525,
          0.7375
         ],
         "gridcolor": "#E1E5ED",
         "showgrid": false,
         "tickfont": {
          "color": "#4D5663"
         },
         "title": {
          "font": {
           "color": "#4D5663"
          },
          "text": ""
         },
         "zerolinecolor": "#E1E5ED"
        },
        "xaxis4": {
         "anchor": "y4",
         "domain": [
          0.7875,
          1
         ],
         "gridcolor": "#E1E5ED",
         "showgrid": false,
         "tickfont": {
          "color": "#4D5663"
         },
         "title": {
          "font": {
           "color": "#4D5663"
          },
          "text": ""
         },
         "zerolinecolor": "#E1E5ED"
        },
        "xaxis5": {
         "anchor": "y5",
         "domain": [
          0,
          0.2125
         ],
         "gridcolor": "#E1E5ED",
         "showgrid": false,
         "tickfont": {
          "color": "#4D5663"
         },
         "title": {
          "font": {
           "color": "#4D5663"
          },
          "text": ""
         },
         "zerolinecolor": "#E1E5ED"
        },
        "xaxis6": {
         "anchor": "y6",
         "domain": [
          0.2625,
          0.475
         ],
         "gridcolor": "#E1E5ED",
         "showgrid": false,
         "tickfont": {
          "color": "#4D5663"
         },
         "title": {
          "font": {
           "color": "#4D5663"
          },
          "text": ""
         },
         "zerolinecolor": "#E1E5ED"
        },
        "xaxis7": {
         "anchor": "y7",
         "domain": [
          0.525,
          0.7375
         ],
         "gridcolor": "#E1E5ED",
         "showgrid": false,
         "tickfont": {
          "color": "#4D5663"
         },
         "title": {
          "font": {
           "color": "#4D5663"
          },
          "text": ""
         },
         "zerolinecolor": "#E1E5ED"
        },
        "xaxis8": {
         "anchor": "y8",
         "domain": [
          0.7875,
          1
         ],
         "gridcolor": "#E1E5ED",
         "showgrid": false,
         "tickfont": {
          "color": "#4D5663"
         },
         "title": {
          "font": {
           "color": "#4D5663"
          },
          "text": ""
         },
         "zerolinecolor": "#E1E5ED"
        },
        "xaxis9": {
         "anchor": "y9",
         "domain": [
          0,
          0.2125
         ],
         "gridcolor": "#E1E5ED",
         "showgrid": false,
         "tickfont": {
          "color": "#4D5663"
         },
         "title": {
          "font": {
           "color": "#4D5663"
          },
          "text": ""
         },
         "zerolinecolor": "#E1E5ED"
        },
        "yaxis": {
         "anchor": "x",
         "domain": [
          0.8025,
          1
         ],
         "gridcolor": "#E1E5ED",
         "showgrid": false,
         "tickfont": {
          "color": "#4D5663"
         },
         "title": {
          "font": {
           "color": "#4D5663"
          },
          "text": ""
         },
         "zerolinecolor": "#E1E5ED"
        },
        "yaxis10": {
         "anchor": "x10",
         "domain": [
          0.2675,
          0.465
         ],
         "gridcolor": "#E1E5ED",
         "showgrid": false,
         "tickfont": {
          "color": "#4D5663"
         },
         "title": {
          "font": {
           "color": "#4D5663"
          },
          "text": ""
         },
         "zerolinecolor": "#E1E5ED"
        },
        "yaxis11": {
         "anchor": "x11",
         "domain": [
          0.2675,
          0.465
         ],
         "gridcolor": "#E1E5ED",
         "showgrid": false,
         "tickfont": {
          "color": "#4D5663"
         },
         "title": {
          "font": {
           "color": "#4D5663"
          },
          "text": ""
         },
         "zerolinecolor": "#E1E5ED"
        },
        "yaxis12": {
         "anchor": "x12",
         "domain": [
          0.2675,
          0.465
         ],
         "gridcolor": "#E1E5ED",
         "showgrid": false,
         "tickfont": {
          "color": "#4D5663"
         },
         "title": {
          "font": {
           "color": "#4D5663"
          },
          "text": ""
         },
         "zerolinecolor": "#E1E5ED"
        },
        "yaxis13": {
         "anchor": "x13",
         "domain": [
          0,
          0.1975
         ],
         "gridcolor": "#E1E5ED",
         "showgrid": false,
         "tickfont": {
          "color": "#4D5663"
         },
         "title": {
          "font": {
           "color": "#4D5663"
          },
          "text": ""
         },
         "zerolinecolor": "#E1E5ED"
        },
        "yaxis14": {
         "anchor": "x14",
         "domain": [
          0,
          0.1975
         ],
         "gridcolor": "#E1E5ED",
         "showgrid": false,
         "tickfont": {
          "color": "#4D5663"
         },
         "title": {
          "font": {
           "color": "#4D5663"
          },
          "text": ""
         },
         "zerolinecolor": "#E1E5ED"
        },
        "yaxis15": {
         "anchor": "x15",
         "domain": [
          0,
          0.1975
         ],
         "gridcolor": "#E1E5ED",
         "showgrid": false,
         "tickfont": {
          "color": "#4D5663"
         },
         "title": {
          "font": {
           "color": "#4D5663"
          },
          "text": ""
         },
         "zerolinecolor": "#E1E5ED"
        },
        "yaxis16": {
         "anchor": "x16",
         "domain": [
          0,
          0.1975
         ],
         "gridcolor": "#E1E5ED",
         "showgrid": false,
         "tickfont": {
          "color": "#4D5663"
         },
         "title": {
          "font": {
           "color": "#4D5663"
          },
          "text": ""
         },
         "zerolinecolor": "#E1E5ED"
        },
        "yaxis2": {
         "anchor": "x2",
         "domain": [
          0.8025,
          1
         ],
         "gridcolor": "#E1E5ED",
         "showgrid": false,
         "tickfont": {
          "color": "#4D5663"
         },
         "title": {
          "font": {
           "color": "#4D5663"
          },
          "text": ""
         },
         "zerolinecolor": "#E1E5ED"
        },
        "yaxis3": {
         "anchor": "x3",
         "domain": [
          0.8025,
          1
         ],
         "gridcolor": "#E1E5ED",
         "showgrid": false,
         "tickfont": {
          "color": "#4D5663"
         },
         "title": {
          "font": {
           "color": "#4D5663"
          },
          "text": ""
         },
         "zerolinecolor": "#E1E5ED"
        },
        "yaxis4": {
         "anchor": "x4",
         "domain": [
          0.8025,
          1
         ],
         "gridcolor": "#E1E5ED",
         "showgrid": false,
         "tickfont": {
          "color": "#4D5663"
         },
         "title": {
          "font": {
           "color": "#4D5663"
          },
          "text": ""
         },
         "zerolinecolor": "#E1E5ED"
        },
        "yaxis5": {
         "anchor": "x5",
         "domain": [
          0.535,
          0.7325
         ],
         "gridcolor": "#E1E5ED",
         "showgrid": false,
         "tickfont": {
          "color": "#4D5663"
         },
         "title": {
          "font": {
           "color": "#4D5663"
          },
          "text": ""
         },
         "zerolinecolor": "#E1E5ED"
        },
        "yaxis6": {
         "anchor": "x6",
         "domain": [
          0.535,
          0.7325
         ],
         "gridcolor": "#E1E5ED",
         "showgrid": false,
         "tickfont": {
          "color": "#4D5663"
         },
         "title": {
          "font": {
           "color": "#4D5663"
          },
          "text": ""
         },
         "zerolinecolor": "#E1E5ED"
        },
        "yaxis7": {
         "anchor": "x7",
         "domain": [
          0.535,
          0.7325
         ],
         "gridcolor": "#E1E5ED",
         "showgrid": false,
         "tickfont": {
          "color": "#4D5663"
         },
         "title": {
          "font": {
           "color": "#4D5663"
          },
          "text": ""
         },
         "zerolinecolor": "#E1E5ED"
        },
        "yaxis8": {
         "anchor": "x8",
         "domain": [
          0.535,
          0.7325
         ],
         "gridcolor": "#E1E5ED",
         "showgrid": false,
         "tickfont": {
          "color": "#4D5663"
         },
         "title": {
          "font": {
           "color": "#4D5663"
          },
          "text": ""
         },
         "zerolinecolor": "#E1E5ED"
        },
        "yaxis9": {
         "anchor": "x9",
         "domain": [
          0.2675,
          0.465
         ],
         "gridcolor": "#E1E5ED",
         "showgrid": false,
         "tickfont": {
          "color": "#4D5663"
         },
         "title": {
          "font": {
           "color": "#4D5663"
          },
          "text": ""
         },
         "zerolinecolor": "#E1E5ED"
        }
       }
      },
      "text/html": [
       "<div>                            <div id=\"382fda82-6a31-4696-80dc-7f1bfe4d5856\" class=\"plotly-graph-div\" style=\"height:525px; width:100%;\"></div>            <script type=\"text/javascript\">                require([\"plotly\"], function(Plotly) {                    window.PLOTLYENV=window.PLOTLYENV || {};\n",
       "                    window.PLOTLYENV.BASE_URL='https://plot.ly';                                    if (document.getElementById(\"382fda82-6a31-4696-80dc-7f1bfe4d5856\")) {                    Plotly.newPlot(                        \"382fda82-6a31-4696-80dc-7f1bfe4d5856\",                        [{\"histfunc\":\"count\",\"histnorm\":\"\",\"marker\":{\"color\":\"rgba(255, 153, 51, 1.0)\",\"line\":{\"color\":\"#4D5663\",\"width\":1.3}},\"name\":\"A\",\"nbinsx\":10,\"opacity\":0.8,\"orientation\":\"v\",\"x\":[-1.0195385963187849,1.1015943866068003,0.565322916737536,-0.5424284895484377,-0.32566226944201476,1.3333580414602808,-0.8882935417582444,0.573084622763612,-1.600582981777984,0.2962440326176717,-0.3255987463598287,0.4144242488662172,-1.0526878096406618,-1.079751691163813,0.44468732716120624,0.49214489354581953,-0.4176729612012741,-1.2433661966590415,-1.0593292659248816,0.2555303994444098,1.3988763770711914,-0.13508460667466193,0.8801931903209784,-0.009713307420049045,0.08537533507598072,0.1777838421614929,-1.271693389664294,-0.052062887286873284,-1.2786010696930032,0.3951169412497632,-0.007129080368495911,0.24931082591451678,-1.3074436240953813,0.39262035657229377,0.16895832011791706,0.15320171003133856,0.4529690184927029,0.5675748558086052,-1.038916265731738,0.03080254388823513,-0.6550524357879981,-0.00963038602457602,-0.43923332854400204,-1.4682191809450431,0.11302991912004492,-0.7131088037710968,-0.3074503195357637,-0.9652556704332182,-0.5171097999789459,1.7013367191358348,0.056091762858178434,0.2007988890983905,-0.5543052937490693,0.6937944914951706,0.6669048002314144,0.59369902089003,-1.713836342591796,1.1138274799032772,0.9254577425491017,-1.143153861907134,-1.3186559413350674,0.39093587426554083,-2.2957843371048012,-0.047664705487196195,1.0581371609309211,0.30828978169977284,1.5021689850009483,-0.8165629998636657,-0.1530680681408224,-0.07521140061589364,-1.766655219574804,0.30466812087753004,1.0818447459395093,-0.8478457275864004,0.414533929031304,-1.0957094470237285,-0.6418639427476324,1.4450146182774097,1.3804084393844278,-1.115216408942094,-0.0798960622493228,-2.2853903926292385,-0.06460200203963314,-0.3538865661985639,-1.1972065067795628,0.045213040450247016,1.1339678979236238,-0.5316805072703285,0.003961027654528789,-1.0175911801095872,-0.39943629619858767,-0.646145382985172,-1.9346472258288518,-0.22139498946193603,-0.616262445072994,0.0664818373185558,-0.2152707163604317,0.7858907677940824,-1.1785824127352216,-0.6779173459311484],\"xaxis\":\"x\",\"yaxis\":\"y\",\"type\":\"histogram\"},{\"line\":{\"color\":\"rgba(128, 128, 128, 1.0)\",\"dash\":\"solid\",\"shape\":\"linear\",\"width\":1.3},\"marker\":{\"size\":2,\"symbol\":\"circle\"},\"mode\":\"markers\",\"name\":\"A\",\"text\":\"\",\"x\":[0.05084052415534849,0.4448926667384461,-0.5165006805648271,-1.0217481899569538,2.918916860488833,0.7119834105490889,-0.12598219184572093,1.7446505200029419,0.07448195798863841,-0.4367454374327472,2.001312602465858,0.8626677261130298,-0.7832646582342923,-1.4699780709897277,-0.14922984973037076,0.29187556277665405,-1.86438093315328,-0.9463531776956947,1.0018939862271918,-0.34174690341712166,-0.9608689994165556,0.37152716650134315,1.2680288231103298,-0.6230457517284945,-2.328812174302247,0.3024388389452721,0.12181850117223207,0.46424692550993446,2.0207808094668818,1.4510874303547483,-1.836459556297738,-1.2540393269655528,0.9811131035778574,-2.4255879762977304,-0.07892959167407539,-0.45258843538951654,-0.9237149248290297,2.027895768151158,-0.15741428062768711,1.0621556956587694,0.22627487908670568,0.8972177322808671,-0.1852713126252378,-1.7127052110108827,0.4266369122608103,-0.4934032996758012,0.09126560127006829,1.420832341876129,-0.226925419286172,0.34854293270965647,1.2047457905809145,0.14374022217106794,-0.9209836977121332,0.4372250721685303,0.275097080721775,-1.2319795109830607,0.05807780757368901,1.4050083175299108,1.2856506736655673,-1.384326860093379,0.4550192051180061,1.400525929182616,-0.7836114813867611,1.3036820975574719,0.37351025358713613,-0.2913411851716362,-0.5406291701996493,0.17478931269171785,-1.8517703672163301,-1.4186898427664862,0.06509413769267655,0.19307454979843466,0.8232244735534852,0.524671044677807,-0.40315319096565155,-1.4268165410981934,0.2813575779141045,-0.2621634305145455,-0.08483012735497701,-1.045497945983192,1.2382134521818677,-0.4323116394409646,0.680747412833651,-1.2929873756166974,0.6529828667025668,0.3595023686883591,-1.2955231449330304,1.164536680417677,-0.4825439698093178,0.13250442906721477,-0.7908765509841708,-0.3833702329039137,-0.39437377035578575,-1.1471692465131529,0.30910570387733843,-0.9332569711532109,0.880636842120163,0.1251672859001783,-0.8768528712998347,-0.7922814709334515],\"xaxis\":\"x2\",\"y\":[-1.0195385963187849,1.1015943866068003,0.565322916737536,-0.5424284895484377,-0.32566226944201476,1.3333580414602808,-0.8882935417582444,0.573084622763612,-1.600582981777984,0.2962440326176717,-0.3255987463598287,0.4144242488662172,-1.0526878096406618,-1.079751691163813,0.44468732716120624,0.49214489354581953,-0.4176729612012741,-1.2433661966590415,-1.0593292659248816,0.2555303994444098,1.3988763770711914,-0.13508460667466193,0.8801931903209784,-0.009713307420049045,0.08537533507598072,0.1777838421614929,-1.271693389664294,-0.052062887286873284,-1.2786010696930032,0.3951169412497632,-0.007129080368495911,0.24931082591451678,-1.3074436240953813,0.39262035657229377,0.16895832011791706,0.15320171003133856,0.4529690184927029,0.5675748558086052,-1.038916265731738,0.03080254388823513,-0.6550524357879981,-0.00963038602457602,-0.43923332854400204,-1.4682191809450431,0.11302991912004492,-0.7131088037710968,-0.3074503195357637,-0.9652556704332182,-0.5171097999789459,1.7013367191358348,0.056091762858178434,0.2007988890983905,-0.5543052937490693,0.6937944914951706,0.6669048002314144,0.59369902089003,-1.713836342591796,1.1138274799032772,0.9254577425491017,-1.143153861907134,-1.3186559413350674,0.39093587426554083,-2.2957843371048012,-0.047664705487196195,1.0581371609309211,0.30828978169977284,1.5021689850009483,-0.8165629998636657,-0.1530680681408224,-0.07521140061589364,-1.766655219574804,0.30466812087753004,1.0818447459395093,-0.8478457275864004,0.414533929031304,-1.0957094470237285,-0.6418639427476324,1.4450146182774097,1.3804084393844278,-1.115216408942094,-0.0798960622493228,-2.2853903926292385,-0.06460200203963314,-0.3538865661985639,-1.1972065067795628,0.045213040450247016,1.1339678979236238,-0.5316805072703285,0.003961027654528789,-1.0175911801095872,-0.39943629619858767,-0.646145382985172,-1.9346472258288518,-0.22139498946193603,-0.616262445072994,0.0664818373185558,-0.2152707163604317,0.7858907677940824,-1.1785824127352216,-0.6779173459311484],\"yaxis\":\"y2\",\"type\":\"scatter\"},{\"line\":{\"color\":\"rgba(128, 128, 128, 1.0)\",\"dash\":\"solid\",\"shape\":\"linear\",\"width\":1.3},\"marker\":{\"size\":2,\"symbol\":\"circle\"},\"mode\":\"markers\",\"name\":\"A\",\"text\":\"\",\"x\":[-1.7624799146330916,-0.052454692444293204,-0.6144926711450668,0.34605467548314317,1.7293471823153381,-0.7158009522760164,-0.6149194787316927,-0.135338813333711,0.29852389755538933,1.340879720715101,-2.8130784565849867,0.4651501979291797,-0.3131091291680892,-0.9321956807746758,-1.9078699262875176,-0.46622262685752525,1.3089009383594243,0.31180112202706756,-2.0227146115391315,0.5807127962884536,1.1385496213288238,-0.4455122188814769,-1.1301884249433958,-0.5243739109303537,-0.03748635500043051,-1.8843804581073422,1.7003271439262493,0.9935895835623703,-1.8590740904948801,-0.4310696037478699,-0.5840104825773925,0.36961988003281315,-0.13050295671732637,2.4214268502295053,1.7848604715091976,-1.31828143894674,0.6000155119139627,0.4867779319074937,0.9363681345940051,-0.4668460793958201,-0.7533173498230599,0.3881660415618446,-0.24540208218072185,0.3123027143122271,-0.7475561922789368,0.2650863241472753,0.23337701628765933,-0.9035514270650542,1.50640863657213,-0.41527730958195447,0.20291776029643913,0.23002800054265488,-0.8545896581694682,1.5902756654205976,-0.646402001930611,-2.1932756590804794,0.40491512339053204,-1.8289103528491077,0.5734363312343274,-0.04230138803378668,-0.8757883761727011,0.4403917698375127,-3.089110937866257,1.0968688240175577,-2.04621133544825,-0.9723019426093988,0.990229384745472,-0.5949075675496344,-2.660295641655794,0.7957914831810432,-0.711003361571698,0.8518323914473779,0.11852577082714624,1.5889868786889505,-1.686018220397716,0.3454027860589693,-0.6025244077213349,1.5800216316859224,0.9031696756113189,-1.013462634012932,-1.3477550389484831,0.9078753173946693,-0.570641152879746,-0.6772923107611662,-1.3222571406546464,0.2300434350749415,-0.28280986626199167,0.7261499023093949,-0.000542242574547095,-2.204483032318085,-0.4885101387532285,0.5012993110056877,0.9542814497936115,-0.2700832636336223,0.458150486417723,0.7113040181681382,-0.1914615764022577,-0.022769483825800275,-0.09779913895350369,0.21027342419346273],\"xaxis\":\"x3\",\"y\":[-1.0195385963187849,1.1015943866068003,0.565322916737536,-0.5424284895484377,-0.32566226944201476,1.3333580414602808,-0.8882935417582444,0.573084622763612,-1.600582981777984,0.2962440326176717,-0.3255987463598287,0.4144242488662172,-1.0526878096406618,-1.079751691163813,0.44468732716120624,0.49214489354581953,-0.4176729612012741,-1.2433661966590415,-1.0593292659248816,0.2555303994444098,1.3988763770711914,-0.13508460667466193,0.8801931903209784,-0.009713307420049045,0.08537533507598072,0.1777838421614929,-1.271693389664294,-0.052062887286873284,-1.2786010696930032,0.3951169412497632,-0.007129080368495911,0.24931082591451678,-1.3074436240953813,0.39262035657229377,0.16895832011791706,0.15320171003133856,0.4529690184927029,0.5675748558086052,-1.038916265731738,0.03080254388823513,-0.6550524357879981,-0.00963038602457602,-0.43923332854400204,-1.4682191809450431,0.11302991912004492,-0.7131088037710968,-0.3074503195357637,-0.9652556704332182,-0.5171097999789459,1.7013367191358348,0.056091762858178434,0.2007988890983905,-0.5543052937490693,0.6937944914951706,0.6669048002314144,0.59369902089003,-1.713836342591796,1.1138274799032772,0.9254577425491017,-1.143153861907134,-1.3186559413350674,0.39093587426554083,-2.2957843371048012,-0.047664705487196195,1.0581371609309211,0.30828978169977284,1.5021689850009483,-0.8165629998636657,-0.1530680681408224,-0.07521140061589364,-1.766655219574804,0.30466812087753004,1.0818447459395093,-0.8478457275864004,0.414533929031304,-1.0957094470237285,-0.6418639427476324,1.4450146182774097,1.3804084393844278,-1.115216408942094,-0.0798960622493228,-2.2853903926292385,-0.06460200203963314,-0.3538865661985639,-1.1972065067795628,0.045213040450247016,1.1339678979236238,-0.5316805072703285,0.003961027654528789,-1.0175911801095872,-0.39943629619858767,-0.646145382985172,-1.9346472258288518,-0.22139498946193603,-0.616262445072994,0.0664818373185558,-0.2152707163604317,0.7858907677940824,-1.1785824127352216,-0.6779173459311484],\"yaxis\":\"y3\",\"type\":\"scatter\"},{\"line\":{\"color\":\"rgba(128, 128, 128, 1.0)\",\"dash\":\"solid\",\"shape\":\"linear\",\"width\":1.3},\"marker\":{\"size\":2,\"symbol\":\"circle\"},\"mode\":\"markers\",\"name\":\"A\",\"text\":\"\",\"x\":[-0.7154744873251464,-1.8364655110349717,1.1366459484665203,0.014352604016508522,0.9387056429722956,-0.035766596035709204,-1.3271506370172508,-0.08540914504181113,0.45065130838901224,-0.5010267235645277,-0.09538316694011877,-0.717550866234728,-0.44925698095520417,0.43095017324903195,-0.641231367567333,-0.14160835085779722,0.6658978630232735,0.36186834977881416,1.2164584292056806,1.080912647764627,-0.31589577180751083,-1.5390270400295032,0.1545475268511163,0.9337195503966247,0.17198125235547487,-0.6444802056267953,-0.1735715410563226,-1.382930576207823,-0.008782780945467876,1.6253867959841757,0.5108600880487182,1.9584462529831108,-1.1387558200867824,-0.6775743866345354,0.3045015567963941,-0.7010893702571275,-0.21509069679939974,-0.06660318500201455,-2.0494500265655513,0.7371104180734958,-0.1394601307353762,0.06332501275504406,-0.33605152576259134,0.24272829505932145,-0.5210518613377643,-0.7794939251059732,-0.816663707123236,0.8429269691178186,-0.0049567234948185305,0.7910052117961612,-0.14011603254623242,-0.8139883767081845,-0.8543410413682735,-1.133037457300175,-2.446520027835509,-0.3954282150870679,-0.40852764641376943,1.1283038405604628,-0.6771415435153333,0.3860935342750069,1.0399071465756002,1.0686935234542685,1.368482210459442,-1.4959343241762837,0.16391649604384745,-0.4798869284387275,-1.7339241148875995,-1.1426876664546317,1.9304927454747411,-1.147633930021583,-0.7766553605421657,-0.9004501522692031,0.5898374598725552,-1.6753315862291647,0.3619980415765755,1.4284402500227904,0.12220590217893887,0.011800729718907147,0.7155339818248,-0.560323549055294,0.2658031832193285,-0.2957349485957265,1.743740168254544,-0.6330367982019135,-0.4949632500174672,-0.9137889955901022,-0.544098303604624,0.6742546131008241,-0.5706589509403914,0.26229891152032203,2.108495915505444,-0.5588513162941839,-1.1305822043827989,0.13677502455472695,0.9066454032062755,-0.24071521677455401,-1.0687645130524526,-0.14836447765418917,-0.03062007910395427,-0.05054481702962435],\"xaxis\":\"x4\",\"y\":[-1.0195385963187849,1.1015943866068003,0.565322916737536,-0.5424284895484377,-0.32566226944201476,1.3333580414602808,-0.8882935417582444,0.573084622763612,-1.600582981777984,0.2962440326176717,-0.3255987463598287,0.4144242488662172,-1.0526878096406618,-1.079751691163813,0.44468732716120624,0.49214489354581953,-0.4176729612012741,-1.2433661966590415,-1.0593292659248816,0.2555303994444098,1.3988763770711914,-0.13508460667466193,0.8801931903209784,-0.009713307420049045,0.08537533507598072,0.1777838421614929,-1.271693389664294,-0.052062887286873284,-1.2786010696930032,0.3951169412497632,-0.007129080368495911,0.24931082591451678,-1.3074436240953813,0.39262035657229377,0.16895832011791706,0.15320171003133856,0.4529690184927029,0.5675748558086052,-1.038916265731738,0.03080254388823513,-0.6550524357879981,-0.00963038602457602,-0.43923332854400204,-1.4682191809450431,0.11302991912004492,-0.7131088037710968,-0.3074503195357637,-0.9652556704332182,-0.5171097999789459,1.7013367191358348,0.056091762858178434,0.2007988890983905,-0.5543052937490693,0.6937944914951706,0.6669048002314144,0.59369902089003,-1.713836342591796,1.1138274799032772,0.9254577425491017,-1.143153861907134,-1.3186559413350674,0.39093587426554083,-2.2957843371048012,-0.047664705487196195,1.0581371609309211,0.30828978169977284,1.5021689850009483,-0.8165629998636657,-0.1530680681408224,-0.07521140061589364,-1.766655219574804,0.30466812087753004,1.0818447459395093,-0.8478457275864004,0.414533929031304,-1.0957094470237285,-0.6418639427476324,1.4450146182774097,1.3804084393844278,-1.115216408942094,-0.0798960622493228,-2.2853903926292385,-0.06460200203963314,-0.3538865661985639,-1.1972065067795628,0.045213040450247016,1.1339678979236238,-0.5316805072703285,0.003961027654528789,-1.0175911801095872,-0.39943629619858767,-0.646145382985172,-1.9346472258288518,-0.22139498946193603,-0.616262445072994,0.0664818373185558,-0.2152707163604317,0.7858907677940824,-1.1785824127352216,-0.6779173459311484],\"yaxis\":\"y4\",\"type\":\"scatter\"},{\"line\":{\"color\":\"rgba(128, 128, 128, 1.0)\",\"dash\":\"solid\",\"shape\":\"linear\",\"width\":1.3},\"marker\":{\"size\":2,\"symbol\":\"circle\"},\"mode\":\"markers\",\"name\":\"B\",\"text\":\"\",\"x\":[-1.0195385963187849,1.1015943866068003,0.565322916737536,-0.5424284895484377,-0.32566226944201476,1.3333580414602808,-0.8882935417582444,0.573084622763612,-1.600582981777984,0.2962440326176717,-0.3255987463598287,0.4144242488662172,-1.0526878096406618,-1.079751691163813,0.44468732716120624,0.49214489354581953,-0.4176729612012741,-1.2433661966590415,-1.0593292659248816,0.2555303994444098,1.3988763770711914,-0.13508460667466193,0.8801931903209784,-0.009713307420049045,0.08537533507598072,0.1777838421614929,-1.271693389664294,-0.052062887286873284,-1.2786010696930032,0.3951169412497632,-0.007129080368495911,0.24931082591451678,-1.3074436240953813,0.39262035657229377,0.16895832011791706,0.15320171003133856,0.4529690184927029,0.5675748558086052,-1.038916265731738,0.03080254388823513,-0.6550524357879981,-0.00963038602457602,-0.43923332854400204,-1.4682191809450431,0.11302991912004492,-0.7131088037710968,-0.3074503195357637,-0.9652556704332182,-0.5171097999789459,1.7013367191358348,0.056091762858178434,0.2007988890983905,-0.5543052937490693,0.6937944914951706,0.6669048002314144,0.59369902089003,-1.713836342591796,1.1138274799032772,0.9254577425491017,-1.143153861907134,-1.3186559413350674,0.39093587426554083,-2.2957843371048012,-0.047664705487196195,1.0581371609309211,0.30828978169977284,1.5021689850009483,-0.8165629998636657,-0.1530680681408224,-0.07521140061589364,-1.766655219574804,0.30466812087753004,1.0818447459395093,-0.8478457275864004,0.414533929031304,-1.0957094470237285,-0.6418639427476324,1.4450146182774097,1.3804084393844278,-1.115216408942094,-0.0798960622493228,-2.2853903926292385,-0.06460200203963314,-0.3538865661985639,-1.1972065067795628,0.045213040450247016,1.1339678979236238,-0.5316805072703285,0.003961027654528789,-1.0175911801095872,-0.39943629619858767,-0.646145382985172,-1.9346472258288518,-0.22139498946193603,-0.616262445072994,0.0664818373185558,-0.2152707163604317,0.7858907677940824,-1.1785824127352216,-0.6779173459311484],\"xaxis\":\"x5\",\"y\":[0.05084052415534849,0.4448926667384461,-0.5165006805648271,-1.0217481899569538,2.918916860488833,0.7119834105490889,-0.12598219184572093,1.7446505200029419,0.07448195798863841,-0.4367454374327472,2.001312602465858,0.8626677261130298,-0.7832646582342923,-1.4699780709897277,-0.14922984973037076,0.29187556277665405,-1.86438093315328,-0.9463531776956947,1.0018939862271918,-0.34174690341712166,-0.9608689994165556,0.37152716650134315,1.2680288231103298,-0.6230457517284945,-2.328812174302247,0.3024388389452721,0.12181850117223207,0.46424692550993446,2.0207808094668818,1.4510874303547483,-1.836459556297738,-1.2540393269655528,0.9811131035778574,-2.4255879762977304,-0.07892959167407539,-0.45258843538951654,-0.9237149248290297,2.027895768151158,-0.15741428062768711,1.0621556956587694,0.22627487908670568,0.8972177322808671,-0.1852713126252378,-1.7127052110108827,0.4266369122608103,-0.4934032996758012,0.09126560127006829,1.420832341876129,-0.226925419286172,0.34854293270965647,1.2047457905809145,0.14374022217106794,-0.9209836977121332,0.4372250721685303,0.275097080721775,-1.2319795109830607,0.05807780757368901,1.4050083175299108,1.2856506736655673,-1.384326860093379,0.4550192051180061,1.400525929182616,-0.7836114813867611,1.3036820975574719,0.37351025358713613,-0.2913411851716362,-0.5406291701996493,0.17478931269171785,-1.8517703672163301,-1.4186898427664862,0.06509413769267655,0.19307454979843466,0.8232244735534852,0.524671044677807,-0.40315319096565155,-1.4268165410981934,0.2813575779141045,-0.2621634305145455,-0.08483012735497701,-1.045497945983192,1.2382134521818677,-0.4323116394409646,0.680747412833651,-1.2929873756166974,0.6529828667025668,0.3595023686883591,-1.2955231449330304,1.164536680417677,-0.4825439698093178,0.13250442906721477,-0.7908765509841708,-0.3833702329039137,-0.39437377035578575,-1.1471692465131529,0.30910570387733843,-0.9332569711532109,0.880636842120163,0.1251672859001783,-0.8768528712998347,-0.7922814709334515],\"yaxis\":\"y5\",\"type\":\"scatter\"},{\"histfunc\":\"count\",\"histnorm\":\"\",\"marker\":{\"color\":\"rgba(55, 128, 191, 1.0)\",\"line\":{\"color\":\"#4D5663\",\"width\":1.3}},\"name\":\"B\",\"nbinsx\":10,\"opacity\":0.8,\"orientation\":\"v\",\"x\":[0.05084052415534849,0.4448926667384461,-0.5165006805648271,-1.0217481899569538,2.918916860488833,0.7119834105490889,-0.12598219184572093,1.7446505200029419,0.07448195798863841,-0.4367454374327472,2.001312602465858,0.8626677261130298,-0.7832646582342923,-1.4699780709897277,-0.14922984973037076,0.29187556277665405,-1.86438093315328,-0.9463531776956947,1.0018939862271918,-0.34174690341712166,-0.9608689994165556,0.37152716650134315,1.2680288231103298,-0.6230457517284945,-2.328812174302247,0.3024388389452721,0.12181850117223207,0.46424692550993446,2.0207808094668818,1.4510874303547483,-1.836459556297738,-1.2540393269655528,0.9811131035778574,-2.4255879762977304,-0.07892959167407539,-0.45258843538951654,-0.9237149248290297,2.027895768151158,-0.15741428062768711,1.0621556956587694,0.22627487908670568,0.8972177322808671,-0.1852713126252378,-1.7127052110108827,0.4266369122608103,-0.4934032996758012,0.09126560127006829,1.420832341876129,-0.226925419286172,0.34854293270965647,1.2047457905809145,0.14374022217106794,-0.9209836977121332,0.4372250721685303,0.275097080721775,-1.2319795109830607,0.05807780757368901,1.4050083175299108,1.2856506736655673,-1.384326860093379,0.4550192051180061,1.400525929182616,-0.7836114813867611,1.3036820975574719,0.37351025358713613,-0.2913411851716362,-0.5406291701996493,0.17478931269171785,-1.8517703672163301,-1.4186898427664862,0.06509413769267655,0.19307454979843466,0.8232244735534852,0.524671044677807,-0.40315319096565155,-1.4268165410981934,0.2813575779141045,-0.2621634305145455,-0.08483012735497701,-1.045497945983192,1.2382134521818677,-0.4323116394409646,0.680747412833651,-1.2929873756166974,0.6529828667025668,0.3595023686883591,-1.2955231449330304,1.164536680417677,-0.4825439698093178,0.13250442906721477,-0.7908765509841708,-0.3833702329039137,-0.39437377035578575,-1.1471692465131529,0.30910570387733843,-0.9332569711532109,0.880636842120163,0.1251672859001783,-0.8768528712998347,-0.7922814709334515],\"xaxis\":\"x6\",\"yaxis\":\"y6\",\"type\":\"histogram\"},{\"line\":{\"color\":\"rgba(128, 128, 128, 1.0)\",\"dash\":\"solid\",\"shape\":\"linear\",\"width\":1.3},\"marker\":{\"size\":2,\"symbol\":\"circle\"},\"mode\":\"markers\",\"name\":\"B\",\"text\":\"\",\"x\":[-1.7624799146330916,-0.052454692444293204,-0.6144926711450668,0.34605467548314317,1.7293471823153381,-0.7158009522760164,-0.6149194787316927,-0.135338813333711,0.29852389755538933,1.340879720715101,-2.8130784565849867,0.4651501979291797,-0.3131091291680892,-0.9321956807746758,-1.9078699262875176,-0.46622262685752525,1.3089009383594243,0.31180112202706756,-2.0227146115391315,0.5807127962884536,1.1385496213288238,-0.4455122188814769,-1.1301884249433958,-0.5243739109303537,-0.03748635500043051,-1.8843804581073422,1.7003271439262493,0.9935895835623703,-1.8590740904948801,-0.4310696037478699,-0.5840104825773925,0.36961988003281315,-0.13050295671732637,2.4214268502295053,1.7848604715091976,-1.31828143894674,0.6000155119139627,0.4867779319074937,0.9363681345940051,-0.4668460793958201,-0.7533173498230599,0.3881660415618446,-0.24540208218072185,0.3123027143122271,-0.7475561922789368,0.2650863241472753,0.23337701628765933,-0.9035514270650542,1.50640863657213,-0.41527730958195447,0.20291776029643913,0.23002800054265488,-0.8545896581694682,1.5902756654205976,-0.646402001930611,-2.1932756590804794,0.40491512339053204,-1.8289103528491077,0.5734363312343274,-0.04230138803378668,-0.8757883761727011,0.4403917698375127,-3.089110937866257,1.0968688240175577,-2.04621133544825,-0.9723019426093988,0.990229384745472,-0.5949075675496344,-2.660295641655794,0.7957914831810432,-0.711003361571698,0.8518323914473779,0.11852577082714624,1.5889868786889505,-1.686018220397716,0.3454027860589693,-0.6025244077213349,1.5800216316859224,0.9031696756113189,-1.013462634012932,-1.3477550389484831,0.9078753173946693,-0.570641152879746,-0.6772923107611662,-1.3222571406546464,0.2300434350749415,-0.28280986626199167,0.7261499023093949,-0.000542242574547095,-2.204483032318085,-0.4885101387532285,0.5012993110056877,0.9542814497936115,-0.2700832636336223,0.458150486417723,0.7113040181681382,-0.1914615764022577,-0.022769483825800275,-0.09779913895350369,0.21027342419346273],\"xaxis\":\"x7\",\"y\":[0.05084052415534849,0.4448926667384461,-0.5165006805648271,-1.0217481899569538,2.918916860488833,0.7119834105490889,-0.12598219184572093,1.7446505200029419,0.07448195798863841,-0.4367454374327472,2.001312602465858,0.8626677261130298,-0.7832646582342923,-1.4699780709897277,-0.14922984973037076,0.29187556277665405,-1.86438093315328,-0.9463531776956947,1.0018939862271918,-0.34174690341712166,-0.9608689994165556,0.37152716650134315,1.2680288231103298,-0.6230457517284945,-2.328812174302247,0.3024388389452721,0.12181850117223207,0.46424692550993446,2.0207808094668818,1.4510874303547483,-1.836459556297738,-1.2540393269655528,0.9811131035778574,-2.4255879762977304,-0.07892959167407539,-0.45258843538951654,-0.9237149248290297,2.027895768151158,-0.15741428062768711,1.0621556956587694,0.22627487908670568,0.8972177322808671,-0.1852713126252378,-1.7127052110108827,0.4266369122608103,-0.4934032996758012,0.09126560127006829,1.420832341876129,-0.226925419286172,0.34854293270965647,1.2047457905809145,0.14374022217106794,-0.9209836977121332,0.4372250721685303,0.275097080721775,-1.2319795109830607,0.05807780757368901,1.4050083175299108,1.2856506736655673,-1.384326860093379,0.4550192051180061,1.400525929182616,-0.7836114813867611,1.3036820975574719,0.37351025358713613,-0.2913411851716362,-0.5406291701996493,0.17478931269171785,-1.8517703672163301,-1.4186898427664862,0.06509413769267655,0.19307454979843466,0.8232244735534852,0.524671044677807,-0.40315319096565155,-1.4268165410981934,0.2813575779141045,-0.2621634305145455,-0.08483012735497701,-1.045497945983192,1.2382134521818677,-0.4323116394409646,0.680747412833651,-1.2929873756166974,0.6529828667025668,0.3595023686883591,-1.2955231449330304,1.164536680417677,-0.4825439698093178,0.13250442906721477,-0.7908765509841708,-0.3833702329039137,-0.39437377035578575,-1.1471692465131529,0.30910570387733843,-0.9332569711532109,0.880636842120163,0.1251672859001783,-0.8768528712998347,-0.7922814709334515],\"yaxis\":\"y7\",\"type\":\"scatter\"},{\"line\":{\"color\":\"rgba(128, 128, 128, 1.0)\",\"dash\":\"solid\",\"shape\":\"linear\",\"width\":1.3},\"marker\":{\"size\":2,\"symbol\":\"circle\"},\"mode\":\"markers\",\"name\":\"B\",\"text\":\"\",\"x\":[-0.7154744873251464,-1.8364655110349717,1.1366459484665203,0.014352604016508522,0.9387056429722956,-0.035766596035709204,-1.3271506370172508,-0.08540914504181113,0.45065130838901224,-0.5010267235645277,-0.09538316694011877,-0.717550866234728,-0.44925698095520417,0.43095017324903195,-0.641231367567333,-0.14160835085779722,0.6658978630232735,0.36186834977881416,1.2164584292056806,1.080912647764627,-0.31589577180751083,-1.5390270400295032,0.1545475268511163,0.9337195503966247,0.17198125235547487,-0.6444802056267953,-0.1735715410563226,-1.382930576207823,-0.008782780945467876,1.6253867959841757,0.5108600880487182,1.9584462529831108,-1.1387558200867824,-0.6775743866345354,0.3045015567963941,-0.7010893702571275,-0.21509069679939974,-0.06660318500201455,-2.0494500265655513,0.7371104180734958,-0.1394601307353762,0.06332501275504406,-0.33605152576259134,0.24272829505932145,-0.5210518613377643,-0.7794939251059732,-0.816663707123236,0.8429269691178186,-0.0049567234948185305,0.7910052117961612,-0.14011603254623242,-0.8139883767081845,-0.8543410413682735,-1.133037457300175,-2.446520027835509,-0.3954282150870679,-0.40852764641376943,1.1283038405604628,-0.6771415435153333,0.3860935342750069,1.0399071465756002,1.0686935234542685,1.368482210459442,-1.4959343241762837,0.16391649604384745,-0.4798869284387275,-1.7339241148875995,-1.1426876664546317,1.9304927454747411,-1.147633930021583,-0.7766553605421657,-0.9004501522692031,0.5898374598725552,-1.6753315862291647,0.3619980415765755,1.4284402500227904,0.12220590217893887,0.011800729718907147,0.7155339818248,-0.560323549055294,0.2658031832193285,-0.2957349485957265,1.743740168254544,-0.6330367982019135,-0.4949632500174672,-0.9137889955901022,-0.544098303604624,0.6742546131008241,-0.5706589509403914,0.26229891152032203,2.108495915505444,-0.5588513162941839,-1.1305822043827989,0.13677502455472695,0.9066454032062755,-0.24071521677455401,-1.0687645130524526,-0.14836447765418917,-0.03062007910395427,-0.05054481702962435],\"xaxis\":\"x8\",\"y\":[0.05084052415534849,0.4448926667384461,-0.5165006805648271,-1.0217481899569538,2.918916860488833,0.7119834105490889,-0.12598219184572093,1.7446505200029419,0.07448195798863841,-0.4367454374327472,2.001312602465858,0.8626677261130298,-0.7832646582342923,-1.4699780709897277,-0.14922984973037076,0.29187556277665405,-1.86438093315328,-0.9463531776956947,1.0018939862271918,-0.34174690341712166,-0.9608689994165556,0.37152716650134315,1.2680288231103298,-0.6230457517284945,-2.328812174302247,0.3024388389452721,0.12181850117223207,0.46424692550993446,2.0207808094668818,1.4510874303547483,-1.836459556297738,-1.2540393269655528,0.9811131035778574,-2.4255879762977304,-0.07892959167407539,-0.45258843538951654,-0.9237149248290297,2.027895768151158,-0.15741428062768711,1.0621556956587694,0.22627487908670568,0.8972177322808671,-0.1852713126252378,-1.7127052110108827,0.4266369122608103,-0.4934032996758012,0.09126560127006829,1.420832341876129,-0.226925419286172,0.34854293270965647,1.2047457905809145,0.14374022217106794,-0.9209836977121332,0.4372250721685303,0.275097080721775,-1.2319795109830607,0.05807780757368901,1.4050083175299108,1.2856506736655673,-1.384326860093379,0.4550192051180061,1.400525929182616,-0.7836114813867611,1.3036820975574719,0.37351025358713613,-0.2913411851716362,-0.5406291701996493,0.17478931269171785,-1.8517703672163301,-1.4186898427664862,0.06509413769267655,0.19307454979843466,0.8232244735534852,0.524671044677807,-0.40315319096565155,-1.4268165410981934,0.2813575779141045,-0.2621634305145455,-0.08483012735497701,-1.045497945983192,1.2382134521818677,-0.4323116394409646,0.680747412833651,-1.2929873756166974,0.6529828667025668,0.3595023686883591,-1.2955231449330304,1.164536680417677,-0.4825439698093178,0.13250442906721477,-0.7908765509841708,-0.3833702329039137,-0.39437377035578575,-1.1471692465131529,0.30910570387733843,-0.9332569711532109,0.880636842120163,0.1251672859001783,-0.8768528712998347,-0.7922814709334515],\"yaxis\":\"y8\",\"type\":\"scatter\"},{\"line\":{\"color\":\"rgba(128, 128, 128, 1.0)\",\"dash\":\"solid\",\"shape\":\"linear\",\"width\":1.3},\"marker\":{\"size\":2,\"symbol\":\"circle\"},\"mode\":\"markers\",\"name\":\"C\",\"text\":\"\",\"x\":[-1.0195385963187849,1.1015943866068003,0.565322916737536,-0.5424284895484377,-0.32566226944201476,1.3333580414602808,-0.8882935417582444,0.573084622763612,-1.600582981777984,0.2962440326176717,-0.3255987463598287,0.4144242488662172,-1.0526878096406618,-1.079751691163813,0.44468732716120624,0.49214489354581953,-0.4176729612012741,-1.2433661966590415,-1.0593292659248816,0.2555303994444098,1.3988763770711914,-0.13508460667466193,0.8801931903209784,-0.009713307420049045,0.08537533507598072,0.1777838421614929,-1.271693389664294,-0.052062887286873284,-1.2786010696930032,0.3951169412497632,-0.007129080368495911,0.24931082591451678,-1.3074436240953813,0.39262035657229377,0.16895832011791706,0.15320171003133856,0.4529690184927029,0.5675748558086052,-1.038916265731738,0.03080254388823513,-0.6550524357879981,-0.00963038602457602,-0.43923332854400204,-1.4682191809450431,0.11302991912004492,-0.7131088037710968,-0.3074503195357637,-0.9652556704332182,-0.5171097999789459,1.7013367191358348,0.056091762858178434,0.2007988890983905,-0.5543052937490693,0.6937944914951706,0.6669048002314144,0.59369902089003,-1.713836342591796,1.1138274799032772,0.9254577425491017,-1.143153861907134,-1.3186559413350674,0.39093587426554083,-2.2957843371048012,-0.047664705487196195,1.0581371609309211,0.30828978169977284,1.5021689850009483,-0.8165629998636657,-0.1530680681408224,-0.07521140061589364,-1.766655219574804,0.30466812087753004,1.0818447459395093,-0.8478457275864004,0.414533929031304,-1.0957094470237285,-0.6418639427476324,1.4450146182774097,1.3804084393844278,-1.115216408942094,-0.0798960622493228,-2.2853903926292385,-0.06460200203963314,-0.3538865661985639,-1.1972065067795628,0.045213040450247016,1.1339678979236238,-0.5316805072703285,0.003961027654528789,-1.0175911801095872,-0.39943629619858767,-0.646145382985172,-1.9346472258288518,-0.22139498946193603,-0.616262445072994,0.0664818373185558,-0.2152707163604317,0.7858907677940824,-1.1785824127352216,-0.6779173459311484],\"xaxis\":\"x9\",\"y\":[-1.7624799146330916,-0.052454692444293204,-0.6144926711450668,0.34605467548314317,1.7293471823153381,-0.7158009522760164,-0.6149194787316927,-0.135338813333711,0.29852389755538933,1.340879720715101,-2.8130784565849867,0.4651501979291797,-0.3131091291680892,-0.9321956807746758,-1.9078699262875176,-0.46622262685752525,1.3089009383594243,0.31180112202706756,-2.0227146115391315,0.5807127962884536,1.1385496213288238,-0.4455122188814769,-1.1301884249433958,-0.5243739109303537,-0.03748635500043051,-1.8843804581073422,1.7003271439262493,0.9935895835623703,-1.8590740904948801,-0.4310696037478699,-0.5840104825773925,0.36961988003281315,-0.13050295671732637,2.4214268502295053,1.7848604715091976,-1.31828143894674,0.6000155119139627,0.4867779319074937,0.9363681345940051,-0.4668460793958201,-0.7533173498230599,0.3881660415618446,-0.24540208218072185,0.3123027143122271,-0.7475561922789368,0.2650863241472753,0.23337701628765933,-0.9035514270650542,1.50640863657213,-0.41527730958195447,0.20291776029643913,0.23002800054265488,-0.8545896581694682,1.5902756654205976,-0.646402001930611,-2.1932756590804794,0.40491512339053204,-1.8289103528491077,0.5734363312343274,-0.04230138803378668,-0.8757883761727011,0.4403917698375127,-3.089110937866257,1.0968688240175577,-2.04621133544825,-0.9723019426093988,0.990229384745472,-0.5949075675496344,-2.660295641655794,0.7957914831810432,-0.711003361571698,0.8518323914473779,0.11852577082714624,1.5889868786889505,-1.686018220397716,0.3454027860589693,-0.6025244077213349,1.5800216316859224,0.9031696756113189,-1.013462634012932,-1.3477550389484831,0.9078753173946693,-0.570641152879746,-0.6772923107611662,-1.3222571406546464,0.2300434350749415,-0.28280986626199167,0.7261499023093949,-0.000542242574547095,-2.204483032318085,-0.4885101387532285,0.5012993110056877,0.9542814497936115,-0.2700832636336223,0.458150486417723,0.7113040181681382,-0.1914615764022577,-0.022769483825800275,-0.09779913895350369,0.21027342419346273],\"yaxis\":\"y9\",\"type\":\"scatter\"},{\"line\":{\"color\":\"rgba(128, 128, 128, 1.0)\",\"dash\":\"solid\",\"shape\":\"linear\",\"width\":1.3},\"marker\":{\"size\":2,\"symbol\":\"circle\"},\"mode\":\"markers\",\"name\":\"C\",\"text\":\"\",\"x\":[0.05084052415534849,0.4448926667384461,-0.5165006805648271,-1.0217481899569538,2.918916860488833,0.7119834105490889,-0.12598219184572093,1.7446505200029419,0.07448195798863841,-0.4367454374327472,2.001312602465858,0.8626677261130298,-0.7832646582342923,-1.4699780709897277,-0.14922984973037076,0.29187556277665405,-1.86438093315328,-0.9463531776956947,1.0018939862271918,-0.34174690341712166,-0.9608689994165556,0.37152716650134315,1.2680288231103298,-0.6230457517284945,-2.328812174302247,0.3024388389452721,0.12181850117223207,0.46424692550993446,2.0207808094668818,1.4510874303547483,-1.836459556297738,-1.2540393269655528,0.9811131035778574,-2.4255879762977304,-0.07892959167407539,-0.45258843538951654,-0.9237149248290297,2.027895768151158,-0.15741428062768711,1.0621556956587694,0.22627487908670568,0.8972177322808671,-0.1852713126252378,-1.7127052110108827,0.4266369122608103,-0.4934032996758012,0.09126560127006829,1.420832341876129,-0.226925419286172,0.34854293270965647,1.2047457905809145,0.14374022217106794,-0.9209836977121332,0.4372250721685303,0.275097080721775,-1.2319795109830607,0.05807780757368901,1.4050083175299108,1.2856506736655673,-1.384326860093379,0.4550192051180061,1.400525929182616,-0.7836114813867611,1.3036820975574719,0.37351025358713613,-0.2913411851716362,-0.5406291701996493,0.17478931269171785,-1.8517703672163301,-1.4186898427664862,0.06509413769267655,0.19307454979843466,0.8232244735534852,0.524671044677807,-0.40315319096565155,-1.4268165410981934,0.2813575779141045,-0.2621634305145455,-0.08483012735497701,-1.045497945983192,1.2382134521818677,-0.4323116394409646,0.680747412833651,-1.2929873756166974,0.6529828667025668,0.3595023686883591,-1.2955231449330304,1.164536680417677,-0.4825439698093178,0.13250442906721477,-0.7908765509841708,-0.3833702329039137,-0.39437377035578575,-1.1471692465131529,0.30910570387733843,-0.9332569711532109,0.880636842120163,0.1251672859001783,-0.8768528712998347,-0.7922814709334515],\"xaxis\":\"x10\",\"y\":[-1.7624799146330916,-0.052454692444293204,-0.6144926711450668,0.34605467548314317,1.7293471823153381,-0.7158009522760164,-0.6149194787316927,-0.135338813333711,0.29852389755538933,1.340879720715101,-2.8130784565849867,0.4651501979291797,-0.3131091291680892,-0.9321956807746758,-1.9078699262875176,-0.46622262685752525,1.3089009383594243,0.31180112202706756,-2.0227146115391315,0.5807127962884536,1.1385496213288238,-0.4455122188814769,-1.1301884249433958,-0.5243739109303537,-0.03748635500043051,-1.8843804581073422,1.7003271439262493,0.9935895835623703,-1.8590740904948801,-0.4310696037478699,-0.5840104825773925,0.36961988003281315,-0.13050295671732637,2.4214268502295053,1.7848604715091976,-1.31828143894674,0.6000155119139627,0.4867779319074937,0.9363681345940051,-0.4668460793958201,-0.7533173498230599,0.3881660415618446,-0.24540208218072185,0.3123027143122271,-0.7475561922789368,0.2650863241472753,0.23337701628765933,-0.9035514270650542,1.50640863657213,-0.41527730958195447,0.20291776029643913,0.23002800054265488,-0.8545896581694682,1.5902756654205976,-0.646402001930611,-2.1932756590804794,0.40491512339053204,-1.8289103528491077,0.5734363312343274,-0.04230138803378668,-0.8757883761727011,0.4403917698375127,-3.089110937866257,1.0968688240175577,-2.04621133544825,-0.9723019426093988,0.990229384745472,-0.5949075675496344,-2.660295641655794,0.7957914831810432,-0.711003361571698,0.8518323914473779,0.11852577082714624,1.5889868786889505,-1.686018220397716,0.3454027860589693,-0.6025244077213349,1.5800216316859224,0.9031696756113189,-1.013462634012932,-1.3477550389484831,0.9078753173946693,-0.570641152879746,-0.6772923107611662,-1.3222571406546464,0.2300434350749415,-0.28280986626199167,0.7261499023093949,-0.000542242574547095,-2.204483032318085,-0.4885101387532285,0.5012993110056877,0.9542814497936115,-0.2700832636336223,0.458150486417723,0.7113040181681382,-0.1914615764022577,-0.022769483825800275,-0.09779913895350369,0.21027342419346273],\"yaxis\":\"y10\",\"type\":\"scatter\"},{\"histfunc\":\"count\",\"histnorm\":\"\",\"marker\":{\"color\":\"rgba(50, 171, 96, 1.0)\",\"line\":{\"color\":\"#4D5663\",\"width\":1.3}},\"name\":\"C\",\"nbinsx\":10,\"opacity\":0.8,\"orientation\":\"v\",\"x\":[-1.7624799146330916,-0.052454692444293204,-0.6144926711450668,0.34605467548314317,1.7293471823153381,-0.7158009522760164,-0.6149194787316927,-0.135338813333711,0.29852389755538933,1.340879720715101,-2.8130784565849867,0.4651501979291797,-0.3131091291680892,-0.9321956807746758,-1.9078699262875176,-0.46622262685752525,1.3089009383594243,0.31180112202706756,-2.0227146115391315,0.5807127962884536,1.1385496213288238,-0.4455122188814769,-1.1301884249433958,-0.5243739109303537,-0.03748635500043051,-1.8843804581073422,1.7003271439262493,0.9935895835623703,-1.8590740904948801,-0.4310696037478699,-0.5840104825773925,0.36961988003281315,-0.13050295671732637,2.4214268502295053,1.7848604715091976,-1.31828143894674,0.6000155119139627,0.4867779319074937,0.9363681345940051,-0.4668460793958201,-0.7533173498230599,0.3881660415618446,-0.24540208218072185,0.3123027143122271,-0.7475561922789368,0.2650863241472753,0.23337701628765933,-0.9035514270650542,1.50640863657213,-0.41527730958195447,0.20291776029643913,0.23002800054265488,-0.8545896581694682,1.5902756654205976,-0.646402001930611,-2.1932756590804794,0.40491512339053204,-1.8289103528491077,0.5734363312343274,-0.04230138803378668,-0.8757883761727011,0.4403917698375127,-3.089110937866257,1.0968688240175577,-2.04621133544825,-0.9723019426093988,0.990229384745472,-0.5949075675496344,-2.660295641655794,0.7957914831810432,-0.711003361571698,0.8518323914473779,0.11852577082714624,1.5889868786889505,-1.686018220397716,0.3454027860589693,-0.6025244077213349,1.5800216316859224,0.9031696756113189,-1.013462634012932,-1.3477550389484831,0.9078753173946693,-0.570641152879746,-0.6772923107611662,-1.3222571406546464,0.2300434350749415,-0.28280986626199167,0.7261499023093949,-0.000542242574547095,-2.204483032318085,-0.4885101387532285,0.5012993110056877,0.9542814497936115,-0.2700832636336223,0.458150486417723,0.7113040181681382,-0.1914615764022577,-0.022769483825800275,-0.09779913895350369,0.21027342419346273],\"xaxis\":\"x11\",\"yaxis\":\"y11\",\"type\":\"histogram\"},{\"line\":{\"color\":\"rgba(128, 128, 128, 1.0)\",\"dash\":\"solid\",\"shape\":\"linear\",\"width\":1.3},\"marker\":{\"size\":2,\"symbol\":\"circle\"},\"mode\":\"markers\",\"name\":\"C\",\"text\":\"\",\"x\":[-0.7154744873251464,-1.8364655110349717,1.1366459484665203,0.014352604016508522,0.9387056429722956,-0.035766596035709204,-1.3271506370172508,-0.08540914504181113,0.45065130838901224,-0.5010267235645277,-0.09538316694011877,-0.717550866234728,-0.44925698095520417,0.43095017324903195,-0.641231367567333,-0.14160835085779722,0.6658978630232735,0.36186834977881416,1.2164584292056806,1.080912647764627,-0.31589577180751083,-1.5390270400295032,0.1545475268511163,0.9337195503966247,0.17198125235547487,-0.6444802056267953,-0.1735715410563226,-1.382930576207823,-0.008782780945467876,1.6253867959841757,0.5108600880487182,1.9584462529831108,-1.1387558200867824,-0.6775743866345354,0.3045015567963941,-0.7010893702571275,-0.21509069679939974,-0.06660318500201455,-2.0494500265655513,0.7371104180734958,-0.1394601307353762,0.06332501275504406,-0.33605152576259134,0.24272829505932145,-0.5210518613377643,-0.7794939251059732,-0.816663707123236,0.8429269691178186,-0.0049567234948185305,0.7910052117961612,-0.14011603254623242,-0.8139883767081845,-0.8543410413682735,-1.133037457300175,-2.446520027835509,-0.3954282150870679,-0.40852764641376943,1.1283038405604628,-0.6771415435153333,0.3860935342750069,1.0399071465756002,1.0686935234542685,1.368482210459442,-1.4959343241762837,0.16391649604384745,-0.4798869284387275,-1.7339241148875995,-1.1426876664546317,1.9304927454747411,-1.147633930021583,-0.7766553605421657,-0.9004501522692031,0.5898374598725552,-1.6753315862291647,0.3619980415765755,1.4284402500227904,0.12220590217893887,0.011800729718907147,0.7155339818248,-0.560323549055294,0.2658031832193285,-0.2957349485957265,1.743740168254544,-0.6330367982019135,-0.4949632500174672,-0.9137889955901022,-0.544098303604624,0.6742546131008241,-0.5706589509403914,0.26229891152032203,2.108495915505444,-0.5588513162941839,-1.1305822043827989,0.13677502455472695,0.9066454032062755,-0.24071521677455401,-1.0687645130524526,-0.14836447765418917,-0.03062007910395427,-0.05054481702962435],\"xaxis\":\"x12\",\"y\":[-1.7624799146330916,-0.052454692444293204,-0.6144926711450668,0.34605467548314317,1.7293471823153381,-0.7158009522760164,-0.6149194787316927,-0.135338813333711,0.29852389755538933,1.340879720715101,-2.8130784565849867,0.4651501979291797,-0.3131091291680892,-0.9321956807746758,-1.9078699262875176,-0.46622262685752525,1.3089009383594243,0.31180112202706756,-2.0227146115391315,0.5807127962884536,1.1385496213288238,-0.4455122188814769,-1.1301884249433958,-0.5243739109303537,-0.03748635500043051,-1.8843804581073422,1.7003271439262493,0.9935895835623703,-1.8590740904948801,-0.4310696037478699,-0.5840104825773925,0.36961988003281315,-0.13050295671732637,2.4214268502295053,1.7848604715091976,-1.31828143894674,0.6000155119139627,0.4867779319074937,0.9363681345940051,-0.4668460793958201,-0.7533173498230599,0.3881660415618446,-0.24540208218072185,0.3123027143122271,-0.7475561922789368,0.2650863241472753,0.23337701628765933,-0.9035514270650542,1.50640863657213,-0.41527730958195447,0.20291776029643913,0.23002800054265488,-0.8545896581694682,1.5902756654205976,-0.646402001930611,-2.1932756590804794,0.40491512339053204,-1.8289103528491077,0.5734363312343274,-0.04230138803378668,-0.8757883761727011,0.4403917698375127,-3.089110937866257,1.0968688240175577,-2.04621133544825,-0.9723019426093988,0.990229384745472,-0.5949075675496344,-2.660295641655794,0.7957914831810432,-0.711003361571698,0.8518323914473779,0.11852577082714624,1.5889868786889505,-1.686018220397716,0.3454027860589693,-0.6025244077213349,1.5800216316859224,0.9031696756113189,-1.013462634012932,-1.3477550389484831,0.9078753173946693,-0.570641152879746,-0.6772923107611662,-1.3222571406546464,0.2300434350749415,-0.28280986626199167,0.7261499023093949,-0.000542242574547095,-2.204483032318085,-0.4885101387532285,0.5012993110056877,0.9542814497936115,-0.2700832636336223,0.458150486417723,0.7113040181681382,-0.1914615764022577,-0.022769483825800275,-0.09779913895350369,0.21027342419346273],\"yaxis\":\"y12\",\"type\":\"scatter\"},{\"line\":{\"color\":\"rgba(128, 128, 128, 1.0)\",\"dash\":\"solid\",\"shape\":\"linear\",\"width\":1.3},\"marker\":{\"size\":2,\"symbol\":\"circle\"},\"mode\":\"markers\",\"name\":\"D\",\"text\":\"\",\"x\":[-1.0195385963187849,1.1015943866068003,0.565322916737536,-0.5424284895484377,-0.32566226944201476,1.3333580414602808,-0.8882935417582444,0.573084622763612,-1.600582981777984,0.2962440326176717,-0.3255987463598287,0.4144242488662172,-1.0526878096406618,-1.079751691163813,0.44468732716120624,0.49214489354581953,-0.4176729612012741,-1.2433661966590415,-1.0593292659248816,0.2555303994444098,1.3988763770711914,-0.13508460667466193,0.8801931903209784,-0.009713307420049045,0.08537533507598072,0.1777838421614929,-1.271693389664294,-0.052062887286873284,-1.2786010696930032,0.3951169412497632,-0.007129080368495911,0.24931082591451678,-1.3074436240953813,0.39262035657229377,0.16895832011791706,0.15320171003133856,0.4529690184927029,0.5675748558086052,-1.038916265731738,0.03080254388823513,-0.6550524357879981,-0.00963038602457602,-0.43923332854400204,-1.4682191809450431,0.11302991912004492,-0.7131088037710968,-0.3074503195357637,-0.9652556704332182,-0.5171097999789459,1.7013367191358348,0.056091762858178434,0.2007988890983905,-0.5543052937490693,0.6937944914951706,0.6669048002314144,0.59369902089003,-1.713836342591796,1.1138274799032772,0.9254577425491017,-1.143153861907134,-1.3186559413350674,0.39093587426554083,-2.2957843371048012,-0.047664705487196195,1.0581371609309211,0.30828978169977284,1.5021689850009483,-0.8165629998636657,-0.1530680681408224,-0.07521140061589364,-1.766655219574804,0.30466812087753004,1.0818447459395093,-0.8478457275864004,0.414533929031304,-1.0957094470237285,-0.6418639427476324,1.4450146182774097,1.3804084393844278,-1.115216408942094,-0.0798960622493228,-2.2853903926292385,-0.06460200203963314,-0.3538865661985639,-1.1972065067795628,0.045213040450247016,1.1339678979236238,-0.5316805072703285,0.003961027654528789,-1.0175911801095872,-0.39943629619858767,-0.646145382985172,-1.9346472258288518,-0.22139498946193603,-0.616262445072994,0.0664818373185558,-0.2152707163604317,0.7858907677940824,-1.1785824127352216,-0.6779173459311484],\"xaxis\":\"x13\",\"y\":[-0.7154744873251464,-1.8364655110349717,1.1366459484665203,0.014352604016508522,0.9387056429722956,-0.035766596035709204,-1.3271506370172508,-0.08540914504181113,0.45065130838901224,-0.5010267235645277,-0.09538316694011877,-0.717550866234728,-0.44925698095520417,0.43095017324903195,-0.641231367567333,-0.14160835085779722,0.6658978630232735,0.36186834977881416,1.2164584292056806,1.080912647764627,-0.31589577180751083,-1.5390270400295032,0.1545475268511163,0.9337195503966247,0.17198125235547487,-0.6444802056267953,-0.1735715410563226,-1.382930576207823,-0.008782780945467876,1.6253867959841757,0.5108600880487182,1.9584462529831108,-1.1387558200867824,-0.6775743866345354,0.3045015567963941,-0.7010893702571275,-0.21509069679939974,-0.06660318500201455,-2.0494500265655513,0.7371104180734958,-0.1394601307353762,0.06332501275504406,-0.33605152576259134,0.24272829505932145,-0.5210518613377643,-0.7794939251059732,-0.816663707123236,0.8429269691178186,-0.0049567234948185305,0.7910052117961612,-0.14011603254623242,-0.8139883767081845,-0.8543410413682735,-1.133037457300175,-2.446520027835509,-0.3954282150870679,-0.40852764641376943,1.1283038405604628,-0.6771415435153333,0.3860935342750069,1.0399071465756002,1.0686935234542685,1.368482210459442,-1.4959343241762837,0.16391649604384745,-0.4798869284387275,-1.7339241148875995,-1.1426876664546317,1.9304927454747411,-1.147633930021583,-0.7766553605421657,-0.9004501522692031,0.5898374598725552,-1.6753315862291647,0.3619980415765755,1.4284402500227904,0.12220590217893887,0.011800729718907147,0.7155339818248,-0.560323549055294,0.2658031832193285,-0.2957349485957265,1.743740168254544,-0.6330367982019135,-0.4949632500174672,-0.9137889955901022,-0.544098303604624,0.6742546131008241,-0.5706589509403914,0.26229891152032203,2.108495915505444,-0.5588513162941839,-1.1305822043827989,0.13677502455472695,0.9066454032062755,-0.24071521677455401,-1.0687645130524526,-0.14836447765418917,-0.03062007910395427,-0.05054481702962435],\"yaxis\":\"y13\",\"type\":\"scatter\"},{\"line\":{\"color\":\"rgba(128, 128, 128, 1.0)\",\"dash\":\"solid\",\"shape\":\"linear\",\"width\":1.3},\"marker\":{\"size\":2,\"symbol\":\"circle\"},\"mode\":\"markers\",\"name\":\"D\",\"text\":\"\",\"x\":[0.05084052415534849,0.4448926667384461,-0.5165006805648271,-1.0217481899569538,2.918916860488833,0.7119834105490889,-0.12598219184572093,1.7446505200029419,0.07448195798863841,-0.4367454374327472,2.001312602465858,0.8626677261130298,-0.7832646582342923,-1.4699780709897277,-0.14922984973037076,0.29187556277665405,-1.86438093315328,-0.9463531776956947,1.0018939862271918,-0.34174690341712166,-0.9608689994165556,0.37152716650134315,1.2680288231103298,-0.6230457517284945,-2.328812174302247,0.3024388389452721,0.12181850117223207,0.46424692550993446,2.0207808094668818,1.4510874303547483,-1.836459556297738,-1.2540393269655528,0.9811131035778574,-2.4255879762977304,-0.07892959167407539,-0.45258843538951654,-0.9237149248290297,2.027895768151158,-0.15741428062768711,1.0621556956587694,0.22627487908670568,0.8972177322808671,-0.1852713126252378,-1.7127052110108827,0.4266369122608103,-0.4934032996758012,0.09126560127006829,1.420832341876129,-0.226925419286172,0.34854293270965647,1.2047457905809145,0.14374022217106794,-0.9209836977121332,0.4372250721685303,0.275097080721775,-1.2319795109830607,0.05807780757368901,1.4050083175299108,1.2856506736655673,-1.384326860093379,0.4550192051180061,1.400525929182616,-0.7836114813867611,1.3036820975574719,0.37351025358713613,-0.2913411851716362,-0.5406291701996493,0.17478931269171785,-1.8517703672163301,-1.4186898427664862,0.06509413769267655,0.19307454979843466,0.8232244735534852,0.524671044677807,-0.40315319096565155,-1.4268165410981934,0.2813575779141045,-0.2621634305145455,-0.08483012735497701,-1.045497945983192,1.2382134521818677,-0.4323116394409646,0.680747412833651,-1.2929873756166974,0.6529828667025668,0.3595023686883591,-1.2955231449330304,1.164536680417677,-0.4825439698093178,0.13250442906721477,-0.7908765509841708,-0.3833702329039137,-0.39437377035578575,-1.1471692465131529,0.30910570387733843,-0.9332569711532109,0.880636842120163,0.1251672859001783,-0.8768528712998347,-0.7922814709334515],\"xaxis\":\"x14\",\"y\":[-0.7154744873251464,-1.8364655110349717,1.1366459484665203,0.014352604016508522,0.9387056429722956,-0.035766596035709204,-1.3271506370172508,-0.08540914504181113,0.45065130838901224,-0.5010267235645277,-0.09538316694011877,-0.717550866234728,-0.44925698095520417,0.43095017324903195,-0.641231367567333,-0.14160835085779722,0.6658978630232735,0.36186834977881416,1.2164584292056806,1.080912647764627,-0.31589577180751083,-1.5390270400295032,0.1545475268511163,0.9337195503966247,0.17198125235547487,-0.6444802056267953,-0.1735715410563226,-1.382930576207823,-0.008782780945467876,1.6253867959841757,0.5108600880487182,1.9584462529831108,-1.1387558200867824,-0.6775743866345354,0.3045015567963941,-0.7010893702571275,-0.21509069679939974,-0.06660318500201455,-2.0494500265655513,0.7371104180734958,-0.1394601307353762,0.06332501275504406,-0.33605152576259134,0.24272829505932145,-0.5210518613377643,-0.7794939251059732,-0.816663707123236,0.8429269691178186,-0.0049567234948185305,0.7910052117961612,-0.14011603254623242,-0.8139883767081845,-0.8543410413682735,-1.133037457300175,-2.446520027835509,-0.3954282150870679,-0.40852764641376943,1.1283038405604628,-0.6771415435153333,0.3860935342750069,1.0399071465756002,1.0686935234542685,1.368482210459442,-1.4959343241762837,0.16391649604384745,-0.4798869284387275,-1.7339241148875995,-1.1426876664546317,1.9304927454747411,-1.147633930021583,-0.7766553605421657,-0.9004501522692031,0.5898374598725552,-1.6753315862291647,0.3619980415765755,1.4284402500227904,0.12220590217893887,0.011800729718907147,0.7155339818248,-0.560323549055294,0.2658031832193285,-0.2957349485957265,1.743740168254544,-0.6330367982019135,-0.4949632500174672,-0.9137889955901022,-0.544098303604624,0.6742546131008241,-0.5706589509403914,0.26229891152032203,2.108495915505444,-0.5588513162941839,-1.1305822043827989,0.13677502455472695,0.9066454032062755,-0.24071521677455401,-1.0687645130524526,-0.14836447765418917,-0.03062007910395427,-0.05054481702962435],\"yaxis\":\"y14\",\"type\":\"scatter\"},{\"line\":{\"color\":\"rgba(128, 128, 128, 1.0)\",\"dash\":\"solid\",\"shape\":\"linear\",\"width\":1.3},\"marker\":{\"size\":2,\"symbol\":\"circle\"},\"mode\":\"markers\",\"name\":\"D\",\"text\":\"\",\"x\":[-1.7624799146330916,-0.052454692444293204,-0.6144926711450668,0.34605467548314317,1.7293471823153381,-0.7158009522760164,-0.6149194787316927,-0.135338813333711,0.29852389755538933,1.340879720715101,-2.8130784565849867,0.4651501979291797,-0.3131091291680892,-0.9321956807746758,-1.9078699262875176,-0.46622262685752525,1.3089009383594243,0.31180112202706756,-2.0227146115391315,0.5807127962884536,1.1385496213288238,-0.4455122188814769,-1.1301884249433958,-0.5243739109303537,-0.03748635500043051,-1.8843804581073422,1.7003271439262493,0.9935895835623703,-1.8590740904948801,-0.4310696037478699,-0.5840104825773925,0.36961988003281315,-0.13050295671732637,2.4214268502295053,1.7848604715091976,-1.31828143894674,0.6000155119139627,0.4867779319074937,0.9363681345940051,-0.4668460793958201,-0.7533173498230599,0.3881660415618446,-0.24540208218072185,0.3123027143122271,-0.7475561922789368,0.2650863241472753,0.23337701628765933,-0.9035514270650542,1.50640863657213,-0.41527730958195447,0.20291776029643913,0.23002800054265488,-0.8545896581694682,1.5902756654205976,-0.646402001930611,-2.1932756590804794,0.40491512339053204,-1.8289103528491077,0.5734363312343274,-0.04230138803378668,-0.8757883761727011,0.4403917698375127,-3.089110937866257,1.0968688240175577,-2.04621133544825,-0.9723019426093988,0.990229384745472,-0.5949075675496344,-2.660295641655794,0.7957914831810432,-0.711003361571698,0.8518323914473779,0.11852577082714624,1.5889868786889505,-1.686018220397716,0.3454027860589693,-0.6025244077213349,1.5800216316859224,0.9031696756113189,-1.013462634012932,-1.3477550389484831,0.9078753173946693,-0.570641152879746,-0.6772923107611662,-1.3222571406546464,0.2300434350749415,-0.28280986626199167,0.7261499023093949,-0.000542242574547095,-2.204483032318085,-0.4885101387532285,0.5012993110056877,0.9542814497936115,-0.2700832636336223,0.458150486417723,0.7113040181681382,-0.1914615764022577,-0.022769483825800275,-0.09779913895350369,0.21027342419346273],\"xaxis\":\"x15\",\"y\":[-0.7154744873251464,-1.8364655110349717,1.1366459484665203,0.014352604016508522,0.9387056429722956,-0.035766596035709204,-1.3271506370172508,-0.08540914504181113,0.45065130838901224,-0.5010267235645277,-0.09538316694011877,-0.717550866234728,-0.44925698095520417,0.43095017324903195,-0.641231367567333,-0.14160835085779722,0.6658978630232735,0.36186834977881416,1.2164584292056806,1.080912647764627,-0.31589577180751083,-1.5390270400295032,0.1545475268511163,0.9337195503966247,0.17198125235547487,-0.6444802056267953,-0.1735715410563226,-1.382930576207823,-0.008782780945467876,1.6253867959841757,0.5108600880487182,1.9584462529831108,-1.1387558200867824,-0.6775743866345354,0.3045015567963941,-0.7010893702571275,-0.21509069679939974,-0.06660318500201455,-2.0494500265655513,0.7371104180734958,-0.1394601307353762,0.06332501275504406,-0.33605152576259134,0.24272829505932145,-0.5210518613377643,-0.7794939251059732,-0.816663707123236,0.8429269691178186,-0.0049567234948185305,0.7910052117961612,-0.14011603254623242,-0.8139883767081845,-0.8543410413682735,-1.133037457300175,-2.446520027835509,-0.3954282150870679,-0.40852764641376943,1.1283038405604628,-0.6771415435153333,0.3860935342750069,1.0399071465756002,1.0686935234542685,1.368482210459442,-1.4959343241762837,0.16391649604384745,-0.4798869284387275,-1.7339241148875995,-1.1426876664546317,1.9304927454747411,-1.147633930021583,-0.7766553605421657,-0.9004501522692031,0.5898374598725552,-1.6753315862291647,0.3619980415765755,1.4284402500227904,0.12220590217893887,0.011800729718907147,0.7155339818248,-0.560323549055294,0.2658031832193285,-0.2957349485957265,1.743740168254544,-0.6330367982019135,-0.4949632500174672,-0.9137889955901022,-0.544098303604624,0.6742546131008241,-0.5706589509403914,0.26229891152032203,2.108495915505444,-0.5588513162941839,-1.1305822043827989,0.13677502455472695,0.9066454032062755,-0.24071521677455401,-1.0687645130524526,-0.14836447765418917,-0.03062007910395427,-0.05054481702962435],\"yaxis\":\"y15\",\"type\":\"scatter\"},{\"histfunc\":\"count\",\"histnorm\":\"\",\"marker\":{\"color\":\"rgba(128, 0, 128, 1.0)\",\"line\":{\"color\":\"#4D5663\",\"width\":1.3}},\"name\":\"D\",\"nbinsx\":10,\"opacity\":0.8,\"orientation\":\"v\",\"x\":[-0.7154744873251464,-1.8364655110349717,1.1366459484665203,0.014352604016508522,0.9387056429722956,-0.035766596035709204,-1.3271506370172508,-0.08540914504181113,0.45065130838901224,-0.5010267235645277,-0.09538316694011877,-0.717550866234728,-0.44925698095520417,0.43095017324903195,-0.641231367567333,-0.14160835085779722,0.6658978630232735,0.36186834977881416,1.2164584292056806,1.080912647764627,-0.31589577180751083,-1.5390270400295032,0.1545475268511163,0.9337195503966247,0.17198125235547487,-0.6444802056267953,-0.1735715410563226,-1.382930576207823,-0.008782780945467876,1.6253867959841757,0.5108600880487182,1.9584462529831108,-1.1387558200867824,-0.6775743866345354,0.3045015567963941,-0.7010893702571275,-0.21509069679939974,-0.06660318500201455,-2.0494500265655513,0.7371104180734958,-0.1394601307353762,0.06332501275504406,-0.33605152576259134,0.24272829505932145,-0.5210518613377643,-0.7794939251059732,-0.816663707123236,0.8429269691178186,-0.0049567234948185305,0.7910052117961612,-0.14011603254623242,-0.8139883767081845,-0.8543410413682735,-1.133037457300175,-2.446520027835509,-0.3954282150870679,-0.40852764641376943,1.1283038405604628,-0.6771415435153333,0.3860935342750069,1.0399071465756002,1.0686935234542685,1.368482210459442,-1.4959343241762837,0.16391649604384745,-0.4798869284387275,-1.7339241148875995,-1.1426876664546317,1.9304927454747411,-1.147633930021583,-0.7766553605421657,-0.9004501522692031,0.5898374598725552,-1.6753315862291647,0.3619980415765755,1.4284402500227904,0.12220590217893887,0.011800729718907147,0.7155339818248,-0.560323549055294,0.2658031832193285,-0.2957349485957265,1.743740168254544,-0.6330367982019135,-0.4949632500174672,-0.9137889955901022,-0.544098303604624,0.6742546131008241,-0.5706589509403914,0.26229891152032203,2.108495915505444,-0.5588513162941839,-1.1305822043827989,0.13677502455472695,0.9066454032062755,-0.24071521677455401,-1.0687645130524526,-0.14836447765418917,-0.03062007910395427,-0.05054481702962435],\"xaxis\":\"x16\",\"yaxis\":\"y16\",\"type\":\"histogram\"}],                        {\"bargap\":0.02,\"legend\":{\"bgcolor\":\"#F5F6F9\",\"font\":{\"color\":\"#4D5663\"}},\"paper_bgcolor\":\"#F5F6F9\",\"plot_bgcolor\":\"#F5F6F9\",\"showlegend\":false,\"template\":{\"data\":{\"barpolar\":[{\"marker\":{\"line\":{\"color\":\"#E5ECF6\",\"width\":0.5},\"pattern\":{\"fillmode\":\"overlay\",\"size\":10,\"solidity\":0.2}},\"type\":\"barpolar\"}],\"bar\":[{\"error_x\":{\"color\":\"#2a3f5f\"},\"error_y\":{\"color\":\"#2a3f5f\"},\"marker\":{\"line\":{\"color\":\"#E5ECF6\",\"width\":0.5},\"pattern\":{\"fillmode\":\"overlay\",\"size\":10,\"solidity\":0.2}},\"type\":\"bar\"}],\"carpet\":[{\"aaxis\":{\"endlinecolor\":\"#2a3f5f\",\"gridcolor\":\"white\",\"linecolor\":\"white\",\"minorgridcolor\":\"white\",\"startlinecolor\":\"#2a3f5f\"},\"baxis\":{\"endlinecolor\":\"#2a3f5f\",\"gridcolor\":\"white\",\"linecolor\":\"white\",\"minorgridcolor\":\"white\",\"startlinecolor\":\"#2a3f5f\"},\"type\":\"carpet\"}],\"choropleth\":[{\"colorbar\":{\"outlinewidth\":0,\"ticks\":\"\"},\"type\":\"choropleth\"}],\"contourcarpet\":[{\"colorbar\":{\"outlinewidth\":0,\"ticks\":\"\"},\"type\":\"contourcarpet\"}],\"contour\":[{\"colorbar\":{\"outlinewidth\":0,\"ticks\":\"\"},\"colorscale\":[[0.0,\"#0d0887\"],[0.1111111111111111,\"#46039f\"],[0.2222222222222222,\"#7201a8\"],[0.3333333333333333,\"#9c179e\"],[0.4444444444444444,\"#bd3786\"],[0.5555555555555556,\"#d8576b\"],[0.6666666666666666,\"#ed7953\"],[0.7777777777777778,\"#fb9f3a\"],[0.8888888888888888,\"#fdca26\"],[1.0,\"#f0f921\"]],\"type\":\"contour\"}],\"heatmapgl\":[{\"colorbar\":{\"outlinewidth\":0,\"ticks\":\"\"},\"colorscale\":[[0.0,\"#0d0887\"],[0.1111111111111111,\"#46039f\"],[0.2222222222222222,\"#7201a8\"],[0.3333333333333333,\"#9c179e\"],[0.4444444444444444,\"#bd3786\"],[0.5555555555555556,\"#d8576b\"],[0.6666666666666666,\"#ed7953\"],[0.7777777777777778,\"#fb9f3a\"],[0.8888888888888888,\"#fdca26\"],[1.0,\"#f0f921\"]],\"type\":\"heatmapgl\"}],\"heatmap\":[{\"colorbar\":{\"outlinewidth\":0,\"ticks\":\"\"},\"colorscale\":[[0.0,\"#0d0887\"],[0.1111111111111111,\"#46039f\"],[0.2222222222222222,\"#7201a8\"],[0.3333333333333333,\"#9c179e\"],[0.4444444444444444,\"#bd3786\"],[0.5555555555555556,\"#d8576b\"],[0.6666666666666666,\"#ed7953\"],[0.7777777777777778,\"#fb9f3a\"],[0.8888888888888888,\"#fdca26\"],[1.0,\"#f0f921\"]],\"type\":\"heatmap\"}],\"histogram2dcontour\":[{\"colorbar\":{\"outlinewidth\":0,\"ticks\":\"\"},\"colorscale\":[[0.0,\"#0d0887\"],[0.1111111111111111,\"#46039f\"],[0.2222222222222222,\"#7201a8\"],[0.3333333333333333,\"#9c179e\"],[0.4444444444444444,\"#bd3786\"],[0.5555555555555556,\"#d8576b\"],[0.6666666666666666,\"#ed7953\"],[0.7777777777777778,\"#fb9f3a\"],[0.8888888888888888,\"#fdca26\"],[1.0,\"#f0f921\"]],\"type\":\"histogram2dcontour\"}],\"histogram2d\":[{\"colorbar\":{\"outlinewidth\":0,\"ticks\":\"\"},\"colorscale\":[[0.0,\"#0d0887\"],[0.1111111111111111,\"#46039f\"],[0.2222222222222222,\"#7201a8\"],[0.3333333333333333,\"#9c179e\"],[0.4444444444444444,\"#bd3786\"],[0.5555555555555556,\"#d8576b\"],[0.6666666666666666,\"#ed7953\"],[0.7777777777777778,\"#fb9f3a\"],[0.8888888888888888,\"#fdca26\"],[1.0,\"#f0f921\"]],\"type\":\"histogram2d\"}],\"histogram\":[{\"marker\":{\"pattern\":{\"fillmode\":\"overlay\",\"size\":10,\"solidity\":0.2}},\"type\":\"histogram\"}],\"mesh3d\":[{\"colorbar\":{\"outlinewidth\":0,\"ticks\":\"\"},\"type\":\"mesh3d\"}],\"parcoords\":[{\"line\":{\"colorbar\":{\"outlinewidth\":0,\"ticks\":\"\"}},\"type\":\"parcoords\"}],\"pie\":[{\"automargin\":true,\"type\":\"pie\"}],\"scatter3d\":[{\"line\":{\"colorbar\":{\"outlinewidth\":0,\"ticks\":\"\"}},\"marker\":{\"colorbar\":{\"outlinewidth\":0,\"ticks\":\"\"}},\"type\":\"scatter3d\"}],\"scattercarpet\":[{\"marker\":{\"colorbar\":{\"outlinewidth\":0,\"ticks\":\"\"}},\"type\":\"scattercarpet\"}],\"scattergeo\":[{\"marker\":{\"colorbar\":{\"outlinewidth\":0,\"ticks\":\"\"}},\"type\":\"scattergeo\"}],\"scattergl\":[{\"marker\":{\"colorbar\":{\"outlinewidth\":0,\"ticks\":\"\"}},\"type\":\"scattergl\"}],\"scattermapbox\":[{\"marker\":{\"colorbar\":{\"outlinewidth\":0,\"ticks\":\"\"}},\"type\":\"scattermapbox\"}],\"scatterpolargl\":[{\"marker\":{\"colorbar\":{\"outlinewidth\":0,\"ticks\":\"\"}},\"type\":\"scatterpolargl\"}],\"scatterpolar\":[{\"marker\":{\"colorbar\":{\"outlinewidth\":0,\"ticks\":\"\"}},\"type\":\"scatterpolar\"}],\"scatter\":[{\"fillpattern\":{\"fillmode\":\"overlay\",\"size\":10,\"solidity\":0.2},\"type\":\"scatter\"}],\"scatterternary\":[{\"marker\":{\"colorbar\":{\"outlinewidth\":0,\"ticks\":\"\"}},\"type\":\"scatterternary\"}],\"surface\":[{\"colorbar\":{\"outlinewidth\":0,\"ticks\":\"\"},\"colorscale\":[[0.0,\"#0d0887\"],[0.1111111111111111,\"#46039f\"],[0.2222222222222222,\"#7201a8\"],[0.3333333333333333,\"#9c179e\"],[0.4444444444444444,\"#bd3786\"],[0.5555555555555556,\"#d8576b\"],[0.6666666666666666,\"#ed7953\"],[0.7777777777777778,\"#fb9f3a\"],[0.8888888888888888,\"#fdca26\"],[1.0,\"#f0f921\"]],\"type\":\"surface\"}],\"table\":[{\"cells\":{\"fill\":{\"color\":\"#EBF0F8\"},\"line\":{\"color\":\"white\"}},\"header\":{\"fill\":{\"color\":\"#C8D4E3\"},\"line\":{\"color\":\"white\"}},\"type\":\"table\"}]},\"layout\":{\"annotationdefaults\":{\"arrowcolor\":\"#2a3f5f\",\"arrowhead\":0,\"arrowwidth\":1},\"autotypenumbers\":\"strict\",\"coloraxis\":{\"colorbar\":{\"outlinewidth\":0,\"ticks\":\"\"}},\"colorscale\":{\"diverging\":[[0,\"#8e0152\"],[0.1,\"#c51b7d\"],[0.2,\"#de77ae\"],[0.3,\"#f1b6da\"],[0.4,\"#fde0ef\"],[0.5,\"#f7f7f7\"],[0.6,\"#e6f5d0\"],[0.7,\"#b8e186\"],[0.8,\"#7fbc41\"],[0.9,\"#4d9221\"],[1,\"#276419\"]],\"sequential\":[[0.0,\"#0d0887\"],[0.1111111111111111,\"#46039f\"],[0.2222222222222222,\"#7201a8\"],[0.3333333333333333,\"#9c179e\"],[0.4444444444444444,\"#bd3786\"],[0.5555555555555556,\"#d8576b\"],[0.6666666666666666,\"#ed7953\"],[0.7777777777777778,\"#fb9f3a\"],[0.8888888888888888,\"#fdca26\"],[1.0,\"#f0f921\"]],\"sequentialminus\":[[0.0,\"#0d0887\"],[0.1111111111111111,\"#46039f\"],[0.2222222222222222,\"#7201a8\"],[0.3333333333333333,\"#9c179e\"],[0.4444444444444444,\"#bd3786\"],[0.5555555555555556,\"#d8576b\"],[0.6666666666666666,\"#ed7953\"],[0.7777777777777778,\"#fb9f3a\"],[0.8888888888888888,\"#fdca26\"],[1.0,\"#f0f921\"]]},\"colorway\":[\"#636efa\",\"#EF553B\",\"#00cc96\",\"#ab63fa\",\"#FFA15A\",\"#19d3f3\",\"#FF6692\",\"#B6E880\",\"#FF97FF\",\"#FECB52\"],\"font\":{\"color\":\"#2a3f5f\"},\"geo\":{\"bgcolor\":\"white\",\"lakecolor\":\"white\",\"landcolor\":\"#E5ECF6\",\"showlakes\":true,\"showland\":true,\"subunitcolor\":\"white\"},\"hoverlabel\":{\"align\":\"left\"},\"hovermode\":\"closest\",\"mapbox\":{\"style\":\"light\"},\"paper_bgcolor\":\"white\",\"plot_bgcolor\":\"#E5ECF6\",\"polar\":{\"angularaxis\":{\"gridcolor\":\"white\",\"linecolor\":\"white\",\"ticks\":\"\"},\"bgcolor\":\"#E5ECF6\",\"radialaxis\":{\"gridcolor\":\"white\",\"linecolor\":\"white\",\"ticks\":\"\"}},\"scene\":{\"xaxis\":{\"backgroundcolor\":\"#E5ECF6\",\"gridcolor\":\"white\",\"gridwidth\":2,\"linecolor\":\"white\",\"showbackground\":true,\"ticks\":\"\",\"zerolinecolor\":\"white\"},\"yaxis\":{\"backgroundcolor\":\"#E5ECF6\",\"gridcolor\":\"white\",\"gridwidth\":2,\"linecolor\":\"white\",\"showbackground\":true,\"ticks\":\"\",\"zerolinecolor\":\"white\"},\"zaxis\":{\"backgroundcolor\":\"#E5ECF6\",\"gridcolor\":\"white\",\"gridwidth\":2,\"linecolor\":\"white\",\"showbackground\":true,\"ticks\":\"\",\"zerolinecolor\":\"white\"}},\"shapedefaults\":{\"line\":{\"color\":\"#2a3f5f\"}},\"ternary\":{\"aaxis\":{\"gridcolor\":\"white\",\"linecolor\":\"white\",\"ticks\":\"\"},\"baxis\":{\"gridcolor\":\"white\",\"linecolor\":\"white\",\"ticks\":\"\"},\"bgcolor\":\"#E5ECF6\",\"caxis\":{\"gridcolor\":\"white\",\"linecolor\":\"white\",\"ticks\":\"\"}},\"title\":{\"x\":0.05},\"xaxis\":{\"automargin\":true,\"gridcolor\":\"white\",\"linecolor\":\"white\",\"ticks\":\"\",\"title\":{\"standoff\":15},\"zerolinecolor\":\"white\",\"zerolinewidth\":2},\"yaxis\":{\"automargin\":true,\"gridcolor\":\"white\",\"linecolor\":\"white\",\"ticks\":\"\",\"title\":{\"standoff\":15},\"zerolinecolor\":\"white\",\"zerolinewidth\":2}}},\"title\":{\"font\":{\"color\":\"#4D5663\"}},\"xaxis\":{\"anchor\":\"y\",\"domain\":[0.0,0.2125],\"gridcolor\":\"#E1E5ED\",\"showgrid\":false,\"tickfont\":{\"color\":\"#4D5663\"},\"title\":{\"font\":{\"color\":\"#4D5663\"},\"text\":\"\"},\"zerolinecolor\":\"#E1E5ED\"},\"yaxis\":{\"anchor\":\"x\",\"domain\":[0.8025,1.0],\"gridcolor\":\"#E1E5ED\",\"showgrid\":false,\"tickfont\":{\"color\":\"#4D5663\"},\"title\":{\"font\":{\"color\":\"#4D5663\"},\"text\":\"\"},\"zerolinecolor\":\"#E1E5ED\"},\"xaxis2\":{\"anchor\":\"y2\",\"domain\":[0.2625,0.475],\"gridcolor\":\"#E1E5ED\",\"showgrid\":false,\"tickfont\":{\"color\":\"#4D5663\"},\"title\":{\"font\":{\"color\":\"#4D5663\"},\"text\":\"\"},\"zerolinecolor\":\"#E1E5ED\"},\"yaxis2\":{\"anchor\":\"x2\",\"domain\":[0.8025,1.0],\"gridcolor\":\"#E1E5ED\",\"showgrid\":false,\"tickfont\":{\"color\":\"#4D5663\"},\"title\":{\"font\":{\"color\":\"#4D5663\"},\"text\":\"\"},\"zerolinecolor\":\"#E1E5ED\"},\"xaxis3\":{\"anchor\":\"y3\",\"domain\":[0.525,0.7375],\"gridcolor\":\"#E1E5ED\",\"showgrid\":false,\"tickfont\":{\"color\":\"#4D5663\"},\"title\":{\"font\":{\"color\":\"#4D5663\"},\"text\":\"\"},\"zerolinecolor\":\"#E1E5ED\"},\"yaxis3\":{\"anchor\":\"x3\",\"domain\":[0.8025,1.0],\"gridcolor\":\"#E1E5ED\",\"showgrid\":false,\"tickfont\":{\"color\":\"#4D5663\"},\"title\":{\"font\":{\"color\":\"#4D5663\"},\"text\":\"\"},\"zerolinecolor\":\"#E1E5ED\"},\"xaxis4\":{\"anchor\":\"y4\",\"domain\":[0.7875,1.0],\"gridcolor\":\"#E1E5ED\",\"showgrid\":false,\"tickfont\":{\"color\":\"#4D5663\"},\"title\":{\"font\":{\"color\":\"#4D5663\"},\"text\":\"\"},\"zerolinecolor\":\"#E1E5ED\"},\"yaxis4\":{\"anchor\":\"x4\",\"domain\":[0.8025,1.0],\"gridcolor\":\"#E1E5ED\",\"showgrid\":false,\"tickfont\":{\"color\":\"#4D5663\"},\"title\":{\"font\":{\"color\":\"#4D5663\"},\"text\":\"\"},\"zerolinecolor\":\"#E1E5ED\"},\"xaxis5\":{\"anchor\":\"y5\",\"domain\":[0.0,0.2125],\"gridcolor\":\"#E1E5ED\",\"showgrid\":false,\"tickfont\":{\"color\":\"#4D5663\"},\"title\":{\"font\":{\"color\":\"#4D5663\"},\"text\":\"\"},\"zerolinecolor\":\"#E1E5ED\"},\"yaxis5\":{\"anchor\":\"x5\",\"domain\":[0.535,0.7325],\"gridcolor\":\"#E1E5ED\",\"showgrid\":false,\"tickfont\":{\"color\":\"#4D5663\"},\"title\":{\"font\":{\"color\":\"#4D5663\"},\"text\":\"\"},\"zerolinecolor\":\"#E1E5ED\"},\"xaxis6\":{\"anchor\":\"y6\",\"domain\":[0.2625,0.475],\"gridcolor\":\"#E1E5ED\",\"showgrid\":false,\"tickfont\":{\"color\":\"#4D5663\"},\"title\":{\"font\":{\"color\":\"#4D5663\"},\"text\":\"\"},\"zerolinecolor\":\"#E1E5ED\"},\"yaxis6\":{\"anchor\":\"x6\",\"domain\":[0.535,0.7325],\"gridcolor\":\"#E1E5ED\",\"showgrid\":false,\"tickfont\":{\"color\":\"#4D5663\"},\"title\":{\"font\":{\"color\":\"#4D5663\"},\"text\":\"\"},\"zerolinecolor\":\"#E1E5ED\"},\"xaxis7\":{\"anchor\":\"y7\",\"domain\":[0.525,0.7375],\"gridcolor\":\"#E1E5ED\",\"showgrid\":false,\"tickfont\":{\"color\":\"#4D5663\"},\"title\":{\"font\":{\"color\":\"#4D5663\"},\"text\":\"\"},\"zerolinecolor\":\"#E1E5ED\"},\"yaxis7\":{\"anchor\":\"x7\",\"domain\":[0.535,0.7325],\"gridcolor\":\"#E1E5ED\",\"showgrid\":false,\"tickfont\":{\"color\":\"#4D5663\"},\"title\":{\"font\":{\"color\":\"#4D5663\"},\"text\":\"\"},\"zerolinecolor\":\"#E1E5ED\"},\"xaxis8\":{\"anchor\":\"y8\",\"domain\":[0.7875,1.0],\"gridcolor\":\"#E1E5ED\",\"showgrid\":false,\"tickfont\":{\"color\":\"#4D5663\"},\"title\":{\"font\":{\"color\":\"#4D5663\"},\"text\":\"\"},\"zerolinecolor\":\"#E1E5ED\"},\"yaxis8\":{\"anchor\":\"x8\",\"domain\":[0.535,0.7325],\"gridcolor\":\"#E1E5ED\",\"showgrid\":false,\"tickfont\":{\"color\":\"#4D5663\"},\"title\":{\"font\":{\"color\":\"#4D5663\"},\"text\":\"\"},\"zerolinecolor\":\"#E1E5ED\"},\"xaxis9\":{\"anchor\":\"y9\",\"domain\":[0.0,0.2125],\"gridcolor\":\"#E1E5ED\",\"showgrid\":false,\"tickfont\":{\"color\":\"#4D5663\"},\"title\":{\"font\":{\"color\":\"#4D5663\"},\"text\":\"\"},\"zerolinecolor\":\"#E1E5ED\"},\"yaxis9\":{\"anchor\":\"x9\",\"domain\":[0.2675,0.465],\"gridcolor\":\"#E1E5ED\",\"showgrid\":false,\"tickfont\":{\"color\":\"#4D5663\"},\"title\":{\"font\":{\"color\":\"#4D5663\"},\"text\":\"\"},\"zerolinecolor\":\"#E1E5ED\"},\"xaxis10\":{\"anchor\":\"y10\",\"domain\":[0.2625,0.475],\"gridcolor\":\"#E1E5ED\",\"showgrid\":false,\"tickfont\":{\"color\":\"#4D5663\"},\"title\":{\"font\":{\"color\":\"#4D5663\"},\"text\":\"\"},\"zerolinecolor\":\"#E1E5ED\"},\"yaxis10\":{\"anchor\":\"x10\",\"domain\":[0.2675,0.465],\"gridcolor\":\"#E1E5ED\",\"showgrid\":false,\"tickfont\":{\"color\":\"#4D5663\"},\"title\":{\"font\":{\"color\":\"#4D5663\"},\"text\":\"\"},\"zerolinecolor\":\"#E1E5ED\"},\"xaxis11\":{\"anchor\":\"y11\",\"domain\":[0.525,0.7375],\"gridcolor\":\"#E1E5ED\",\"showgrid\":false,\"tickfont\":{\"color\":\"#4D5663\"},\"title\":{\"font\":{\"color\":\"#4D5663\"},\"text\":\"\"},\"zerolinecolor\":\"#E1E5ED\"},\"yaxis11\":{\"anchor\":\"x11\",\"domain\":[0.2675,0.465],\"gridcolor\":\"#E1E5ED\",\"showgrid\":false,\"tickfont\":{\"color\":\"#4D5663\"},\"title\":{\"font\":{\"color\":\"#4D5663\"},\"text\":\"\"},\"zerolinecolor\":\"#E1E5ED\"},\"xaxis12\":{\"anchor\":\"y12\",\"domain\":[0.7875,1.0],\"gridcolor\":\"#E1E5ED\",\"showgrid\":false,\"tickfont\":{\"color\":\"#4D5663\"},\"title\":{\"font\":{\"color\":\"#4D5663\"},\"text\":\"\"},\"zerolinecolor\":\"#E1E5ED\"},\"yaxis12\":{\"anchor\":\"x12\",\"domain\":[0.2675,0.465],\"gridcolor\":\"#E1E5ED\",\"showgrid\":false,\"tickfont\":{\"color\":\"#4D5663\"},\"title\":{\"font\":{\"color\":\"#4D5663\"},\"text\":\"\"},\"zerolinecolor\":\"#E1E5ED\"},\"xaxis13\":{\"anchor\":\"y13\",\"domain\":[0.0,0.2125],\"gridcolor\":\"#E1E5ED\",\"showgrid\":false,\"tickfont\":{\"color\":\"#4D5663\"},\"title\":{\"font\":{\"color\":\"#4D5663\"},\"text\":\"\"},\"zerolinecolor\":\"#E1E5ED\"},\"yaxis13\":{\"anchor\":\"x13\",\"domain\":[0.0,0.1975],\"gridcolor\":\"#E1E5ED\",\"showgrid\":false,\"tickfont\":{\"color\":\"#4D5663\"},\"title\":{\"font\":{\"color\":\"#4D5663\"},\"text\":\"\"},\"zerolinecolor\":\"#E1E5ED\"},\"xaxis14\":{\"anchor\":\"y14\",\"domain\":[0.2625,0.475],\"gridcolor\":\"#E1E5ED\",\"showgrid\":false,\"tickfont\":{\"color\":\"#4D5663\"},\"title\":{\"font\":{\"color\":\"#4D5663\"},\"text\":\"\"},\"zerolinecolor\":\"#E1E5ED\"},\"yaxis14\":{\"anchor\":\"x14\",\"domain\":[0.0,0.1975],\"gridcolor\":\"#E1E5ED\",\"showgrid\":false,\"tickfont\":{\"color\":\"#4D5663\"},\"title\":{\"font\":{\"color\":\"#4D5663\"},\"text\":\"\"},\"zerolinecolor\":\"#E1E5ED\"},\"xaxis15\":{\"anchor\":\"y15\",\"domain\":[0.525,0.7375],\"gridcolor\":\"#E1E5ED\",\"showgrid\":false,\"tickfont\":{\"color\":\"#4D5663\"},\"title\":{\"font\":{\"color\":\"#4D5663\"},\"text\":\"\"},\"zerolinecolor\":\"#E1E5ED\"},\"yaxis15\":{\"anchor\":\"x15\",\"domain\":[0.0,0.1975],\"gridcolor\":\"#E1E5ED\",\"showgrid\":false,\"tickfont\":{\"color\":\"#4D5663\"},\"title\":{\"font\":{\"color\":\"#4D5663\"},\"text\":\"\"},\"zerolinecolor\":\"#E1E5ED\"},\"xaxis16\":{\"anchor\":\"y16\",\"domain\":[0.7875,1.0],\"gridcolor\":\"#E1E5ED\",\"showgrid\":false,\"tickfont\":{\"color\":\"#4D5663\"},\"title\":{\"font\":{\"color\":\"#4D5663\"},\"text\":\"\"},\"zerolinecolor\":\"#E1E5ED\"},\"yaxis16\":{\"anchor\":\"x16\",\"domain\":[0.0,0.1975],\"gridcolor\":\"#E1E5ED\",\"showgrid\":false,\"tickfont\":{\"color\":\"#4D5663\"},\"title\":{\"font\":{\"color\":\"#4D5663\"},\"text\":\"\"},\"zerolinecolor\":\"#E1E5ED\"}},                        {\"showLink\": true, \"linkText\": \"Export to plot.ly\", \"plotlyServerURL\": \"https://plot.ly\", \"responsive\": true}                    ).then(function(){\n",
       "                            \n",
       "var gd = document.getElementById('382fda82-6a31-4696-80dc-7f1bfe4d5856');\n",
       "var x = new MutationObserver(function (mutations, observer) {{\n",
       "        var display = window.getComputedStyle(gd).display;\n",
       "        if (!display || display === 'none') {{\n",
       "            console.log([gd, 'removed!']);\n",
       "            Plotly.purge(gd);\n",
       "            observer.disconnect();\n",
       "        }}\n",
       "}});\n",
       "\n",
       "// Listen for the removal of the full notebook cells\n",
       "var notebookContainer = gd.closest('#notebook-container');\n",
       "if (notebookContainer) {{\n",
       "    x.observe(notebookContainer, {childList: true});\n",
       "}}\n",
       "\n",
       "// Listen for the clearing of the current output cell\n",
       "var outputEl = gd.closest('.output');\n",
       "if (outputEl) {{\n",
       "    x.observe(outputEl, {childList: true});\n",
       "}}\n",
       "\n",
       "                        })                };                });            </script>        </div>"
      ]
     },
     "metadata": {},
     "output_type": "display_data"
    }
   ],
   "source": [
    "df.scatter_matrix()"
   ]
  },
  {
   "cell_type": "markdown",
   "metadata": {
    "collapsed": true
   },
   "source": [
    "# Buen trabajo!"
   ]
  }
 ],
 "metadata": {
  "interpreter": {
   "hash": "398f9b4e28b81308afe4228acfab4b1c1031a2671c07f2c960de745dea2cb377"
  },
  "kernelspec": {
   "display_name": "Python 3.9.6 64-bit",
   "language": "python",
   "name": "python3"
  },
  "language_info": {
   "codemirror_mode": {
    "name": "ipython",
    "version": 3
   },
   "file_extension": ".py",
   "mimetype": "text/x-python",
   "name": "python",
   "nbconvert_exporter": "python",
   "pygments_lexer": "ipython3",
   "version": "3.9.6"
  }
 },
 "nbformat": 4,
 "nbformat_minor": 1
}
